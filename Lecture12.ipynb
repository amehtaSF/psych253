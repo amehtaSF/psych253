{
 "cells": [
  {
   "cell_type": "code",
   "execution_count": 1,
   "metadata": {
    "collapsed": true
   },
   "outputs": [],
   "source": [
    "%matplotlib inline\n",
    "import matplotlib\n",
    "import matplotlib.pyplot as plt"
   ]
  },
  {
   "cell_type": "code",
   "execution_count": 111,
   "metadata": {
    "collapsed": true
   },
   "outputs": [],
   "source": [
    "#other useful imports \n",
    "import numpy as np\n",
    "import scipy as sp\n",
    "import scipy.stats as stats\n",
    "import h5py\n",
    "\n",
    "from utils import featurewise_norm\n"
   ]
  },
  {
   "cell_type": "code",
   "execution_count": 3,
   "metadata": {
    "collapsed": true
   },
   "outputs": [],
   "source": [
    "#ok let's load our usual data \n",
    "DATA_PATH = \"/home/chengxuz/Class/psych253_2018/data/ventral_neural_data.hdf5\"\n",
    "Ventral_Dataset = h5py.File(DATA_PATH)"
   ]
  },
  {
   "cell_type": "code",
   "execution_count": 463,
   "metadata": {
    "collapsed": true
   },
   "outputs": [],
   "source": [
    "Neural_Data = Ventral_Dataset['time_averaged_trial_averaged'][:]\n",
    "IT_NEURONS = Ventral_Dataset['neural_meta']['IT_NEURONS']\n",
    "V4_NEURONS = Ventral_Dataset['neural_meta']['V4_NEURONS']\n",
    "V4_Neural_Data = Neural_Data[:, V4_NEURONS]\n",
    "IT_Neural_Data = Neural_Data[:, IT_NEURONS]\n",
    "\n",
    "var_level = Ventral_Dataset['image_meta']['variation_level'][:]\n",
    "categories = Ventral_Dataset['image_meta']['category'][:]   #array of category labels for all images  --> shape == (5760,)\n",
    "unique_categories = np.unique(categories)                #array of unique category labels --> shape == (8,)\n",
    "objects = Ventral_Dataset['image_meta']['object_name'][:]   #array of object labels for all images --> shape == (5670,)\n",
    "unique_objects = np.unique(objects)                      #array of unique object labels --> shape == (64,) \n",
    "\n",
    "objects_by_category = {c: np.unique(objects[categories == c]) \n",
    "                       for c in unique_categories}\n"
   ]
  },
  {
   "cell_type": "code",
   "execution_count": 5,
   "metadata": {
    "collapsed": false
   },
   "outputs": [
    {
     "data": {
      "text/plain": [
       "dtype((numpy.record, [(u'category', 'S7'), (u'image_id', 'S40'), (u'object_name', 'S24'), (u'rotation_xy', '<f8'), (u'rotation_xz', '<f8'), (u'rotation_yz', '<f8'), (u'size', '<f8'), (u'translation_y', '<f8'), (u'translation_z', '<f8'), (u'variation_level', 'S2')]))"
      ]
     },
     "execution_count": 5,
     "metadata": {},
     "output_type": "execute_result"
    }
   ],
   "source": [
    "#use numpy recarray object to store metadata \n",
    "meta_array = np.core.records.fromarrays(Ventral_Dataset['image_meta'].values(),\n",
    "                                        names=Ventral_Dataset['image_meta'].keys())\n",
    "\n",
    "meta_array.dtype"
   ]
  },
  {
   "cell_type": "code",
   "execution_count": 702,
   "metadata": {
    "collapsed": false
   },
   "outputs": [],
   "source": [
    "subset_inds = ((var_level == 'V6') & ((categories == 'Animals') | (categories == 'Boats'))).nonzero()[0]\n",
    "Neural_Data_subset = IT_Neural_Data[subset_inds] \n",
    "Neural_Data_subset, _ig, _ig = featurewise_norm(Neural_Data_subset)"
   ]
  },
  {
   "cell_type": "code",
   "execution_count": 703,
   "metadata": {
    "collapsed": false
   },
   "outputs": [],
   "source": [
    "cov = np.dot(Neural_Data_subset.T, Neural_Data_subset)"
   ]
  },
  {
   "cell_type": "code",
   "execution_count": 704,
   "metadata": {
    "collapsed": false
   },
   "outputs": [
    {
     "data": {
      "text/plain": [
       "(168, 168)"
      ]
     },
     "execution_count": 704,
     "metadata": {},
     "output_type": "execute_result"
    }
   ],
   "source": [
    "cov.shape"
   ]
  },
  {
   "cell_type": "code",
   "execution_count": 705,
   "metadata": {
    "collapsed": true
   },
   "outputs": [],
   "source": [
    "def norm(v): return v / np.linalg.norm(v)\n",
    "\n",
    "def power_method(X, n=200):\n",
    "    #initial guess for eigenvector\n",
    "    k = X.shape[0]\n",
    "    v = norm(np.random.rand(k))\n",
    "\n",
    "    #iterate\n",
    "    for i in range(n):\n",
    "        #calculate v --> Xv\n",
    "        v = np.dot(X, v)\n",
    "        #normalize\n",
    "        v = norm(v)\n",
    "        \n",
    "    #compute corresponding eigenvalue\n",
    "    l = np.dot(v.T, np.dot(X, v)) / np.dot(v, v)\n",
    "\n",
    "    return l, v\n",
    "    "
   ]
  },
  {
   "cell_type": "code",
   "execution_count": 706,
   "metadata": {
    "collapsed": false
   },
   "outputs": [],
   "source": [
    "l1, v1 = power_method(cov)"
   ]
  },
  {
   "cell_type": "code",
   "execution_count": 707,
   "metadata": {
    "collapsed": false
   },
   "outputs": [
    {
     "data": {
      "text/plain": [
       "24130.609808875459"
      ]
     },
     "execution_count": 707,
     "metadata": {},
     "output_type": "execute_result"
    }
   ],
   "source": [
    "l1"
   ]
  },
  {
   "cell_type": "code",
   "execution_count": 708,
   "metadata": {
    "collapsed": false
   },
   "outputs": [
    {
     "data": {
      "text/plain": [
       "array([ 24130.60980888,  24130.60980888,  24130.60980888,  24130.60980888,\n",
       "        24130.60980888,  24130.60980888,  24130.60980888,  24130.60980888,\n",
       "        24130.60980888,  24130.60980888])"
      ]
     },
     "execution_count": 708,
     "metadata": {},
     "output_type": "execute_result"
    }
   ],
   "source": [
    "test = np.dot(cov, v1)  / v1\n",
    "test[:10]"
   ]
  },
  {
   "cell_type": "code",
   "execution_count": 709,
   "metadata": {
    "collapsed": false
   },
   "outputs": [],
   "source": [
    "cov1 = cov - l1 * np.outer(v1.T, v1)"
   ]
  },
  {
   "cell_type": "code",
   "execution_count": 710,
   "metadata": {
    "collapsed": true
   },
   "outputs": [],
   "source": [
    "l2, v2 = power_method(cov1)"
   ]
  },
  {
   "cell_type": "code",
   "execution_count": 711,
   "metadata": {
    "collapsed": false
   },
   "outputs": [
    {
     "data": {
      "text/plain": [
       "9291.9253253278966"
      ]
     },
     "execution_count": 711,
     "metadata": {},
     "output_type": "execute_result"
    }
   ],
   "source": [
    "l2"
   ]
  },
  {
   "cell_type": "code",
   "execution_count": 712,
   "metadata": {
    "collapsed": false
   },
   "outputs": [
    {
     "data": {
      "text/plain": [
       "array([ 9291.92532533,  9291.92532533,  9291.92532533,  9291.92532533,\n",
       "        9291.92532533,  9291.92532533,  9291.92532533,  9291.92532533,\n",
       "        9291.92532533,  9291.92532533])"
      ]
     },
     "execution_count": 712,
     "metadata": {},
     "output_type": "execute_result"
    }
   ],
   "source": [
    "test = np.dot(cov, v2)  / v2\n",
    "test[:10]"
   ]
  },
  {
   "cell_type": "code",
   "execution_count": 713,
   "metadata": {
    "collapsed": false
   },
   "outputs": [],
   "source": [
    "cov2 = cov1 - l2 * np.outer(v2.T, v2)"
   ]
  },
  {
   "cell_type": "code",
   "execution_count": 714,
   "metadata": {
    "collapsed": true
   },
   "outputs": [],
   "source": [
    "l3, v3 = power_method(cov2)"
   ]
  },
  {
   "cell_type": "code",
   "execution_count": 715,
   "metadata": {
    "collapsed": false
   },
   "outputs": [
    {
     "data": {
      "text/plain": [
       "5626.2553387756743"
      ]
     },
     "execution_count": 715,
     "metadata": {},
     "output_type": "execute_result"
    }
   ],
   "source": [
    "l3"
   ]
  },
  {
   "cell_type": "code",
   "execution_count": 716,
   "metadata": {
    "collapsed": false
   },
   "outputs": [
    {
     "data": {
      "text/plain": [
       "array([ 5626.25533878,  5626.25533878,  5626.25533878,  5626.25533878,\n",
       "        5626.25533878,  5626.25533878,  5626.25533878,  5626.25533878,\n",
       "        5626.25533878,  5626.25533878])"
      ]
     },
     "execution_count": 716,
     "metadata": {},
     "output_type": "execute_result"
    }
   ],
   "source": [
    "test = np.dot(cov, v3)  / v3\n",
    "test[:10]"
   ]
  },
  {
   "cell_type": "code",
   "execution_count": 717,
   "metadata": {
    "collapsed": true
   },
   "outputs": [],
   "source": [
    "def get_eigenvalues(X, n=200):\n",
    "    k = X.shape[0]\n",
    "    vals = []\n",
    "    vecs = []\n",
    "    for i in range(k):\n",
    "        l, v = power_method(X, n=n)\n",
    "        vals.append(l)\n",
    "        vecs.append(v)\n",
    "        X = X - l * np.outer(v.T, v)\n",
    "    return np.array(vals), np.array(vecs).T"
   ]
  },
  {
   "cell_type": "code",
   "execution_count": 718,
   "metadata": {
    "collapsed": false
   },
   "outputs": [],
   "source": [
    "eigenvals, eigenvecs = get_eigenvalues(cov)"
   ]
  },
  {
   "cell_type": "code",
   "execution_count": 719,
   "metadata": {
    "collapsed": true
   },
   "outputs": [],
   "source": [
    "eigenvals_from_numpy, eigenvecs_from_numpy = np.linalg.eig(cov)"
   ]
  },
  {
   "cell_type": "code",
   "execution_count": 720,
   "metadata": {
    "collapsed": false
   },
   "outputs": [
    {
     "data": {
      "text/plain": [
       "[<matplotlib.lines.Line2D at 0x7f75b8094250>]"
      ]
     },
     "execution_count": 720,
     "metadata": {},
     "output_type": "execute_result"
    },
    {
     "data": {
      "image/png": "[encoded data removed]",
      "text/plain": [
       "<matplotlib.figure.Figure at 0x7f75beef5050>"
      ]
     },
     "metadata": {},
     "output_type": "display_data"
    }
   ],
   "source": [
    "plt.figure(figsize = (12, 5))\n",
    "plt.subplot(121)\n",
    "plt.plot(eigenvals)\n",
    "plt.plot(eigenvals_from_numpy)\n",
    "plt.ylabel('Eigenvalue')\n",
    "plt.xlabel('Eigenvalue number (biggest to smallest)')\n",
    "plt.title('Eigenvalue Spectrum')\n",
    "plt.subplot(122)\n",
    "plt.plot((eigenvals - eigenvals_from_numpy) / eigenvals)\n"
   ]
  },
  {
   "cell_type": "code",
   "execution_count": 721,
   "metadata": {
    "collapsed": false
   },
   "outputs": [
    {
     "data": {
      "text/plain": [
       "<matplotlib.text.Text at 0x7f75b7f3b690>"
      ]
     },
     "execution_count": 721,
     "metadata": {},
     "output_type": "execute_result"
    },
    {
     "data": {
      "image/png": "[encoded data removed]",
      "text/plain": [
       "<matplotlib.figure.Figure at 0x7f75b7ffa610>"
      ]
     },
     "metadata": {},
     "output_type": "display_data"
    }
   ],
   "source": [
    "plt.figure(figsize = (12, 5))\n",
    "plt.subplot(121)\n",
    "normalized_eigenvals = eigenvals / np.sum(eigenvals)\n",
    "plt.plot(normalized_eigenvals)\n",
    "plt.xlim(-3, 168)\n",
    "plt.ylabel('Fraction variance explained')\n",
    "plt.xlabel('Eigenvalue number (biggest to smallest)')\n",
    "plt.title('\"Scree\" plot')\n",
    "plt.subplot(122)\n",
    "plt.plot(normalized_eigenvals.cumsum())\n",
    "plt.ylabel('Fraction variance explained')\n",
    "plt.xlabel('Eigenvalue number (biggest to smallest)')\n",
    "plt.title('Cumulative \"Scree\" plot')"
   ]
  },
  {
   "cell_type": "code",
   "execution_count": 722,
   "metadata": {
    "collapsed": false
   },
   "outputs": [],
   "source": [
    "Xproj = np.dot(Neural_Data_subset, eigenvecs)"
   ]
  },
  {
   "cell_type": "code",
   "execution_count": 723,
   "metadata": {
    "collapsed": false
   },
   "outputs": [
    {
     "data": {
      "text/plain": [
       "(-30.0, 30.0, -15.0, 15.0)"
      ]
     },
     "execution_count": 723,
     "metadata": {},
     "output_type": "execute_result"
    },
    {
     "data": {
      "image/png": "[encoded data removed]",
      "text/plain": [
       "<matplotlib.figure.Figure at 0x7f75b8094a10>"
      ]
     },
     "metadata": {},
     "output_type": "display_data"
    }
   ],
   "source": [
    "x = Xproj[:, 0]\n",
    "y = Xproj[:, 1]\n",
    "\n",
    "plt.scatter(x, y)\n",
    "plt.xlabel('PC 1')\n",
    "plt.ylabel('PC 2')\n",
    "plt.axis('equal')\n"
   ]
  },
  {
   "cell_type": "code",
   "execution_count": 736,
   "metadata": {
    "collapsed": false
   },
   "outputs": [
    {
     "data": {
      "text/plain": [
       "<matplotlib.text.Text at 0x7f75b7637a50>"
      ]
     },
     "execution_count": 736,
     "metadata": {},
     "output_type": "execute_result"
    },
    {
     "data": {
      "image/png": "[encoded data removed]",
      "text/plain": [
       "<matplotlib.figure.Figure at 0x7f75b775c3d0>"
      ]
     },
     "metadata": {},
     "output_type": "display_data"
    }
   ],
   "source": [
    "vl = 'V6'\n",
    "cat1 = 'Animals'\n",
    "cat2 = 'Boats'\n",
    "subset_inds1 = ((var_level == vl) & (categories == cat1)).nonzero()[0]\n",
    "subset_inds2 = ((var_level == vl) & (categories == cat2)).nonzero()[0]\n",
    "subset_inds = np.concatenate([subset_inds1, subset_inds2])\n",
    "Neural_Data_subset = IT_Neural_Data[subset_inds]  \n",
    "category_subset = categories[subset_inds]\n",
    "\n",
    "Neural_Data_subset, _ig, _ig = featurewise_norm(Neural_Data_subset)\n",
    "\n",
    "cov = np.dot(Neural_Data_subset.T, Neural_Data_subset)\n",
    "\n",
    "eigenvals, eigenvecs = get_eigenvalues(cov)\n",
    "\n",
    "eigrat = eigenvals[0] / eigenvals[1]\n",
    "\n",
    "Xproj = np.dot(Neural_Data_subset, eigenvecs)\n",
    "\n",
    "x = Xproj[:, 0]\n",
    "y = Xproj[:, 1]\n",
    "\n",
    "xb = x[category_subset == cat1]\n",
    "yb = y[category_subset == cat1]\n",
    "xc = x[category_subset == cat2]\n",
    "yc = y[category_subset == cat2]\n",
    "plt.scatter(xb, yb, color='b', label=cat1)\n",
    "plt.scatter(xc, yc, color='r', label=cat2)\n",
    "plt.axis('equal')\n",
    "plt.xlabel('PC 1')\n",
    "plt.ylabel('PC 2')\n",
    "plt.legend()\n",
    "plt.title(\"Eigenratio = %.3f\" % eigrat)\n"
   ]
  },
  {
   "cell_type": "code",
   "execution_count": 411,
   "metadata": {
    "collapsed": true
   },
   "outputs": [],
   "source": [
    "#### PCA as a visualization method"
   ]
  },
  {
   "cell_type": "code",
   "execution_count": 727,
   "metadata": {
    "collapsed": false
   },
   "outputs": [
    {
     "data": {
      "text/plain": [
       "<matplotlib.text.Text at 0x7f75b7b71a10>"
      ]
     },
     "execution_count": 727,
     "metadata": {},
     "output_type": "execute_result"
    },
    {
     "data": {
      "image/png": "[encoded data removed]",
      "text/plain": [
       "<matplotlib.figure.Figure at 0x7f75b8056290>"
      ]
     },
     "metadata": {},
     "output_type": "display_data"
    }
   ],
   "source": [
    "vl = 'V0'\n",
    "cat1 = 'Animals'\n",
    "cat2 = 'Faces'\n",
    "subset_inds1 = ((var_level == vl) & (categories == cat1)).nonzero()[0]\n",
    "subset_inds2 = ((var_level == vl) & (categories == cat2)).nonzero()[0]\n",
    "subset_inds = np.concatenate([subset_inds1, subset_inds2])\n",
    "Neural_Data_subset = IT_Neural_Data[subset_inds]  \n",
    "category_subset = categories[subset_inds]\n",
    "\n",
    "Neural_Data_subset, _ig, _ig = featurewise_norm(Neural_Data_subset)\n",
    "\n",
    "cov = np.dot(Neural_Data_subset.T, Neural_Data_subset)\n",
    "\n",
    "eigenvals, eigenvecs = get_eigenvalues(cov)\n",
    "\n",
    "eigrat = eigenvals[0] / eigenvals[1]\n",
    "\n",
    "Xproj = np.dot(Neural_Data_subset, eigenvecs)\n",
    "\n",
    "x = Xproj[:, 0]\n",
    "y = Xproj[:, 1]\n",
    "\n",
    "xb = x[category_subset == cat1]\n",
    "yb = y[category_subset == cat1]\n",
    "xc = x[category_subset == cat2]\n",
    "yc = y[category_subset == cat2]\n",
    "plt.scatter(xb, yb, color='b', label=cat1)\n",
    "plt.scatter(xc, yc, color='r', label=cat2)\n",
    "plt.axis('equal')\n",
    "plt.xlabel('PC 1')\n",
    "plt.ylabel('PC 2')\n",
    "plt.legend()\n",
    "plt.title(\"Eigenratio = %.3f\" % eigrat)\n"
   ]
  },
  {
   "cell_type": "markdown",
   "metadata": {},
   "source": [
    "### In scikit form"
   ]
  },
  {
   "cell_type": "code",
   "execution_count": 753,
   "metadata": {
    "collapsed": false
   },
   "outputs": [],
   "source": [
    "class PCA(object):\n",
    "    def __init__(self, n_components):\n",
    "        self.n_components = n_components\n",
    "        \n",
    "    def fit(self, train_data):\n",
    "        data, self.fmean, self.fvar = featurewise_norm(train_data)\n",
    "        cov = np.dot(data.T, data)\n",
    "        eigenvals, eigenvecs = get_eigenvalues(cov)\n",
    "        self.eigenvals = eigenvals\n",
    "        self.eigenvecs = eigenvecs\n",
    "        \n",
    "    def transform(self, test_data):\n",
    "        data, _ig, _ig = featurewise_norm(test_data, fmean=self.fmean, fvar=self.fvar)\n",
    "        Xproj = np.dot(data, self.eigenvecs)\n",
    "        return Xproj[:, :self.n_components]"
   ]
  },
  {
   "cell_type": "code",
   "execution_count": 754,
   "metadata": {
    "collapsed": false
   },
   "outputs": [
    {
     "data": {
      "text/plain": [
       "<matplotlib.text.Text at 0x7f75b3a49d50>"
      ]
     },
     "execution_count": 754,
     "metadata": {},
     "output_type": "execute_result"
    },
    {
     "data": {
      "image/png": "[encoded data removed]",
      "text/plain": [
       "<matplotlib.figure.Figure at 0x7f75b3aa5790>"
      ]
     },
     "metadata": {},
     "output_type": "display_data"
    }
   ],
   "source": [
    "vl = 'V0'\n",
    "cat1 = 'Animals'\n",
    "cat2 = 'Faces'\n",
    "subset_inds1 = ((var_level == vl) & (categories == cat1)).nonzero()[0]\n",
    "subset_inds2 = ((var_level == vl) & (categories == cat2)).nonzero()[0]\n",
    "subset_inds = np.concatenate([subset_inds1, subset_inds2])\n",
    "Neural_Data_subset = IT_Neural_Data[subset_inds]  \n",
    "category_subset = categories[subset_inds]\n",
    "\n",
    "cls = PCA(n_components=2)\n",
    "cls.fit(Neural_Data_subset)\n",
    "\n",
    "Xproj = cls.transform(Neural_Data_subset)\n",
    "eigrat = cls.eigenvals[0] / cls.eigenvals[1]\n",
    "\n",
    "x = Xproj[:, 0]\n",
    "y = Xproj[:, 1]\n",
    "\n",
    "xb = x[category_subset == cat1]\n",
    "yb = y[category_subset == cat1]\n",
    "xc = x[category_subset == cat2]\n",
    "yc = y[category_subset == cat2]\n",
    "plt.scatter(xb, yb, color='b', label=cat1)\n",
    "plt.scatter(xc, yc, color='r', label=cat2)\n",
    "plt.axis('equal')\n",
    "plt.xlabel('PC 1')\n",
    "plt.ylabel('PC 2')\n",
    "plt.legend()\n",
    "plt.title(\"Eigenratio = %.3f\" % eigrat)\n"
   ]
  },
  {
   "cell_type": "code",
   "execution_count": 755,
   "metadata": {
    "collapsed": true
   },
   "outputs": [],
   "source": [
    "from sklearn.decomposition import PCA as sklearn_PCA"
   ]
  },
  {
   "cell_type": "code",
   "execution_count": 756,
   "metadata": {
    "collapsed": false
   },
   "outputs": [
    {
     "data": {
      "text/plain": [
       "<matplotlib.legend.Legend at 0x7f75b7bdd4d0>"
      ]
     },
     "execution_count": 756,
     "metadata": {},
     "output_type": "execute_result"
    },
    {
     "data": {
      "image/png": "[encoded data removed]",
      "text/plain": [
       "<matplotlib.figure.Figure at 0x7f75b7792150>"
      ]
     },
     "metadata": {},
     "output_type": "display_data"
    }
   ],
   "source": [
    "cls = sklearn_PCA(n_components=2)\n",
    "cls.fit(Neural_Data_subset)\n",
    "\n",
    "Xproj = cls.transform(Neural_Data_subset)\n",
    "\n",
    "x = Xproj[:, 0]\n",
    "y = Xproj[:, 1]\n",
    "\n",
    "xb = x[category_subset == cat1]\n",
    "yb = y[category_subset == cat1]\n",
    "xc = x[category_subset == cat2]\n",
    "yc = y[category_subset == cat2]\n",
    "plt.scatter(xb, yb, color='b', label=cat1)\n",
    "plt.scatter(xc, yc, color='r', label=cat2)\n",
    "plt.axis('equal')\n",
    "plt.xlabel('PC 1')\n",
    "plt.ylabel('PC 2')\n",
    "plt.legend()\n"
   ]
  },
  {
   "cell_type": "code",
   "execution_count": null,
   "metadata": {
    "collapsed": true
   },
   "outputs": [],
   "source": []
  }
 ],
 "metadata": {
  "kernelspec": {
   "display_name": "Python 2",
   "language": "python",
   "name": "python2"
  },
  "language_info": {
   "codemirror_mode": {
    "name": "ipython",
    "version": 2
   },
   "file_extension": ".py",
   "mimetype": "text/x-python",
   "name": "python",
   "nbconvert_exporter": "python",
   "pygments_lexer": "ipython2",
   "version": "2.7.12"
  }
 },
 "nbformat": 4,
 "nbformat_minor": 2
}
