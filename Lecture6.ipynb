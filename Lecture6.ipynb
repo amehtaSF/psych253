{
 "cells": [
  {
   "cell_type": "code",
   "execution_count": 50,
   "metadata": {
    "collapsed": true,
    "deletable": true,
    "editable": true
   },
   "outputs": [],
   "source": [
    "%matplotlib inline\n",
    "\n",
    "import matplotlib\n",
    "import matplotlib.pyplot as plt\n",
    "\n",
    "#the above imports the plotting library matplotlib"
   ]
  },
  {
   "cell_type": "code",
   "execution_count": 212,
   "metadata": {
    "collapsed": false,
    "deletable": true,
    "editable": true
   },
   "outputs": [],
   "source": [
    "#standard imports\n",
    "import pymongo as pm\n",
    "import numpy as np\n",
    "import h5py\n",
    "import scipy as sp\n",
    "import scipy.stats as stats\n",
    "\n",
    "#let's import the SVM classifier\n",
    "from sklearn.svm import LinearSVC\n",
    "\n",
    "#our own internal utility unctions\n",
    "import metrics ; reload(metrics)\n",
    "import cross_validation as cv; reload(cv)\n",
    "import utils; reload(utils)\n",
    "from utils import featurewise_norm, spearman_brown\n"
   ]
  },
  {
   "cell_type": "code",
   "execution_count": 239,
   "metadata": {
    "collapsed": true,
    "deletable": true,
    "editable": true
   },
   "outputs": [],
   "source": [
    "#ok let's load the neural data \n",
    "DATA_PATH = \"/home/chengxuz/Class/psych253_2018/data/ventral_neural_data.hdf5\"\n",
    "Ventral_Dataset = h5py.File(DATA_PATH)\n",
    "\n",
    "categories = Ventral_Dataset['image_meta']['category'][:]   #array of category labels for all images  --> shape == (5760,)\n",
    "unique_categories = np.unique(categories)                #array of unique category labels --> shape == (8,)\n",
    "objects = Ventral_Dataset['image_meta']['object_name'][:]   #array of object labels for all images --> shape == (5670,)\n",
    "unique_objects = np.unique(objects)                      #array of unique object labels --> shape == (64,) \n",
    "\n",
    "objects_by_category = {c: np.unique(objects[categories == c]) \n",
    "                       for c in unique_categories}\n",
    "\n",
    "Neural_Data = Ventral_Dataset['time_averaged_trial_averaged'][:]\n",
    "IT_NEURONS = Ventral_Dataset['neural_meta']['IT_NEURONS']\n",
    "V4_NEURONS = Ventral_Dataset['neural_meta']['V4_NEURONS']\n",
    "V4_Neural_Data = Neural_Data[:, V4_NEURONS]\n",
    "IT_Neural_Data = Neural_Data[:, IT_NEURONS]\n",
    "\n",
    "var_level = Ventral_Dataset['image_meta']['variation_level'][:]\n",
    "\n",
    "#use numpy recarray object to store metadata \n",
    "meta_array = np.core.records.fromarrays(Ventral_Dataset['image_meta'].values(),\n",
    "                                        names=Ventral_Dataset['image_meta'].keys())"
   ]
  },
  {
   "cell_type": "code",
   "execution_count": 3,
   "metadata": {
    "collapsed": true,
    "deletable": true,
    "editable": true
   },
   "outputs": [],
   "source": [
    "#and also let's load some behavioral data\n",
    "HUMAN_DATA_PATH = \"/mnt/data3/yamins/visual/human_behavior.hdf5\"\n",
    "Behavioral_Dataset = h5py.File(HUMAN_DATA_PATH)"
   ]
  },
  {
   "cell_type": "code",
   "execution_count": 213,
   "metadata": {
    "collapsed": false
   },
   "outputs": [
    {
     "data": {
      "text/plain": [
       "[u'Animals_identification',\n",
       " u'Basic_categorization',\n",
       " u'Boats_identification',\n",
       " u'Cars_identification',\n",
       " u'Chairs_identification',\n",
       " u'Faces_identification',\n",
       " u'Fruits_identification',\n",
       " u'Planes_identification',\n",
       " u'Tables_identification']"
      ]
     },
     "execution_count": 213,
     "metadata": {},
     "output_type": "execute_result"
    }
   ],
   "source": [
    "#let's explore the behavorial data a little\n",
    "Behavioral_Dataset.keys()\n",
    "#OK -- each of these 9 keys corresponds to an experiment\n",
    "#humans were asked to do 8-way alternative forced choice (AFC) tasks\n",
    "#one of these experiments (Basic_categorization) is where the humans\n",
    "#were choosing the *category* of object shown in an image out of the 8\n",
    "#unique categories.  For the other 8 tasks, the humans were supposed to \n",
    "#indicate which *object* was shown, within the indicated class.  E.g. \n",
    "#Animals_identification meant that the idea was identify which of 8 \n",
    "#animals was shown in the image."
   ]
  },
  {
   "cell_type": "code",
   "execution_count": 215,
   "metadata": {
    "collapsed": false
   },
   "outputs": [
    {
     "data": {
      "text/plain": [
       "[u'actual', u'chosen', u'image_id', u'reaction_time', u'variation_level']"
      ]
     },
     "execution_count": 215,
     "metadata": {},
     "output_type": "execute_result"
    }
   ],
   "source": [
    "Behavioral_Dataset['Basic_categorization'].keys()"
   ]
  },
  {
   "cell_type": "code",
   "execution_count": 216,
   "metadata": {
    "collapsed": false
   },
   "outputs": [
    {
     "data": {
      "text/plain": [
       "<HDF5 dataset \"actual\": shape (80, 192), type \"|S7\">"
      ]
     },
     "execution_count": 216,
     "metadata": {},
     "output_type": "execute_result"
    }
   ],
   "source": [
    "Behavioral_Dataset['Basic_categorization']['actual']"
   ]
  },
  {
   "cell_type": "code",
   "execution_count": 217,
   "metadata": {
    "collapsed": false
   },
   "outputs": [
    {
     "data": {
      "text/plain": [
       "[<\"subject\" dimension 0 of HDF5 dataset at 139632598381104>,\n",
       " <\"trial\" dimension 1 of HDF5 dataset at 139632598381104>]"
      ]
     },
     "execution_count": 217,
     "metadata": {},
     "output_type": "execute_result"
    }
   ],
   "source": [
    "Behavioral_Dataset['Basic_categorization']['actual'].dims.keys()"
   ]
  },
  {
   "cell_type": "code",
   "execution_count": 219,
   "metadata": {
    "collapsed": false
   },
   "outputs": [
    {
     "data": {
      "text/plain": [
       "array(['Chairs', 'Boats', 'Fruits', 'Faces', 'Cars', 'Planes', 'Chairs',\n",
       "       'Cars', 'Fruits', 'Animals'],\n",
       "      dtype='|S7')"
      ]
     },
     "execution_count": 219,
     "metadata": {},
     "output_type": "execute_result"
    }
   ],
   "source": [
    "Behavioral_Dataset['Basic_categorization']['actual'][0][:10]"
   ]
  },
  {
   "cell_type": "code",
   "execution_count": 220,
   "metadata": {
    "collapsed": false
   },
   "outputs": [
    {
     "data": {
      "text/plain": [
       "array(['Chairs', 'Boats', 'Fruits', 'Faces', 'Cars', 'Planes', 'Chairs',\n",
       "       'Cars', 'Fruits', 'Animals'],\n",
       "      dtype='|S7')"
      ]
     },
     "execution_count": 220,
     "metadata": {},
     "output_type": "execute_result"
    }
   ],
   "source": [
    "Behavioral_Dataset['Basic_categorization']['chosen'][0][:10]"
   ]
  },
  {
   "cell_type": "code",
   "execution_count": null,
   "metadata": {
    "collapsed": true
   },
   "outputs": [],
   "source": [
    "#ok so we see that for each experiment, we have data arrays for \n",
    "#\"actual\", \"chosen\", \"reaction_time\" and \"variation_level\" among things\n",
    "#these arrays of of the form of (subject, trial) for different subjects and trials\n",
    "#within that subject"
   ]
  },
  {
   "cell_type": "code",
   "execution_count": 225,
   "metadata": {
    "collapsed": false
   },
   "outputs": [
    {
     "name": "stdout",
     "output_type": "stream",
     "text": [
      "The subjects achieved mean accuracy of 88.38% on basic categorization\n"
     ]
    }
   ],
   "source": [
    "#how good are the subjects at these tasks?\n",
    "chosen = Behavioral_Dataset['Basic_categorization']['chosen'][:]\n",
    "actual = Behavioral_Dataset['Basic_categorization']['actual'][:]\n",
    "percent_correct = (chosen == actual).mean() * 100\n",
    "print('The subjects achieved mean accuracy of %.2f%% on basic categorization' % percent_correct)"
   ]
  },
  {
   "cell_type": "code",
   "execution_count": 165,
   "metadata": {
    "collapsed": false,
    "deletable": true,
    "editable": true
   },
   "outputs": [],
   "source": [
    "#ok let's get the confusion matrices for each part of the dat\n",
    "#by variation level for all experiments\n",
    "\n",
    "expnames = [('Basic_categorization', 'category')] + \\\n",
    "            [(c + '_identification', 'obj') for c in unique_categories]\n",
    "    \n",
    "human_confmats = {}\n",
    "for expname, exp_goal in expnames:\n",
    "    if 'Basic' in expname:\n",
    "        ucats = unique_categories\n",
    "    else:ma\n",
    "        catn = expname.split('_')[0]\n",
    "        ucats = objects_by_category[catn]\n",
    "    preds = Behavioral_Dataset[expname]['chosen']\n",
    "    actuals = Behavioral_Dataset[expname]['actual']\n",
    "    vls = Behavioral_Dataset[expname]['variation_level']\n",
    "    cms = np.array([metrics.get_confusion_matrix(p, a, ucats) for p, a in zip(preds, actuals)])\n",
    "    human_confmats[(expname, 'all')] = cms\n",
    "    for v in ['V0', 'V3', 'V6']:\n",
    "        cms = np.array([metrics.get_confusion_matrix(p[vl==v], a[vl==v], ucats) \n",
    "                             for p, a, vl in zip(preds, actuals, vls)])\n",
    "        human_confmats[(expname, v)] = cms\n",
    "                     "
   ]
  },
  {
   "cell_type": "code",
   "execution_count": 227,
   "metadata": {
    "collapsed": false
   },
   "outputs": [
    {
     "data": {
      "text/plain": [
       "(80, 8, 8)"
      ]
     },
     "execution_count": 227,
     "metadata": {},
     "output_type": "execute_result"
    }
   ],
   "source": [
    "cmat = human_confmats[('Basic_categorization', 'V0')]\n",
    "cmat.shape\n",
    "#ok we've gathered the confusion matrices so that the 0th axis \n",
    "#is the subject dimension"
   ]
  },
  {
   "cell_type": "code",
   "execution_count": 230,
   "metadata": {
    "collapsed": false
   },
   "outputs": [
    {
     "data": {
      "image/png": "[encoded data removed]",
      "text/plain": [
       "<matplotlib.figure.Figure at 0x7efec8e3ead0>"
      ]
     },
     "metadata": {},
     "output_type": "display_data"
    }
   ],
   "source": [
    "#What does the confusion matrix look like? \n",
    "plt.matshow(cmat.mean(0))\n",
    "plt.xticks(range(8), unique_categories, rotation=30);\n",
    "plt.yticks(range(8), unique_categories);"
   ]
  },
  {
   "cell_type": "code",
   "execution_count": 244,
   "metadata": {
    "collapsed": false
   },
   "outputs": [
    {
     "data": {
      "image/png": "[encoded data removed]",
      "text/plain": [
       "<matplotlib.figure.Figure at 0x7efec01484d0>"
      ]
     },
     "metadata": {},
     "output_type": "display_data"
    }
   ],
   "source": [
    "#ok, subordinate identification at V3 is harder:\n",
    "cmat = human_confmats[('Animals_identification', 'V3')]\n",
    "plt.matshow(cmat.mean(0))\n",
    "plt.xticks(np.arange(8)+.5, objects_by_category['Animals'], rotation=30);\n",
    "plt.yticks(range(8), objects_by_category['Animals']);"
   ]
  },
  {
   "cell_type": "code",
   "execution_count": 160,
   "metadata": {
    "collapsed": true
   },
   "outputs": [],
   "source": [
    "def idfunc(x):\n",
    "    return x\n",
    "\n",
    "\n",
    "def split_half_correlation(datas_by_trial, num_splits, aggfunc=idfunc, statfunc=stats.pearsonr):\n",
    "    \"\"\"\n",
    "    \"\"\"\n",
    "        \n",
    "    random_number_generator = np.random.RandomState(seed=0)\n",
    "\n",
    "    corrvals = []\n",
    "    for split_index in range(num_splits):\n",
    "        stats1 = []\n",
    "        stats2 = []\n",
    "        for data in datas_by_trial:\n",
    "            #get total number of trials\n",
    "            num_trials = data.shape[0]\n",
    "\n",
    "            #construct a new permutation of the trial indices\n",
    "            perm = random_number_generator.permutation(num_trials)\n",
    "\n",
    "            #take the first num_trials/2 and second num_trials/2 pieces of the data\n",
    "            first_half_of_trial_indices = perm[:num_trials / 2]\n",
    "            second_half_of_trial_indices = perm[num_trials / 2: num_trials]\n",
    "\n",
    "            #mean over trial dimension\n",
    "            s1 = aggfunc(data[first_half_of_trial_indices].mean(axis=0))\n",
    "            s2 = aggfunc(data[second_half_of_trial_indices].mean(axis=0))\n",
    "            stats1.extend(s1)\n",
    "            stats2.extend(s2)\n",
    "        \n",
    "        #compute the correlation between the means\n",
    "        corrval = statfunc(stats1, stats2)[0]\n",
    "        #add to the list\n",
    "        corrvals.append(corrval)\n",
    "        \n",
    "    return spearman_brown(np.array(corrvals), 2)"
   ]
  },
  {
   "cell_type": "code",
   "execution_count": 187,
   "metadata": {
    "collapsed": false
   },
   "outputs": [],
   "source": [
    "def get_split_half_from_cmatdict(confmat_dict, ks):\n",
    "    corrvals = split_half_correlation([confmat_dict[k] for k in ks],\n",
    "                       num_splits=100, \n",
    "                       aggfunc=metrics.dprime_confmat)\n",
    "    return corrvals.mean()"
   ]
  },
  {
   "cell_type": "code",
   "execution_count": null,
   "metadata": {
    "collapsed": true
   },
   "outputs": [],
   "source": []
  },
  {
   "cell_type": "code",
   "execution_count": 151,
   "metadata": {
    "collapsed": false,
    "deletable": true,
    "editable": true
   },
   "outputs": [],
   "source": [
    "pretty_good_cval = 1e-3\n",
    "var_levels = ['all', 'V0', 'V3', 'V6']\n",
    "        \n",
    "def get_splits_and_labels(expname, exp_goal, vl):\n",
    "    num_test = 10\n",
    "    if vl == 'V0':\n",
    "        num_test = 7\n",
    "        num_train = 10 - num_test\n",
    "    elif vl in ['V3', 'V6']:\n",
    "        num_train = 40 - num_test\n",
    "    else:\n",
    "        num_train = 90 - num_test\n",
    "    if exp_goal == 'category':\n",
    "        if vl == 'all':\n",
    "            train_filter = None\n",
    "            test_filter = None\n",
    "        else:\n",
    "            train_filter = lambda x: (x['variation_level'] == vl)\n",
    "            test_filter = lambda x: (x['variation_level'] == vl)\n",
    "\n",
    "        labels = meta_array['category']\n",
    "    else:\n",
    "        catn = expname.split('_')[0]\n",
    "        if vl == 'all':\n",
    "            train_filter = lambda x: (x['category'] == catn)\n",
    "            test_filter = lambda x: (x['category'] == catn)\n",
    "        else:\n",
    "            train_filter = lambda x: (x['variation_level'] == vl) and (x['category'] == catn)\n",
    "            test_filter = lambda x: (x['variation_level'] == vl) and (x['category'] == catn)\n",
    "\n",
    "        labels = meta_array['object_name']\n",
    "        \n",
    "    splits = cv.get_splits(metadata=meta_array, \n",
    "                           split_by_func=lambda x: x['object_name'],  #we're balancing splits by object\n",
    "                           num_splits=5,  \n",
    "                           num_per_class_test=num_test,  \n",
    "                           num_per_class_train=num_train,\n",
    "                           train_filter=train_filter,\n",
    "                           test_filter=test_filter\n",
    "                           )\n",
    "   \n",
    "    return splits, labels\n",
    "    \n"
   ]
  },
  {
   "cell_type": "code",
   "execution_count": 152,
   "metadata": {
    "collapsed": false,
    "deletable": true,
    "editable": true
   },
   "outputs": [
    {
     "name": "stdout",
     "output_type": "stream",
     "text": [
      "Getting results for Basic_categorization all\n",
      "Mean accuracy: 74.38\n",
      "Getting results for Basic_categorization V0\n",
      "Mean accuracy: 90.27\n",
      "Getting results for Basic_categorization V3\n",
      "Mean accuracy: 85.03\n",
      "Getting results for Basic_categorization V6\n",
      "Mean accuracy: 61.44\n",
      "Getting results for Animals_identification all\n",
      "Mean accuracy: 69.50\n",
      "Getting results for Animals_identification V0\n",
      "Mean accuracy: 83.21\n",
      "Getting results for Animals_identification V3\n",
      "Mean accuracy: 75.50\n",
      "Getting results for Animals_identification V6\n",
      "Mean accuracy: 52.25\n",
      "Getting results for Boats_identification all\n",
      "Mean accuracy: 57.50\n",
      "Getting results for Boats_identification V0\n",
      "Mean accuracy: 92.14\n",
      "Getting results for Boats_identification V3\n",
      "Mean accuracy: 55.50\n",
      "Getting results for Boats_identification V6\n",
      "Mean accuracy: 36.50\n",
      "Getting results for Cars_identification all\n",
      "Mean accuracy: 32.00\n",
      "Getting results for Cars_identification V0\n",
      "Mean accuracy: 61.79\n",
      "Getting results for Cars_identification V3\n",
      "Mean accuracy: 37.00\n",
      "Getting results for Cars_identification V6\n",
      "Mean accuracy: 15.25\n",
      "Getting results for Chairs_identification all\n",
      "Mean accuracy: 54.00\n",
      "Getting results for Chairs_identification V0\n",
      "Mean accuracy: 83.57\n",
      "Getting results for Chairs_identification V3\n",
      "Mean accuracy: 56.75\n",
      "Getting results for Chairs_identification V6\n",
      "Mean accuracy: 35.75\n",
      "Getting results for Faces_identification all\n",
      "Mean accuracy: 16.25\n",
      "Getting results for Faces_identification V0\n",
      "Mean accuracy: 60.00\n",
      "Getting results for Faces_identification V3\n",
      "Mean accuracy: 15.75\n",
      "Getting results for Faces_identification V6\n",
      "Mean accuracy: 15.00\n",
      "Getting results for Fruits_identification all\n",
      "Mean accuracy: 67.75\n",
      "Getting results for Fruits_identification V0\n",
      "Mean accuracy: 91.79\n",
      "Getting results for Fruits_identification V3\n",
      "Mean accuracy: 75.00\n",
      "Getting results for Fruits_identification V6\n",
      "Mean accuracy: 47.00\n",
      "Getting results for Planes_identification all\n",
      "Mean accuracy: 42.00\n",
      "Getting results for Planes_identification V0\n",
      "Mean accuracy: 61.43\n",
      "Getting results for Planes_identification V3\n",
      "Mean accuracy: 39.25\n",
      "Getting results for Planes_identification V6\n",
      "Mean accuracy: 36.25\n",
      "Getting results for Tables_identification all\n",
      "Mean accuracy: 54.75\n",
      "Getting results for Tables_identification V0\n",
      "Mean accuracy: 45.36\n",
      "Getting results for Tables_identification V3\n",
      "Mean accuracy: 48.00\n",
      "Getting results for Tables_identification V6\n",
      "Mean accuracy: 41.25\n"
     ]
    }
   ],
   "source": [
    "neural_results = {}\n",
    "for expname, exp_goal in expnames:\n",
    "    neural_results[expname] = {}\n",
    "    for vl in var_levels:\n",
    "        print('Getting results for %s %s' % (expname, vl))\n",
    "        splits, labels = get_splits_and_labels(expname, exp_goal, vl)\n",
    "        neural_results[expname][vl] = cv.train_and_test_scikit_classifier(features=Neural_Data, \n",
    "                                     labels=labels,\n",
    "                                     splits=splits,\n",
    "                                     model_class=LinearSVC,\n",
    "                                     model_args={'C': pretty_good_cval})\n",
    "        acc = neural_results[expname][vl][0]['test']['mean_accuracy'] * 100\n",
    "        print('Mean accuracy: %.2f' % acc)\n"
   ]
  },
  {
   "cell_type": "code",
   "execution_count": 205,
   "metadata": {
    "collapsed": true
   },
   "outputs": [],
   "source": [
    "IT_neural_results = {}\n",
    "for expname, exp_goal in expnames:\n",
    "    IT_neural_results[expname] = {}\n",
    "    for vl in var_levels:\n",
    "        splits, labels = get_splits_and_labels(expname, exp_goal, vl)\n",
    "        IT_neural_results[expname][vl] = cv.train_and_test_scikit_classifier(features=IT_Neural_Data, \n",
    "                                     labels=labels,\n",
    "                                     splits=splits,\n",
    "                                     model_class=LinearSVC,\n",
    "                                     model_args={'C': pretty_good_cval})\n",
    "        \n",
    "V4_neural_results = {}\n",
    "for expname, exp_goal in expnames:\n",
    "    V4_neural_results[expname] = {}\n",
    "    for vl in var_levels:\n",
    "        splits, labels = get_splits_and_labels(expname, exp_goal, vl)\n",
    "        V4_neural_results[expname][vl] = cv.train_and_test_scikit_classifier(features=V4_Neural_Data, \n",
    "                                     labels=labels,\n",
    "                                     splits=splits,\n",
    "                                     model_class=LinearSVC,\n",
    "                                     model_args={'C': pretty_good_cval})"
   ]
  },
  {
   "cell_type": "code",
   "execution_count": 207,
   "metadata": {
    "collapsed": false,
    "deletable": true,
    "editable": true
   },
   "outputs": [],
   "source": [
    "neural_confmats = {}\n",
    "IT_neural_confmats = {}\n",
    "V4_neural_confmats = {}\n",
    "for expname, exp_goal in expnames:\n",
    "    for vl in var_levels:\n",
    "        neural_confmats[(expname, vl)] = \\\n",
    "             neural_results[expname][vl][0]['test']['confusion_matrices']\n",
    "        IT_neural_confmats[(expname, vl)] = \\\n",
    "             IT_neural_results[expname][vl][0]['test']['confusion_matrices']\n",
    "        V4_neural_confmats[(expname, vl)] = \\\n",
    "             V4_neural_results[expname][vl][0]['test']['confusion_matrices']            "
   ]
  },
  {
   "cell_type": "code",
   "execution_count": 209,
   "metadata": {
    "collapsed": false,
    "deletable": true,
    "editable": true
   },
   "outputs": [
    {
     "data": {
      "text/plain": [
       "<matplotlib.text.Text at 0x7efebf76c2d0>"
      ]
     },
     "execution_count": 209,
     "metadata": {},
     "output_type": "execute_result"
    },
    {
     "data": {
      "image/png": "[encoded data removed]",
      "text/plain": [
       "<matplotlib.figure.Figure at 0x7efebf874690>"
      ]
     },
     "metadata": {},
     "output_type": "display_data"
    }
   ],
   "source": [
    "#keys = [x for x in human_confmats.keys() if 'Basic' in x[0]]\n",
    "#keys = [x for x in human_confmats.keys() if x[1] in ['V3', 'V6']]\n",
    "#keys = [x for x in human_confmats.keys() if 'Basic' not in x[0] and x[1] in ['V3', 'V6']]\n",
    "keys = human_confmats.keys()\n",
    "\n",
    "d_neural = []\n",
    "d_it = []\n",
    "d_v4 = []\n",
    "d_human = []\n",
    "for k in keys:\n",
    "    neural_dprime = metrics.dprime_confmat(neural_confmats[k].mean(0))\n",
    "    it_neural_dprime = metrics.dprime_confmat(IT_neural_confmats[k].mean(0))\n",
    "    v4_neural_dprime = metrics.dprime_confmat(V4_neural_confmats[k].mean(0))\n",
    "    human_dprime = metrics.dprime_confmat(human_confmats[k].mean(0))\n",
    "    d_neural.extend(neural_dprime)   \n",
    "    d_it.extend(it_neural_dprime)  \n",
    "    d_v4.extend(v4_neural_dprime)  \n",
    "    d_human.extend(human_dprime)\n",
    "\n",
    "human_splithalf = get_split_half_from_cmatdict(human_confmats, keys) \n",
    "neural_splithalf = get_split_half_from_cmatdict(neural_confmats, keys) \n",
    "it_neural_splithalf = get_split_half_from_cmatdict(IT_neural_confmats, keys) \n",
    "v4_neural_splithalf = get_split_half_from_cmatdict(V4_neural_confmats, keys) \n",
    "\n",
    "plt.figure(figsize=(16, 5))\n",
    "plt.subplot(1, 3, 1)\n",
    "plt.scatter(d_neural, d_human)\n",
    "corrval = stats.spearmanr(d_neural, d_human)[0]\n",
    "corrected_corrval = corrval / np.sqrt(human_splithalf * neural_splithalf)\n",
    "plt.title('Corrval Human/Neural = %.2f\\nNoise Corrected Corrval  = %.2f' % (corrval, corrected_corrval))\n",
    "plt.xlabel('Neural d-prime'); plt.ylabel('Human d-prime')\n",
    "\n",
    "plt.subplot(1, 3, 2)\n",
    "plt.scatter(d_it, d_human)\n",
    "corrval = stats.spearmanr(d_it, d_human)[0]\n",
    "corrected_corrval = corrval / np.sqrt(human_splithalf * it_neural_splithalf)\n",
    "plt.title('Corrval Human/IT = %.2f\\nNoise Corrected Corrval  = %.2f' % (corrval, corrected_corrval))\n",
    "plt.xlabel('IT Neural d-prime'); plt.ylabel('Human d-prime')\n",
    "\n",
    "plt.subplot(1, 3, 3)\n",
    "plt.scatter(d_v4, d_human)\n",
    "corrval = stats.spearmanr(d_v4, d_human)[0]\n",
    "corrected_corrval = corrval / np.sqrt(human_splithalf * v4_neural_splithalf)\n",
    "plt.title('Corrval Human/V4 = %.2f\\nNoise Corrected Corrval  = %.2f' % (corrval, corrected_corrval))\n",
    "plt.xlabel('V4 Neural d-prime'); plt.ylabel('Human d-prime')\n"
   ]
  },
  {
   "cell_type": "code",
   "execution_count": null,
   "metadata": {
    "collapsed": true,
    "deletable": true,
    "editable": true
   },
   "outputs": [],
   "source": []
  }
 ],
 "metadata": {
  "kernelspec": {
   "display_name": "Python 2",
   "language": "python",
   "name": "python2"
  },
  "language_info": {
   "codemirror_mode": {
    "name": "ipython",
    "version": 2
   },
   "file_extension": ".py",
   "mimetype": "text/x-python",
   "name": "python",
   "nbconvert_exporter": "python",
   "pygments_lexer": "ipython2",
   "version": "2.7.12"
  }
 },
 "nbformat": 4,
 "nbformat_minor": 2
}
