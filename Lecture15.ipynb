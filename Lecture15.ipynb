{
 "cells": [
  {
   "cell_type": "code",
   "execution_count": 1,
   "metadata": {
    "collapsed": true,
    "deletable": true,
    "editable": true
   },
   "outputs": [],
   "source": [
    "%matplotlib inline\n",
    "import matplotlib\n",
    "import matplotlib.pyplot as plt\n"
   ]
  },
  {
   "cell_type": "code",
   "execution_count": 2,
   "metadata": {
    "collapsed": true,
    "deletable": true,
    "editable": true
   },
   "outputs": [],
   "source": [
    "#other useful imports \n",
    "import os\n",
    "import numpy as np\n",
    "import scipy as sp\n",
    "import scipy.stats as stats\n",
    "import h5py"
   ]
  },
  {
   "cell_type": "code",
   "execution_count": 3,
   "metadata": {
    "collapsed": false,
    "deletable": true,
    "editable": true
   },
   "outputs": [],
   "source": [
    "import pandas as pd\n",
    "from observations import insteval\n",
    "\n",
    "data_path = os.path.join(os.environ[\"SKDATA_ROOT\"], \"edward_data\")\n",
    "data, metadata = insteval(data_path)\n",
    "data = pd.DataFrame(data, columns=metadata['columns'])\n"
   ]
  },
  {
   "cell_type": "code",
   "execution_count": 6,
   "metadata": {
    "collapsed": false,
    "deletable": true,
    "editable": true
   },
   "outputs": [
    {
     "data": {
      "text/html": [
       "<div>\n",
       "<style scoped>\n",
       "    .dataframe tbody tr th:only-of-type {\n",
       "        vertical-align: middle;\n",
       "    }\n",
       "\n",
       "    .dataframe tbody tr th {\n",
       "        vertical-align: top;\n",
       "    }\n",
       "\n",
       "    .dataframe thead th {\n",
       "        text-align: right;\n",
       "    }\n",
       "</style>\n",
       "<table border=\"1\" class=\"dataframe\">\n",
       "  <thead>\n",
       "    <tr style=\"text-align: right;\">\n",
       "      <th></th>\n",
       "      <th>s</th>\n",
       "      <th>d</th>\n",
       "      <th>studage</th>\n",
       "      <th>lectage</th>\n",
       "      <th>service</th>\n",
       "      <th>dept</th>\n",
       "      <th>y</th>\n",
       "    </tr>\n",
       "  </thead>\n",
       "  <tbody>\n",
       "    <tr>\n",
       "      <th>0</th>\n",
       "      <td>1</td>\n",
       "      <td>1002</td>\n",
       "      <td>2</td>\n",
       "      <td>2</td>\n",
       "      <td>0</td>\n",
       "      <td>2</td>\n",
       "      <td>5</td>\n",
       "    </tr>\n",
       "    <tr>\n",
       "      <th>1</th>\n",
       "      <td>1</td>\n",
       "      <td>1050</td>\n",
       "      <td>2</td>\n",
       "      <td>1</td>\n",
       "      <td>1</td>\n",
       "      <td>6</td>\n",
       "      <td>2</td>\n",
       "    </tr>\n",
       "    <tr>\n",
       "      <th>2</th>\n",
       "      <td>1</td>\n",
       "      <td>1582</td>\n",
       "      <td>2</td>\n",
       "      <td>2</td>\n",
       "      <td>0</td>\n",
       "      <td>2</td>\n",
       "      <td>5</td>\n",
       "    </tr>\n",
       "    <tr>\n",
       "      <th>3</th>\n",
       "      <td>1</td>\n",
       "      <td>2050</td>\n",
       "      <td>2</td>\n",
       "      <td>2</td>\n",
       "      <td>1</td>\n",
       "      <td>3</td>\n",
       "      <td>3</td>\n",
       "    </tr>\n",
       "    <tr>\n",
       "      <th>4</th>\n",
       "      <td>2</td>\n",
       "      <td>115</td>\n",
       "      <td>2</td>\n",
       "      <td>1</td>\n",
       "      <td>0</td>\n",
       "      <td>5</td>\n",
       "      <td>2</td>\n",
       "    </tr>\n",
       "    <tr>\n",
       "      <th>5</th>\n",
       "      <td>2</td>\n",
       "      <td>756</td>\n",
       "      <td>2</td>\n",
       "      <td>1</td>\n",
       "      <td>0</td>\n",
       "      <td>5</td>\n",
       "      <td>4</td>\n",
       "    </tr>\n",
       "    <tr>\n",
       "      <th>6</th>\n",
       "      <td>3</td>\n",
       "      <td>7</td>\n",
       "      <td>2</td>\n",
       "      <td>1</td>\n",
       "      <td>1</td>\n",
       "      <td>11</td>\n",
       "      <td>4</td>\n",
       "    </tr>\n",
       "    <tr>\n",
       "      <th>7</th>\n",
       "      <td>3</td>\n",
       "      <td>13</td>\n",
       "      <td>2</td>\n",
       "      <td>1</td>\n",
       "      <td>0</td>\n",
       "      <td>10</td>\n",
       "      <td>5</td>\n",
       "    </tr>\n",
       "    <tr>\n",
       "      <th>8</th>\n",
       "      <td>3</td>\n",
       "      <td>36</td>\n",
       "      <td>2</td>\n",
       "      <td>1</td>\n",
       "      <td>0</td>\n",
       "      <td>10</td>\n",
       "      <td>5</td>\n",
       "    </tr>\n",
       "    <tr>\n",
       "      <th>9</th>\n",
       "      <td>3</td>\n",
       "      <td>140</td>\n",
       "      <td>2</td>\n",
       "      <td>1</td>\n",
       "      <td>0</td>\n",
       "      <td>10</td>\n",
       "      <td>4</td>\n",
       "    </tr>\n",
       "    <tr>\n",
       "      <th>10</th>\n",
       "      <td>3</td>\n",
       "      <td>409</td>\n",
       "      <td>2</td>\n",
       "      <td>2</td>\n",
       "      <td>0</td>\n",
       "      <td>10</td>\n",
       "      <td>4</td>\n",
       "    </tr>\n",
       "    <tr>\n",
       "      <th>11</th>\n",
       "      <td>3</td>\n",
       "      <td>444</td>\n",
       "      <td>2</td>\n",
       "      <td>2</td>\n",
       "      <td>0</td>\n",
       "      <td>10</td>\n",
       "      <td>4</td>\n",
       "    </tr>\n",
       "    <tr>\n",
       "      <th>12</th>\n",
       "      <td>3</td>\n",
       "      <td>494</td>\n",
       "      <td>2</td>\n",
       "      <td>1</td>\n",
       "      <td>1</td>\n",
       "      <td>9</td>\n",
       "      <td>4</td>\n",
       "    </tr>\n",
       "    <tr>\n",
       "      <th>13</th>\n",
       "      <td>3</td>\n",
       "      <td>625</td>\n",
       "      <td>2</td>\n",
       "      <td>2</td>\n",
       "      <td>0</td>\n",
       "      <td>10</td>\n",
       "      <td>3</td>\n",
       "    </tr>\n",
       "    <tr>\n",
       "      <th>14</th>\n",
       "      <td>3</td>\n",
       "      <td>696</td>\n",
       "      <td>2</td>\n",
       "      <td>2</td>\n",
       "      <td>1</td>\n",
       "      <td>9</td>\n",
       "      <td>2</td>\n",
       "    </tr>\n",
       "    <tr>\n",
       "      <th>15</th>\n",
       "      <td>3</td>\n",
       "      <td>1056</td>\n",
       "      <td>2</td>\n",
       "      <td>2</td>\n",
       "      <td>1</td>\n",
       "      <td>8</td>\n",
       "      <td>4</td>\n",
       "    </tr>\n",
       "    <tr>\n",
       "      <th>16</th>\n",
       "      <td>3</td>\n",
       "      <td>1437</td>\n",
       "      <td>2</td>\n",
       "      <td>1</td>\n",
       "      <td>0</td>\n",
       "      <td>10</td>\n",
       "      <td>4</td>\n",
       "    </tr>\n",
       "    <tr>\n",
       "      <th>17</th>\n",
       "      <td>3</td>\n",
       "      <td>1917</td>\n",
       "      <td>2</td>\n",
       "      <td>1</td>\n",
       "      <td>0</td>\n",
       "      <td>10</td>\n",
       "      <td>5</td>\n",
       "    </tr>\n",
       "    <tr>\n",
       "      <th>18</th>\n",
       "      <td>3</td>\n",
       "      <td>1936</td>\n",
       "      <td>2</td>\n",
       "      <td>1</td>\n",
       "      <td>0</td>\n",
       "      <td>10</td>\n",
       "      <td>2</td>\n",
       "    </tr>\n",
       "    <tr>\n",
       "      <th>19</th>\n",
       "      <td>3</td>\n",
       "      <td>2058</td>\n",
       "      <td>2</td>\n",
       "      <td>1</td>\n",
       "      <td>0</td>\n",
       "      <td>10</td>\n",
       "      <td>3</td>\n",
       "    </tr>\n",
       "    <tr>\n",
       "      <th>20</th>\n",
       "      <td>4</td>\n",
       "      <td>17</td>\n",
       "      <td>2</td>\n",
       "      <td>2</td>\n",
       "      <td>0</td>\n",
       "      <td>2</td>\n",
       "      <td>4</td>\n",
       "    </tr>\n",
       "    <tr>\n",
       "      <th>21</th>\n",
       "      <td>4</td>\n",
       "      <td>70</td>\n",
       "      <td>2</td>\n",
       "      <td>1</td>\n",
       "      <td>1</td>\n",
       "      <td>11</td>\n",
       "      <td>5</td>\n",
       "    </tr>\n",
       "    <tr>\n",
       "      <th>22</th>\n",
       "      <td>4</td>\n",
       "      <td>501</td>\n",
       "      <td>2</td>\n",
       "      <td>1</td>\n",
       "      <td>0</td>\n",
       "      <td>2</td>\n",
       "      <td>5</td>\n",
       "    </tr>\n",
       "    <tr>\n",
       "      <th>23</th>\n",
       "      <td>4</td>\n",
       "      <td>1161</td>\n",
       "      <td>2</td>\n",
       "      <td>1</td>\n",
       "      <td>1</td>\n",
       "      <td>11</td>\n",
       "      <td>3</td>\n",
       "    </tr>\n",
       "    <tr>\n",
       "      <th>24</th>\n",
       "      <td>4</td>\n",
       "      <td>1323</td>\n",
       "      <td>2</td>\n",
       "      <td>1</td>\n",
       "      <td>0</td>\n",
       "      <td>2</td>\n",
       "      <td>4</td>\n",
       "    </tr>\n",
       "    <tr>\n",
       "      <th>25</th>\n",
       "      <td>4</td>\n",
       "      <td>1349</td>\n",
       "      <td>2</td>\n",
       "      <td>2</td>\n",
       "      <td>0</td>\n",
       "      <td>2</td>\n",
       "      <td>5</td>\n",
       "    </tr>\n",
       "    <tr>\n",
       "      <th>26</th>\n",
       "      <td>4</td>\n",
       "      <td>1361</td>\n",
       "      <td>2</td>\n",
       "      <td>1</td>\n",
       "      <td>0</td>\n",
       "      <td>2</td>\n",
       "      <td>4</td>\n",
       "    </tr>\n",
       "    <tr>\n",
       "      <th>27</th>\n",
       "      <td>4</td>\n",
       "      <td>1564</td>\n",
       "      <td>2</td>\n",
       "      <td>2</td>\n",
       "      <td>0</td>\n",
       "      <td>2</td>\n",
       "      <td>3</td>\n",
       "    </tr>\n",
       "    <tr>\n",
       "      <th>28</th>\n",
       "      <td>5</td>\n",
       "      <td>115</td>\n",
       "      <td>2</td>\n",
       "      <td>1</td>\n",
       "      <td>0</td>\n",
       "      <td>5</td>\n",
       "      <td>4</td>\n",
       "    </tr>\n",
       "    <tr>\n",
       "      <th>29</th>\n",
       "      <td>5</td>\n",
       "      <td>536</td>\n",
       "      <td>2</td>\n",
       "      <td>1</td>\n",
       "      <td>0</td>\n",
       "      <td>5</td>\n",
       "      <td>4</td>\n",
       "    </tr>\n",
       "    <tr>\n",
       "      <th>...</th>\n",
       "      <td>...</td>\n",
       "      <td>...</td>\n",
       "      <td>...</td>\n",
       "      <td>...</td>\n",
       "      <td>...</td>\n",
       "      <td>...</td>\n",
       "      <td>...</td>\n",
       "    </tr>\n",
       "    <tr>\n",
       "      <th>73391</th>\n",
       "      <td>2972</td>\n",
       "      <td>65</td>\n",
       "      <td>4</td>\n",
       "      <td>5</td>\n",
       "      <td>1</td>\n",
       "      <td>2</td>\n",
       "      <td>3</td>\n",
       "    </tr>\n",
       "    <tr>\n",
       "      <th>73392</th>\n",
       "      <td>2972</td>\n",
       "      <td>67</td>\n",
       "      <td>4</td>\n",
       "      <td>2</td>\n",
       "      <td>1</td>\n",
       "      <td>4</td>\n",
       "      <td>5</td>\n",
       "    </tr>\n",
       "    <tr>\n",
       "      <th>73393</th>\n",
       "      <td>2972</td>\n",
       "      <td>110</td>\n",
       "      <td>4</td>\n",
       "      <td>1</td>\n",
       "      <td>1</td>\n",
       "      <td>3</td>\n",
       "      <td>4</td>\n",
       "    </tr>\n",
       "    <tr>\n",
       "      <th>73394</th>\n",
       "      <td>2972</td>\n",
       "      <td>140</td>\n",
       "      <td>4</td>\n",
       "      <td>2</td>\n",
       "      <td>0</td>\n",
       "      <td>10</td>\n",
       "      <td>3</td>\n",
       "    </tr>\n",
       "    <tr>\n",
       "      <th>73395</th>\n",
       "      <td>2972</td>\n",
       "      <td>150</td>\n",
       "      <td>4</td>\n",
       "      <td>1</td>\n",
       "      <td>1</td>\n",
       "      <td>8</td>\n",
       "      <td>3</td>\n",
       "    </tr>\n",
       "    <tr>\n",
       "      <th>73396</th>\n",
       "      <td>2972</td>\n",
       "      <td>273</td>\n",
       "      <td>4</td>\n",
       "      <td>3</td>\n",
       "      <td>0</td>\n",
       "      <td>10</td>\n",
       "      <td>2</td>\n",
       "    </tr>\n",
       "    <tr>\n",
       "      <th>73397</th>\n",
       "      <td>2972</td>\n",
       "      <td>309</td>\n",
       "      <td>4</td>\n",
       "      <td>3</td>\n",
       "      <td>0</td>\n",
       "      <td>10</td>\n",
       "      <td>4</td>\n",
       "    </tr>\n",
       "    <tr>\n",
       "      <th>73398</th>\n",
       "      <td>2972</td>\n",
       "      <td>369</td>\n",
       "      <td>4</td>\n",
       "      <td>1</td>\n",
       "      <td>1</td>\n",
       "      <td>6</td>\n",
       "      <td>3</td>\n",
       "    </tr>\n",
       "    <tr>\n",
       "      <th>73399</th>\n",
       "      <td>2972</td>\n",
       "      <td>377</td>\n",
       "      <td>4</td>\n",
       "      <td>4</td>\n",
       "      <td>0</td>\n",
       "      <td>10</td>\n",
       "      <td>4</td>\n",
       "    </tr>\n",
       "    <tr>\n",
       "      <th>73400</th>\n",
       "      <td>2972</td>\n",
       "      <td>429</td>\n",
       "      <td>4</td>\n",
       "      <td>1</td>\n",
       "      <td>0</td>\n",
       "      <td>10</td>\n",
       "      <td>1</td>\n",
       "    </tr>\n",
       "    <tr>\n",
       "      <th>73401</th>\n",
       "      <td>2972</td>\n",
       "      <td>466</td>\n",
       "      <td>4</td>\n",
       "      <td>3</td>\n",
       "      <td>0</td>\n",
       "      <td>10</td>\n",
       "      <td>5</td>\n",
       "    </tr>\n",
       "    <tr>\n",
       "      <th>73402</th>\n",
       "      <td>2972</td>\n",
       "      <td>494</td>\n",
       "      <td>4</td>\n",
       "      <td>3</td>\n",
       "      <td>1</td>\n",
       "      <td>9</td>\n",
       "      <td>3</td>\n",
       "    </tr>\n",
       "    <tr>\n",
       "      <th>73403</th>\n",
       "      <td>2972</td>\n",
       "      <td>507</td>\n",
       "      <td>4</td>\n",
       "      <td>6</td>\n",
       "      <td>1</td>\n",
       "      <td>11</td>\n",
       "      <td>2</td>\n",
       "    </tr>\n",
       "    <tr>\n",
       "      <th>73404</th>\n",
       "      <td>2972</td>\n",
       "      <td>696</td>\n",
       "      <td>4</td>\n",
       "      <td>4</td>\n",
       "      <td>1</td>\n",
       "      <td>9</td>\n",
       "      <td>2</td>\n",
       "    </tr>\n",
       "    <tr>\n",
       "      <th>73405</th>\n",
       "      <td>2972</td>\n",
       "      <td>714</td>\n",
       "      <td>4</td>\n",
       "      <td>4</td>\n",
       "      <td>1</td>\n",
       "      <td>7</td>\n",
       "      <td>2</td>\n",
       "    </tr>\n",
       "    <tr>\n",
       "      <th>73406</th>\n",
       "      <td>2972</td>\n",
       "      <td>790</td>\n",
       "      <td>4</td>\n",
       "      <td>5</td>\n",
       "      <td>1</td>\n",
       "      <td>11</td>\n",
       "      <td>3</td>\n",
       "    </tr>\n",
       "    <tr>\n",
       "      <th>73407</th>\n",
       "      <td>2972</td>\n",
       "      <td>856</td>\n",
       "      <td>4</td>\n",
       "      <td>6</td>\n",
       "      <td>1</td>\n",
       "      <td>9</td>\n",
       "      <td>2</td>\n",
       "    </tr>\n",
       "    <tr>\n",
       "      <th>73408</th>\n",
       "      <td>2972</td>\n",
       "      <td>916</td>\n",
       "      <td>4</td>\n",
       "      <td>1</td>\n",
       "      <td>1</td>\n",
       "      <td>4</td>\n",
       "      <td>2</td>\n",
       "    </tr>\n",
       "    <tr>\n",
       "      <th>73409</th>\n",
       "      <td>2972</td>\n",
       "      <td>1056</td>\n",
       "      <td>4</td>\n",
       "      <td>2</td>\n",
       "      <td>1</td>\n",
       "      <td>8</td>\n",
       "      <td>5</td>\n",
       "    </tr>\n",
       "    <tr>\n",
       "      <th>73410</th>\n",
       "      <td>2972</td>\n",
       "      <td>1106</td>\n",
       "      <td>4</td>\n",
       "      <td>1</td>\n",
       "      <td>1</td>\n",
       "      <td>4</td>\n",
       "      <td>3</td>\n",
       "    </tr>\n",
       "    <tr>\n",
       "      <th>73411</th>\n",
       "      <td>2972</td>\n",
       "      <td>1203</td>\n",
       "      <td>4</td>\n",
       "      <td>3</td>\n",
       "      <td>1</td>\n",
       "      <td>3</td>\n",
       "      <td>5</td>\n",
       "    </tr>\n",
       "    <tr>\n",
       "      <th>73412</th>\n",
       "      <td>2972</td>\n",
       "      <td>1722</td>\n",
       "      <td>4</td>\n",
       "      <td>5</td>\n",
       "      <td>1</td>\n",
       "      <td>11</td>\n",
       "      <td>5</td>\n",
       "    </tr>\n",
       "    <tr>\n",
       "      <th>73413</th>\n",
       "      <td>2972</td>\n",
       "      <td>1749</td>\n",
       "      <td>4</td>\n",
       "      <td>1</td>\n",
       "      <td>0</td>\n",
       "      <td>10</td>\n",
       "      <td>5</td>\n",
       "    </tr>\n",
       "    <tr>\n",
       "      <th>73414</th>\n",
       "      <td>2972</td>\n",
       "      <td>1780</td>\n",
       "      <td>4</td>\n",
       "      <td>4</td>\n",
       "      <td>1</td>\n",
       "      <td>11</td>\n",
       "      <td>3</td>\n",
       "    </tr>\n",
       "    <tr>\n",
       "      <th>73415</th>\n",
       "      <td>2972</td>\n",
       "      <td>1782</td>\n",
       "      <td>4</td>\n",
       "      <td>4</td>\n",
       "      <td>1</td>\n",
       "      <td>4</td>\n",
       "      <td>5</td>\n",
       "    </tr>\n",
       "    <tr>\n",
       "      <th>73416</th>\n",
       "      <td>2972</td>\n",
       "      <td>2034</td>\n",
       "      <td>4</td>\n",
       "      <td>1</td>\n",
       "      <td>1</td>\n",
       "      <td>6</td>\n",
       "      <td>3</td>\n",
       "    </tr>\n",
       "    <tr>\n",
       "      <th>73417</th>\n",
       "      <td>2972</td>\n",
       "      <td>2079</td>\n",
       "      <td>4</td>\n",
       "      <td>3</td>\n",
       "      <td>1</td>\n",
       "      <td>11</td>\n",
       "      <td>4</td>\n",
       "    </tr>\n",
       "    <tr>\n",
       "      <th>73418</th>\n",
       "      <td>2972</td>\n",
       "      <td>2084</td>\n",
       "      <td>4</td>\n",
       "      <td>1</td>\n",
       "      <td>0</td>\n",
       "      <td>10</td>\n",
       "      <td>5</td>\n",
       "    </tr>\n",
       "    <tr>\n",
       "      <th>73419</th>\n",
       "      <td>2972</td>\n",
       "      <td>2110</td>\n",
       "      <td>4</td>\n",
       "      <td>2</td>\n",
       "      <td>1</td>\n",
       "      <td>4</td>\n",
       "      <td>1</td>\n",
       "    </tr>\n",
       "    <tr>\n",
       "      <th>73420</th>\n",
       "      <td>2972</td>\n",
       "      <td>2121</td>\n",
       "      <td>4</td>\n",
       "      <td>2</td>\n",
       "      <td>1</td>\n",
       "      <td>2</td>\n",
       "      <td>3</td>\n",
       "    </tr>\n",
       "  </tbody>\n",
       "</table>\n",
       "<p>73421 rows × 7 columns</p>\n",
       "</div>"
      ],
      "text/plain": [
       "          s     d  studage  lectage  service  dept  y\n",
       "0         1  1002        2        2        0     2  5\n",
       "1         1  1050        2        1        1     6  2\n",
       "2         1  1582        2        2        0     2  5\n",
       "3         1  2050        2        2        1     3  3\n",
       "4         2   115        2        1        0     5  2\n",
       "5         2   756        2        1        0     5  4\n",
       "6         3     7        2        1        1    11  4\n",
       "7         3    13        2        1        0    10  5\n",
       "8         3    36        2        1        0    10  5\n",
       "9         3   140        2        1        0    10  4\n",
       "10        3   409        2        2        0    10  4\n",
       "11        3   444        2        2        0    10  4\n",
       "12        3   494        2        1        1     9  4\n",
       "13        3   625        2        2        0    10  3\n",
       "14        3   696        2        2        1     9  2\n",
       "15        3  1056        2        2        1     8  4\n",
       "16        3  1437        2        1        0    10  4\n",
       "17        3  1917        2        1        0    10  5\n",
       "18        3  1936        2        1        0    10  2\n",
       "19        3  2058        2        1        0    10  3\n",
       "20        4    17        2        2        0     2  4\n",
       "21        4    70        2        1        1    11  5\n",
       "22        4   501        2        1        0     2  5\n",
       "23        4  1161        2        1        1    11  3\n",
       "24        4  1323        2        1        0     2  4\n",
       "25        4  1349        2        2        0     2  5\n",
       "26        4  1361        2        1        0     2  4\n",
       "27        4  1564        2        2        0     2  3\n",
       "28        5   115        2        1        0     5  4\n",
       "29        5   536        2        1        0     5  4\n",
       "...     ...   ...      ...      ...      ...   ... ..\n",
       "73391  2972    65        4        5        1     2  3\n",
       "73392  2972    67        4        2        1     4  5\n",
       "73393  2972   110        4        1        1     3  4\n",
       "73394  2972   140        4        2        0    10  3\n",
       "73395  2972   150        4        1        1     8  3\n",
       "73396  2972   273        4        3        0    10  2\n",
       "73397  2972   309        4        3        0    10  4\n",
       "73398  2972   369        4        1        1     6  3\n",
       "73399  2972   377        4        4        0    10  4\n",
       "73400  2972   429        4        1        0    10  1\n",
       "73401  2972   466        4        3        0    10  5\n",
       "73402  2972   494        4        3        1     9  3\n",
       "73403  2972   507        4        6        1    11  2\n",
       "73404  2972   696        4        4        1     9  2\n",
       "73405  2972   714        4        4        1     7  2\n",
       "73406  2972   790        4        5        1    11  3\n",
       "73407  2972   856        4        6        1     9  2\n",
       "73408  2972   916        4        1        1     4  2\n",
       "73409  2972  1056        4        2        1     8  5\n",
       "73410  2972  1106        4        1        1     4  3\n",
       "73411  2972  1203        4        3        1     3  5\n",
       "73412  2972  1722        4        5        1    11  5\n",
       "73413  2972  1749        4        1        0    10  5\n",
       "73414  2972  1780        4        4        1    11  3\n",
       "73415  2972  1782        4        4        1     4  5\n",
       "73416  2972  2034        4        1        1     6  3\n",
       "73417  2972  2079        4        3        1    11  4\n",
       "73418  2972  2084        4        1        0    10  5\n",
       "73419  2972  2110        4        2        1     4  1\n",
       "73420  2972  2121        4        2        1     2  3\n",
       "\n",
       "[73421 rows x 7 columns]"
      ]
     },
     "execution_count": 6,
     "metadata": {},
     "output_type": "execute_result"
    }
   ],
   "source": [
    "data"
   ]
  },
  {
   "cell_type": "code",
   "execution_count": 7,
   "metadata": {
    "collapsed": true,
    "deletable": true,
    "editable": true
   },
   "outputs": [],
   "source": [
    "import rpy2.robjects as robjects"
   ]
  },
  {
   "cell_type": "code",
   "execution_count": 8,
   "metadata": {
    "collapsed": true,
    "deletable": true,
    "editable": true
   },
   "outputs": [],
   "source": [
    "from rpy2.robjects import r, pandas2ri\n",
    "pandas2ri.activate()"
   ]
  },
  {
   "cell_type": "code",
   "execution_count": 9,
   "metadata": {
    "collapsed": false,
    "deletable": true,
    "editable": true
   },
   "outputs": [],
   "source": [
    "resid = robjects.r['resid']"
   ]
  },
  {
   "cell_type": "code",
   "execution_count": 44,
   "metadata": {
    "collapsed": false
   },
   "outputs": [
    {
     "data": {
      "text/plain": [
       "R object with classes: ('function',) mapped to:\n",
       "<SignatureTranslatedFunction - Python:0x7f8e83e346c8 / R:0x82f2218>"
      ]
     },
     "execution_count": 44,
     "metadata": {},
     "output_type": "execute_result"
    }
   ],
   "source": [
    "resid"
   ]
  },
  {
   "cell_type": "code",
   "execution_count": 45,
   "metadata": {
    "collapsed": true
   },
   "outputs": [],
   "source": [
    "lm = robjects.r['lm']"
   ]
  },
  {
   "cell_type": "code",
   "execution_count": 46,
   "metadata": {
    "collapsed": false
   },
   "outputs": [
    {
     "data": {
      "text/plain": [
       "R object with classes: ('function',) mapped to:\n",
       "<SignatureTranslatedFunction - Python:0x7f8e7badf680 / R:0x82f1458>"
      ]
     },
     "execution_count": 46,
     "metadata": {},
     "output_type": "execute_result"
    }
   ],
   "source": [
    "lm"
   ]
  },
  {
   "cell_type": "code",
   "execution_count": 42,
   "metadata": {
    "collapsed": false,
    "deletable": true,
    "editable": true
   },
   "outputs": [
    {
     "data": {
      "text/plain": [
       "<matplotlib.text.Text at 0x7f8e7b34cd90>"
      ]
     },
     "execution_count": 42,
     "metadata": {},
     "output_type": "execute_result"
    },
    {
     "data": {
      "image/png": "[encoded data removed]",
      "text/plain": [
       "<matplotlib.figure.Figure at 0x7f8e7b4570d0>"
      ]
     },
     "metadata": {},
     "output_type": "display_data"
    }
   ],
   "source": [
    "m = lm(formula='y ~ 1 + service', data=data)\n",
    "resid_vec = np.asarray(resid(m))\n",
    "plt.hist(resid_vec, bins=20);\n",
    "plt.title('Residual variance: %.4f' % resid_vec.var())"
   ]
  },
  {
   "cell_type": "code",
   "execution_count": 64,
   "metadata": {
    "collapsed": false
   },
   "outputs": [
    {
     "data": {
      "text/plain": [
       "<matplotlib.text.Text at 0x7f8e79e29110>"
      ]
     },
     "execution_count": 64,
     "metadata": {},
     "output_type": "execute_result"
    },
    {
     "data": {
      "image/png": "[encoded data removed]",
      "text/plain": [
       "<matplotlib.figure.Figure at 0x7f8e7a0da4d0>"
      ]
     },
     "metadata": {},
     "output_type": "display_data"
    }
   ],
   "source": [
    "m_more = lm(formula='y ~ 1 + service + d', data=data)\n",
    "resid_vec_more = np.asarray(resid(m_more))\n",
    "plt.hist(resid_vec_more);\n",
    "plt.title('Residual variance: %.4f' % resid_vec_more.var())"
   ]
  },
  {
   "cell_type": "code",
   "execution_count": 65,
   "metadata": {
    "collapsed": false
   },
   "outputs": [
    {
     "data": {
      "text/plain": [
       "<matplotlib.text.Text at 0x7f8e79d2e090>"
      ]
     },
     "execution_count": 65,
     "metadata": {},
     "output_type": "execute_result"
    },
    {
     "data": {
      "image/png": "[encoded data removed]",
      "text/plain": [
       "<matplotlib.figure.Figure at 0x7f8e79e7b850>"
      ]
     },
     "metadata": {},
     "output_type": "display_data"
    }
   ],
   "source": [
    "m_all = lm(formula='y ~ 1 + d + dept + s + service', data=data)\n",
    "resid_vec_all = np.asarray(resid(m_all))\n",
    "plt.hist(resid_vec_all);\n",
    "plt.title('Residual variance: %.4f' % resid_vec_all.var())"
   ]
  },
  {
   "cell_type": "code",
   "execution_count": 66,
   "metadata": {
    "collapsed": true
   },
   "outputs": [],
   "source": [
    "from rpy2.robjects.packages import importr\n",
    "lme4 = importr('lme4')"
   ]
  },
  {
   "cell_type": "code",
   "execution_count": 67,
   "metadata": {
    "collapsed": false
   },
   "outputs": [
    {
     "data": {
      "text/plain": [
       "rpy2.robjects.packages.Package as a <module 'lme4' (built-in)>"
      ]
     },
     "execution_count": 67,
     "metadata": {},
     "output_type": "execute_result"
    }
   ],
   "source": [
    "lme4"
   ]
  },
  {
   "cell_type": "code",
   "execution_count": 48,
   "metadata": {
    "collapsed": false
   },
   "outputs": [
    {
     "data": {
      "text/plain": [
       "['Cv_to_Sv',\n",
       " 'Cv_to_Vv',\n",
       " 'Eigen_SSE',\n",
       " 'GHrule',\n",
       " 'GQN',\n",
       " 'GQdk',\n",
       " 'Gamma_simfun',\n",
       " 'NelderMead',\n",
       " 'NelderMead_Create',\n",
       " 'NelderMead_newf',\n",
       " 'NelderMead_setForce_stop',\n",
       " 'NelderMead_setFtol_abs',\n",
       " 'NelderMead_setFtol_rel',\n",
       " 'NelderMead_setIprint',\n",
       " 'NelderMead_setMaxeval',\n",
       " 'NelderMead_setMinf_max',\n",
       " 'NelderMead_value',\n",
       " 'NelderMead_xeval',\n",
       " 'NelderMead_xpos',\n",
       " 'Nelder_Mead',\n",
       " 'REMLcrit',\n",
       " 'RHSForm',\n",
       " 'RHSForm<-',\n",
       " 'RglmerWrkIter',\n",
       " 'Sv_to_Cv',\n",
       " 'VarCorr_merMod',\n",
       " 'Vv_to_Cv',\n",
       " '_S3MethodsClasses',\n",
       " '___C__NelderMead',\n",
       " '___C__family',\n",
       " '___C__glmFamily',\n",
       " '___C__glmResp',\n",
       " '___C__glmerMod',\n",
       " '___C__golden',\n",
       " '___C__lmList4',\n",
       " '___C__lmList4_confint',\n",
       " '___C__lmResp',\n",
       " '___C__lmerMod',\n",
       " '___C__lmerResp',\n",
       " '___C__merMod',\n",
       " '___C__merPredD',\n",
       " '___C__nlmerMod',\n",
       " '___C__nlsResp',\n",
       " '___C__rePos',\n",
       " '___C__vcRep',\n",
       " '___NAMESPACE___',\n",
       " '___S3MethodsTable___',\n",
       " '___T__getL:lme4',\n",
       " '___T__show:methods',\n",
       " '___global__',\n",
       " '___suppressForeign__',\n",
       " '__doc__',\n",
       " '__name__',\n",
       " '__rdata__',\n",
       " '__rname__',\n",
       " '__version__',\n",
       " '_env',\n",
       " '_exported_names',\n",
       " '_get_checkingOpts',\n",
       " '_hasScale',\n",
       " '_isDiagonal_sq_matrix',\n",
       " '_makeCC',\n",
       " '_merMod_msgs',\n",
       " '_minimalOptinfo',\n",
       " '_modelMatrixDrop',\n",
       " '_ns_lme4',\n",
       " '_ns_nlme',\n",
       " '_onLoad',\n",
       " '_onUnload',\n",
       " '_optinfo',\n",
       " '_packageName',\n",
       " '_prt_VC',\n",
       " '_prt_aictab',\n",
       " '_prt_call',\n",
       " '_prt_family',\n",
       " '_prt_grps',\n",
       " '_prt_methTit',\n",
       " '_prt_resids',\n",
       " '_prt_warn',\n",
       " '_requireCachedGenerics',\n",
       " '_rpy2r',\n",
       " '_simpleCap',\n",
       " '_simulateFun',\n",
       " '_symbol_check_after',\n",
       " '_symbol_r2python',\n",
       " '_translation',\n",
       " 'abbrDeparse',\n",
       " 'ad',\n",
       " 'all0',\n",
       " 'allPerm_int',\n",
       " 'allVarsRec',\n",
       " 'anovaLmer',\n",
       " 'anova_merMod',\n",
       " 'anyBars',\n",
       " 'asDf0',\n",
       " 'asOneFormula',\n",
       " 'as_data_frame_VarCorr_merMod',\n",
       " 'as_data_frame_boot',\n",
       " 'as_data_frame_ranef_mer',\n",
       " 'as_data_frame_thpr',\n",
       " 'as_function_merMod',\n",
       " 'barnames',\n",
       " 'binomial_simfun',\n",
       " 'bootMer',\n",
       " 'c_deparse',\n",
       " 'cat_f',\n",
       " 'chck1',\n",
       " 'checkArgs',\n",
       " 'checkConv',\n",
       " 'checkCtrlLevels',\n",
       " 'checkFormulaData',\n",
       " 'checkHess',\n",
       " 'checkNlevels',\n",
       " 'checkResponse',\n",
       " 'checkScaleX',\n",
       " 'checkZdims',\n",
       " 'checkZrank',\n",
       " 'check_boundary',\n",
       " 'chkRank_drop_cols',\n",
       " 'chk_cconv',\n",
       " 'chk_convOpt',\n",
       " 'chooseFace',\n",
       " 'coefMer',\n",
       " 'coef_lmList4',\n",
       " 'coef_merMod',\n",
       " 'condVar',\n",
       " 'confint_lmList4',\n",
       " 'confint_merMod',\n",
       " 'confint_thpr',\n",
       " 'cont',\n",
       " 'cov2sdcor',\n",
       " 'deepcopy',\n",
       " 'dens',\n",
       " 'densityplot_thpr',\n",
       " 'deriv12',\n",
       " 'devCrit',\n",
       " 'devcomp',\n",
       " 'devfun2',\n",
       " 'deviance_merMod',\n",
       " 'df_residual_merMod',\n",
       " 'dim_merMod',\n",
       " 'doCheck',\n",
       " 'dotplot_coef_mer',\n",
       " 'dotplot_ranef_mer',\n",
       " 'drop1_merMod',\n",
       " 'dropOffset',\n",
       " 'dummy',\n",
       " 'est_theta',\n",
       " 'expandDoubleVerts',\n",
       " 'extractAIC_merMod',\n",
       " 'factorize',\n",
       " 'family2char',\n",
       " 'family_glmResp',\n",
       " 'family_lmResp',\n",
       " 'family_merMod',\n",
       " 'family_nlsResp',\n",
       " 'famlink',\n",
       " 'fgq_rules',\n",
       " 'findbars',\n",
       " 'fitted_lmList4',\n",
       " 'fitted_merMod',\n",
       " 'fixed_effects',\n",
       " 'fixef_lmList4',\n",
       " 'fixef_merMod',\n",
       " 'forceCopy',\n",
       " 'formatVC',\n",
       " 'format_perc',\n",
       " 'formula_lmList4',\n",
       " 'formula_merMod',\n",
       " 'fortify',\n",
       " 'fortify_merMod',\n",
       " 'gamma_shape_merMod',\n",
       " 'gaussian_simfun',\n",
       " 'getConv',\n",
       " 'getCovariateFormula',\n",
       " 'getData',\n",
       " 'getFixedFormula',\n",
       " 'getGroupsFormula',\n",
       " 'getGroupsFormula_default',\n",
       " 'getGroupsFormula_merMod',\n",
       " 'getGroups_lmList4',\n",
       " 'getIDLabels',\n",
       " 'getL',\n",
       " 'getME',\n",
       " 'getME_merMod',\n",
       " 'getNBdisp',\n",
       " 'getOptfun',\n",
       " 'getResponseFormula',\n",
       " 'getStart',\n",
       " 'get_clen',\n",
       " 'get_orig_levs',\n",
       " 'get_which',\n",
       " 'glFormula',\n",
       " 'glmFamily',\n",
       " 'glmFamily_Create',\n",
       " 'glmFamily_aic',\n",
       " 'glmFamily_devResid',\n",
       " 'glmFamily_link',\n",
       " 'glmFamily_linkInv',\n",
       " 'glmFamily_muEta',\n",
       " 'glmFamily_setTheta',\n",
       " 'glmFamily_theta',\n",
       " 'glmFamily_variance',\n",
       " 'glmNB_to_change',\n",
       " 'glmResp',\n",
       " 'glmResp_f_nms',\n",
       " 'glm_Create',\n",
       " 'glm_Laplace',\n",
       " 'glm_aic',\n",
       " 'glm_devResid',\n",
       " 'glm_family',\n",
       " 'glm_link',\n",
       " 'glm_muEta',\n",
       " 'glm_resDev',\n",
       " 'glm_setN',\n",
       " 'glm_setTheta',\n",
       " 'glm_sqrtWrkWt',\n",
       " 'glm_theta',\n",
       " 'glm_updateMu',\n",
       " 'glm_updateWts',\n",
       " 'glm_variance',\n",
       " 'glm_wrkResids',\n",
       " 'glm_wrkResp',\n",
       " 'glm_wtWrkResp',\n",
       " 'glmer',\n",
       " 'glmerAGQ',\n",
       " 'glmerControl',\n",
       " 'glmerLaplace',\n",
       " 'glmerLaplaceHandle',\n",
       " 'glmerPwrssUpdate',\n",
       " 'glmer_nb',\n",
       " 'golden',\n",
       " 'golden_Create',\n",
       " 'golden_newf',\n",
       " 'golden_value',\n",
       " 'golden_xeval',\n",
       " 'golden_xpos',\n",
       " 'grad_ctr',\n",
       " 'grad_ctr2',\n",
       " 'grad_ctr3',\n",
       " 'grad_ctr4',\n",
       " 'gradient',\n",
       " 'grpfact',\n",
       " 'gsummary',\n",
       " 'hasNoScale',\n",
       " 'hasScale',\n",
       " 'hatvalues_merMod',\n",
       " 'hessian',\n",
       " 'isAnyArgBar',\n",
       " 'isBar',\n",
       " 'isFlexLambda',\n",
       " 'isGLMM',\n",
       " 'isGLMM_merMod',\n",
       " 'isGLMlist',\n",
       " 'isLMM',\n",
       " 'isLMM_merMod',\n",
       " 'isNBfamily',\n",
       " 'isNLMM',\n",
       " 'isNLMM_merMod',\n",
       " 'isNested',\n",
       " 'isNullExtPtr',\n",
       " 'isREML',\n",
       " 'isREML_merMod',\n",
       " 'lFormula',\n",
       " 'levelfun',\n",
       " 'llikAIC',\n",
       " 'lmList',\n",
       " 'lmResp',\n",
       " 'lm_Create',\n",
       " 'lm_setOffset',\n",
       " 'lm_setResp',\n",
       " 'lm_setWeights',\n",
       " 'lm_updateMu',\n",
       " 'lm_wrss',\n",
       " 'lmer',\n",
       " 'lmerControl',\n",
       " 'lmerResp',\n",
       " 'lmer_Create',\n",
       " 'lmer_Deviance',\n",
       " 'lmer_Laplace',\n",
       " 'lmer_opt1',\n",
       " 'lmer_setREML',\n",
       " 'logLik_lmList4',\n",
       " 'logLik_merMod',\n",
       " 'logProf',\n",
       " 'log_thpr',\n",
       " 'makeFac',\n",
       " 'mcmcsamp',\n",
       " 'merPredD',\n",
       " 'merPredDCcNumer',\n",
       " 'merPredDCreate',\n",
       " 'merPredDL',\n",
       " 'merPredDPvec',\n",
       " 'merPredDRX',\n",
       " 'merPredDRXdiag',\n",
       " 'merPredDRXi',\n",
       " 'merPredDb',\n",
       " 'merPredDbeta',\n",
       " 'merPredDcondVar',\n",
       " 'merPredDinstallPars',\n",
       " 'merPredDldL2',\n",
       " 'merPredDldRX2',\n",
       " 'merPredDlinPred',\n",
       " 'merPredDsetBeta0',\n",
       " 'merPredDsetDelb',\n",
       " 'merPredDsetDelu',\n",
       " 'merPredDsetTheta',\n",
       " 'merPredDsetZt',\n",
       " 'merPredDsolve',\n",
       " 'merPredDsolveU',\n",
       " 'merPredDsqrL',\n",
       " 'merPredDu',\n",
       " 'merPredDunsc',\n",
       " 'merPredDupdateDecomp',\n",
       " 'merPredDupdateL',\n",
       " 'merPredDupdateLamtUt',\n",
       " 'merPredDupdateRes',\n",
       " 'merPredDupdateXwts',\n",
       " 'meth',\n",
       " 'methTitle',\n",
       " 'missDataFun',\n",
       " 'mkBlist',\n",
       " 'mkDataTemplate',\n",
       " 'mkGlmerDevfun',\n",
       " 'mkLmerDevfun',\n",
       " 'mkMerMod',\n",
       " 'mkMinimalData',\n",
       " 'mkNewReTrms',\n",
       " 'mkParsTemplate',\n",
       " 'mkPfun',\n",
       " 'mkReTrms',\n",
       " 'mkRespMod',\n",
       " 'mkVarCorr',\n",
       " 'mkdevfun',\n",
       " 'mlist2vec',\n",
       " 'mmList',\n",
       " 'mmList_formula',\n",
       " 'mmList_merMod',\n",
       " 'modelFormula',\n",
       " 'model_frame_merMod',\n",
       " 'model_matrix_merMod',\n",
       " 'mygrad',\n",
       " 'namedList',\n",
       " 'negative_binomial_simfun',\n",
       " 'ngrps',\n",
       " 'ngrps_default',\n",
       " 'ngrps_factor',\n",
       " 'ngrps_merMod',\n",
       " 'nlformula',\n",
       " 'nlmer',\n",
       " 'nlmerControl',\n",
       " 'nlmerLaplace',\n",
       " 'nlminbwrap',\n",
       " 'nloptwrap',\n",
       " 'nlsResp',\n",
       " 'nls_Create',\n",
       " 'nls_Laplace',\n",
       " 'nls_updateMu',\n",
       " 'noLHSform',\n",
       " 'noReForm',\n",
       " 'nobars',\n",
       " 'nobars_',\n",
       " 'nobs_merMod',\n",
       " 'normalizeFamilyName',\n",
       " 'npar_merMod',\n",
       " 'optTheta',\n",
       " 'optimizeGlmer',\n",
       " 'optimizeLmer',\n",
       " 'optwrap',\n",
       " 'pairs_lmList4',\n",
       " 'panel_thpr',\n",
       " 'plot_coef_mer',\n",
       " 'plot_lmList4',\n",
       " 'plot_lmList4_confint',\n",
       " 'plot_merMod',\n",
       " 'plot_ranef_mer',\n",
       " 'plot_summary_mer',\n",
       " 'poisson_simfun',\n",
       " 'pooledSD',\n",
       " 'predict_lmList4',\n",
       " 'predict_merMod',\n",
       " 'predy',\n",
       " 'print_VarCorr_merMod',\n",
       " 'print_merMod',\n",
       " 'print_ranef_mer',\n",
       " 'print_summary_merMod',\n",
       " 'profile_merMod',\n",
       " 'profnames',\n",
       " 'qqmath_merMod',\n",
       " 'qqmath_ranef_mer',\n",
       " 'qqnorm_lmList4',\n",
       " 'quickSimulate',\n",
       " 'random_effects',\n",
       " 'ranef_lmList4',\n",
       " 'ranef_merMod',\n",
       " 'reFormHack',\n",
       " 'reOnly',\n",
       " 'rePos',\n",
       " 'reexpr',\n",
       " 'refit',\n",
       " 'refit2_merMod',\n",
       " 'refitML',\n",
       " 'refitML_merMod',\n",
       " 'refitNB',\n",
       " 'refit_merMod',\n",
       " 'residuals_glmResp',\n",
       " 'residuals_lmList4',\n",
       " 'residuals_lmResp',\n",
       " 'residuals_merMod',\n",
       " 'sacos',\n",
       " 'safeDeparse',\n",
       " 'safe_chol',\n",
       " 'safe_pchisq',\n",
       " 'sdcor2cov',\n",
       " 'setNBdisp',\n",
       " 'setNullExtPtr',\n",
       " 'setParams',\n",
       " 'showlocation',\n",
       " 'sigma',\n",
       " 'sigma_lmList4',\n",
       " 'sigma_merMod',\n",
       " 'simfunList',\n",
       " 'simulate_formula',\n",
       " 'simulate_merMod',\n",
       " 'splitFormula',\n",
       " 'splom_thpr',\n",
       " 'stripExpr',\n",
       " 'subbars',\n",
       " 'subnms',\n",
       " 'summary_lmList4',\n",
       " 'summary_merMod',\n",
       " 'summary_summary_merMod',\n",
       " 'tauij',\n",
       " 'termnms',\n",
       " 'terms_merMod',\n",
       " 'testLevel',\n",
       " 'tnames',\n",
       " 'updateGlmerDevfun',\n",
       " 'updateStart',\n",
       " 'update_lmList4',\n",
       " 'update_merMod',\n",
       " 'varianceProf',\n",
       " 'vcRep',\n",
       " 'vcov_merMod',\n",
       " 'vcov_summary_merMod',\n",
       " 'vec2STlist',\n",
       " 'vec2mlist',\n",
       " 'warnErrList',\n",
       " 'weights_merMod',\n",
       " 'wmsg',\n",
       " 'xyplot_thpr']"
      ]
     },
     "execution_count": 48,
     "metadata": {},
     "output_type": "execute_result"
    }
   ],
   "source": [
    "dir(lme4)"
   ]
  },
  {
   "cell_type": "code",
   "execution_count": 51,
   "metadata": {
    "collapsed": false
   },
   "outputs": [
    {
     "data": {
      "text/plain": [
       "R object with classes: ('function',) mapped to:\n",
       "<DocumentedSTFunction - Python:0x7f8e83e56f38 / R:0x84ebd30>"
      ]
     },
     "execution_count": 51,
     "metadata": {},
     "output_type": "execute_result"
    }
   ],
   "source": [
    "lme4.lmer"
   ]
  },
  {
   "cell_type": "code",
   "execution_count": 56,
   "metadata": {
    "collapsed": false
   },
   "outputs": [
    {
     "data": {
      "text/plain": [
       "'lmer'"
      ]
     },
     "execution_count": 56,
     "metadata": {},
     "output_type": "execute_result"
    }
   ],
   "source": [
    "lme4.lmer.__rname__"
   ]
  },
  {
   "cell_type": "code",
   "execution_count": 43,
   "metadata": {
    "collapsed": false,
    "deletable": true,
    "editable": true
   },
   "outputs": [
    {
     "data": {
      "text/plain": [
       "<matplotlib.text.Text at 0x7f8e7b2779d0>"
      ]
     },
     "execution_count": 43,
     "metadata": {},
     "output_type": "execute_result"
    },
    {
     "data": {
      "image/png": "[encoded data removed]",
      "text/plain": [
       "<matplotlib.figure.Figure at 0x7f8e7b2c0b10>"
      ]
     },
     "metadata": {},
     "output_type": "display_data"
    }
   ],
   "source": [
    "m1 = lme4.lmer(formula='y ~ 1 + service + (1|s) + (1|d) + (1|dept)', data=data)\n",
    "resid_vec1 = np.asarray(resid(m1))\n",
    "plt.hist(resid_vec1);\n",
    "plt.title('Residual variance: %.4f' % resid_vec1.var())"
   ]
  },
  {
   "cell_type": "code",
   "execution_count": 57,
   "metadata": {
    "collapsed": false,
    "deletable": true,
    "editable": true
   },
   "outputs": [
    {
     "data": {
      "text/plain": [
       "<matplotlib.text.Text at 0x7f8e7ad32ad0>"
      ]
     },
     "execution_count": 57,
     "metadata": {},
     "output_type": "execute_result"
    },
    {
     "data": {
      "image/png": "[encoded data removed]",
      "text/plain": [
       "<matplotlib.figure.Figure at 0x7f8e7adca210>"
      ]
     },
     "metadata": {},
     "output_type": "display_data"
    }
   ],
   "source": [
    "m2 = lme4.lmer(formula='y ~ 1 + service + (1|dept) + (1|d)', data=data)\n",
    "resid_vec2 = np.asarray(resid(m2))\n",
    "plt.hist(resid_vec2);\n",
    "plt.title('Residual variance: %.4f' % resid_vec2.var())"
   ]
  },
  {
   "cell_type": "code",
   "execution_count": 58,
   "metadata": {
    "collapsed": false,
    "deletable": true,
    "editable": true
   },
   "outputs": [
    {
     "data": {
      "text/plain": [
       "<matplotlib.text.Text at 0x7f8e7ac25d50>"
      ]
     },
     "execution_count": 58,
     "metadata": {},
     "output_type": "execute_result"
    },
    {
     "data": {
      "image/png": "[encoded data removed]",
      "text/plain": [
       "<matplotlib.figure.Figure at 0x7f8e7ace1890>"
      ]
     },
     "metadata": {},
     "output_type": "display_data"
    }
   ],
   "source": [
    "m3 = lme4.lmer(formula='y ~ 1 + service + (1|d)', data=data)\n",
    "resid_vec3 = np.asarray(resid(m3))\n",
    "plt.hist(resid_vec3);\n",
    "plt.title('Residual variance: %.4f' % resid_vec3.var())"
   ]
  },
  {
   "cell_type": "code",
   "execution_count": 59,
   "metadata": {
    "collapsed": false,
    "deletable": true,
    "editable": true
   },
   "outputs": [
    {
     "data": {
      "text/plain": [
       "<matplotlib.text.Text at 0x7f8e7ab8c790>"
      ]
     },
     "execution_count": 59,
     "metadata": {},
     "output_type": "execute_result"
    },
    {
     "data": {
      "image/png": "[encoded data removed]",
      "text/plain": [
       "<matplotlib.figure.Figure at 0x7f8e7aba9490>"
      ]
     },
     "metadata": {},
     "output_type": "display_data"
    }
   ],
   "source": [
    "m4 = lme4.lmer(formula='y ~ 1 + service + (1|s)', data=data)\n",
    "resid_vec4 = np.asarray(resid(m4))\n",
    "plt.hist(resid_vec4);\n",
    "plt.title('Residual variance: %.4f' % resid_vec4.var())"
   ]
  },
  {
   "cell_type": "code",
   "execution_count": 60,
   "metadata": {
    "collapsed": false,
    "deletable": true,
    "editable": true
   },
   "outputs": [
    {
     "data": {
      "text/plain": [
       "<matplotlib.text.Text at 0x7f8e7a1fbc10>"
      ]
     },
     "execution_count": 60,
     "metadata": {},
     "output_type": "execute_result"
    },
    {
     "data": {
      "image/png": "[encoded data removed]",
      "text/plain": [
       "<matplotlib.figure.Figure at 0x7f8e7ab74350>"
      ]
     },
     "metadata": {},
     "output_type": "display_data"
    }
   ],
   "source": [
    "m5 = lme4.lmer(formula='y ~ 1 + service + (1|s) + (1|dept)', data=data)\n",
    "resid_vec5 = np.asarray(resid(m5))\n",
    "plt.hist(resid_vec5);\n",
    "plt.title('Residual variance: %.4f' % resid_vec5.var())"
   ]
  },
  {
   "cell_type": "code",
   "execution_count": 61,
   "metadata": {
    "collapsed": false,
    "deletable": true,
    "editable": true
   },
   "outputs": [
    {
     "data": {
      "text/plain": [
       "<matplotlib.text.Text at 0x7f8e7a148c10>"
      ]
     },
     "execution_count": 61,
     "metadata": {},
     "output_type": "execute_result"
    },
    {
     "data": {
      "image/png": "[encoded data removed]",
      "text/plain": [
       "<matplotlib.figure.Figure at 0x7f8e7a25dcd0>"
      ]
     },
     "metadata": {},
     "output_type": "display_data"
    }
   ],
   "source": [
    "m6 = lme4.lmer(formula='y ~ 1 + (1|d)', data=data)\n",
    "resid_vec6 = np.asarray(resid(m6))\n",
    "plt.hist(resid_vec6);\n",
    "plt.title('Residual variance: %.4f' % resid_vec6.var())"
   ]
  },
  {
   "cell_type": "code",
   "execution_count": 19,
   "metadata": {
    "collapsed": false,
    "deletable": true,
    "editable": true
   },
   "outputs": [
    {
     "data": {
      "image/png": "[encoded data removed]",
      "text/plain": [
       "<matplotlib.figure.Figure at 0x7f064a618dd0>"
      ]
     },
     "metadata": {},
     "output_type": "display_data"
    }
   ],
   "source": [
    "plt.hist(resid_vec1,bins=100);\n",
    "plt.hist(resid_vec6,bins=100, alpha=.8);"
   ]
  },
  {
   "cell_type": "code",
   "execution_count": 11,
   "metadata": {
    "collapsed": true,
    "deletable": true,
    "editable": true
   },
   "outputs": [],
   "source": [
    "#ok let's load our usual data \n",
    "DATA_PATH = \"/home/chengxuz/Class/psych253_2018/data/ventral_neural_data.hdf5\"\n",
    "Ventral_Dataset = h5py.File(DATA_PATH)"
   ]
  },
  {
   "cell_type": "code",
   "execution_count": 12,
   "metadata": {
    "collapsed": true,
    "deletable": true,
    "editable": true
   },
   "outputs": [],
   "source": [
    "Neural_Data = Ventral_Dataset['time_averaged_trial_averaged'][:]\n",
    "IT_NEURONS = Ventral_Dataset['neural_meta']['IT_NEURONS']\n",
    "V4_NEURONS = Ventral_Dataset['neural_meta']['V4_NEURONS']\n",
    "V4_Neural_Data = Neural_Data[:, V4_NEURONS]\n",
    "IT_Neural_Data = Neural_Data[:, IT_NEURONS]\n",
    "\n",
    "var_level = Ventral_Dataset['image_meta']['variation_level'][:]\n",
    "categories = Ventral_Dataset['image_meta']['category'][:]   #array of category labels for all images  --> shape == (5760,)\n",
    "unique_categories = np.unique(categories)                #array of unique category labels --> shape == (8,)\n",
    "objects = Ventral_Dataset['image_meta']['object_name'][:]   #array of object labels for all images --> shape == (5670,)\n",
    "unique_objects = np.unique(objects)                      #array of unique object labels --> shape == (64,) \n",
    "\n",
    "objects_by_category = {c: np.unique(objects[categories == c]) \n",
    "                       for c in unique_categories}\n"
   ]
  },
  {
   "cell_type": "code",
   "execution_count": 13,
   "metadata": {
    "collapsed": false,
    "deletable": true,
    "editable": true
   },
   "outputs": [
    {
     "data": {
      "text/plain": [
       "dtype((numpy.record, [(u'category', 'S7'), (u'image_id', 'S40'), (u'object_name', 'S24'), (u'rotation_xy', '<f8'), (u'rotation_xz', '<f8'), (u'rotation_yz', '<f8'), (u'size', '<f8'), (u'translation_y', '<f8'), (u'translation_z', '<f8'), (u'variation_level', 'S2')]))"
      ]
     },
     "execution_count": 13,
     "metadata": {},
     "output_type": "execute_result"
    }
   ],
   "source": [
    "#use numpy recarray object to store metadata \n",
    "meta_array = np.core.records.fromarrays(Ventral_Dataset['image_meta'].values(),\n",
    "                                        names=Ventral_Dataset['image_meta'].keys())\n",
    "meta_array.dtype"
   ]
  },
  {
   "cell_type": "code",
   "execution_count": 14,
   "metadata": {
    "collapsed": false,
    "deletable": true,
    "editable": true
   },
   "outputs": [],
   "source": [
    "import pandas\n",
    "data_dict = {'n%d' % d : Neural_Data[:, d] for d in range(Neural_Data.shape[1])}\n",
    "data_dict.update({k: meta_array[k] for k in meta_array.dtype.names})\n",
    "\n",
    "neural_data_frame = pandas.DataFrame.from_dict(data_dict)"
   ]
  },
  {
   "cell_type": "code",
   "execution_count": 55,
   "metadata": {
    "collapsed": false,
    "deletable": true,
    "editable": true
   },
   "outputs": [
    {
     "data": {
      "text/plain": [
       "0.08042158803002887"
      ]
     },
     "execution_count": 55,
     "metadata": {},
     "output_type": "execute_result"
    },
    {
     "data": {
      "image/png": "[encoded data removed]",
      "text/plain": [
       "<matplotlib.figure.Figure at 0x7f061ce3c650>"
      ]
     },
     "metadata": {},
     "output_type": "display_data"
    }
   ],
   "source": [
    "res = lm(formula='n0 ~ 1 + category', data=neural_data_frame)\n",
    "resid_vec_res = np.asarray(resid(res))\n",
    "plt.hist(resid_vec_res);\n",
    "resid_vec_res.var()"
   ]
  },
  {
   "cell_type": "code",
   "execution_count": 71,
   "metadata": {
    "collapsed": false,
    "deletable": true,
    "editable": true
   },
   "outputs": [
    {
     "data": {
      "text/plain": [
       "0.032766009456335218"
      ]
     },
     "execution_count": 71,
     "metadata": {},
     "output_type": "execute_result"
    },
    {
     "data": {
      "image/png": "[encoded data removed]",
      "text/plain": [
       "<matplotlib.figure.Figure at 0x7f8e79a8a310>"
      ]
     },
     "metadata": {},
     "output_type": "display_data"
    }
   ],
   "source": [
    "res = lm(formula='n184 ~ 1 + category', data=neural_data_frame)\n",
    "resid_vec_res = np.asarray(resid(res))\n",
    "plt.hist(resid_vec_res);\n",
    "resid_vec_res.var()"
   ]
  },
  {
   "cell_type": "code",
   "execution_count": 80,
   "metadata": {
    "collapsed": false
   },
   "outputs": [
    {
     "data": {
      "text/plain": [
       "R object with classes: ('lm',) mapped to:\n",
       "<ListVector - Python:0x7f8e799a47a0 / R:0xd691290>\n",
       "[Float..., Float..., Float..., ..., Vector, Formula, DataF...]\n",
       "  coefficients: <class 'rpy2.robjects.vectors.FloatVector'>\n",
       "  R object with classes: ('numeric',) mapped to:\n",
       "<FloatVector - Python:0x7f8e79978fc8 / R:0x1e9205a0>\n",
       "[-0.029444, -0.018860, 0.013143, ..., 0.053717, -0.031061, -0.039967]\n",
       "  residuals: <class 'rpy2.robjects.vectors.FloatVector'>\n",
       "  R object with classes: ('numeric',) mapped to:\n",
       "<FloatVector - Python:0x7f8e799781b8 / R:0x20a50af0>\n",
       "[0.190417, 0.015420, -0.217066, ..., 0.084531, -0.106369, -0.019646]\n",
       "  effects: <class 'rpy2.robjects.vectors.FloatVector'>\n",
       "  R object with classes: ('numeric',) mapped to:\n",
       "<FloatVector - Python:0x7f8e799787a0 / R:0xea55f50>\n",
       "[-0.074215, -1.413663, -0.704820, ..., 0.074523, -0.116378, -0.029654]\n",
       "  ...\n",
       "  coefficients: <class 'rpy2.robjects.vectors.Vector'>\n",
       "  R object with classes: ('lm',) mapped to:\n",
       "<Vector - Python:0x7f8e79978d88 / R:0xca5f4c0>\n",
       "[RNULLType, Vector, Vector]\n",
       "  residuals: <class 'rpy2.robjects.Formula'>\n",
       "  R object with classes: ('terms', 'formula') mapped to:\n",
       "<Formula - Python:0x7f8e79978e18 / R:0x13830fa0>\n",
       "R object with classes: ('lm',) mapped to:\n",
       "<ListVector - Python:0x7f8e799a47a0 / R:0xd691290>\n",
       "[Float..., Float..., Float..., ..., Vector, Formula, DataF...]"
      ]
     },
     "execution_count": 80,
     "metadata": {},
     "output_type": "execute_result"
    }
   ],
   "source": [
    "res"
   ]
  },
  {
   "cell_type": "code",
   "execution_count": 82,
   "metadata": {
    "collapsed": false
   },
   "outputs": [
    {
     "data": {
      "text/plain": [
       "array([-0.02944394, -0.01885967,  0.01314343, -0.0247192 ,  0.2911198 ,\n",
       "        0.05371732, -0.03106055, -0.03996662])"
      ]
     },
     "execution_count": 82,
     "metadata": {},
     "output_type": "execute_result"
    }
   ],
   "source": [
    "np.asarray(res[0])"
   ]
  },
  {
   "cell_type": "code",
   "execution_count": 57,
   "metadata": {
    "collapsed": false,
    "deletable": true,
    "editable": true
   },
   "outputs": [
    {
     "data": {
      "text/plain": [
       "0.04277590536839504"
      ]
     },
     "execution_count": 57,
     "metadata": {},
     "output_type": "execute_result"
    },
    {
     "data": {
      "image/png": "[encoded data removed]",
      "text/plain": [
       "<matplotlib.figure.Figure at 0x7f061a9a50d0>"
      ]
     },
     "metadata": {},
     "output_type": "display_data"
    }
   ],
   "source": [
    "res = lm(formula='n184 ~ 1 + rotation_xy', data=neural_data_frame)\n",
    "resid_vec_res = np.asarray(resid(res))\n",
    "plt.hist(resid_vec_res);\n",
    "resid_vec_res.var()"
   ]
  },
  {
   "cell_type": "code",
   "execution_count": 58,
   "metadata": {
    "collapsed": false,
    "deletable": true,
    "editable": true
   },
   "outputs": [
    {
     "data": {
      "text/plain": [
       "0.077938275596386372"
      ]
     },
     "execution_count": 58,
     "metadata": {},
     "output_type": "execute_result"
    },
    {
     "data": {
      "image/png": "[encoded data removed]",
      "text/plain": [
       "<matplotlib.figure.Figure at 0x7f061cd5a510>"
      ]
     },
     "metadata": {},
     "output_type": "display_data"
    }
   ],
   "source": [
    "res = lme4.lmer(formula='n0 ~ 1 + object_name + category + (1|category)', data=neural_data_frame)\n",
    "resid_vec_res = np.asarray(resid(res))\n",
    "plt.hist(resid_vec_res);\n",
    "resid_vec_res.var()"
   ]
  },
  {
   "cell_type": "code",
   "execution_count": 37,
   "metadata": {
    "collapsed": true
   },
   "outputs": [],
   "source": [
    "resids_lm_simple = np.asarray([resid(robjects.r['lm'](formula='n%d ~ 1 + size + translation_y + translation_z +'\n",
    "                                               'rotation_xy + rotation_yz + rotation_xz' % d, \n",
    "                                               data=neural_data_frame)) \n",
    "                              for d in range(0, 296, 20)])"
   ]
  },
  {
   "cell_type": "code",
   "execution_count": 83,
   "metadata": {
    "collapsed": false
   },
   "outputs": [
    {
     "data": {
      "text/plain": [
       "(15, 5760)"
      ]
     },
     "execution_count": 83,
     "metadata": {},
     "output_type": "execute_result"
    }
   ],
   "source": [
    "resids_lm_simple.shape"
   ]
  },
  {
   "cell_type": "code",
   "execution_count": 88,
   "metadata": {
    "collapsed": false
   },
   "outputs": [
    {
     "data": {
      "text/plain": [
       "<matplotlib.text.Text at 0x7f8e78fcb9d0>"
      ]
     },
     "execution_count": 88,
     "metadata": {},
     "output_type": "execute_result"
    },
    {
     "data": {
      "image/png": "[encoded data removed]",
      "text/plain": [
       "<matplotlib.figure.Figure at 0x7f8e79147d10>"
      ]
     },
     "metadata": {},
     "output_type": "display_data"
    }
   ],
   "source": [
    "fig = plt.figure(figsize=(12, 5))\n",
    "plt.subplot(1, 2, 1)\n",
    "plt.hist(resids_lm_simple[0], bins=100);\n",
    "plt.xlabel('Residual')\n",
    "plt.ylabel('image count')\n",
    "plt.subplot(1, 2, 2)\n",
    "plt.hist(resids_lm_simple.var(1));\n",
    "plt.xlabel('residual variance')\n",
    "plt.ylabel('neuron count')"
   ]
  },
  {
   "cell_type": "code",
   "execution_count": 31,
   "metadata": {
    "collapsed": false,
    "deletable": true,
    "editable": true
   },
   "outputs": [],
   "source": [
    "resids_lm = np.asarray([resid(robjects.r['lm'](formula='n%d ~ 1 + size + translation_y + translation_z +'\n",
    "                                               'rotation_xy + rotation_yz + rotation_xz + object_name' % d, \n",
    "                                               data=neural_data_frame)) \n",
    "                              for d in range(0, 296, 20)])"
   ]
  },
  {
   "cell_type": "code",
   "execution_count": 89,
   "metadata": {
    "collapsed": false
   },
   "outputs": [
    {
     "data": {
      "text/plain": [
       "<matplotlib.text.Text at 0x7f8e78c51950>"
      ]
     },
     "execution_count": 89,
     "metadata": {},
     "output_type": "execute_result"
    },
    {
     "data": {
      "image/png": "[encoded data removed]",
      "text/plain": [
       "<matplotlib.figure.Figure at 0x7f8e79540a90>"
      ]
     },
     "metadata": {},
     "output_type": "display_data"
    }
   ],
   "source": [
    "fig = plt.figure(figsize=(12, 5))\n",
    "plt.subplot(1, 2, 1)\n",
    "plt.hist(resids_lm[0], bins=100);\n",
    "plt.xlabel('Residual')\n",
    "plt.ylabel('image count')\n",
    "plt.subplot(1, 2, 2)\n",
    "plt.hist(resids_lm.var(1));\n",
    "plt.xlabel('residual variance')\n",
    "plt.ylabel('neuron count')"
   ]
  },
  {
   "cell_type": "code",
   "execution_count": 32,
   "metadata": {
    "collapsed": true,
    "deletable": true,
    "editable": true
   },
   "outputs": [],
   "source": [
    "resids_lmer_rand_intercept = np.asarray([resid(lme4.lmer(formula='n%d ~ 1 + size + translation_y + translation_z +'\n",
    "                                                         'rotation_xy + rotation_yz + rotation_xz + ' \n",
    "                                                         '(1|object_name)' % d, \n",
    "                                          data=neural_data_frame)) for d in range(0, 296, 20)])"
   ]
  },
  {
   "cell_type": "code",
   "execution_count": 90,
   "metadata": {
    "collapsed": false
   },
   "outputs": [
    {
     "data": {
      "text/plain": [
       "<matplotlib.text.Text at 0x7f8e792f3c50>"
      ]
     },
     "execution_count": 90,
     "metadata": {},
     "output_type": "execute_result"
    },
    {
     "data": {
      "image/png": "[encoded data removed]",
      "text/plain": [
       "<matplotlib.figure.Figure at 0x7f8e78e59bd0>"
      ]
     },
     "metadata": {},
     "output_type": "display_data"
    }
   ],
   "source": [
    "fig = plt.figure(figsize=(12, 5))\n",
    "plt.subplot(1, 2, 1)\n",
    "plt.hist(resids_lmer_rand_intercept[0], bins=100);\n",
    "plt.xlabel('Residual')\n",
    "plt.ylabel('image count')\n",
    "plt.subplot(1, 2, 2)\n",
    "plt.hist(resids_lmer_rand_intercept.var(1));\n",
    "plt.xlabel('residual variance')\n",
    "plt.ylabel('neuron count')"
   ]
  },
  {
   "cell_type": "code",
   "execution_count": 33,
   "metadata": {
    "collapsed": false,
    "deletable": true,
    "editable": true
   },
   "outputs": [
    {
     "name": "stderr",
     "output_type": "stream",
     "text": [
      "/usr/local/lib/python2.7/dist-packages/rpy2/rinterface/__init__.py:186: RRuntimeWarning: 4: \n",
      "  warnings.warn(x, RRuntimeWarning)\n",
      "/usr/local/lib/python2.7/dist-packages/rpy2/rinterface/__init__.py:186: RRuntimeWarning: In optwrap(optimizer, devfun, opt$par, lower = rho$lower, control = control,  :\n",
      "  warnings.warn(x, RRuntimeWarning)\n",
      "/usr/local/lib/python2.7/dist-packages/rpy2/rinterface/__init__.py:186: RRuntimeWarning: 5: \n",
      "  warnings.warn(x, RRuntimeWarning)\n",
      "/usr/local/lib/python2.7/dist-packages/rpy2/rinterface/__init__.py:186: RRuntimeWarning:  Model failed to converge with max|grad| = 7.48562 (tol = 0.002, component 1)\n",
      "\n",
      "  warnings.warn(x, RRuntimeWarning)\n",
      "/usr/local/lib/python2.7/dist-packages/rpy2/rinterface/__init__.py:186: RRuntimeWarning: 6: \n",
      "  warnings.warn(x, RRuntimeWarning)\n",
      "/usr/local/lib/python2.7/dist-packages/rpy2/rinterface/__init__.py:186: RRuntimeWarning:  Model is nearly unidentifiable: very large eigenvalue\n",
      " - Rescale variables?\n",
      "\n",
      "  warnings.warn(x, RRuntimeWarning)\n",
      "/usr/local/lib/python2.7/dist-packages/rpy2/rinterface/__init__.py:186: RRuntimeWarning: 7: \n",
      "  warnings.warn(x, RRuntimeWarning)\n"
     ]
    }
   ],
   "source": [
    "resids_lmer_rand_slope = np.asarray([resid(lme4.lmer(formula='n%d ~ size + translation_y + translation_z +'\n",
    "                                                     'rotation_xy + rotation_yz + rotation_xz +' \n",
    "                                          '(1+size+translation_y + translation_z+rotation_xy + rotation_yz + rotation_xz|object_name)' % d, \n",
    "                                          data=neural_data_frame)) for d in range(0, 296, 20)])"
   ]
  },
  {
   "cell_type": "code",
   "execution_count": 91,
   "metadata": {
    "collapsed": false
   },
   "outputs": [
    {
     "data": {
      "text/plain": [
       "<matplotlib.text.Text at 0x7f8e7908de90>"
      ]
     },
     "execution_count": 91,
     "metadata": {},
     "output_type": "execute_result"
    },
    {
     "data": {
      "image/png": "[encoded data removed]",
      "text/plain": [
       "<matplotlib.figure.Figure at 0x7f8e789290d0>"
      ]
     },
     "metadata": {},
     "output_type": "display_data"
    }
   ],
   "source": [
    "fig = plt.figure(figsize=(12, 5))\n",
    "plt.subplot(1, 2, 1)\n",
    "plt.hist(resids_lmer_rand_slope[0], bins=100);\n",
    "plt.xlabel('Residual')\n",
    "plt.ylabel('image count')\n",
    "plt.subplot(1, 2, 2)\n",
    "plt.hist(resids_lmer_rand_slope.var(1));\n",
    "plt.xlabel('residual variance')\n",
    "plt.ylabel('neuron count')"
   ]
  },
  {
   "cell_type": "code",
   "execution_count": 38,
   "metadata": {
    "collapsed": false
   },
   "outputs": [
    {
     "data": {
      "text/plain": [
       "array([ 0.00540252,  0.02095933,  0.00167607,  0.01371456,  0.00604386,\n",
       "        0.0009609 ,  0.01562236,  0.01037694,  0.00874247,  0.00662637,\n",
       "        0.01357881,  0.01195196,  0.06952596,  0.00112671,  0.        ])"
      ]
     },
     "execution_count": 38,
     "metadata": {},
     "output_type": "execute_result"
    }
   ],
   "source": [
    "resids_lm_simple.var(axis=1) - resids_lmer_rand_intercept.var(axis=1)"
   ]
  },
  {
   "cell_type": "code",
   "execution_count": 39,
   "metadata": {
    "collapsed": false
   },
   "outputs": [
    {
     "data": {
      "text/plain": [
       "array([ 0.00906039,  0.02673226,  0.00291349,  0.01674122,  0.0078159 ,\n",
       "        0.00227965,  0.02320486,  0.01250912,  0.01238066,  0.00702836,\n",
       "        0.01784366,  0.0193374 ,  0.08094114,  0.00218804,  0.00056743])"
      ]
     },
     "execution_count": 39,
     "metadata": {},
     "output_type": "execute_result"
    }
   ],
   "source": [
    "resids_lm_simple.var(axis=1) - resids_lmer_rand_slope.var(axis=1)"
   ]
  },
  {
   "cell_type": "code",
   "execution_count": 34,
   "metadata": {
    "collapsed": false,
    "deletable": true,
    "editable": true
   },
   "outputs": [
    {
     "data": {
      "text/plain": [
       "array([ -1.37731459e-04,  -6.64738365e-04,  -1.53016013e-04,\n",
       "        -3.11310943e-05,  -2.21782385e-05,  -1.46442891e-04,\n",
       "        -2.78538409e-04,  -1.12552308e-04,  -3.31850009e-04,\n",
       "        -5.02159642e-05,  -5.54466402e-05,  -8.71838313e-05,\n",
       "        -2.66925478e-05,  -2.10290005e-04,  -3.85231319e-04])"
      ]
     },
     "execution_count": 34,
     "metadata": {},
     "output_type": "execute_result"
    }
   ],
   "source": [
    "resids_lm.var(axis=1) - resids_lmer_rand_intercept.var(axis=1)"
   ]
  },
  {
   "cell_type": "code",
   "execution_count": 35,
   "metadata": {
    "collapsed": false,
    "deletable": true,
    "editable": true
   },
   "outputs": [
    {
     "data": {
      "text/plain": [
       "array([ 0.00352015,  0.00510819,  0.0010844 ,  0.00299553,  0.00174985,\n",
       "        0.00117231,  0.00730397,  0.00201962,  0.00330634,  0.00035178,\n",
       "        0.00420939,  0.00729826,  0.01138849,  0.00085103,  0.0001822 ])"
      ]
     },
     "execution_count": 35,
     "metadata": {},
     "output_type": "execute_result"
    }
   ],
   "source": [
    "resids_lm.var(axis=1) - resids_lmer_rand_slope.var(axis=1)"
   ]
  },
  {
   "cell_type": "code",
   "execution_count": null,
   "metadata": {
    "collapsed": true
   },
   "outputs": [],
   "source": []
  }
 ],
 "metadata": {
  "kernelspec": {
   "display_name": "Python 2",
   "language": "python",
   "name": "python2"
  },
  "language_info": {
   "codemirror_mode": {
    "name": "ipython",
    "version": 2
   },
   "file_extension": ".py",
   "mimetype": "text/x-python",
   "name": "python",
   "nbconvert_exporter": "python",
   "pygments_lexer": "ipython2",
   "version": "2.7.12"
  }
 },
 "nbformat": 4,
 "nbformat_minor": 2
}
