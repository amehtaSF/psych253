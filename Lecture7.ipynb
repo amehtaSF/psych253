{
 "cells": [
  {
   "cell_type": "code",
   "execution_count": 1,
   "metadata": {
    "collapsed": true
   },
   "outputs": [],
   "source": [
    "%matplotlib inline\n",
    "\n",
    "import matplotlib\n",
    "import matplotlib.pyplot as plt\n",
    "\n",
    "#the above imports the plotting library matplotlib"
   ]
  },
  {
   "cell_type": "code",
   "execution_count": 2,
   "metadata": {
    "collapsed": true
   },
   "outputs": [],
   "source": [
    "#standard imports\n",
    "import pymongo as pm\n",
    "import numpy as np\n",
    "import h5py\n",
    "import scipy as sp\n",
    "import scipy.stats as stats\n",
    "\n",
    "#let's import the SVM classifier\n",
    "from sklearn.svm import LinearSVC\n",
    "\n",
    "#our own internal utility unctions\n",
    "import metrics ; reload(metrics)\n",
    "import cross_validation as cv; reload(cv)\n",
    "import utils; reload(utils)\n",
    "from utils import featurewise_norm, spearman_brown\n"
   ]
  },
  {
   "cell_type": "code",
   "execution_count": 3,
   "metadata": {
    "collapsed": true
   },
   "outputs": [],
   "source": [
    "#ok let's load the neural data \n",
    "DATA_PATH = \"/home/chengxuz/Class/psych253_2018/data/ventral_neural_data.hdf5\"\n",
    "Ventral_Dataset = h5py.File(DATA_PATH)\n",
    "\n",
    "categories = Ventral_Dataset['image_meta']['category'][:]   #array of category labels for all images  --> shape == (5760,)\n",
    "unique_categories = np.unique(categories)                #array of unique category labels --> shape == (8,)\n",
    "objects = Ventral_Dataset['image_meta']['object_name'][:]   #array of object labels for all images --> shape == (5670,)\n",
    "unique_objects = np.unique(objects)                      #array of unique object labels --> shape == (64,) \n",
    "\n",
    "objects_by_category = {c: np.unique(objects[categories == c]) \n",
    "                       for c in unique_categories}\n",
    "\n",
    "Neural_Data = Ventral_Dataset['time_averaged_trial_averaged'][:]\n",
    "IT_NEURONS = Ventral_Dataset['neural_meta']['IT_NEURONS']\n",
    "V4_NEURONS = Ventral_Dataset['neural_meta']['V4_NEURONS']\n",
    "V4_Neural_Data = Neural_Data[:, V4_NEURONS]\n",
    "IT_Neural_Data = Neural_Data[:, IT_NEURONS]\n",
    "\n",
    "var_level = Ventral_Dataset['image_meta']['variation_level'][:]\n",
    "\n",
    "#use numpy recarray object to store metadata \n",
    "meta_array = np.core.records.fromarrays(Ventral_Dataset['image_meta'].values(),\n",
    "                                        names=Ventral_Dataset['image_meta'].keys())"
   ]
  },
  {
   "cell_type": "markdown",
   "metadata": {},
   "source": [
    "### Simple linear regression (one predictor)"
   ]
  },
  {
   "cell_type": "code",
   "execution_count": 348,
   "metadata": {
    "collapsed": false
   },
   "outputs": [
    {
     "data": {
      "text/plain": [
       "<matplotlib.text.Text at 0x7f28fddc68d0>"
      ]
     },
     "execution_count": 348,
     "metadata": {},
     "output_type": "execute_result"
    },
    {
     "data": {
      "image/png": "[encoded data removed]",
      "text/plain": [
       "<matplotlib.figure.Figure at 0x7f2911da3210>"
      ]
     },
     "metadata": {},
     "output_type": "display_data"
    }
   ],
   "source": [
    "#Let's look at simple (one variable) linear regression from neural data to \n",
    "#the translation_y variable\n",
    "#(we'll exclude the V0 component of the data since the variable of interest is not \n",
    "#actually varying on that subset)\n",
    "ss = meta_array['variation_level'] != 'V0'\n",
    "ty_single_ss = np.array([stats.linregress(Neural_Data[ss, i], meta_array['translation_y'][ss]) \n",
    "                   for i in range(Neural_Data.shape[1])])\n",
    "plt.hist(ty_single_ss[:, 2], bins=20);\n",
    "plt.xlabel('Correlation (regression r value)')\n",
    "plt.ylabel('Neuron Count')"
   ]
  },
  {
   "cell_type": "markdown",
   "metadata": {},
   "source": [
    "### Multivariate regression"
   ]
  },
  {
   "cell_type": "markdown",
   "metadata": {},
   "source": [
    "#### Import detail about metrics of regression success"
   ]
  },
  {
   "cell_type": "code",
   "execution_count": null,
   "metadata": {
    "collapsed": true
   },
   "outputs": [],
   "source": [
    "#ok let's import the LinearRegression class (this is ordinary least squares regression)\n",
    "from sklearn.linear_model import LinearRegression"
   ]
  },
  {
   "cell_type": "code",
   "execution_count": null,
   "metadata": {
    "collapsed": false
   },
   "outputs": [],
   "source": [
    "func = np.sin\n",
    "\n",
    "data1 = np.arange(-1, 1, .1)\n",
    "data2 = np.arange(1, 5, .1)\n",
    "y1 = func(data1)\n",
    "y2 = func(data2)\n",
    "\n",
    "predictors1 = np.array([data1**i for i in range(4)]).T\n",
    "predictors2 = np.array([data2**i for i in range(4)]).T\n",
    "\n",
    "regressor = LinearRegression()\n",
    "regressor.fit(predictors1, y1)\n",
    "predictions1 = regressor.predict(predictors1)\n",
    "predictions2 = regressor.predict(predictors2)\n",
    "\n",
    "corr1 = stats.pearsonr(y1, predictions1)[0]\n",
    "corr2 = stats.pearsonr(y2, predictions2)[0]\n",
    "\n",
    "rs1 = rsquared(y1, predictions1)\n",
    "rs2 = rsquared(y2, predictions2)\n",
    " \n",
    "fig = plt.figure(figsize=(8, 8))\n",
    "plt.subplot(2, 2, 1)\n",
    "plt.plot(data1, y1)\n",
    "plt.title('Training Data')\n",
    "plt.subplot(2, 2, 2)\n",
    "plt.plot(data1, y1)\n",
    "plt.plot(data2, y2, color='r')\n",
    "plt.title('Testing Data (red)')\n",
    "plt.subplot(2, 2, 3)\n",
    "plt.plot(data1, y1)\n",
    "plt.plot(data1, predictions1)\n",
    "plot.title('on train: corr=%.3f, rsquared=%.3f' % (corr1, rs1))\n",
    "plt.subplot(2, 2, 4)\n",
    "plt.plot(data2, y2)\n",
    "plt.plot(data2, predictions2)\n",
    "plot.title('on train: corr=%.3f, rsquared=%.3f' % (corr2, rs))\n",
    "\n"
   ]
  },
  {
   "cell_type": "code",
   "execution_count": 349,
   "metadata": {
    "collapsed": true
   },
   "outputs": [],
   "source": [
    "def rsquared(predicted, actual):\n",
    "    \"\"\"The \"rsquared\" metric\n",
    "    \"\"\"\n",
    "    a_mean = actual.mean()\n",
    "    num = np.linalg.norm(actual - predicted)**2\n",
    "    denom = np.linalg.norm(actual - a_mean)**2\n",
    "    return 1 - num / denom\n",
    "\n",
    "\n",
    "def evaluate_regression_results(predicted, actual):\n",
    "    \"\"\"computing various useful metrics for regression results\n",
    "    \"\"\"\n",
    "    result = {}\n",
    "    if actual.ndim > 1: #this is triggered if the prediction is of multiple outputs at once\n",
    "        result['pearson_array'] = np.array([stats.pearsonr(p, a)[0] for p, a in zip(predicted.T, actual.T)])\n",
    "        result['spearman_array'] = np.array([stats.spearmanr(p, a)[0] for p, a in zip(predicted.T, actual.T)])\n",
    "        result['rsquared_array'] = np.array([rsquared(p, a) for p, a in zip(predicted.T, actual.T)])\n",
    "        result['pearson'] = np.median(result['pearson_array'])\n",
    "        result['spearman'] = np.median(result['spearman_array'])\n",
    "        result['rsquared'] = np.median(result['rsquared_array'])\n",
    "    else:\n",
    "        result['pearson'] = stats.pearsonr(predicted, actual)[0]\n",
    "        result['spearman'] = stats.spearmanr(predicted, actual)[0]\n",
    "        result['rsquared'] = rsquared(predicted, actual)\n",
    "    return result\n",
    "\n",
    "def aggregate_regression_results(results_by_split):\n",
    "    \"\"\"convenience function aggregating results of regression tests over data splits\n",
    "    \"\"\"\n",
    "    results = {}\n",
    "    results['by_split'] = results_by_split\n",
    "    ns = len(results_by_split)\n",
    "    for k in results_by_split[0]:\n",
    "        arr = np.array([results_by_split[i][k] for i in range(ns)])\n",
    "        if arr.ndim == 1:\n",
    "            results['mean_' + k] = arr.mean()\n",
    "            results['std_' + k] = arr.std()\n",
    "        else:\n",
    "            results['mean_' + k] = arr.mean(axis=0)\n",
    "            results['std_' + k] = arr.std(axis=0)\n",
    "    return results\n"
   ]
  },
  {
   "cell_type": "code",
   "execution_count": 350,
   "metadata": {
    "collapsed": true
   },
   "outputs": [],
   "source": [
    "def train_and_test_scikit_regressor(features, \n",
    "                                    labels,\n",
    "                                    splits,\n",
    "                                    model_class,\n",
    "                                    model_args=None,\n",
    "                                    gridcv_params=None,\n",
    "                                    gridcv_args=None,\n",
    "                                    fit_args=None,\n",
    "                                    feature_norm=True,\n",
    "                                    return_models=False\n",
    "                                    ):\n",
    "    \"\"\"This function is very similar to the train_and_test_scikit_classifier function\n",
    "       except it is adapted for working with regressors.\n",
    "    \"\"\"\n",
    "\n",
    "    if model_args is None:\n",
    "        model_args = {}\n",
    "    if fit_args is None:\n",
    "        fit_args = {}\n",
    "    \n",
    "    training_sidedata = []\n",
    "   \n",
    "    models = []\n",
    "    train_results = []\n",
    "    test_results = []\n",
    "    \n",
    "    for split in splits:\n",
    "\n",
    "        #here we instantiate the general regressor whatever it is\n",
    "        model = model_class(**model_args)\n",
    "        if gridcv_params is not None:\n",
    "            if gridcv_args is None:\n",
    "                gridcv_args = {}\n",
    "            model = GridSearchCV(model, gridcv_params, **gridcv_args)\n",
    "            \n",
    "        #get the train/test split data\n",
    "        train_inds = split['train']\n",
    "        test_inds = split['test']\n",
    "        train_features = features[train_inds]\n",
    "        train_labels = labels[train_inds]\n",
    "        test_features = features[test_inds]\n",
    "        test_labels = labels[test_inds]\n",
    "\n",
    "        #train the model ...\n",
    "        if feature_norm:\n",
    "            train_features, fmean, fvar = featurewise_norm(train_features)\n",
    "            sidedata = {'fmean': fmean, 'fvar': fvar}\n",
    "            training_sidedata.append(sidedata)\n",
    "        model.fit(train_features, train_labels, **fit_args)\n",
    "        \n",
    "        #... and get training predictions and results\n",
    "        train_predictions = model.predict(train_features)\n",
    "        train_result = evaluate_regression_results(train_predictions, train_labels)\n",
    "        train_results.append(train_result)\n",
    "             \n",
    "        #test the model ... \n",
    "        if feature_norm:\n",
    "            test_features, _ignore, _ignore = featurewise_norm(test_features,\n",
    "                                                               fmean=fmean,\n",
    "                                                               fvar=fvar)\n",
    "        #... and get training predictions and results\n",
    "        test_predictions = model.predict(test_features)\n",
    "        test_result = evaluate_regression_results(test_predictions, test_labels)\n",
    "        test_results.append(test_result)\n",
    "        \n",
    "        if return_models:\n",
    "            models.append(model)\n",
    "        \n",
    "    #aggregate results over splits\n",
    "    train_results = aggregate_regression_results(train_results)\n",
    "    test_results = aggregate_regression_results(test_results)\n",
    "    results = {'train': train_results,\n",
    "               'test': test_results,\n",
    "               'training_sidedata': training_sidedata}\n",
    "    if return_models:\n",
    "            results['models'] = models\n",
    "            \n",
    "    return results\n"
   ]
  },
  {
   "cell_type": "code",
   "execution_count": 28,
   "metadata": {
    "collapsed": true
   },
   "outputs": [],
   "source": []
  },
  {
   "cell_type": "code",
   "execution_count": 401,
   "metadata": {
    "collapsed": false
   },
   "outputs": [
    {
     "name": "stdout",
     "output_type": "stream",
     "text": [
      "OLS result on ty estimation: corr=0.612, rsquared=0.372\n"
     ]
    }
   ],
   "source": [
    "splits = cv.get_splits(metadata=meta_array, \n",
    "                           split_by_func=lambda x: x['object_name'],  #we're balancing splits by object\n",
    "                           num_splits=5,  \n",
    "                           num_per_class_test=5,  \n",
    "                           num_per_class_train=75,\n",
    "                           train_filter=lambda x: x['variation_level'] != 'V0',\n",
    "                           test_filter=lambda x: x['variation_level'] != 'V0'\n",
    "                           )\n",
    "    \n",
    "res = train_and_test_scikit_regressor(features=IT_Neural_Data, \n",
    "                                labels=meta_array['translation_y'],\n",
    "                                splits=splits,\n",
    "                                model_class=LinearRegression,\n",
    "                                feature_norm=False)\n",
    "\n",
    "rval = res['test']['mean_pearson']\n",
    "rs = res['test']['mean_rsquared']\n",
    "print('OLS result on ty estimation: corr=%.3f, rsquared=%.3f' % (rval, rs))"
   ]
  },
  {
   "cell_type": "code",
   "execution_count": 368,
   "metadata": {
    "collapsed": true
   },
   "outputs": [],
   "source": [
    "from sklearn.linear_model import (Ridge, \n",
    "                                  RidgeCV, \n",
    "                                  Lasso, \n",
    "                                  LassoCV,\n",
    "                                  ElasticNet, \n",
    "                                  ElasticNetCV, \n",
    "                                  OrthogonalMatchingPursuit)"
   ]
  },
  {
   "cell_type": "code",
   "execution_count": 402,
   "metadata": {
    "collapsed": false
   },
   "outputs": [
    {
     "name": "stdout",
     "output_type": "stream",
     "text": [
      "Ridge result on ty estimation: corr=0.612, rsquared=0.372\n"
     ]
    }
   ],
   "source": [
    "splits = cv.get_splits(metadata=meta_array, \n",
    "                           split_by_func=lambda x: x['object_name'],  #we're balancing splits by object\n",
    "                           num_splits=5,  \n",
    "                           num_per_class_test=5,  \n",
    "                           num_per_class_train=75,\n",
    "                           train_filter=lambda x: x['variation_level'] != 'V0',\n",
    "                           test_filter=lambda x: x['variation_level']  != 'V0'\n",
    "                           )\n",
    "    \n",
    "res = train_and_test_scikit_regressor(features=IT_Neural_Data, \n",
    "                                labels=meta_array['translation_y'],\n",
    "                                splits=splits,\n",
    "                                model_class=Ridge,\n",
    "                                model_args={'alpha':1e-3},\n",
    "                                feature_norm=False)\n",
    "\n",
    "rval = res['test']['mean_pearson']\n",
    "rs = res['test']['mean_rsquared']\n",
    "print('Ridge result on ty estimation: corr=%.3f, rsquared=%.3f' % (rval, rs))"
   ]
  },
  {
   "cell_type": "code",
   "execution_count": 403,
   "metadata": {
    "collapsed": false
   },
   "outputs": [
    {
     "name": "stdout",
     "output_type": "stream",
     "text": [
      "RidgeCV result on ty estimation: corr=0.613, rsquared=0.374\n"
     ]
    }
   ],
   "source": [
    "splits = cv.get_splits(metadata=meta_array, \n",
    "                           split_by_func=lambda x: x['object_name'],  #we're balancing splits by object\n",
    "                           num_splits=5,  \n",
    "                           num_per_class_test=5,  \n",
    "                           num_per_class_train=75,\n",
    "                           train_filter=lambda x: x['variation_level'] != 'V0',\n",
    "                           test_filter=lambda x: x['variation_level']  != 'V0'\n",
    "                           )\n",
    "    \n",
    "res = train_and_test_scikit_regressor(features=IT_Neural_Data, \n",
    "                                labels=meta_array['translation_y'],\n",
    "                                splits=splits,\n",
    "                                model_class=RidgeCV,\n",
    "                                feature_norm=False)\n",
    "\n",
    "rval = res['test']['mean_pearson']\n",
    "rs = res['test']['mean_rsquared']\n",
    "print('RidgeCV result on ty estimation: corr=%.3f, rsquared=%.3f' % (rval, rs))"
   ]
  },
  {
   "cell_type": "code",
   "execution_count": 404,
   "metadata": {
    "collapsed": false
   },
   "outputs": [
    {
     "name": "stdout",
     "output_type": "stream",
     "text": [
      "LassoCV result on ty estimation: corr=0.614, rsquared=0.375\n"
     ]
    }
   ],
   "source": [
    "splits = cv.get_splits(metadata=meta_array, \n",
    "                           split_by_func=lambda x: x['object_name'],  #we're balancing splits by object\n",
    "                           num_splits=5,  \n",
    "                           num_per_class_test=5,  \n",
    "                           num_per_class_train=75,\n",
    "                           train_filter=lambda x: x['variation_level'] != 'V0',\n",
    "                           test_filter=lambda x: x['variation_level']  != 'V0'\n",
    "                           )\n",
    "    \n",
    "res = train_and_test_scikit_regressor(features=IT_Neural_Data, \n",
    "                                labels=meta_array['translation_y'],\n",
    "                                splits=splits,\n",
    "                                model_class=LassoCV,\n",
    "                                feature_norm=False)\n",
    "\n",
    "rval = res['test']['mean_pearson']\n",
    "rs = res['test']['mean_rsquared']\n",
    "print('LassoCV result on ty estimation: corr=%.3f, rsquared=%.3f' % (rval, rs))"
   ]
  },
  {
   "cell_type": "code",
   "execution_count": 405,
   "metadata": {
    "collapsed": false
   },
   "outputs": [
    {
     "name": "stdout",
     "output_type": "stream",
     "text": [
      "ElasticNet result on ty estimation: corr=0.614, rsquared=0.376\n"
     ]
    }
   ],
   "source": [
    "splits = cv.get_splits(metadata=meta_array, \n",
    "                           split_by_func=lambda x: x['object_name'],  #we're balancing splits by object\n",
    "                           num_splits=5,  \n",
    "                           num_per_class_test=5,  \n",
    "                           num_per_class_train=75,\n",
    "                           train_filter=lambda x: x['variation_level'] != 'V0',\n",
    "                           test_filter=lambda x: x['variation_level']  != 'V0'\n",
    "                           )\n",
    "    \n",
    "res = train_and_test_scikit_regressor(features=IT_Neural_Data, \n",
    "                                labels=meta_array['translation_y'],\n",
    "                                splits=splits,\n",
    "                                model_class=ElasticNet,\n",
    "                                model_args={'alpha':1e-3, 'l1_ratio': .5},\n",
    "                                feature_norm=False)\n",
    "\n",
    "rval = res['test']['mean_pearson']\n",
    "rs = res['test']['mean_rsquared']\n",
    "print('ElasticNet result on ty estimation: corr=%.3f, rsquared=%.3f' % (rval, rs))"
   ]
  },
  {
   "cell_type": "code",
   "execution_count": 406,
   "metadata": {
    "collapsed": false
   },
   "outputs": [
    {
     "name": "stdout",
     "output_type": "stream",
     "text": [
      "ElasticNetCV result on ty estimation: corr=0.614, rsquared=0.375\n"
     ]
    }
   ],
   "source": [
    "splits = cv.get_splits(metadata=meta_array, \n",
    "                           split_by_func=lambda x: x['object_name'],  #we're balancing splits by object\n",
    "                           num_splits=5,  \n",
    "                           num_per_class_test=5,  \n",
    "                           num_per_class_train=75,\n",
    "                           train_filter=lambda x: x['variation_level'] != 'V0',\n",
    "                           test_filter=lambda x: x['variation_level']  != 'V0'\n",
    "                           )\n",
    "    \n",
    "res = train_and_test_scikit_regressor(features=IT_Neural_Data, \n",
    "                                labels=meta_array['translation_y'],\n",
    "                                splits=splits,\n",
    "                                model_class=ElasticNetCV,\n",
    "                                feature_norm=False)\n",
    "\n",
    "rval = res['test']['mean_pearson']\n",
    "rs = res['test']['mean_rsquared']\n",
    "print('ElasticNetCV result on ty estimation: corr=%.3f, rsquared=%.3f' % (rval, rs))"
   ]
  },
  {
   "cell_type": "code",
   "execution_count": 407,
   "metadata": {
    "collapsed": false
   },
   "outputs": [
    {
     "name": "stdout",
     "output_type": "stream",
     "text": [
      "OrthogonalMatchingPursuit result on ty estimation: corr=0.592, rsquared=0.349\n"
     ]
    }
   ],
   "source": [
    "splits = cv.get_splits(metadata=meta_array, \n",
    "                           split_by_func=lambda x: x['object_name'],  #we're balancing splits by object\n",
    "                           num_splits=5,  \n",
    "                           num_per_class_test=5,  \n",
    "                           num_per_class_train=75,\n",
    "                           train_filter=lambda x: x['variation_level'] in ['V3', 'V6'],\n",
    "                           test_filter=lambda x: x['variation_level'] in ['V3', 'V6']\n",
    "                           )\n",
    "    \n",
    "res = train_and_test_scikit_regressor(features=IT_Neural_Data, \n",
    "                                labels=meta_array['translation_y'],\n",
    "                                splits=splits,\n",
    "                                model_class=OrthogonalMatchingPursuit,\n",
    "                                feature_norm=False)\n",
    "\n",
    "rval = res['test']['mean_pearson']\n",
    "rs = res['test']['mean_rsquared']\n",
    "print('OrthogonalMatchingPursuit result on ty estimation: corr=%.3f, rsquared=%.3f' % (rval, rs))"
   ]
  },
  {
   "cell_type": "code",
   "execution_count": 188,
   "metadata": {
    "collapsed": true
   },
   "outputs": [],
   "source": [
    "from sklearn.svm import SVR, LinearSVR"
   ]
  },
  {
   "cell_type": "code",
   "execution_count": 419,
   "metadata": {
    "collapsed": false
   },
   "outputs": [
    {
     "name": "stdout",
     "output_type": "stream",
     "text": [
      "SVR result on ty estimation: corr=0.609, rsquared=0.360\n"
     ]
    }
   ],
   "source": [
    "splits = cv.get_splits(metadata=meta_array, \n",
    "                           split_by_func=lambda x: x['object_name'],  #we're balancing splits by object\n",
    "                           num_splits=5,  \n",
    "                           num_per_class_test=5,  \n",
    "                           num_per_class_train=75,\n",
    "                           train_filter=lambda x: x['variation_level'] in ['V3', 'V6'],\n",
    "                           test_filter=lambda x: x['variation_level'] in ['V3', 'V6']\n",
    "                           )\n",
    "    \n",
    "res = train_and_test_scikit_regressor(features=IT_Neural_Data, \n",
    "                                labels=meta_array['translation_y'],\n",
    "                                splits=splits,\n",
    "                                model_class=SVR,\n",
    "                                model_args={'C': 1e-1},\n",
    "                                feature_norm=False)\n",
    "\n",
    "rval = res['test']['mean_pearson']\n",
    "rs = res['test']['mean_rsquared']\n",
    "print('SVR result on ty estimation: corr=%.3f, rsquared=%.3f' % (rval, rs))"
   ]
  },
  {
   "cell_type": "code",
   "execution_count": 383,
   "metadata": {
    "collapsed": true
   },
   "outputs": [],
   "source": [
    "from sklearn.kernel_ridge import KernelRidge"
   ]
  },
  {
   "cell_type": "code",
   "execution_count": 418,
   "metadata": {
    "collapsed": false
   },
   "outputs": [
    {
     "name": "stdout",
     "output_type": "stream",
     "text": [
      "Kernel Ridge result on ty estimation (C=5e-2): corr=0.645, rsquared=0.414\n"
     ]
    }
   ],
   "source": [
    "splits = cv.get_splits(metadata=meta_array, \n",
    "                           split_by_func=lambda x: x['object_name'],  #we're balancing splits by object\n",
    "                           num_splits=5,  \n",
    "                           num_per_class_test=5,  \n",
    "                           num_per_class_train=75,\n",
    "                           train_filter=lambda x: x['variation_level'] in ['V3', 'V6'],\n",
    "                           test_filter=lambda x: x['variation_level'] in ['V3', 'V6']\n",
    "                           )\n",
    "    \n",
    "res = train_and_test_scikit_regressor(features=IT_Neural_Data, \n",
    "                                labels=meta_array['translation_y'],\n",
    "                                splits=splits,\n",
    "                                model_class=KernelRidge,\n",
    "                                model_args={'alpha': 5e-2, \n",
    "                                            'kernel':'rbf'},\n",
    "                                feature_norm=False)\n",
    "\n",
    "rval = res['test']['mean_pearson']\n",
    "rs = res['test']['mean_rsquared']\n",
    "print('Kernel Ridge result on ty estimation (C=5e-2): corr=%.3f, rsquared=%.3f' % (rval, rs))"
   ]
  },
  {
   "cell_type": "code",
   "execution_count": 417,
   "metadata": {
    "collapsed": false
   },
   "outputs": [
    {
     "name": "stdout",
     "output_type": "stream",
     "text": [
      "Kernel Ridge V4 result on ty estimation (C=5e-2): corr=0.356, rsquared=0.113\n"
     ]
    }
   ],
   "source": [
    "splits = cv.get_splits(metadata=meta_array, \n",
    "                           split_by_func=lambda x: x['object_name'],  #we're balancing splits by object\n",
    "                           num_splits=5,  \n",
    "                           num_per_class_test=5,  \n",
    "                           num_per_class_train=75,\n",
    "                           train_filter=lambda x: x['variation_level'] in ['V3', 'V6'],\n",
    "                           test_filter=lambda x: x['variation_level'] in ['V3', 'V6']\n",
    "                           )\n",
    "    \n",
    "res = train_and_test_scikit_regressor(features=V4_Neural_Data, \n",
    "                                labels=meta_array['translation_y'],\n",
    "                                splits=splits,\n",
    "                                model_class=KernelRidge,\n",
    "                                model_args={'alpha': 5e-2, \n",
    "                                            'kernel':'rbf'},\n",
    "                                feature_norm=False)\n",
    "\n",
    "rval = res['test']['mean_pearson']\n",
    "rs = res['test']['mean_rsquared']\n",
    "print('Kernel Ridge V4 result on ty estimation (C=5e-2): corr=%.3f, rsquared=%.3f' % (rval, rs))"
   ]
  },
  {
   "cell_type": "code",
   "execution_count": null,
   "metadata": {
    "collapsed": true
   },
   "outputs": [],
   "source": []
  },
  {
   "cell_type": "code",
   "execution_count": 229,
   "metadata": {
    "collapsed": false
   },
   "outputs": [],
   "source": []
  },
  {
   "cell_type": "code",
   "execution_count": 230,
   "metadata": {
    "collapsed": false
   },
   "outputs": [
    {
     "name": "stdout",
     "output_type": "stream",
     "text": [
      "(0.99999980997329485, 3.0681489570470566e-59)\n",
      "(0.93123010162162545, 3.0192704846066848e-18)\n",
      "0.999999619946\n",
      "-0.193022924819\n"
     ]
    },
    {
     "data": {
      "image/png": "[encoded data removed]",
      "text/plain": [
       "<matplotlib.figure.Figure at 0x7f2911f44d10>"
      ]
     },
     "metadata": {},
     "output_type": "display_data"
    }
   ],
   "source": []
  },
  {
   "cell_type": "code",
   "execution_count": 246,
   "metadata": {
    "collapsed": false
   },
   "outputs": [
    {
     "data": {
      "text/plain": [
       "0.53397174659040603"
      ]
     },
     "execution_count": 246,
     "metadata": {},
     "output_type": "execute_result"
    }
   ],
   "source": [
    "splits = cv.get_splits(metadata=meta_array, \n",
    "                           split_by_func=lambda x: x['object_name'],  #we're balancing splits by object\n",
    "                           num_splits=5,  \n",
    "                           num_per_class_test=5,  \n",
    "                           num_per_class_train=75,\n",
    "                           train_filter=lambda x: x['variation_level'] in ['V3', 'V6'],\n",
    "                           test_filter=lambda x: x['variation_level'] in ['V3', 'V6']\n",
    "                           )\n",
    "    \n",
    "res = train_and_test_scikit_regressor(features=V4_Neural_Data, \n",
    "                                labels=IT_Neural_Data[:, 2],\n",
    "                                splits=splits,\n",
    "                                model_class=RidgeCV,\n",
    "                                #model_args={'alpha':1e-3},\n",
    "                                feature_norm=False)\n",
    "\n",
    "res['test']['mean_pearson']"
   ]
  },
  {
   "cell_type": "code",
   "execution_count": 254,
   "metadata": {
    "collapsed": true
   },
   "outputs": [],
   "source": [
    "splits = cv.get_splits(metadata=meta_array, \n",
    "                           split_by_func=lambda x: x['object_name'],  #we're balancing splits by object\n",
    "                           num_splits=5,  \n",
    "                           num_per_class_test=5,  \n",
    "                           num_per_class_train=75,\n",
    "                           train_filter=lambda x: x['variation_level'] in ['V3', 'V6'],\n",
    "                           test_filter=lambda x: x['variation_level'] in ['V3', 'V6']\n",
    "                           )\n",
    "    \n",
    "res_V4_IT = [train_and_test_scikit_regressor(features=V4_Neural_Data, \n",
    "                                labels=IT_Neural_Data[:, i],\n",
    "                                splits=splits,\n",
    "                                model_class=RidgeCV,\n",
    "                                feature_norm=False) for i in range(IT_Neural_Data.shape[1])]\n"
   ]
  },
  {
   "cell_type": "code",
   "execution_count": 282,
   "metadata": {
    "collapsed": true
   },
   "outputs": [],
   "source": [
    "res_IT_V4 = [train_and_test_scikit_regressor(features=IT_Neural_Data, \n",
    "                                labels=V4_Neural_Data[:, i],\n",
    "                                splits=splits,\n",
    "                                model_class=RidgeCV,\n",
    "                                feature_norm=False) for i in range(V4_Neural_Data.shape[1])]\n"
   ]
  },
  {
   "cell_type": "code",
   "execution_count": 261,
   "metadata": {
    "collapsed": false
   },
   "outputs": [
    {
     "data": {
      "text/plain": [
       "0.54783555571122045"
      ]
     },
     "execution_count": 261,
     "metadata": {},
     "output_type": "execute_result"
    }
   ],
   "source": [
    "np.median([r['test']['mean_pearson'] for r in res_V4_IT])"
   ]
  },
  {
   "cell_type": "code",
   "execution_count": 247,
   "metadata": {
    "collapsed": true
   },
   "outputs": [],
   "source": [
    "from sklearn.cross_decomposition import PLSRegression"
   ]
  },
  {
   "cell_type": "code",
   "execution_count": 343,
   "metadata": {
    "collapsed": false
   },
   "outputs": [
    {
     "data": {
      "text/plain": [
       "0.53976493575417739"
      ]
     },
     "execution_count": 343,
     "metadata": {},
     "output_type": "execute_result"
    }
   ],
   "source": [
    "splits = cv.get_splits(metadata=meta_array, \n",
    "                           split_by_func=lambda x: x['object_name'],  #we're balancing splits by object\n",
    "                           num_splits=5,  \n",
    "                           num_per_class_test=5,  \n",
    "                           num_per_class_train=75,\n",
    "                           train_filter=lambda x: x['variation_level'] in ['V3', 'V6'],\n",
    "                           test_filter=lambda x: x['variation_level'] in ['V3', 'V6']\n",
    "                           )\n",
    "    \n",
    "res_V4_IT_pls = train_and_test_scikit_regressor(features=V4_Neural_Data, \n",
    "                                labels=IT_Neural_Data,\n",
    "                                splits=splits,\n",
    "                                model_class=PLSRegression,\n",
    "                                model_args={'n_components': 25},\n",
    "                                feature_norm=False)\n",
    "\n",
    "res['test']['mean_pearson']"
   ]
  },
  {
   "cell_type": "code",
   "execution_count": 253,
   "metadata": {
    "collapsed": false
   },
   "outputs": [
    {
     "data": {
      "text/plain": [
       "0.28653963379215613"
      ]
     },
     "execution_count": 253,
     "metadata": {},
     "output_type": "execute_result"
    }
   ],
   "source": [
    "res['test']['mean_rsquared']"
   ]
  },
  {
   "cell_type": "code",
   "execution_count": 265,
   "metadata": {
    "collapsed": true
   },
   "outputs": [],
   "source": [
    "def idfunc(x):\n",
    "    return x\n",
    "\n",
    "def pearsonr(a, b):\n",
    "    return stats.pearsonr(a, b)[0]\n",
    "\n",
    "def spearmanr(a, b):\n",
    "    return stats.spearmanr(a, b)[0]\n",
    "\n",
    "def split_half_correlation(datas_by_trial,\n",
    "                           num_splits,\n",
    "                           aggfunc=idfunc,\n",
    "                           statfunc=pearsonr):\n",
    "    \"\"\"\n",
    "    Similar to split-half calculation from lecture 2, \n",
    "    but now allowing various aggregation and statistical comparison \n",
    "    functions\n",
    "    \"\"\"\n",
    "        \n",
    "    random_number_generator = np.random.RandomState(seed=0)\n",
    "\n",
    "    corrvals = []\n",
    "    for split_index in range(num_splits):\n",
    "        stats1 = []\n",
    "        stats2 = []\n",
    "        for data in datas_by_trial:\n",
    "            #get total number of trials\n",
    "            num_trials = data.shape[0]\n",
    "\n",
    "            #construct a new permutation of the trial indices\n",
    "            perm = random_number_generator.permutation(num_trials)\n",
    "\n",
    "            #take the first num_trials/2 and second num_trials/2 pieces of the data\n",
    "            first_half_of_trial_indices = perm[:num_trials / 2]\n",
    "            second_half_of_trial_indices = perm[num_trials / 2: num_trials]\n",
    "\n",
    "            #mean over trial dimension\n",
    "            s1 = aggfunc(data[first_half_of_trial_indices].mean(axis=0))\n",
    "            s2 = aggfunc(data[second_half_of_trial_indices].mean(axis=0))\n",
    "            stats1.extend(s1)\n",
    "            stats2.extend(s2)\n",
    "        \n",
    "        #compute the correlation between the means\n",
    "        corrval = statfunc(np.array(stats1), \n",
    "                           np.array(stats2))\n",
    "        #add to the list\n",
    "        corrvals.append(corrval)\n",
    "        \n",
    "    return spearman_brown(np.array(corrvals), 2)"
   ]
  },
  {
   "cell_type": "code",
   "execution_count": 264,
   "metadata": {
    "collapsed": false
   },
   "outputs": [],
   "source": [
    "IT_Data_by_trial = {}\n",
    "V4_Data_by_trial = {}\n",
    "for vl in ['V0', 'V3', 'V6']:\n",
    "    level_number = vl[-1]\n",
    "    arr = Ventral_Dataset['time_averaged']['variation_level_%s' % level_number][:, :, IT_NEURONS]\n",
    "    IT_Data_by_trial[vl] = arr.swapaxes(0, 1)\n",
    "    arr = Ventral_Dataset['time_averaged']['variation_level_%s' % level_number][:, :, V4_NEURONS]\n",
    "    V4_Data_by_trial[vl] = arr.swapaxes(0, 1)\n",
    "    \n",
    "    "
   ]
  },
  {
   "cell_type": "code",
   "execution_count": 267,
   "metadata": {
    "collapsed": false
   },
   "outputs": [
    {
     "data": {
      "text/plain": [
       "(2560, 51, 168)"
      ]
     },
     "execution_count": 267,
     "metadata": {},
     "output_type": "execute_result"
    }
   ],
   "source": [
    "IT_Data_by_trial['V3'].shape"
   ]
  },
  {
   "cell_type": "code",
   "execution_count": 275,
   "metadata": {
    "collapsed": false
   },
   "outputs": [],
   "source": [
    "split_half_IT  = np.array([split_half_correlation([IT_Data_by_trial[vl][:, :, i].T for vl in ['V3', 'V6']],\n",
    "                           num_splits=50,\n",
    "                           aggfunc=idfunc,\n",
    "                           statfunc=pearsonr).mean() for i in range(len(IT_NEURONS))])\n",
    "\n",
    "split_half_V4  = np.array([split_half_correlation([V4_Data_by_trial[vl][:, :, i].T for vl in ['V3', 'V6']],\n",
    "                           num_splits=50,\n",
    "                           aggfunc=idfunc,\n",
    "                           statfunc=pearsonr).mean() for i in range(len(V4_NEURONS))])"
   ]
  },
  {
   "cell_type": "code",
   "execution_count": 273,
   "metadata": {
    "collapsed": false
   },
   "outputs": [
    {
     "data": {
      "text/plain": [
       "(array([  5.,   2.,   9.,   6.,   9.,   6.,  12.,  18.,  48.,  53.]),\n",
       " array([ 0.04933278,  0.14195763,  0.23458249,  0.32720735,  0.4198322 ,\n",
       "         0.51245706,  0.60508192,  0.69770678,  0.79033163,  0.88295649,\n",
       "         0.97558135]),\n",
       " <a list of 10 Patch objects>)"
      ]
     },
     "execution_count": 273,
     "metadata": {},
     "output_type": "execute_result"
    },
    {
     "data": {
      "image/png": "[encoded data removed]",
      "text/plain": [
       "<matplotlib.figure.Figure at 0x7f2912503810>"
      ]
     },
     "metadata": {},
     "output_type": "display_data"
    }
   ],
   "source": [
    "plt.hist(split_half_IT)"
   ]
  },
  {
   "cell_type": "code",
   "execution_count": 283,
   "metadata": {
    "collapsed": false
   },
   "outputs": [],
   "source": [
    "V4_IT_vec = np.array([r['test']['mean_pearson'] for r in res_V4_IT])\n",
    "IT_V4_vec = np.array([r['test']['mean_pearson'] for r in res_IT_V4])"
   ]
  },
  {
   "cell_type": "code",
   "execution_count": 303,
   "metadata": {
    "collapsed": false
   },
   "outputs": [
    {
     "data": {
      "text/plain": [
       "0.54783555571122045"
      ]
     },
     "execution_count": 303,
     "metadata": {},
     "output_type": "execute_result"
    }
   ],
   "source": [
    "np.median(V4_IT_vec)"
   ]
  },
  {
   "cell_type": "code",
   "execution_count": 280,
   "metadata": {
    "collapsed": false
   },
   "outputs": [
    {
     "data": {
      "text/plain": [
       "0.71325808403042101"
      ]
     },
     "execution_count": 280,
     "metadata": {},
     "output_type": "execute_result"
    }
   ],
   "source": [
    "np.median(V4_IT_vec / split_half_IT)"
   ]
  },
  {
   "cell_type": "code",
   "execution_count": 284,
   "metadata": {
    "collapsed": false
   },
   "outputs": [
    {
     "data": {
      "text/plain": [
       "0.7002231931877323"
      ]
     },
     "execution_count": 284,
     "metadata": {},
     "output_type": "execute_result"
    }
   ],
   "source": [
    "np.median(IT_V4_vec / split_half_V4)"
   ]
  },
  {
   "cell_type": "code",
   "execution_count": 285,
   "metadata": {
    "collapsed": true
   },
   "outputs": [],
   "source": [
    "dnnfile = h5py.File('/home/chengxuz/Class/psych253_2018/data/response_resnet34_all.hdf5', mode='r')"
   ]
  },
  {
   "cell_type": "code",
   "execution_count": 286,
   "metadata": {
    "collapsed": false
   },
   "outputs": [
    {
     "data": {
      "text/plain": [
       "(5760, 14, 14, 256)"
      ]
     },
     "execution_count": 286,
     "metadata": {},
     "output_type": "execute_result"
    }
   ],
   "source": [
    "dnnfile['encode_11']"
   ]
  },
  {
   "cell_type": "code",
   "execution_count": 287,
   "metadata": {
    "collapsed": false
   },
   "outputs": [
    {
     "data": {
      "text/plain": [
       "50176"
      ]
     },
     "execution_count": 287,
     "metadata": {},
     "output_type": "execute_result"
    }
   ],
   "source": [
    "14 * 14 * 256"
   ]
  },
  {
   "cell_type": "code",
   "execution_count": 340,
   "metadata": {
    "collapsed": false
   },
   "outputs": [],
   "source": [
    "splits = cv.get_splits(metadata=meta_array, \n",
    "                           split_by_func=lambda x: x['object_name'],  #we're balancing splits by object\n",
    "                           num_splits=1,  \n",
    "                           num_per_class_test=5,  \n",
    "                           num_per_class_train=75,\n",
    "                           train_filter=lambda x: x['variation_level'] in ['V3', 'V6'],\n",
    "                           test_filter=lambda x: x['variation_level'] in ['V3', 'V6']\n",
    "                           )\n",
    "    \n",
    "dnn11feats = dnnfile['encode_11'][:].reshape((5760, 14 * 14 * 256))\n",
    "perm = np.random.RandomState(seed=0).permutation(dnn11feats.shape[1])\n",
    "#dnn11feats = dnn11feats[:, perm[: 20000]]"
   ]
  },
  {
   "cell_type": "code",
   "execution_count": 341,
   "metadata": {
    "collapsed": false
   },
   "outputs": [],
   "source": [
    "res_dnn11_IT_pls = train_and_test_scikit_regressor(features=dnn11feats, \n",
    "                                labels=IT_Neural_Data,\n",
    "                                splits=splits,\n",
    "                                model_class=PLSRegression,\n",
    "                                model_args={'n_components': 25},\n",
    "                                feature_norm=False) "
   ]
  },
  {
   "cell_type": "code",
   "execution_count": 307,
   "metadata": {
    "collapsed": false
   },
   "outputs": [
    {
     "data": {
      "text/plain": [
       "0.43844251150668712"
      ]
     },
     "execution_count": 307,
     "metadata": {},
     "output_type": "execute_result"
    }
   ],
   "source": [
    "res_dnn11_IT[3]['test']['mean_pearson']"
   ]
  },
  {
   "cell_type": "code",
   "execution_count": 336,
   "metadata": {
    "collapsed": false
   },
   "outputs": [
    {
     "data": {
      "text/plain": [
       "0.54783555571122045"
      ]
     },
     "execution_count": 336,
     "metadata": {},
     "output_type": "execute_result"
    }
   ],
   "source": [
    "np.median(V4_IT_vec)"
   ]
  },
  {
   "cell_type": "code",
   "execution_count": 344,
   "metadata": {
    "collapsed": false
   },
   "outputs": [
    {
     "data": {
      "text/plain": [
       "0.68055145695665287"
      ]
     },
     "execution_count": 344,
     "metadata": {},
     "output_type": "execute_result"
    }
   ],
   "source": [
    "np.median(res_dnn11_IT_pls['test']['mean_pearson_array']/ split_half_IT)"
   ]
  },
  {
   "cell_type": "code",
   "execution_count": 342,
   "metadata": {
    "collapsed": false
   },
   "outputs": [
    {
     "data": {
      "text/plain": [
       "0.5265881507557777"
      ]
     },
     "execution_count": 342,
     "metadata": {},
     "output_type": "execute_result"
    }
   ],
   "source": [
    "res_dnn11_IT_pls['test']['mean_pearson']"
   ]
  },
  {
   "cell_type": "code",
   "execution_count": null,
   "metadata": {
    "collapsed": true
   },
   "outputs": [],
   "source": []
  }
 ],
 "metadata": {
  "kernelspec": {
   "display_name": "Python 2",
   "language": "python",
   "name": "python2"
  },
  "language_info": {
   "codemirror_mode": {
    "name": "ipython",
    "version": 2
   },
   "file_extension": ".py",
   "mimetype": "text/x-python",
   "name": "python",
   "nbconvert_exporter": "python",
   "pygments_lexer": "ipython2",
   "version": "2.7.12"
  }
 },
 "nbformat": 4,
 "nbformat_minor": 2
}
