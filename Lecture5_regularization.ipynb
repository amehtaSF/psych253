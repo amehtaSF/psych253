{
 "cells": [
  {
   "cell_type": "code",
   "execution_count": 123,
   "metadata": {
    "collapsed": true,
    "deletable": true,
    "editable": true
   },
   "outputs": [],
   "source": [
    "%matplotlib inline\n",
    "import matplotlib\n",
    "import matplotlib.pyplot as plt"
   ]
  },
  {
   "cell_type": "code",
   "execution_count": 124,
   "metadata": {
    "collapsed": false,
    "deletable": true,
    "editable": true
   },
   "outputs": [],
   "source": [
    "#standard imports\n",
    "import time\n",
    "import pymongo as pm\n",
    "import numpy as np\n",
    "import h5py\n",
    "import scipy as sp\n",
    "import scipy.stats as stats\n",
    "\n",
    "#our own internal utility unctions\n",
    "import metrics ; reload(metrics)\n",
    "import cross_validation as cv; reload(cv)\n",
    "import utils; reload(utils)\n",
    "from utils import featurewise_norm\n",
    "import minimum_distance_classifier as mdc\n",
    "\n",
    "#and the relevant things from sklearn\n",
    "from sklearn.svm import LinearSVC"
   ]
  },
  {
   "cell_type": "code",
   "execution_count": 125,
   "metadata": {
    "collapsed": true,
    "deletable": true,
    "editable": true
   },
   "outputs": [],
   "source": [
    "#ok let's load the data \n",
    "DATA_PATH = \"/home/chengxuz/Class/psych253_2018/data/ventral_neural_data.hdf5\"\n",
    "Ventral_Dataset = h5py.File(DATA_PATH)\n",
    "\n",
    "categories = Ventral_Dataset['image_meta']['category'][:]   #array of category labels for all images  --> shape == (5760,)\n",
    "unique_categories = np.unique(categories)                #array of unique category labels --> shape == (8,)\n",
    "objects = Ventral_Dataset['image_meta']['object_name'][:]   #array of object labels for all images --> shape == (5670,)\n",
    "unique_objects = np.unique(objects)                      #array of unique object labels --> shape == (64,) \n",
    "\n",
    "objects_by_category = {c: np.unique(objects[categories == c]) \n",
    "                       for c in unique_categories}\n",
    "\n",
    "Neural_Data = Ventral_Dataset['time_averaged_trial_averaged'][:]\n",
    "IT_NEURONS = Ventral_Dataset['neural_meta']['IT_NEURONS']\n",
    "V4_NEURONS = Ventral_Dataset['neural_meta']['V4_NEURONS']\n",
    "V4_Neural_Data = Neural_Data[:, V4_NEURONS]\n",
    "IT_Neural_Data = Neural_Data[:, IT_NEURONS]\n",
    "\n",
    "var_level = Ventral_Dataset['image_meta']['variation_level'][:]\n",
    "\n",
    "#use numpy recarray object to store metadata \n",
    "meta_array = np.core.records.fromarrays(Ventral_Dataset['image_meta'].values(),\n",
    "                                        names=Ventral_Dataset['image_meta'].keys())"
   ]
  },
  {
   "cell_type": "markdown",
   "metadata": {
    "deletable": true,
    "editable": true
   },
   "source": [
    "## Nearest Neighbor classifiers"
   ]
  },
  {
   "cell_type": "code",
   "execution_count": 126,
   "metadata": {
    "collapsed": true,
    "deletable": true,
    "editable": true
   },
   "outputs": [],
   "source": [
    "splits = cv.get_splits(meta_array, \n",
    "                        lambda x: x['object_name'],  \n",
    "                        5,  \n",
    "                        5,  \n",
    "                        75,  \n",
    "                        train_filter=lambda x: (x['variation_level'] in ['V3', 'V6']),\n",
    "                        test_filter=lambda x: (x['variation_level'] in ['V3', 'V6'])\n",
    "                       )"
   ]
  },
  {
   "cell_type": "code",
   "execution_count": 127,
   "metadata": {
    "collapsed": false,
    "deletable": true,
    "editable": true
   },
   "outputs": [],
   "source": [
    "t0 = time.time()\n",
    "SVM_res = cv.train_and_test_scikit_classifier(features=Neural_Data, \n",
    "                                 labels=meta_array['category'],\n",
    "                                 splits=splits,\n",
    "                                 model_class=LinearSVC,\n",
    "                                 model_args={'C': 1e-3}\n",
    "                                 )\n",
    "t_SVM = time.time() - t0"
   ]
  },
  {
   "cell_type": "code",
   "execution_count": 128,
   "metadata": {
    "collapsed": false,
    "deletable": true,
    "editable": true
   },
   "outputs": [],
   "source": [
    "t0 = time.time()\n",
    "MDC_res = cv.train_and_test_scikit_classifier(features=Neural_Data, \n",
    "                                 labels=meta_array['category'],\n",
    "                                 splits=splits,\n",
    "                                 model_class=mdc.MinimumDistanceClassifier\n",
    "                                 )\n",
    "t_MDC = time.time() - t0"
   ]
  },
  {
   "cell_type": "code",
   "execution_count": 129,
   "metadata": {
    "collapsed": false,
    "deletable": true,
    "editable": true
   },
   "outputs": [],
   "source": [
    "from sklearn.neighbors import KNeighborsClassifier"
   ]
  },
  {
   "cell_type": "code",
   "execution_count": 130,
   "metadata": {
    "collapsed": true,
    "deletable": true,
    "editable": true
   },
   "outputs": [],
   "source": [
    "t0 = time.time()\n",
    "KNN_res = cv.train_and_test_scikit_classifier(features=Neural_Data, \n",
    "                                 labels=meta_array['category'],\n",
    "                                 splits=splits,\n",
    "                                 model_class=KNeighborsClassifier,\n",
    "                                 model_args={'n_neighbors': 5}\n",
    "                                 )\n",
    "t_KNN = time.time() - t0"
   ]
  },
  {
   "cell_type": "code",
   "execution_count": 131,
   "metadata": {
    "collapsed": false,
    "deletable": true,
    "editable": true
   },
   "outputs": [
    {
     "name": "stdout",
     "output_type": "stream",
     "text": [
      "SVM Accuracy: 73.50%, Time: 3.400555s\n",
      "MDC Accuracy: 52.81%, Time: 0.204277s\n",
      "KNN Accuracy: 52.44%, Time: 60.671547s\n"
     ]
    }
   ],
   "source": [
    "print('SVM Accuracy: %.2f%%, Time: %fs' % (SVM_res[0]['test']['mean_accuracy']*100, t_SVM))\n",
    "print('MDC Accuracy: %.2f%%, Time: %fs' % (MDC_res[0]['test']['mean_accuracy']*100, t_MDC))\n",
    "print('KNN Accuracy: %.2f%%, Time: %fs' % (KNN_res[0]['test']['mean_accuracy']*100, t_KNN))\n",
    "#chance here is an 12.5%"
   ]
  },
  {
   "cell_type": "markdown",
   "metadata": {
    "deletable": true,
    "editable": true
   },
   "source": [
    "## Logistic Regression"
   ]
  },
  {
   "cell_type": "code",
   "execution_count": 122,
   "metadata": {
    "collapsed": false,
    "deletable": true,
    "editable": true
   },
   "outputs": [
    {
     "data": {
      "text/plain": [
       "<matplotlib.text.Text at 0x7fcb99c5df50>"
      ]
     },
     "execution_count": 122,
     "metadata": {},
     "output_type": "execute_result"
    },
    {
     "data": {
      "image/png": "[encoded data removed]",
      "text/plain": [
       "<matplotlib.figure.Figure at 0x7fcb99dee910>"
      ]
     },
     "metadata": {},
     "output_type": "display_data"
    }
   ],
   "source": [
    "#Let's have a look at the output of the logistic function\n",
    "def standard_logistic(x):\n",
    "    return 1. / (1 + np.exp(-x))\n",
    "\n",
    "x = np.arange(-10, 10, .1)\n",
    "y = standard_logistic(x)\n",
    "plt.plot(x, y)\n",
    "plt.xlabel('margin of event')\n",
    "plt.ylabel('probability of event')\n",
    "plt.title('Standard Logistic Function')"
   ]
  },
  {
   "cell_type": "code",
   "execution_count": 27,
   "metadata": {
    "collapsed": true,
    "deletable": true,
    "editable": true
   },
   "outputs": [],
   "source": [
    "from sklearn.linear_model import LogisticRegression"
   ]
  },
  {
   "cell_type": "code",
   "execution_count": 44,
   "metadata": {
    "collapsed": true,
    "deletable": true,
    "editable": true
   },
   "outputs": [],
   "source": [
    "#this uses the one-vs-all strategy to handle multiclass logistic regression\n",
    "t0 = time.time()\n",
    "LR_res = cv.train_and_test_scikit_classifier(features=Neural_Data, \n",
    "                                 labels=meta_array['category'],\n",
    "                                 splits=splits,\n",
    "                                 model_class=LogisticRegression,\n",
    "                                 model_args={'solver': 'saga',\n",
    "                                            'C': 1e-2}\n",
    "                                 )\n",
    "t_LR = time.time() - t0"
   ]
  },
  {
   "cell_type": "code",
   "execution_count": 45,
   "metadata": {
    "collapsed": false,
    "deletable": true,
    "editable": true
   },
   "outputs": [
    {
     "name": "stdout",
     "output_type": "stream",
     "text": [
      "LR Accuracy: 73.75%, Time: 39.894243s\n"
     ]
    }
   ],
   "source": [
    "print('LR Accuracy: %.2f%%, Time: %fs' % (LR_res[0]['test']['mean_accuracy']*100, t_LR))\n"
   ]
  },
  {
   "cell_type": "markdown",
   "metadata": {
    "deletable": true,
    "editable": true
   },
   "source": [
    "### Logistic Regression with Softmax multiclass"
   ]
  },
  {
   "cell_type": "code",
   "execution_count": 42,
   "metadata": {
    "collapsed": false,
    "deletable": true,
    "editable": true
   },
   "outputs": [],
   "source": [
    "#this uses the softmax strategy to handle multiclass logistic regression\n",
    "t0 = time.time()\n",
    "LRmult_res = cv.train_and_test_scikit_classifier(features=Neural_Data, \n",
    "                                 labels=meta_array['category'],\n",
    "                                 splits=splits,\n",
    "                                 model_class=LogisticRegression,\n",
    "                                 model_args={'solver': 'saga',\n",
    "                                            'C': 1e-2, \n",
    "                                            'multi_class': 'multinomial'}\n",
    "                                 )\n",
    "t_LRmult = time.time() - t0"
   ]
  },
  {
   "cell_type": "code",
   "execution_count": 43,
   "metadata": {
    "collapsed": false,
    "deletable": true,
    "editable": true
   },
   "outputs": [
    {
     "name": "stdout",
     "output_type": "stream",
     "text": [
      "Multinomial LR Accuracy: 73.19%, Time: 24.043770s\n"
     ]
    }
   ],
   "source": [
    "print('Multinomial LR Accuracy: %.2f%%, Time: %fs' % (LRmult_res[0]['test']['mean_accuracy']*100,\n",
    "                                                      t_LRmult))\n"
   ]
  },
  {
   "cell_type": "code",
   "execution_count": 97,
   "metadata": {
    "collapsed": false,
    "deletable": true,
    "editable": true
   },
   "outputs": [],
   "source": [
    "#lets investigate a little more closely and actualyl look at one trained \n",
    "#logistic regression model\n",
    "splits_1 = cv.get_splits(meta_array, \n",
    "                        lambda x: x['object_name'],  \n",
    "                        1,  \n",
    "                        5,  \n",
    "                        75,  \n",
    "                        train_filter=lambda x: (x['variation_level'] in ['V3', 'V6']),\n",
    "                        test_filter=lambda x: (x['variation_level'] in ['V3', 'V6'])\n",
    "                       )\n",
    "\n",
    "LR_res_1 = cv.train_and_test_scikit_classifier(features=Neural_Data, \n",
    "                                 labels=meta_array['category'],\n",
    "                                 splits=splits_1,\n",
    "                                 model_class=LogisticRegression,\n",
    "                                 model_args={'solver': 'saga',\n",
    "                                             'multi_class': 'multinomial',\n",
    "                                            'C': 1e-2},\n",
    "                                 return_models=True\n",
    "                                 )\n",
    "\n",
    "model = LR_res_1[0]['models'][0]\n",
    "\n",
    "model_weights = model.coef_\n",
    "model_intercept = model.intercept_"
   ]
  },
  {
   "cell_type": "code",
   "execution_count": 119,
   "metadata": {
    "collapsed": false,
    "deletable": true,
    "editable": true
   },
   "outputs": [
    {
     "name": "stdout",
     "output_type": "stream",
     "text": [
      "Number of test stimuli: 320\n"
     ]
    }
   ],
   "source": [
    "test_data = Neural_Data[splits_1[0]['test']]\n",
    "print('Number of test stimuli: %d' % test_data.shape[0])\n",
    "#recall, we have to do feature norm since that was done in the training\n",
    "fmean = LR_res_1[0]['training_sidedata'][0]['fmean']\n",
    "fvar = LR_res_1[0]['training_sidedata'][0]['fvar']\n",
    "normed_test_data = featurewise_norm(test_data, fmean=fmean, fvar = fvar)[0]\n",
    "\n",
    "test_hyperplane = np.dot(normed_test_data, model.coef_.T) + model_intercept\n",
    "\n",
    "test_margins = model.decision_function(normed_test_data)\n",
    "\n",
    "test_probabilities = model.predict_proba(normed_test_data)"
   ]
  },
  {
   "cell_type": "code",
   "execution_count": 120,
   "metadata": {
    "collapsed": false,
    "deletable": true,
    "editable": true
   },
   "outputs": [
    {
     "name": "stdout",
     "output_type": "stream",
     "text": [
      "[ 1.41985537 -3.235781   -2.71192701 -0.72023777  1.8538752   7.338307\n",
      " -2.99996659 -0.9441252 ]\n",
      "[ 1.41985537 -3.235781   -2.71192701 -0.72023777  1.8538752   7.338307\n",
      " -2.99996659 -0.9441252 ]\n"
     ]
    }
   ],
   "source": [
    "example_ind = 0\n",
    "print(test_hyperplane[example_ind])\n",
    "print(test_margins[example_ind])\n",
    "\n",
    "#ok, so the decision function is outputting the same as for the SVM\n",
    "#e.g. the output of \"w * x + b\", the distance of the point to the classifier hyperplane"
   ]
  },
  {
   "cell_type": "code",
   "execution_count": 121,
   "metadata": {
    "collapsed": false,
    "deletable": true,
    "editable": true
   },
   "outputs": [
    {
     "name": "stdout",
     "output_type": "stream",
     "text": [
      "[  2.66931271e-03   2.53794539e-05   4.28537832e-05   3.14028318e-04\n",
      "   4.11994934e-03   9.92545312e-01   3.21288489e-05   2.51035847e-04]\n",
      "[  2.66931271e-03   2.53794539e-05   4.28537832e-05   3.14028318e-04\n",
      "   4.11994934e-03   9.92545312e-01   3.21288489e-05   2.51035847e-04]\n"
     ]
    }
   ],
   "source": [
    "#but what's the relationship between the decision function and the predicted probabilities?\n",
    "def softmax(x):\n",
    "    exp_vector = np.exp(x)\n",
    "    exp_vector_sum = exp_vector.sum()\n",
    "    return exp_vector / exp_vector_sum\n",
    "\n",
    "example_ind = 0\n",
    "print(softmax(test_margins[example_ind]))\n",
    "print(test_probabilities[example_ind])\n",
    "\n",
    "#ah, ok, so the probabilities are exactly the result of the softmax function applied\n",
    "#to the classifier margins \n",
    "#of course, note that the estimated probability of the correct class \n",
    "#(in the case, the 5th class) is the highest -- > 99.2%"
   ]
  },
  {
   "cell_type": "code",
   "execution_count": null,
   "metadata": {
    "collapsed": true,
    "deletable": true,
    "editable": true
   },
   "outputs": [],
   "source": []
  }
 ],
 "metadata": {
  "kernelspec": {
   "display_name": "Python 2",
   "language": "python",
   "name": "python2"
  },
  "language_info": {
   "codemirror_mode": {
    "name": "ipython",
    "version": 2
   },
   "file_extension": ".py",
   "mimetype": "text/x-python",
   "name": "python",
   "nbconvert_exporter": "python",
   "pygments_lexer": "ipython2",
   "version": "2.7.12"
  }
 },
 "nbformat": 4,
 "nbformat_minor": 2
}
