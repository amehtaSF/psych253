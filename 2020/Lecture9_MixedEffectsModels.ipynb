{
 "cells": [
  {
   "cell_type": "markdown",
   "metadata": {},
   "source": [
    "## Mixed effects modeling\n",
    "\n",
    "In this notebook we will walk through the theory and method for estimating mixed-effect models.\n",
    "\n",
    "\n",
    "First let's generate some data.  We will simulate a simple example in which each individual undergoes ten repeated measurements for each of two conditions, and we wish to treat the slope across the two conditions as a random effect.\n"
   ]
  },
  {
   "cell_type": "code",
   "execution_count": 1,
   "metadata": {},
   "outputs": [
    {
     "name": "stderr",
     "output_type": "stream",
     "text": [
      "/Users/poldrack/anaconda3/envs/py37/lib/python3.7/site-packages/rpy2/robjects/pandas2ri.py:14: FutureWarning: pandas.core.index is deprecated and will be removed in a future version.  The public classes are available in the top-level namespace.\n",
      "  from pandas.core.index import Index as PandasIndex\n"
     ]
    }
   ],
   "source": [
    "import numpy as np\n",
    "import pandas as pd\n",
    "import seaborn as sns\n",
    "import scipy.stats\n",
    "import matplotlib.pyplot as plt\n",
    "import statsmodels.formula.api as smf\n",
    "import statsmodels.api as sm\n",
    "\n",
    "# set up rpy2\n",
    "import rpy2.robjects as robjects\n",
    "from rpy2.robjects import r, pandas2ri\n",
    "from rpy2.robjects.packages import importr\n",
    "pandas2ri.activate()\n",
    "\n",
    "%load_ext rpy2.ipython"
   ]
  },
  {
   "cell_type": "code",
   "execution_count": 2,
   "metadata": {},
   "outputs": [
    {
     "data": {
      "text/plain": [
       "<matplotlib.axes._subplots.AxesSubplot at 0x11b925790>"
      ]
     },
     "execution_count": 2,
     "metadata": {},
     "output_type": "execute_result"
    },
    {
     "data": {
      "image/png": "[encoded data removed]",
      "text/plain": [
       "<Figure size 432x288 with 1 Axes>"
      ]
     },
     "metadata": {
      "needs_background": "light"
     },
     "output_type": "display_data"
    }
   ],
   "source": [
    "def generate_mixedfx_data(nsubs=20, nconds=2, nobs=10, cond_effect=5,\n",
    "                          sub_sd=5, effect_sd=5, noise_sd=5, seed=1):\n",
    "    \"\"\"\n",
    "    generate data with mixed effects\n",
    "    \n",
    "    parameters:\n",
    "    -----------\n",
    "    nsubs: number of subjects\n",
    "    nconds: number of conditions per subject\n",
    "    nobs: number of observations per condition/subject\n",
    "    cond_effect: magnitude of condition difference\n",
    "    sub_sd: SD of mean differences across subs\n",
    "    effect_sd: SD of effect size differences across subs\n",
    "    noise_sd: SD of random noise\n",
    "    seed: random seed (set to None to use system-generated seed)\n",
    "    \"\"\"\n",
    "\n",
    "    rng = np.random.RandomState(seed=seed)\n",
    "\n",
    "    nsubs = 20\n",
    "    nconds = 2\n",
    "    nobs = 10\n",
    "\n",
    "    sub_sd = 5\n",
    "    cond_effect = 5\n",
    "    effect_sd = 5\n",
    "    noise_sd = 5\n",
    "\n",
    "    X = np.kron(np.ones(nsubs), np.hstack((np.zeros(nobs), np.ones(nobs)))).reshape(nsubs*nconds*nobs, 1)\n",
    "    X = sm.add_constant(X, prepend=False)\n",
    "\n",
    "    # full X matrix to allow random effect of X\n",
    "    X_full = np.kron(np.eye(nsubs,dtype=int),np.hstack((np.zeros(nobs), np.ones(nobs)))).T\n",
    "\n",
    "    Z = np.kron(np.eye(nsubs,dtype=int),np.ones((nobs*nconds,1)),)\n",
    "\n",
    "    alpha = cond_effect + rng.randn(nsubs) * effect_sd\n",
    "\n",
    "    b = rng.randn(nsubs) * sub_sd\n",
    "\n",
    "    e = rng.randn(X.shape[0]) * noise_sd\n",
    "\n",
    "    intercept = 800\n",
    "\n",
    "    y = X_full.dot(alpha).reshape(X.shape[0], 1) + Z.dot(b).reshape(X.shape[0], 1) + intercept + e.reshape(X.shape[0], 1)\n",
    "\n",
    "\n",
    "    data_df = pd.DataFrame({'y': y[:,0],\n",
    "                           'X': X[:,0],\n",
    "                           'subid': np.kron(np.arange(nsubs), np.ones(nobs*2))}, index=np.arange(y.shape[0]))\n",
    "    return(data_df, X_full, Z, b)\n",
    "\n",
    "data_df, X_full, Z, b = generate_mixedfx_data()\n",
    "sns.boxplot(x='X', y='y', data=data_df)"
   ]
  },
  {
   "cell_type": "markdown",
   "metadata": {},
   "source": [
    "### An aside: The Kronecker product\n",
    "\n",
    "The Kronecker product (mathematically denoted as $\\otimes$) is a very useful tool for building particular kinds of matrices.  It is an extension of the *outer product* from vectors to matrices, so first let's look at the outer product.\n",
    "\n",
    "Let's say we have two vectors of the same size:\n",
    "\n",
    "$\\textbf{u} = [u_1, u_2, \\ldots, u_n]$\n",
    "\n",
    "$\\textbf{v} = [v_1, v_2, \\ldots, v_n]$\n",
    "\n",
    "Remember that the dot product of these (assuming they are 1 x n row vectors) is:\n",
    "\n",
    "$\\textbf{u} . \\textbf{v} = \\textbf{u} \\textbf{v}^{\\top} = \\sum^n_1 u_i*v_i$\n",
    "\n",
    "This produces a scalar value.  \n",
    "\n"
   ]
  },
  {
   "cell_type": "code",
   "execution_count": 3,
   "metadata": {},
   "outputs": [
    {
     "data": {
      "text/plain": [
       "4"
      ]
     },
     "execution_count": 3,
     "metadata": {},
     "output_type": "execute_result"
    }
   ],
   "source": [
    "u = np.array([1, 2, 3, 4])\n",
    "v = np.array([1, 0, 1, 0])\n",
    "u.dot(v)"
   ]
  },
  {
   "cell_type": "markdown",
   "metadata": {},
   "source": [
    "The dot product is in fact also known as the *inner product*, so it may not surprise you that the outer product flips this around.  Given two vectors of length n, the outer product is the n x n matrix that contains $u_i * v_j$ at each location (i, j).\n"
   ]
  },
  {
   "cell_type": "code",
   "execution_count": 4,
   "metadata": {},
   "outputs": [
    {
     "data": {
      "text/plain": [
       "array([[1, 0, 1, 0],\n",
       "       [2, 0, 2, 0],\n",
       "       [3, 0, 3, 0],\n",
       "       [4, 0, 4, 0]])"
      ]
     },
     "execution_count": 4,
     "metadata": {},
     "output_type": "execute_result"
    }
   ],
   "source": [
    "np.outer(u, v)"
   ]
  },
  {
   "cell_type": "markdown",
   "metadata": {},
   "source": [
    "The Kronecker product extends this to matrices.  It is particularly useful for creating *block diagonal* matrices, which are often present in mixed model analyses.  For example, let's say that we want to create a matrix that has two 2x2 blocks of ones, arranged along the diagonal. We can do that using the following call to `np.kron`:"
   ]
  },
  {
   "cell_type": "code",
   "execution_count": 5,
   "metadata": {},
   "outputs": [
    {
     "data": {
      "text/plain": [
       "array([[1., 1., 0., 0.],\n",
       "       [1., 1., 0., 0.],\n",
       "       [0., 0., 1., 1.],\n",
       "       [0., 0., 1., 1.]])"
      ]
     },
     "execution_count": 5,
     "metadata": {},
     "output_type": "execute_result"
    }
   ],
   "source": [
    "np.kron(np.eye(2), np.ones((2,2)))"
   ]
  },
  {
   "cell_type": "markdown",
   "metadata": {},
   "source": [
    "Let's say that we want to create a vector that contains trial labels for each of 4 subjects, where the first 5 trials are condition 1 and the second 5 are condition 2. First we create that list:"
   ]
  },
  {
   "cell_type": "code",
   "execution_count": 6,
   "metadata": {},
   "outputs": [
    {
     "data": {
      "text/plain": [
       "array([1., 1., 1., 1., 1., 2., 2., 2., 2., 2.])"
      ]
     },
     "execution_count": 6,
     "metadata": {},
     "output_type": "execute_result"
    }
   ],
   "source": [
    "condlist = np.hstack((np.ones(5), np.ones(5)*2))\n",
    "condlist"
   ]
  },
  {
   "cell_type": "markdown",
   "metadata": {},
   "source": [
    "Then we use the Kronecker product to create a repeating version of it:"
   ]
  },
  {
   "cell_type": "code",
   "execution_count": 7,
   "metadata": {},
   "outputs": [
    {
     "data": {
      "text/plain": [
       "array([1., 1., 1., 1., 1., 2., 2., 2., 2., 2., 1., 1., 1., 1., 1., 2., 2.,\n",
       "       2., 2., 2., 1., 1., 1., 1., 1., 2., 2., 2., 2., 2., 1., 1., 1., 1.,\n",
       "       1., 2., 2., 2., 2., 2.])"
      ]
     },
     "execution_count": 7,
     "metadata": {},
     "output_type": "execute_result"
    }
   ],
   "source": [
    "np.kron(np.ones(4),condlist )"
   ]
  },
  {
   "cell_type": "markdown",
   "metadata": {},
   "source": [
    "Here are examples of the matrices $X_full$ and $Z$ created above using the Kronecker product:"
   ]
  },
  {
   "cell_type": "code",
   "execution_count": 8,
   "metadata": {},
   "outputs": [
    {
     "data": {
      "text/plain": [
       "Text(0.5, 1.0, 'Z')"
      ]
     },
     "execution_count": 8,
     "metadata": {},
     "output_type": "execute_result"
    },
    {
     "data": {
      "image/png": "[encoded data removed]",
      "text/plain": [
       "<Figure size 864x360 with 2 Axes>"
      ]
     },
     "metadata": {
      "needs_background": "light"
     },
     "output_type": "display_data"
    }
   ],
   "source": [
    "plt.figure(figsize=(12,5))\n",
    "plt.subplot(1,2,1)\n",
    "plt.imshow(X_full, aspect='auto', cmap='gray')\n",
    "plt.title('X_full')\n",
    "plt.subplot(1,2,2)\n",
    "plt.imshow(Z, aspect='auto', cmap='gray')\n",
    "plt.title('Z')\n"
   ]
  },
  {
   "cell_type": "markdown",
   "metadata": {},
   "source": [
    "### Model fitting\n",
    "\n",
    "First let's fit an ordinary least squares model, ignoring the fact that there are repeated measurements."
   ]
  },
  {
   "cell_type": "code",
   "execution_count": 9,
   "metadata": {},
   "outputs": [
    {
     "data": {
      "text/html": [
       "<table class=\"simpletable\">\n",
       "<caption>OLS Regression Results</caption>\n",
       "<tr>\n",
       "  <th>Dep. Variable:</th>            <td>y</td>        <th>  R-squared:         </th> <td>   0.085</td>\n",
       "</tr>\n",
       "<tr>\n",
       "  <th>Model:</th>                   <td>OLS</td>       <th>  Adj. R-squared:    </th> <td>   0.083</td>\n",
       "</tr>\n",
       "<tr>\n",
       "  <th>Method:</th>             <td>Least Squares</td>  <th>  F-statistic:       </th> <td>   37.13</td>\n",
       "</tr>\n",
       "<tr>\n",
       "  <th>Date:</th>             <td>Tue, 14 Apr 2020</td> <th>  Prob (F-statistic):</th> <td>2.62e-09</td>\n",
       "</tr>\n",
       "<tr>\n",
       "  <th>Time:</th>                 <td>15:33:38</td>     <th>  Log-Likelihood:    </th> <td> -1365.4</td>\n",
       "</tr>\n",
       "<tr>\n",
       "  <th>No. Observations:</th>      <td>   400</td>      <th>  AIC:               </th> <td>   2735.</td>\n",
       "</tr>\n",
       "<tr>\n",
       "  <th>Df Residuals:</th>          <td>   398</td>      <th>  BIC:               </th> <td>   2743.</td>\n",
       "</tr>\n",
       "<tr>\n",
       "  <th>Df Model:</th>              <td>     1</td>      <th>                     </th>     <td> </td>   \n",
       "</tr>\n",
       "<tr>\n",
       "  <th>Covariance Type:</th>      <td>nonrobust</td>    <th>                     </th>     <td> </td>   \n",
       "</tr>\n",
       "</table>\n",
       "<table class=\"simpletable\">\n",
       "<tr>\n",
       "      <td></td>         <th>coef</th>     <th>std err</th>      <th>t</th>      <th>P>|t|</th>  <th>[0.025</th>    <th>0.975]</th>  \n",
       "</tr>\n",
       "<tr>\n",
       "  <th>Intercept</th> <td>  800.0732</td> <td>    0.521</td> <td> 1535.916</td> <td> 0.000</td> <td>  799.049</td> <td>  801.097</td>\n",
       "</tr>\n",
       "<tr>\n",
       "  <th>X</th>         <td>    4.4887</td> <td>    0.737</td> <td>    6.093</td> <td> 0.000</td> <td>    3.040</td> <td>    5.937</td>\n",
       "</tr>\n",
       "</table>\n",
       "<table class=\"simpletable\">\n",
       "<tr>\n",
       "  <th>Omnibus:</th>       <td> 0.504</td> <th>  Durbin-Watson:     </th> <td>   0.961</td>\n",
       "</tr>\n",
       "<tr>\n",
       "  <th>Prob(Omnibus):</th> <td> 0.777</td> <th>  Jarque-Bera (JB):  </th> <td>   0.310</td>\n",
       "</tr>\n",
       "<tr>\n",
       "  <th>Skew:</th>          <td>-0.019</td> <th>  Prob(JB):          </th> <td>   0.856</td>\n",
       "</tr>\n",
       "<tr>\n",
       "  <th>Kurtosis:</th>      <td> 3.131</td> <th>  Cond. No.          </th> <td>    2.62</td>\n",
       "</tr>\n",
       "</table><br/><br/>Warnings:<br/>[1] Standard Errors assume that the covariance matrix of the errors is correctly specified."
      ],
      "text/plain": [
       "<class 'statsmodels.iolib.summary.Summary'>\n",
       "\"\"\"\n",
       "                            OLS Regression Results                            \n",
       "==============================================================================\n",
       "Dep. Variable:                      y   R-squared:                       0.085\n",
       "Model:                            OLS   Adj. R-squared:                  0.083\n",
       "Method:                 Least Squares   F-statistic:                     37.13\n",
       "Date:                Tue, 14 Apr 2020   Prob (F-statistic):           2.62e-09\n",
       "Time:                        15:33:38   Log-Likelihood:                -1365.4\n",
       "No. Observations:                 400   AIC:                             2735.\n",
       "Df Residuals:                     398   BIC:                             2743.\n",
       "Df Model:                           1                                         \n",
       "Covariance Type:            nonrobust                                         \n",
       "==============================================================================\n",
       "                 coef    std err          t      P>|t|      [0.025      0.975]\n",
       "------------------------------------------------------------------------------\n",
       "Intercept    800.0732      0.521   1535.916      0.000     799.049     801.097\n",
       "X              4.4887      0.737      6.093      0.000       3.040       5.937\n",
       "==============================================================================\n",
       "Omnibus:                        0.504   Durbin-Watson:                   0.961\n",
       "Prob(Omnibus):                  0.777   Jarque-Bera (JB):                0.310\n",
       "Skew:                          -0.019   Prob(JB):                        0.856\n",
       "Kurtosis:                       3.131   Cond. No.                         2.62\n",
       "==============================================================================\n",
       "\n",
       "Warnings:\n",
       "[1] Standard Errors assume that the covariance matrix of the errors is correctly specified.\n",
       "\"\"\""
      ]
     },
     "execution_count": 9,
     "metadata": {},
     "output_type": "execute_result"
    }
   ],
   "source": [
    "ols = smf.ols('y ~ X', data_df)\n",
    "ols_result = ols.fit()\n",
    "ols_result.summary()"
   ]
  },
  {
   "cell_type": "markdown",
   "metadata": {},
   "source": [
    "This model assumes that observations are independent, but we know that will be false due to the fact that there are repeated observations from each individual, if those individuals differ systematically in their overall response time.  We can see this if we plot the (known) random effect of subject against the residuals from the model."
   ]
  },
  {
   "cell_type": "code",
   "execution_count": 10,
   "metadata": {},
   "outputs": [
    {
     "data": {
      "image/png": "[encoded data removed]",
      "text/plain": [
       "<Figure size 432x288 with 1 Axes>"
      ]
     },
     "metadata": {
      "needs_background": "light"
     },
     "output_type": "display_data"
    }
   ],
   "source": [
    "plt.plot(ols_result.resid)\n",
    "nobs = np.sum(X_full[:,0])\n",
    "nsubs = Z.shape[1]\n",
    "plt.xlabel(f'observations ({nobs*2}/subject)')\n",
    "plt.ylabel('residuals')\n",
    "for i in range(nsubs):\n",
    "    plt.plot([(nobs*2*i), nobs*2*i+nobs], [b[i], b[i]], 'k')"
   ]
  },
  {
   "cell_type": "markdown",
   "metadata": {},
   "source": [
    "Some individals have substantially higher residuals than others. In addition, some subjects appear to have substantially more variability in their residuals than others, meaning that the assumption of identical error distributions is also violated.  Thus, we shouldn't trust any inferences based on this model.\n",
    "\n",
    "\n",
    "## The mixed-effects model\n",
    "\n",
    "In our previous example we treated the model parameters (the effect of condition and the intercept) as *fixed effects*, meaning that there is a fixed parameter value for the effect, and any other variability is treated as random noise that is independent and identically distributed. One implication of this is that we cannot generalize beyond our sample, because another interpretation of a fixed effect is that it fully captures the population of interest.  This may make sense in the context of a particular experimental manipulation (that is, we don't generally expect our effects to generalize to new experimental conditions), but we generally *do* want to consider our sampling units (such as people in this example) as random samples from a larger population that we would like to generalize to.  When the effect of interest describes a random variable based on a sample from a population, we call that a *random effect*.  When we want to generalize to a population, then we need to assess the effect of interest with respect to the random effect variability, that is, the variability of the effect across samples from the population.\n",
    "\n",
    "When a model includes both fixed and random effects, we refer to it as a *mixed-effects* (or *multilevel*) model.  We can write the model as follows:\n",
    "\n",
    "$$\n",
    "Y = X\\beta + Zb + \\epsilon\n",
    "$$\n",
    "\n",
    "where:\n",
    "\n",
    "- $X$: known n x p design matrix - p fixed effects\n",
    "- $\\beta$:  vector of fixed effects\n",
    "- $Z$:  known n x q design matrix - for random effects\n",
    "- $b$: independent random vector, $b \\sim N(0, \\sigma^2\\Sigma)$\n",
    "    - where $\\Sigma$ is the q x q relative covariance matrix for the random effects (i.e. variance of $b$ relative to $\\sigma^2$)\n",
    "- $\\epsilon \\sim N(0, \\sigma^2I)$, $b \\perp \\epsilon$ (i.e. the random effects are independent of the errors)\n",
    "\n",
    "\n",
    "## A two-stage view of mixed effects modeling\n",
    "\n",
    "One way to think about the mixed effects model is by breaking it up into multiple stages, corresponding to the estimation of the fixed and random effects.  In essence, we first estimate the fixed effect within each group (which in our example is the different subjects), and then fit a second-level model to assess the random effect.  This is in fact how mixed-effect modeling is generally done in the context of fMRI, due to the complexities of fMRI data.\n",
    "\n",
    "### Fitting the first level model\n",
    "\n",
    "Let's first loop through each of our subjects and fit an OLS model to their responses, obtaining parameter estimates and their associated variances.  This model is:\n",
    "\n",
    "$$\n",
    "Y_i = X_i\\beta_i + \\epsilon_i\n",
    "$$\n",
    "\n",
    "where $i$ indexes the subject, and thus $\\beta_i$ refers to the parameter estimates for that subject."
   ]
  },
  {
   "cell_type": "code",
   "execution_count": 11,
   "metadata": {},
   "outputs": [],
   "source": [
    "ols_params = []\n",
    "ols_errors = []\n",
    "\n",
    "for i in range(nsubs):\n",
    "    df_i = data_df.query(f'subid == {i}')\n",
    "    ols_result = smf.ols('y ~ X', data=df_i).fit()\n",
    "    ols_params.append(ols_result.params)\n",
    "    ols_errors.append(ols_result.bse)\n",
    "    \n",
    "ols_params = pd.DataFrame(ols_params)\n",
    "ols_errors = pd.DataFrame(ols_errors)"
   ]
  },
  {
   "cell_type": "markdown",
   "metadata": {},
   "source": [
    "Let's look at the distributions of the parameter values and their errors:"
   ]
  },
  {
   "cell_type": "code",
   "execution_count": 12,
   "metadata": {},
   "outputs": [
    {
     "data": {
      "text/plain": [
       "Text(0.5, 0, 'X SE')"
      ]
     },
     "execution_count": 12,
     "metadata": {},
     "output_type": "execute_result"
    },
    {
     "data": {
      "image/png": "[encoded data removed]",
      "text/plain": [
       "<Figure size 864x864 with 4 Axes>"
      ]
     },
     "metadata": {
      "needs_background": "light"
     },
     "output_type": "display_data"
    }
   ],
   "source": [
    "fig, ax = plt.subplots(figsize=(12,12), nrows=2, ncols=2)\n",
    "sns.distplot(ols_params.Intercept, ax=ax[0,0])\n",
    "ax[0,0].set_xlabel('Intercept estimate')\n",
    "sns.distplot(ols_params.X, ax=ax[0,1])\n",
    "ax[0,1].set_xlabel('X estimate')\n",
    "sns.distplot(ols_errors.Intercept, ax=ax[1,0])\n",
    "ax[1,0].set_xlabel('Intercept SE')\n",
    "sns.distplot(ols_errors.X, ax=ax[1,1])\n",
    "ax[1,1].set_xlabel('X SE')\n"
   ]
  },
  {
   "cell_type": "markdown",
   "metadata": {},
   "source": [
    "We see that there is a substantial amount of variability in both the parameter estimates and their variances.  \n",
    "\n",
    "### Fitting the second level model\n",
    "\n",
    "Now we can take the parameter estimates from the first level and fit them using a second-level model:\n",
    "\n",
    "$$\n",
    "Y_G = X_G \\beta_G + \\epsilon_G^*\n",
    "$$\n",
    "\n",
    "In this case, the $Y_G$ values are the parameter estimates from the first level (\\[$\\beta_1$ ... $\\beta_n$\\]).  Since we simply want to test whether the mean parameter estimate differs from zero, $X_G$ is simply a column of ones; this is equivalent to a one-sample t-test comparing the mean against zero. $\\beta_G$ will simply be the mean parameter estimate across subjects.\n",
    "\n",
    "Note that $\\epsilon_G^*$ is a *mixed-effect* error term, as it includes both the variability in the $\\beta_i$ estimates due to measurement noise, as well as the random-effect variability:\n",
    "\n",
    "$$\n",
    "Var(\\epsilon_G^*) = \\sigma^2_G I + Var_{\\beta}(Y_G)\n",
    "$$\n",
    "\n",
    "The main challenge in mixed-effect modeling is to separately estimate these error terms.\n",
    "\n",
    "Let's start by fitting an OLS model to the first-level parameter estimates, which assumes that variance is homogeneous across estimates and does not separate the common within-subject variance $\\sigma^2_{win}$ and the random effect variance $\\sigma^2_G$:\n",
    "\n",
    "$$\n",
    "Var(\\epsilon_G^*) = (\\sigma^2_{win} + \\sigma^2_G)I\n",
    "$$"
   ]
  },
  {
   "cell_type": "code",
   "execution_count": 13,
   "metadata": {},
   "outputs": [
    {
     "data": {
      "text/html": [
       "<table class=\"simpletable\">\n",
       "<caption>OLS Regression Results</caption>\n",
       "<tr>\n",
       "  <th>Dep. Variable:</th>            <td>X</td>        <th>  R-squared:         </th> <td>   0.000</td>\n",
       "</tr>\n",
       "<tr>\n",
       "  <th>Model:</th>                   <td>OLS</td>       <th>  Adj. R-squared:    </th> <td>   0.000</td>\n",
       "</tr>\n",
       "<tr>\n",
       "  <th>Method:</th>             <td>Least Squares</td>  <th>  F-statistic:       </th> <td>     nan</td>\n",
       "</tr>\n",
       "<tr>\n",
       "  <th>Date:</th>             <td>Tue, 14 Apr 2020</td> <th>  Prob (F-statistic):</th>  <td>   nan</td> \n",
       "</tr>\n",
       "<tr>\n",
       "  <th>Time:</th>                 <td>15:33:39</td>     <th>  Log-Likelihood:    </th> <td> -63.836</td>\n",
       "</tr>\n",
       "<tr>\n",
       "  <th>No. Observations:</th>      <td>    20</td>      <th>  AIC:               </th> <td>   129.7</td>\n",
       "</tr>\n",
       "<tr>\n",
       "  <th>Df Residuals:</th>          <td>    19</td>      <th>  BIC:               </th> <td>   130.7</td>\n",
       "</tr>\n",
       "<tr>\n",
       "  <th>Df Model:</th>              <td>     0</td>      <th>                     </th>     <td> </td>   \n",
       "</tr>\n",
       "<tr>\n",
       "  <th>Covariance Type:</th>      <td>nonrobust</td>    <th>                     </th>     <td> </td>   \n",
       "</tr>\n",
       "</table>\n",
       "<table class=\"simpletable\">\n",
       "<tr>\n",
       "      <td></td>         <th>coef</th>     <th>std err</th>      <th>t</th>      <th>P>|t|</th>  <th>[0.025</th>    <th>0.975]</th>  \n",
       "</tr>\n",
       "<tr>\n",
       "  <th>Intercept</th> <td>    4.4887</td> <td>    1.351</td> <td>    3.323</td> <td> 0.004</td> <td>    1.662</td> <td>    7.316</td>\n",
       "</tr>\n",
       "</table>\n",
       "<table class=\"simpletable\">\n",
       "<tr>\n",
       "  <th>Omnibus:</th>       <td> 0.089</td> <th>  Durbin-Watson:     </th> <td>   2.826</td>\n",
       "</tr>\n",
       "<tr>\n",
       "  <th>Prob(Omnibus):</th> <td> 0.956</td> <th>  Jarque-Bera (JB):  </th> <td>   0.105</td>\n",
       "</tr>\n",
       "<tr>\n",
       "  <th>Skew:</th>          <td>-0.094</td> <th>  Prob(JB):          </th> <td>   0.949</td>\n",
       "</tr>\n",
       "<tr>\n",
       "  <th>Kurtosis:</th>      <td> 2.699</td> <th>  Cond. No.          </th> <td>    1.00</td>\n",
       "</tr>\n",
       "</table><br/><br/>Warnings:<br/>[1] Standard Errors assume that the covariance matrix of the errors is correctly specified."
      ],
      "text/plain": [
       "<class 'statsmodels.iolib.summary.Summary'>\n",
       "\"\"\"\n",
       "                            OLS Regression Results                            \n",
       "==============================================================================\n",
       "Dep. Variable:                      X   R-squared:                       0.000\n",
       "Model:                            OLS   Adj. R-squared:                  0.000\n",
       "Method:                 Least Squares   F-statistic:                       nan\n",
       "Date:                Tue, 14 Apr 2020   Prob (F-statistic):                nan\n",
       "Time:                        15:33:39   Log-Likelihood:                -63.836\n",
       "No. Observations:                  20   AIC:                             129.7\n",
       "Df Residuals:                      19   BIC:                             130.7\n",
       "Df Model:                           0                                         \n",
       "Covariance Type:            nonrobust                                         \n",
       "==============================================================================\n",
       "                 coef    std err          t      P>|t|      [0.025      0.975]\n",
       "------------------------------------------------------------------------------\n",
       "Intercept      4.4887      1.351      3.323      0.004       1.662       7.316\n",
       "==============================================================================\n",
       "Omnibus:                        0.089   Durbin-Watson:                   2.826\n",
       "Prob(Omnibus):                  0.956   Jarque-Bera (JB):                0.105\n",
       "Skew:                          -0.094   Prob(JB):                        0.949\n",
       "Kurtosis:                       2.699   Cond. No.                         1.00\n",
       "==============================================================================\n",
       "\n",
       "Warnings:\n",
       "[1] Standard Errors assume that the covariance matrix of the errors is correctly specified.\n",
       "\"\"\""
      ]
     },
     "execution_count": 13,
     "metadata": {},
     "output_type": "execute_result"
    }
   ],
   "source": [
    "level2_model = smf.ols('X ~ 1', ols_params).fit()\n",
    "level2_model.summary()"
   ]
  },
  {
   "cell_type": "markdown",
   "metadata": {},
   "source": [
    "This model provides us with an inference regarding the effect of interest, but it doesn't give us a separate estimate of the random effect variance, which is what we need in order to determine whether our effect of interest can generalize to the population.  Fitting such a model requires a more sophisticated optimization algorithm (which we will return to later in the course). \n",
    "\n"
   ]
  },
  {
   "cell_type": "markdown",
   "metadata": {},
   "source": [
    "## Fitting the mixed model using `lmer()`\n",
    "\n",
    "Probably the most popular tool for fitting mixed-effect models in psychology is the `lmer()` function from the lme4 package in R.  We will use the bridge between Python and R that is built into the Jupyter notebook in order to run `lmer()` on our data.  There are Python-based tools for mixed modeling (such as the MixedLM function in the statsmodels package), but we will use `lmer()` since it is much better known and more flexible.\n",
    "\n",
    "To insert a cell with R code, we simply start the cell with the \"magic\" command `%%R`.  if we wish to import data from Python, we can do so using the `-i` and `-o` arguments.  Let's set up a mixed model for our data, including fixed effects for the intercept and condition, and a random intercept and random slope for the condition effect. This is what we would call a *maximal* model (after [Barr et al.](https://www.ncbi.nlm.nih.gov/pmc/articles/PMC3881361/)), in the sense that it includes all possible random effects terms that are justified by the data and experimental design."
   ]
  },
  {
   "cell_type": "code",
   "execution_count": 14,
   "metadata": {},
   "outputs": [
    {
     "name": "stderr",
     "output_type": "stream",
     "text": [
      "R[write to console]: Loading required package: Matrix\n",
      "\n",
      "R[write to console]: \n",
      "Attaching package: ‘lmerTest’\n",
      "\n",
      "\n",
      "R[write to console]: The following object is masked from ‘package:lme4’:\n",
      "\n",
      "    lmer\n",
      "\n",
      "\n",
      "R[write to console]: The following object is masked from ‘package:stats’:\n",
      "\n",
      "    step\n",
      "\n",
      "\n"
     ]
    },
    {
     "name": "stdout",
     "output_type": "stream",
     "text": [
      "Linear mixed model fit by REML. t-tests use Satterthwaite's method [\n",
      "lmerModLmerTest]\n",
      "Formula: lmer_formula_maximal\n",
      "   Data: data_df\n",
      "\n",
      "REML criterion at convergence: 2513.4\n",
      "\n",
      "Scaled residuals: \n",
      "     Min       1Q   Median       3Q      Max \n",
      "-2.73305 -0.58634  0.03049  0.60800  2.52206 \n",
      "\n",
      "Random effects:\n",
      " Groups   Name        Variance Std.Dev. Corr \n",
      " subid    (Intercept) 17.97    4.239         \n",
      "          X           31.46    5.609    -0.13\n",
      " Residual             25.15    5.015         \n",
      "Number of obs: 400, groups:  subid, 20\n",
      "\n",
      "Fixed effects:\n",
      "            Estimate Std. Error      df t value Pr(>|t|)    \n",
      "(Intercept)  800.073      1.012  19.000 790.594  < 2e-16 ***\n",
      "X              4.489      1.351  19.000   3.323  0.00357 ** \n",
      "---\n",
      "Signif. codes:  0 ‘***’ 0.001 ‘**’ 0.01 ‘*’ 0.05 ‘.’ 0.1 ‘ ’ 1\n",
      "\n",
      "Correlation of Fixed Effects:\n",
      "  (Intr)\n",
      "X -0.209\n"
     ]
    }
   ],
   "source": [
    "%%R -i data_df\n",
    "\n",
    "\n",
    "# load the necessary libraries\n",
    "library(lme4)\n",
    "library(lmerTest)\n",
    "\n",
    "# convert numeric ID to factor\n",
    "data_df$subid = as.factor(data_df$subid)\n",
    "\n",
    "lmer_formula_maximal = 'y ~ 1 + X + (1 + X|subid)'\n",
    "\n",
    "lmer_model_maximal = lmer(lmer_formula_maximal, data=data_df)\n",
    "\n",
    "summary(lmer_model_maximal)"
   ]
  },
  {
   "cell_type": "markdown",
   "metadata": {},
   "source": [
    "Let's see what happens if we leave out the random slope and only include a random intercept:"
   ]
  },
  {
   "cell_type": "code",
   "execution_count": 15,
   "metadata": {},
   "outputs": [
    {
     "name": "stdout",
     "output_type": "stream",
     "text": [
      "Linear mixed model fit by REML. t-tests use Satterthwaite's method [\n",
      "lmerModLmerTest]\n",
      "Formula: lmer_formula_randomintercept\n",
      "   Data: data_df\n",
      "\n",
      "REML criterion at convergence: 2582.9\n",
      "\n",
      "Scaled residuals: \n",
      "    Min      1Q  Median      3Q     Max \n",
      "-3.3073 -0.7031  0.0762  0.6408  2.8879 \n",
      "\n",
      "Random effects:\n",
      " Groups   Name        Variance Std.Dev.\n",
      " subid    (Intercept) 22.24    4.716   \n",
      " Residual             33.03    5.748   \n",
      "Number of obs: 400, groups:  subid, 20\n",
      "\n",
      "Fixed effects:\n",
      "            Estimate Std. Error       df t value Pr(>|t|)    \n",
      "(Intercept) 800.0732     1.1301  21.7126  707.94  < 2e-16 ***\n",
      "X             4.4887     0.5748 379.0000    7.81 5.68e-14 ***\n",
      "---\n",
      "Signif. codes:  0 ‘***’ 0.001 ‘**’ 0.01 ‘*’ 0.05 ‘.’ 0.1 ‘ ’ 1\n",
      "\n",
      "Correlation of Fixed Effects:\n",
      "  (Intr)\n",
      "X -0.254\n"
     ]
    }
   ],
   "source": [
    "%%R\n",
    "\n",
    "lmer_formula_randomintercept = 'y ~ 1 + X + (1|subid)'\n",
    "\n",
    "lmer_model_randomintercept = lmer(lmer_formula_randomintercept, data=data_df)\n",
    "\n",
    "summary(lmer_model_randomintercept)"
   ]
  },
  {
   "cell_type": "markdown",
   "metadata": {},
   "source": [
    "Here we see that the estimated parameter value for $X$ is basically the same, but the estimated standard error is much lower, leading to an inflated statistical value.\n"
   ]
  },
  {
   "cell_type": "markdown",
   "metadata": {},
   "source": [
    "### Item analysis\n",
    "\n",
    "In a landmark [paper](https://web.stanford.edu/~clark/1970s/Clark,%20H.H.%20_Language%20as%20fixed%20effect%20fallacy_%201973.pdf) published in 1973, Herb Clark argued that researchers need to worry about the fact that stimuli are often random samples from a population of possible stimuli, and thus should be treated as random effects.  This is an example where we have two parallel random effects: one for items, and one for subjects.\n",
    "\n",
    "Here we will demonstrate this using simulated data based on an example from Clark's paper:\n",
    "\n",
    ">Coleman's main point is best illustrated with\n",
    "a simple example. Imagine that Baker and\n",
    "Reader are two psychologists interested in\n",
    "reading. Independently, they come up with\n",
    "the hypothesis that people can read, that is,\n",
    "perceive and vocalize, nouns faster than\n",
    "verbs. To test their hypotheses, each consults\n",
    "a dictionary, selects 10 nouns and I0 verbs\n",
    "at random, and collects reading latencies for\n",
    "the 20 words from each of 50 subjects. Let us\n",
    "assume, however, that contrary to their\n",
    "hypothesis nouns are in actuality exactly\n",
    "equal to verbs in reading latencies. Nevertheless, since the actual latencies for individual\n",
    "nouns and verbs vary from 500 to 1000 msec,\n",
    "the nouns in any particular sample will not\n",
    "be exactly equal to the verbs. So let us assume,\n",
    "quite plausibly, that in Baker's sample the\n",
    "nouns are actually 25 msec faster than the\n",
    "verbs, while in Reader's there is a 25 msec\n",
    "difference in the opposite direction. Independently, then, the two investigators tally\n",
    "their results, Baker finding a 30 msec difference in favor of the hypothesis, and Reader, a\n",
    "35 msec difference against it. And since 42\n",
    "out of 50 subjects showed the difference for\n",
    "Baker, and 45 out of 50 for Reader (both\n",
    "differences significant at p < .001 by a sign\n",
    "test), Baker reports to the public that he has\n",
    "reliable support for the hypothesis, while\n",
    "Reader reports that he has reliable evidence\n",
    "against it. \n",
    "\n",
    "\n"
   ]
  },
  {
   "cell_type": "code",
   "execution_count": 16,
   "metadata": {},
   "outputs": [],
   "source": [
    "def generate_item_data(true_diff=0,\n",
    "                       nitems = 20,\n",
    "                       nsubs = 50,\n",
    "                       sub_sd = 50,\n",
    "                       item_sd = 50,\n",
    "                       noise_sd=50,\n",
    "                       intercept = 800,\n",
    "                       seed=123):\n",
    "    \"\"\"\n",
    "    generate simulated data for Clark (1973) example\n",
    "    \"\"\"\n",
    "    rng = np.random.RandomState(seed=seed)\n",
    "    verb = np.zeros(nitems)\n",
    "    verb[:np.round(nitems/2).astype(int)] = 1\n",
    "    # sample items\n",
    "    item_effect = rng.randn(nitems)*item_sd + verb*true_diff\n",
    "    # generate subject data\n",
    "    subject_effect = rng.randn(nsubs)*sub_sd\n",
    "    subject_effect = np.repeat(subject_effect[np.newaxis, :], nitems, 0).T\n",
    "    \n",
    "    subdata = np.repeat(item_effect[:, np.newaxis], nsubs, 1).T\n",
    "    subdata = subdata + rng.randn(subdata.shape[0], subdata.shape[1])*noise_sd + subject_effect + intercept\n",
    "    # make a long data frame\n",
    "    subcodes =np.arange(1, nsubs+1)\n",
    "    items = ['verb%02d' % i if i < np.round(nitems/2) else 'noun%02d' % i for i in range(nitems) ]\n",
    "    subdata_long = subdata.reshape((nsubs*nitems, 1))\n",
    "    items_long = items * nsubs\n",
    "    subcodes_long = np.kron(np.array(subcodes), np.ones(nitems))\n",
    "    category_long = [i[:4] for i in items_long]\n",
    "    subdataDf = pd.DataFrame({'subject': subcodes_long,\n",
    "                             'item': items_long,\n",
    "                              'category': category_long,\n",
    "                             'rt': subdata_long[:,0]})\n",
    "    return(subdataDf)\n",
    "\n",
    "itemdataDf = generate_item_data()"
   ]
  },
  {
   "cell_type": "code",
   "execution_count": 17,
   "metadata": {},
   "outputs": [
    {
     "data": {
      "text/plain": [
       "<matplotlib.axes._subplots.AxesSubplot at 0x122937150>"
      ]
     },
     "execution_count": 17,
     "metadata": {},
     "output_type": "execute_result"
    },
    {
     "data": {
      "image/png": "[encoded data removed]",
      "text/plain": [
       "<Figure size 432x288 with 1 Axes>"
      ]
     },
     "metadata": {
      "needs_background": "light"
     },
     "output_type": "display_data"
    }
   ],
   "source": [
    "summaryDf = itemdataDf.groupby(['subject', 'category']).mean().reset_index() \n",
    "sns.boxplot(x='category', y='rt', data=summaryDf)"
   ]
  },
  {
   "cell_type": "markdown",
   "metadata": {},
   "source": [
    "First let's run a standard analysis in which we average over items and thus don't take item-level variability into account, which will show a significant effect of word category:"
   ]
  },
  {
   "cell_type": "code",
   "execution_count": 18,
   "metadata": {},
   "outputs": [
    {
     "data": {
      "text/html": [
       "<table class=\"simpletable\">\n",
       "<caption>OLS Regression Results</caption>\n",
       "<tr>\n",
       "  <th>Dep. Variable:</th>           <td>rt</td>        <th>  R-squared:         </th> <td>   0.087</td>\n",
       "</tr>\n",
       "<tr>\n",
       "  <th>Model:</th>                   <td>OLS</td>       <th>  Adj. R-squared:    </th> <td>   0.077</td>\n",
       "</tr>\n",
       "<tr>\n",
       "  <th>Method:</th>             <td>Least Squares</td>  <th>  F-statistic:       </th> <td>   9.296</td>\n",
       "</tr>\n",
       "<tr>\n",
       "  <th>Date:</th>             <td>Tue, 14 Apr 2020</td> <th>  Prob (F-statistic):</th>  <td>0.00295</td>\n",
       "</tr>\n",
       "<tr>\n",
       "  <th>Time:</th>                 <td>15:33:43</td>     <th>  Log-Likelihood:    </th> <td> -546.99</td>\n",
       "</tr>\n",
       "<tr>\n",
       "  <th>No. Observations:</th>      <td>   100</td>      <th>  AIC:               </th> <td>   1098.</td>\n",
       "</tr>\n",
       "<tr>\n",
       "  <th>Df Residuals:</th>          <td>    98</td>      <th>  BIC:               </th> <td>   1103.</td>\n",
       "</tr>\n",
       "<tr>\n",
       "  <th>Df Model:</th>              <td>     1</td>      <th>                     </th>     <td> </td>   \n",
       "</tr>\n",
       "<tr>\n",
       "  <th>Covariance Type:</th>      <td>nonrobust</td>    <th>                     </th>     <td> </td>   \n",
       "</tr>\n",
       "</table>\n",
       "<table class=\"simpletable\">\n",
       "<tr>\n",
       "          <td></td>            <th>coef</th>     <th>std err</th>      <th>t</th>      <th>P>|t|</th>  <th>[0.025</th>    <th>0.975]</th>  \n",
       "</tr>\n",
       "<tr>\n",
       "  <th>Intercept</th>        <td>  824.4028</td> <td>    8.208</td> <td>  100.443</td> <td> 0.000</td> <td>  808.115</td> <td>  840.691</td>\n",
       "</tr>\n",
       "<tr>\n",
       "  <th>category[T.verb]</th> <td>  -35.3894</td> <td>   11.607</td> <td>   -3.049</td> <td> 0.003</td> <td>  -58.424</td> <td>  -12.355</td>\n",
       "</tr>\n",
       "</table>\n",
       "<table class=\"simpletable\">\n",
       "<tr>\n",
       "  <th>Omnibus:</th>       <td> 0.191</td> <th>  Durbin-Watson:     </th> <td>   0.898</td>\n",
       "</tr>\n",
       "<tr>\n",
       "  <th>Prob(Omnibus):</th> <td> 0.909</td> <th>  Jarque-Bera (JB):  </th> <td>   0.375</td>\n",
       "</tr>\n",
       "<tr>\n",
       "  <th>Skew:</th>          <td> 0.015</td> <th>  Prob(JB):          </th> <td>   0.829</td>\n",
       "</tr>\n",
       "<tr>\n",
       "  <th>Kurtosis:</th>      <td> 2.701</td> <th>  Cond. No.          </th> <td>    2.62</td>\n",
       "</tr>\n",
       "</table><br/><br/>Warnings:<br/>[1] Standard Errors assume that the covariance matrix of the errors is correctly specified."
      ],
      "text/plain": [
       "<class 'statsmodels.iolib.summary.Summary'>\n",
       "\"\"\"\n",
       "                            OLS Regression Results                            \n",
       "==============================================================================\n",
       "Dep. Variable:                     rt   R-squared:                       0.087\n",
       "Model:                            OLS   Adj. R-squared:                  0.077\n",
       "Method:                 Least Squares   F-statistic:                     9.296\n",
       "Date:                Tue, 14 Apr 2020   Prob (F-statistic):            0.00295\n",
       "Time:                        15:33:43   Log-Likelihood:                -546.99\n",
       "No. Observations:                 100   AIC:                             1098.\n",
       "Df Residuals:                      98   BIC:                             1103.\n",
       "Df Model:                           1                                         \n",
       "Covariance Type:            nonrobust                                         \n",
       "====================================================================================\n",
       "                       coef    std err          t      P>|t|      [0.025      0.975]\n",
       "------------------------------------------------------------------------------------\n",
       "Intercept          824.4028      8.208    100.443      0.000     808.115     840.691\n",
       "category[T.verb]   -35.3894     11.607     -3.049      0.003     -58.424     -12.355\n",
       "==============================================================================\n",
       "Omnibus:                        0.191   Durbin-Watson:                   0.898\n",
       "Prob(Omnibus):                  0.909   Jarque-Bera (JB):                0.375\n",
       "Skew:                           0.015   Prob(JB):                        0.829\n",
       "Kurtosis:                       2.701   Cond. No.                         2.62\n",
       "==============================================================================\n",
       "\n",
       "Warnings:\n",
       "[1] Standard Errors assume that the covariance matrix of the errors is correctly specified.\n",
       "\"\"\""
      ]
     },
     "execution_count": 18,
     "metadata": {},
     "output_type": "execute_result"
    }
   ],
   "source": [
    "item_fixed_model = smf.ols('rt ~ category', data=summaryDf)\n",
    "result_fixed_model = item_fixed_model.fit()\n",
    "result_fixed_model.summary()"
   ]
  },
  {
   "cell_type": "markdown",
   "metadata": {},
   "source": [
    "This model did not properly take into account the fact that items were sampled from a population, and thus should be treated as a random effect rather than a fixed effect. Let's now build a mixed effect model that properly does this, including a random effect of items as well as a random intercept and slope for subjects:"
   ]
  },
  {
   "cell_type": "code",
   "execution_count": 19,
   "metadata": {},
   "outputs": [
    {
     "name": "stdout",
     "output_type": "stream",
     "text": [
      "Linear mixed model fit by maximum likelihood . t-tests use Satterthwaite's\n",
      "  method [lmerModLmerTest]\n",
      "Formula: \"rt ~ category + (1|item) + (1 + category|subject)\"\n",
      "   Data: itemdataDf\n",
      "\n",
      "     AIC      BIC   logLik deviance df.resid \n",
      " 10873.9  10908.3  -5429.9  10859.9      993 \n",
      "\n",
      "Scaled residuals: \n",
      "    Min      1Q  Median      3Q     Max \n",
      "-3.2469 -0.6069 -0.0380  0.6333  3.2090 \n",
      "\n",
      "Random effects:\n",
      " Groups   Name         Variance Std.Dev. Corr \n",
      " subject  (Intercept)  3484.89  59.033        \n",
      "          categoryverb   49.85   7.061   -0.95\n",
      " item     (Intercept)  3541.51  59.511        \n",
      " Residual              2375.14  48.735        \n",
      "Number of obs: 1000, groups:  subject, 50; item, 20\n",
      "\n",
      "Fixed effects:\n",
      "             Estimate Std. Error     df t value Pr(>|t|)    \n",
      "(Intercept)    824.40      20.70  27.89   39.82   <2e-16 ***\n",
      "categoryverb   -35.39      26.81  19.98   -1.32    0.202    \n",
      "---\n",
      "Signif. codes:  0 ‘***’ 0.001 ‘**’ 0.01 ‘*’ 0.05 ‘.’ 0.1 ‘ ’ 1\n",
      "\n",
      "Correlation of Fixed Effects:\n",
      "            (Intr)\n",
      "categoryvrb -0.661\n"
     ]
    }
   ],
   "source": [
    "%%R -i itemdataDf\n",
    "library(lme4)\n",
    "library(lmerTest)\n",
    "item_effect_model = lmer('rt ~ category + (1|item) + (1 + category|subject)', data=itemdataDf, REML=FALSE)\n",
    "summary(item_effect_model)"
   ]
  },
  {
   "cell_type": "markdown",
   "metadata": {},
   "source": [
    "Now we see that once we have taken the random effects of items into account, the category effect is no longer significant."
   ]
  },
  {
   "cell_type": "markdown",
   "metadata": {},
   "source": [
    "## Mixed-effects modeling: An example with real data\n",
    "\n",
    "In this example we will analyze the reaction time data for the three-by-two task-switching task in the SRO dataset.  Here is a description of the task from the Supplementary Materials of [Enkavi et al, 2019](https://www.ncbi.nlm.nih.gov/pmc/articles/PMC6431228/):\n",
    "\n",
    ">In this task (139, 140) participants respond to colored numbers (1-9) based on their color (orange or blue), magnitude (greater or less than 5), and parity. On each trial a cue informs the participant of the correct rule, which is then applied to make one of two button presses. Each rule has two cues (e.g. \"orange-blue\" or \"color\"). Cue words for each rule appear above the stimulus in each trial. On each successive trial the task and cue can stay the same, the task can stay the same and the cue can switch, or the task can switch (necessitating a cue switch). In addition, on task switch trials the task can match the task from two trials ago (\"old-task\", e.g. \"color\" -> \"parity\" -> \"color\") or differ (\"new-task\", e.g. \"color\" -> \"parity\" -> \"magnitude\"). Thus there are four trial types which were randomly sampled across trials according to the following probabilities: task-switch-old (33%), task-switch-new (33%), task-stay-cue-switch (16.5%), and task-stay-cue-stay (16.5%). The cue-target-interval (CTI) was short (100ms) for half of the trials and long (900ms) for the other half. Participants complete 60 practice trials and 440 test trials. The dependent measures for this task are the accuracy, median response time and DDM parameters for both all trials as well as for each cue-target-interval condition separately.\n",
    "\n",
    "> 139. Logan GD, Bundesen C (2003) Clever homunculus: is there an endogenous act of control in the explicit task-cuing procedure? J Exp Psychol Hum Percept Perform 29(3):575–599.\n",
    "\n",
    "> 140. Mayr U, Kliegl R (2003) Differential effects of cue changes and task changes on task-set selection costs. J Exp Psychol Learn Mem Cogn 29(3):362.\n",
    "\n",
    "The main hypothesis of interest here is whether the effect of switching is greater when the CTI is long versus short."
   ]
  },
  {
   "cell_type": "code",
   "execution_count": 20,
   "metadata": {},
   "outputs": [
    {
     "data": {
      "text/plain": [
       "Index(['CTI', 'battery_name', 'correct', 'correct_response', 'cue',\n",
       "       'cue_switch', 'exp_stage', 'experiment_exp_id', 'finishtime',\n",
       "       'focus_shifts', 'full_screen', 'key_press', 'possible_responses', 'rt',\n",
       "       'stim_color', 'stim_number', 'stimulus', 'switch_type', 'task',\n",
       "       'task_switch', 'time_elapsed', 'trial_id', 'trial_num', 'trial_type',\n",
       "       'worker_id', 'switch', 'Age'],\n",
       "      dtype='object')"
      ]
     },
     "execution_count": 20,
     "metadata": {},
     "output_type": "execute_result"
    }
   ],
   "source": [
    "from data_utils import get_SRO_data\n",
    "\n",
    "switchdata = pd.read_csv('data/SRO/threebytwo.csv.gz', index_col=0)\n",
    "\n",
    "# remove practice trials\n",
    "switchdata = switchdata.query('exp_stage == \"test\"')\n",
    "\n",
    "# remove implausible response times\n",
    "switchdata = switchdata.query('rt > 200')\n",
    "\n",
    "# convert variables to string so that they will be treated as factors\n",
    "for var in ['CTI']:\n",
    "    switchdata[var] = [str(i) for i in switchdata[var]]\n",
    "\n",
    "# create an overall switch vs. nonswitch variable\n",
    "switchdata['switch'] = (switchdata['task_switch'] != 'stay').astype('int')\n",
    "\n",
    "# add selected variables from main dataset into data frame\n",
    "SROdata = get_SRO_data(vars=['Age'])\n",
    "SROdata['worker_id'] = SROdata.index\n",
    "switchdata = switchdata.join(SROdata,on='worker_id', rsuffix='_r')\n",
    "del switchdata['worker_id_r']\n",
    "\n",
    "switchdata.columns"
   ]
  },
  {
   "cell_type": "code",
   "execution_count": 21,
   "metadata": {},
   "outputs": [
    {
     "name": "stdout",
     "output_type": "stream",
     "text": [
      "found 521 unique subjects\n"
     ]
    }
   ],
   "source": [
    "nsubs = np.unique(switchdata.worker_id).shape[0]\n",
    "print(f'found {nsubs} unique subjects')"
   ]
  },
  {
   "cell_type": "markdown",
   "metadata": {},
   "source": [
    "Response time distributions are generally skewed, and sometimes have outliers that can impact analyses.  For this reason, it is common to drop outlier trials.  Let's look at the distribution of response times:"
   ]
  },
  {
   "cell_type": "code",
   "execution_count": 22,
   "metadata": {},
   "outputs": [
    {
     "name": "stdout",
     "output_type": "stream",
     "text": [
      "proportion of RTs greater than 2500 ms: 0.00004\n"
     ]
    },
    {
     "data": {
      "image/png": "[encoded data removed]",
      "text/plain": [
       "<Figure size 432x288 with 1 Axes>"
      ]
     },
     "metadata": {
      "needs_background": "light"
     },
     "output_type": "display_data"
    }
   ],
   "source": [
    "# plot the full distribution of response times\n",
    "\n",
    "sns.distplot(switchdata.rt)\n",
    "\n",
    "cutoff = 2500\n",
    "p_exceed_cutoff = np.mean(switchdata.rt > cutoff)\n",
    "print(f'proportion of RTs greater than {cutoff} ms: {p_exceed_cutoff:.5f}')"
   ]
  },
  {
   "cell_type": "markdown",
   "metadata": {},
   "source": [
    "The 2500 ms cutoff excludes very few trials, so let's use that to clean the distribution. \n"
   ]
  },
  {
   "cell_type": "code",
   "execution_count": 23,
   "metadata": {},
   "outputs": [],
   "source": [
    "switchdata = switchdata.query('rt <= 2000')"
   ]
  },
  {
   "cell_type": "markdown",
   "metadata": {},
   "source": [
    "## Modeling switch costs\n",
    "\n",
    "The standard approach followed by many researchers for analysis of response times is to first compute the mean for each condition/subject, and then perform a standard linear model on those means.  Let's first do that here."
   ]
  },
  {
   "cell_type": "code",
   "execution_count": 24,
   "metadata": {},
   "outputs": [
    {
     "data": {
      "image/png": "[encoded data removed]",
      "text/plain": [
       "<Figure size 432x288 with 1 Axes>"
      ]
     },
     "metadata": {
      "needs_background": "light"
     },
     "output_type": "display_data"
    }
   ],
   "source": [
    "switchdata_by_subject = switchdata.groupby(['worker_id', 'switch', 'CTI'])\n",
    "mean_switchdata_by_subject = switchdata_by_subject.mean().reset_index()\n",
    "\n",
    "sns.boxplot(x=\"switch\", y=\"rt\",\n",
    "            hue=\"CTI\", palette=[\"m\", \"g\"],\n",
    "            data=mean_switchdata_by_subject)\n",
    "sns.despine(offset=10, trim=True)\n",
    "plt.savefig('mean_rt_by_condition.pdf')"
   ]
  },
  {
   "cell_type": "markdown",
   "metadata": {},
   "source": [
    "Let's fit a standard linear model to these data, using the statsmodels `ols()` function"
   ]
  },
  {
   "cell_type": "code",
   "execution_count": 25,
   "metadata": {},
   "outputs": [
    {
     "data": {
      "text/html": [
       "<table class=\"simpletable\">\n",
       "<caption>OLS Regression Results</caption>\n",
       "<tr>\n",
       "  <th>Dep. Variable:</th>           <td>rt</td>        <th>  R-squared:         </th> <td>   0.410</td> \n",
       "</tr>\n",
       "<tr>\n",
       "  <th>Model:</th>                   <td>OLS</td>       <th>  Adj. R-squared:    </th> <td>   0.409</td> \n",
       "</tr>\n",
       "<tr>\n",
       "  <th>Method:</th>             <td>Least Squares</td>  <th>  F-statistic:       </th> <td>   481.6</td> \n",
       "</tr>\n",
       "<tr>\n",
       "  <th>Date:</th>             <td>Tue, 14 Apr 2020</td> <th>  Prob (F-statistic):</th> <td>1.34e-237</td>\n",
       "</tr>\n",
       "<tr>\n",
       "  <th>Time:</th>                 <td>15:33:48</td>     <th>  Log-Likelihood:    </th> <td> -12977.</td> \n",
       "</tr>\n",
       "<tr>\n",
       "  <th>No. Observations:</th>      <td>  2084</td>      <th>  AIC:               </th> <td>2.596e+04</td>\n",
       "</tr>\n",
       "<tr>\n",
       "  <th>Df Residuals:</th>          <td>  2080</td>      <th>  BIC:               </th> <td>2.598e+04</td>\n",
       "</tr>\n",
       "<tr>\n",
       "  <th>Df Model:</th>              <td>     3</td>      <th>                     </th>     <td> </td>    \n",
       "</tr>\n",
       "<tr>\n",
       "  <th>Covariance Type:</th>      <td>nonrobust</td>    <th>                     </th>     <td> </td>    \n",
       "</tr>\n",
       "</table>\n",
       "<table class=\"simpletable\">\n",
       "<tr>\n",
       "           <td></td>              <th>coef</th>     <th>std err</th>      <th>t</th>      <th>P>|t|</th>  <th>[0.025</th>    <th>0.975]</th>  \n",
       "</tr>\n",
       "<tr>\n",
       "  <th>Intercept</th>           <td>  823.1418</td> <td>    5.372</td> <td>  153.237</td> <td> 0.000</td> <td>  812.607</td> <td>  833.676</td>\n",
       "</tr>\n",
       "<tr>\n",
       "  <th>CTI[T.900.0]</th>        <td> -177.9010</td> <td>    7.597</td> <td>  -23.418</td> <td> 0.000</td> <td> -192.799</td> <td> -163.003</td>\n",
       "</tr>\n",
       "<tr>\n",
       "  <th>switch</th>              <td>   73.2623</td> <td>    7.597</td> <td>    9.644</td> <td> 0.000</td> <td>   58.364</td> <td>   88.160</td>\n",
       "</tr>\n",
       "<tr>\n",
       "  <th>CTI[T.900.0]:switch</th> <td>  -35.5986</td> <td>   10.743</td> <td>   -3.314</td> <td> 0.001</td> <td>  -56.668</td> <td>  -14.530</td>\n",
       "</tr>\n",
       "</table>\n",
       "<table class=\"simpletable\">\n",
       "<tr>\n",
       "  <th>Omnibus:</th>       <td>297.534</td> <th>  Durbin-Watson:     </th> <td>   0.733</td> \n",
       "</tr>\n",
       "<tr>\n",
       "  <th>Prob(Omnibus):</th> <td> 0.000</td>  <th>  Jarque-Bera (JB):  </th> <td> 681.316</td> \n",
       "</tr>\n",
       "<tr>\n",
       "  <th>Skew:</th>          <td> 0.820</td>  <th>  Prob(JB):          </th> <td>1.13e-148</td>\n",
       "</tr>\n",
       "<tr>\n",
       "  <th>Kurtosis:</th>      <td> 5.270</td>  <th>  Cond. No.          </th> <td>    6.85</td> \n",
       "</tr>\n",
       "</table><br/><br/>Warnings:<br/>[1] Standard Errors assume that the covariance matrix of the errors is correctly specified."
      ],
      "text/plain": [
       "<class 'statsmodels.iolib.summary.Summary'>\n",
       "\"\"\"\n",
       "                            OLS Regression Results                            \n",
       "==============================================================================\n",
       "Dep. Variable:                     rt   R-squared:                       0.410\n",
       "Model:                            OLS   Adj. R-squared:                  0.409\n",
       "Method:                 Least Squares   F-statistic:                     481.6\n",
       "Date:                Tue, 14 Apr 2020   Prob (F-statistic):          1.34e-237\n",
       "Time:                        15:33:48   Log-Likelihood:                -12977.\n",
       "No. Observations:                2084   AIC:                         2.596e+04\n",
       "Df Residuals:                    2080   BIC:                         2.598e+04\n",
       "Df Model:                           3                                         \n",
       "Covariance Type:            nonrobust                                         \n",
       "=======================================================================================\n",
       "                          coef    std err          t      P>|t|      [0.025      0.975]\n",
       "---------------------------------------------------------------------------------------\n",
       "Intercept             823.1418      5.372    153.237      0.000     812.607     833.676\n",
       "CTI[T.900.0]         -177.9010      7.597    -23.418      0.000    -192.799    -163.003\n",
       "switch                 73.2623      7.597      9.644      0.000      58.364      88.160\n",
       "CTI[T.900.0]:switch   -35.5986     10.743     -3.314      0.001     -56.668     -14.530\n",
       "==============================================================================\n",
       "Omnibus:                      297.534   Durbin-Watson:                   0.733\n",
       "Prob(Omnibus):                  0.000   Jarque-Bera (JB):              681.316\n",
       "Skew:                           0.820   Prob(JB):                    1.13e-148\n",
       "Kurtosis:                       5.270   Cond. No.                         6.85\n",
       "==============================================================================\n",
       "\n",
       "Warnings:\n",
       "[1] Standard Errors assume that the covariance matrix of the errors is correctly specified.\n",
       "\"\"\""
      ]
     },
     "execution_count": 25,
     "metadata": {},
     "output_type": "execute_result"
    }
   ],
   "source": [
    "formula = 'rt ~ 1 + CTI*switch'\n",
    "\n",
    "mod = smf.ols(formula=formula, data=mean_switchdata_by_subject)\n",
    "res = mod.fit()\n",
    "\n",
    "# store the residuals back into the dataframe\n",
    "mean_switchdata_by_subject['lm_resid'] = mean_switchdata_by_subject.rt - res.predict(mean_switchdata_by_subject, transform=True)\n",
    "\n",
    "res.summary()"
   ]
  },
  {
   "cell_type": "markdown",
   "metadata": {},
   "source": [
    "The foregoing model was inappropriate, since it didn't properly account for random variation in the intercept and experimental effects in the data.\n",
    "\n",
    "To specify the same model that we used above in `lmer`, we would use a formula like this:\n",
    "\n",
    "> `rt ~ 1 + CTI\\*switch + (1 + CTI\\*switch|worker_id)`\n",
    "\n",
    "The first part looks like like the model that we used above for each individual subject, specifying that we want to model an intercept along with the main effects of CTI and switch and their interaction.  These are the fixed effects that we want to estimate.  The second part (contained in the parentheses) reflect the *random effects*.  In this case, this is basically saying that we want to estimate a separate intercept, main effects, and interaction effect for each participant (who are denoted by the *worker_id* variable).  Again, this is a maximal model for this design. These will then be combined to estimate each of the specified fixed effects.\n",
    "\n",
    "Let's estimate this model using `lmer`:"
   ]
  },
  {
   "cell_type": "code",
   "execution_count": 26,
   "metadata": {},
   "outputs": [],
   "source": [
    "# remove extraneous variables, which were causing problems for pandas2ri\n",
    "switchdata_for_lmer = switchdata[['rt', 'CTI', 'worker_id', 'cue', \n",
    "                                  'switch',\n",
    "                                  'trial_num']]\n"
   ]
  },
  {
   "cell_type": "code",
   "execution_count": 44,
   "metadata": {},
   "outputs": [],
   "source": [
    "%%R -i switchdata_for_lmer\n",
    "\n",
    "# if the saved file already exists then use it instead of re-estimating\n",
    "# if you want to re-estimate, then just delete the file\n",
    "\n",
    "if (file.exists('lmer_model.RData')){\n",
    "    load('lmer_model.RData')\n",
    "} else {\n",
    "    # load the necessary libraries\n",
    "    library(lme4)\n",
    "    library(lmerTest)\n",
    "\n",
    "    lmer_formula = 'rt ~ 1 + CTI*switch + (1 + CTI*switch|worker_id)'\n",
    "    library(optimx)\n",
    "\n",
    "    # this model has trouble converging - tried various optimizers\n",
    "    # none converge but nlminb comes closest\n",
    "\n",
    "    ctrl_nlminb = lmerControl(optimizer ='optimx', optCtrl=list(method='nlminb', maxit = 1e9))\n",
    "    lmer_model = lmer(lmer_formula, data=switchdata_for_lmer,\n",
    "                control = ctrl_nlminb, REML=FALSE)\n",
    "    save(lmer_model, file='lmer_model.RData')\n",
    "}"
   ]
  },
  {
   "cell_type": "code",
   "execution_count": 45,
   "metadata": {},
   "outputs": [
    {
     "name": "stdout",
     "output_type": "stream",
     "text": [
      "Linear mixed model fit by maximum likelihood . t-tests use Satterthwaite's\n",
      "  method [lmerModLmerTest]\n",
      "Formula: lmer_formula\n",
      "   Data: switchdata_for_lmer\n",
      "Control: ctrl_nlminb\n",
      "\n",
      "     AIC      BIC   logLik deviance df.resid \n",
      " 3038000  3038155 -1518985  3037970   223444 \n",
      "\n",
      "Scaled residuals: \n",
      "    Min      1Q  Median      3Q     Max \n",
      "-5.5549 -0.6196 -0.1831  0.4279  6.8867 \n",
      "\n",
      "Random effects:\n",
      " Groups    Name            Variance Std.Dev. Corr             \n",
      " worker_id (Intercept)     13264.3  115.17                    \n",
      "           CTI900.0         1769.8   42.07   -0.51            \n",
      "           switch           1935.9   44.00    0.52 -0.48      \n",
      "           CTI900.0:switch   315.3   17.76   -0.46  0.83 -0.74\n",
      " Residual                  46129.2  214.78                    \n",
      "Number of obs: 223459, groups:  worker_id, 521\n",
      "\n",
      "Fixed effects:\n",
      "                Estimate Std. Error       df t value Pr(>|t|)    \n",
      "(Intercept)      823.224      5.168  519.532  159.29   <2e-16 ***\n",
      "CTI900.0        -178.073      2.425  508.450  -73.42   <2e-16 ***\n",
      "switch            73.214      2.364  514.499   30.96   <2e-16 ***\n",
      "CTI900.0:switch  -35.639      2.083  508.680  -17.11   <2e-16 ***\n",
      "---\n",
      "Signif. codes:  0 ‘***’ 0.001 ‘**’ 0.01 ‘*’ 0.05 ‘.’ 0.1 ‘ ’ 1\n",
      "\n",
      "Correlation of Fixed Effects:\n",
      "            (Intr) CTI900.0 switch\n",
      "CTI900.0    -0.481                \n",
      "switch       0.314 -0.078         \n",
      "CTI900.0:sw -0.051 -0.255   -0.605\n",
      "convergence code: 0\n",
      "Model failed to converge with max|grad| = 0.00735169 (tol = 0.002, component 1)\n",
      "\n"
     ]
    }
   ],
   "source": [
    "%%R -o lmer_resid\n",
    "\n",
    "s = summary(lmer_model)\n",
    "print(s)\n",
    "\n",
    "lmer_resid = resid(lmer_model)"
   ]
  },
  {
   "cell_type": "markdown",
   "metadata": {},
   "source": [
    "The model was fitted, but note the message at the bottom of the summary, stating that the model failed to converge. We will talk more about this issue in the later session on optimization, but this is a very common issue when running models with maximal random effects structure.  One should certainly be careful and dig into the cause of the convergence failure (e.g. by trying various random effect structures) before making any conclusions based on these statistical results. "
   ]
  },
  {
   "cell_type": "code",
   "execution_count": 46,
   "metadata": {},
   "outputs": [
    {
     "data": {
      "text/plain": [
       "<matplotlib.axes._subplots.AxesSubplot at 0x1416f8f10>"
      ]
     },
     "execution_count": 46,
     "metadata": {},
     "output_type": "execute_result"
    },
    {
     "data": {
      "image/png": "[encoded data removed]",
      "text/plain": [
       "<Figure size 432x288 with 1 Axes>"
      ]
     },
     "metadata": {
      "needs_background": "light"
     },
     "output_type": "display_data"
    }
   ],
   "source": [
    "sns.distplot(lmer_resid, fit=scipy.stats.norm)"
   ]
  },
  {
   "cell_type": "code",
   "execution_count": 36,
   "metadata": {},
   "outputs": [
    {
     "data": {
      "image/png": "[encoded data removed]",
      "text/plain": [
       "<Figure size 432x288 with 1 Axes>"
      ]
     },
     "execution_count": 36,
     "metadata": {},
     "output_type": "execute_result"
    },
    {
     "data": {
      "image/png": "[encoded data removed]",
      "text/plain": [
       "<Figure size 432x288 with 1 Axes>"
      ]
     },
     "metadata": {
      "needs_background": "light"
     },
     "output_type": "display_data"
    }
   ],
   "source": [
    "from statsmodels.graphics.gofplots import qqplot\n",
    "qqplot(lmer_resid, line='s')"
   ]
  },
  {
   "cell_type": "markdown",
   "metadata": {},
   "source": [
    "The residuals from this model seem to exhibit pretty substantial deviation from normality, causing further worry about the results. We can try running the same model using a Gamma error family, which is a commonly used distribution for response time models.  This is a *generalized linear model* so we need to use the `glmer()` function in lme4, and specify the Gamma error family and log link function."
   ]
  },
  {
   "cell_type": "code",
   "execution_count": 42,
   "metadata": {},
   "outputs": [],
   "source": [
    "%%R \n",
    "\n",
    "# if the saved file already exists then use it instead of re-estimating\n",
    "# if you want to re-estimate, then just delete the file\n",
    "\n",
    "if (file.exists('lmer_model_Gamma.RData')){\n",
    "    load('lmer_model_Gamma.RData')\n",
    "} else {\n",
    "    # load the necessary libraries\n",
    "    library(lme4)\n",
    "    library(lmerTest)\n",
    "\n",
    "    lmer_formula = 'rt ~ 1 + CTI*switch + (1 + CTI*switch|worker_id)'\n",
    "\n",
    "    glmer_model = glmer(lmer_formula, data=switchdata_for_lmer,\n",
    "                family=Gamma(link = \"log\"))\n",
    "    save(glmer_model, file='lmer_model_Gamma.RData')\n",
    "}\n"
   ]
  },
  {
   "cell_type": "code",
   "execution_count": 43,
   "metadata": {},
   "outputs": [
    {
     "name": "stdout",
     "output_type": "stream",
     "text": [
      "Generalized linear mixed model fit by maximum likelihood (Laplace\n",
      "  Approximation) [glmerMod]\n",
      " Family: Gamma  ( log )\n",
      "Formula: rt ~ 1 + CTI * switch + (1 + CTI * switch | worker_id)\n",
      "   Data: switchdata_for_lmer\n",
      "\n",
      "     AIC      BIC   logLik deviance df.resid \n",
      " 2984481  2984636 -1492226  2984451   223444 \n",
      "\n",
      "Scaled residuals: \n",
      "    Min      1Q  Median      3Q     Max \n",
      "-2.9764 -0.6464 -0.1939  0.4380 10.7779 \n",
      "\n",
      "Random effects:\n",
      " Groups    Name            Variance Std.Dev. Corr             \n",
      " worker_id (Intercept)     0.004042 0.06357                   \n",
      "           CTI900.0        0.002619 0.05118  -0.27            \n",
      "           switch          0.001529 0.03910  -0.13  0.05      \n",
      "           CTI900.0:switch 0.001863 0.04316   0.11 -0.40 -0.43\n",
      " Residual                  0.077496 0.27838                   \n",
      "Number of obs: 223459, groups:  worker_id, 521\n",
      "\n",
      "Fixed effects:\n",
      "                 Estimate Std. Error t value Pr(>|z|)    \n",
      "(Intercept)      6.701958   0.007466 897.675  < 2e-16 ***\n",
      "CTI900.0        -0.245308   0.004417 -55.537  < 2e-16 ***\n",
      "switch           0.082274   0.003319  24.786  < 2e-16 ***\n",
      "CTI900.0:switch -0.028070   0.003635  -7.722 1.15e-14 ***\n",
      "---\n",
      "Signif. codes:  0 ‘***’ 0.001 ‘**’ 0.01 ‘*’ 0.05 ‘.’ 0.1 ‘ ’ 1\n",
      "\n",
      "Correlation of Fixed Effects:\n",
      "            (Intr) CTI900.0 switch\n",
      "CTI900.0    -0.148                \n",
      "switch       0.098  0.055         \n",
      "CTI900.0:sw  0.091 -0.386   -0.452\n"
     ]
    }
   ],
   "source": [
    "%%R\n",
    "\n",
    "s = summary(glmer_model)\n",
    "print(s)\n",
    "\n",
    "lmer_resid = resid(glmer_model)"
   ]
  },
  {
   "cell_type": "markdown",
   "metadata": {},
   "source": [
    "This model actually converged, with slightly better fit than the previous model (based on comparison of AIC/BIC). Notably, the t statistic for the interaction effect is much smaller than it was for the previous model, though still highly significant."
   ]
  },
  {
   "cell_type": "code",
   "execution_count": null,
   "metadata": {},
   "outputs": [],
   "source": []
  }
 ],
 "metadata": {
  "kernelspec": {
   "display_name": "Python 3",
   "language": "python",
   "name": "python3"
  },
  "language_info": {
   "codemirror_mode": {
    "name": "ipython",
    "version": 3
   },
   "file_extension": ".py",
   "mimetype": "text/x-python",
   "name": "python",
   "nbconvert_exporter": "python",
   "pygments_lexer": "ipython3",
   "version": "3.7.6"
  }
 },
 "nbformat": 4,
 "nbformat_minor": 4
}
