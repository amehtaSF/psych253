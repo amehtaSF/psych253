{
 "cells": [
  {
   "cell_type": "markdown",
   "metadata": {},
   "source": [
    "## Graphical causal models and structural equation modeling\n",
    "\n",
    "We are starting our discussion of SEM with a discussion of graphical causal models. This is a relatively new approach to thinking about SEM; for a detailed description of this approach and its relation to the standard way of conceptualizing SEM, see the 4th edition of Rex Kline's outstanding book, [Principles and practice of structural equation modeling](https://www.guilford.com/books/Principles-and-Practice-of-Structural-Equation-Modeling/Rex-Kline/9781462523344).  The presentation here is built around that book, along with papers from [Judea Pearl](http://bayes.cs.ucla.edu/jp_home.html) and his colleagues and the excellent introduction by [Glymour, 2006](https://publicifsv.sund.ku.dk/~nk/epiF14/Glymour_DAGs.pdf); I have tried to atttribute all direct quotes but there are some sections that are basically patch-written from those resources, so if you see something here that looks intelligent, please assume that one of those other authors is responsible for it.  Misunderstandings or errors should of course be attributed to me only.  \n",
    "\n",
    "If you want a deep dive into the ideas behind much of this work, I would recommend Pearl's book [Causality (2nd Ed.)](http://bayes.cs.ucla.edu/BOOK-2K)"
   ]
  },
  {
   "cell_type": "code",
   "execution_count": 2,
   "metadata": {},
   "outputs": [
    {
     "ename": "ModuleNotFoundError",
     "evalue": "No module named 'rpy2'",
     "output_type": "error",
     "traceback": [
      "\u001b[0;31m---------------------------------------------------------------------------\u001b[0m",
      "\u001b[0;31mModuleNotFoundError\u001b[0m                       Traceback (most recent call last)",
      "\u001b[0;32m<ipython-input-2-4099007f5cb4>\u001b[0m in \u001b[0;36m<module>\u001b[0;34m\u001b[0m\n\u001b[1;32m      8\u001b[0m \u001b[0;32mimport\u001b[0m \u001b[0mcausalgraphicalmodels\u001b[0m\u001b[0;34m\u001b[0m\u001b[0;34m\u001b[0m\u001b[0m\n\u001b[1;32m      9\u001b[0m \u001b[0;32mfrom\u001b[0m \u001b[0mcausalgraphicalmodels\u001b[0m \u001b[0;32mimport\u001b[0m \u001b[0mCausalGraphicalModel\u001b[0m\u001b[0;34m\u001b[0m\u001b[0;34m\u001b[0m\u001b[0m\n\u001b[0;32m---> 10\u001b[0;31m \u001b[0mget_ipython\u001b[0m\u001b[0;34m(\u001b[0m\u001b[0;34m)\u001b[0m\u001b[0;34m.\u001b[0m\u001b[0mrun_line_magic\u001b[0m\u001b[0;34m(\u001b[0m\u001b[0;34m'load_ext'\u001b[0m\u001b[0;34m,\u001b[0m \u001b[0;34m'rpy2.ipython'\u001b[0m\u001b[0;34m)\u001b[0m\u001b[0;34m\u001b[0m\u001b[0;34m\u001b[0m\u001b[0m\n\u001b[0m",
      "\u001b[0;32m~/files/phd_coursework/spring_2020/stats_253/venv/lib/python3.7/site-packages/IPython/core/interactiveshell.py\u001b[0m in \u001b[0;36mrun_line_magic\u001b[0;34m(self, magic_name, line, _stack_depth)\u001b[0m\n\u001b[1;32m   2315\u001b[0m                 \u001b[0mkwargs\u001b[0m\u001b[0;34m[\u001b[0m\u001b[0;34m'local_ns'\u001b[0m\u001b[0;34m]\u001b[0m \u001b[0;34m=\u001b[0m \u001b[0msys\u001b[0m\u001b[0;34m.\u001b[0m\u001b[0m_getframe\u001b[0m\u001b[0;34m(\u001b[0m\u001b[0mstack_depth\u001b[0m\u001b[0;34m)\u001b[0m\u001b[0;34m.\u001b[0m\u001b[0mf_locals\u001b[0m\u001b[0;34m\u001b[0m\u001b[0;34m\u001b[0m\u001b[0m\n\u001b[1;32m   2316\u001b[0m             \u001b[0;32mwith\u001b[0m \u001b[0mself\u001b[0m\u001b[0;34m.\u001b[0m\u001b[0mbuiltin_trap\u001b[0m\u001b[0;34m:\u001b[0m\u001b[0;34m\u001b[0m\u001b[0;34m\u001b[0m\u001b[0m\n\u001b[0;32m-> 2317\u001b[0;31m                 \u001b[0mresult\u001b[0m \u001b[0;34m=\u001b[0m \u001b[0mfn\u001b[0m\u001b[0;34m(\u001b[0m\u001b[0;34m*\u001b[0m\u001b[0margs\u001b[0m\u001b[0;34m,\u001b[0m \u001b[0;34m**\u001b[0m\u001b[0mkwargs\u001b[0m\u001b[0;34m)\u001b[0m\u001b[0;34m\u001b[0m\u001b[0;34m\u001b[0m\u001b[0m\n\u001b[0m\u001b[1;32m   2318\u001b[0m             \u001b[0;32mreturn\u001b[0m \u001b[0mresult\u001b[0m\u001b[0;34m\u001b[0m\u001b[0;34m\u001b[0m\u001b[0m\n\u001b[1;32m   2319\u001b[0m \u001b[0;34m\u001b[0m\u001b[0m\n",
      "\u001b[0;32m<decorator-gen-64>\u001b[0m in \u001b[0;36mload_ext\u001b[0;34m(self, module_str)\u001b[0m\n",
      "\u001b[0;32m~/files/phd_coursework/spring_2020/stats_253/venv/lib/python3.7/site-packages/IPython/core/magic.py\u001b[0m in \u001b[0;36m<lambda>\u001b[0;34m(f, *a, **k)\u001b[0m\n\u001b[1;32m    185\u001b[0m     \u001b[0;31m# but it's overkill for just that one bit of state.\u001b[0m\u001b[0;34m\u001b[0m\u001b[0;34m\u001b[0m\u001b[0;34m\u001b[0m\u001b[0m\n\u001b[1;32m    186\u001b[0m     \u001b[0;32mdef\u001b[0m \u001b[0mmagic_deco\u001b[0m\u001b[0;34m(\u001b[0m\u001b[0marg\u001b[0m\u001b[0;34m)\u001b[0m\u001b[0;34m:\u001b[0m\u001b[0;34m\u001b[0m\u001b[0;34m\u001b[0m\u001b[0m\n\u001b[0;32m--> 187\u001b[0;31m         \u001b[0mcall\u001b[0m \u001b[0;34m=\u001b[0m \u001b[0;32mlambda\u001b[0m \u001b[0mf\u001b[0m\u001b[0;34m,\u001b[0m \u001b[0;34m*\u001b[0m\u001b[0ma\u001b[0m\u001b[0;34m,\u001b[0m \u001b[0;34m**\u001b[0m\u001b[0mk\u001b[0m\u001b[0;34m:\u001b[0m \u001b[0mf\u001b[0m\u001b[0;34m(\u001b[0m\u001b[0;34m*\u001b[0m\u001b[0ma\u001b[0m\u001b[0;34m,\u001b[0m \u001b[0;34m**\u001b[0m\u001b[0mk\u001b[0m\u001b[0;34m)\u001b[0m\u001b[0;34m\u001b[0m\u001b[0;34m\u001b[0m\u001b[0m\n\u001b[0m\u001b[1;32m    188\u001b[0m \u001b[0;34m\u001b[0m\u001b[0m\n\u001b[1;32m    189\u001b[0m         \u001b[0;32mif\u001b[0m \u001b[0mcallable\u001b[0m\u001b[0;34m(\u001b[0m\u001b[0marg\u001b[0m\u001b[0;34m)\u001b[0m\u001b[0;34m:\u001b[0m\u001b[0;34m\u001b[0m\u001b[0;34m\u001b[0m\u001b[0m\n",
      "\u001b[0;32m~/files/phd_coursework/spring_2020/stats_253/venv/lib/python3.7/site-packages/IPython/core/magics/extension.py\u001b[0m in \u001b[0;36mload_ext\u001b[0;34m(self, module_str)\u001b[0m\n\u001b[1;32m     31\u001b[0m         \u001b[0;32mif\u001b[0m \u001b[0;32mnot\u001b[0m \u001b[0mmodule_str\u001b[0m\u001b[0;34m:\u001b[0m\u001b[0;34m\u001b[0m\u001b[0;34m\u001b[0m\u001b[0m\n\u001b[1;32m     32\u001b[0m             \u001b[0;32mraise\u001b[0m \u001b[0mUsageError\u001b[0m\u001b[0;34m(\u001b[0m\u001b[0;34m'Missing module name.'\u001b[0m\u001b[0;34m)\u001b[0m\u001b[0;34m\u001b[0m\u001b[0;34m\u001b[0m\u001b[0m\n\u001b[0;32m---> 33\u001b[0;31m         \u001b[0mres\u001b[0m \u001b[0;34m=\u001b[0m \u001b[0mself\u001b[0m\u001b[0;34m.\u001b[0m\u001b[0mshell\u001b[0m\u001b[0;34m.\u001b[0m\u001b[0mextension_manager\u001b[0m\u001b[0;34m.\u001b[0m\u001b[0mload_extension\u001b[0m\u001b[0;34m(\u001b[0m\u001b[0mmodule_str\u001b[0m\u001b[0;34m)\u001b[0m\u001b[0;34m\u001b[0m\u001b[0;34m\u001b[0m\u001b[0m\n\u001b[0m\u001b[1;32m     34\u001b[0m \u001b[0;34m\u001b[0m\u001b[0m\n\u001b[1;32m     35\u001b[0m         \u001b[0;32mif\u001b[0m \u001b[0mres\u001b[0m \u001b[0;34m==\u001b[0m \u001b[0;34m'already loaded'\u001b[0m\u001b[0;34m:\u001b[0m\u001b[0;34m\u001b[0m\u001b[0;34m\u001b[0m\u001b[0m\n",
      "\u001b[0;32m~/files/phd_coursework/spring_2020/stats_253/venv/lib/python3.7/site-packages/IPython/core/extensions.py\u001b[0m in \u001b[0;36mload_extension\u001b[0;34m(self, module_str)\u001b[0m\n\u001b[1;32m     78\u001b[0m             \u001b[0;32mif\u001b[0m \u001b[0mmodule_str\u001b[0m \u001b[0;32mnot\u001b[0m \u001b[0;32min\u001b[0m \u001b[0msys\u001b[0m\u001b[0;34m.\u001b[0m\u001b[0mmodules\u001b[0m\u001b[0;34m:\u001b[0m\u001b[0;34m\u001b[0m\u001b[0;34m\u001b[0m\u001b[0m\n\u001b[1;32m     79\u001b[0m                 \u001b[0;32mwith\u001b[0m \u001b[0mprepended_to_syspath\u001b[0m\u001b[0;34m(\u001b[0m\u001b[0mself\u001b[0m\u001b[0;34m.\u001b[0m\u001b[0mipython_extension_dir\u001b[0m\u001b[0;34m)\u001b[0m\u001b[0;34m:\u001b[0m\u001b[0;34m\u001b[0m\u001b[0;34m\u001b[0m\u001b[0m\n\u001b[0;32m---> 80\u001b[0;31m                     \u001b[0mmod\u001b[0m \u001b[0;34m=\u001b[0m \u001b[0mimport_module\u001b[0m\u001b[0;34m(\u001b[0m\u001b[0mmodule_str\u001b[0m\u001b[0;34m)\u001b[0m\u001b[0;34m\u001b[0m\u001b[0;34m\u001b[0m\u001b[0m\n\u001b[0m\u001b[1;32m     81\u001b[0m                     \u001b[0;32mif\u001b[0m \u001b[0mmod\u001b[0m\u001b[0;34m.\u001b[0m\u001b[0m__file__\u001b[0m\u001b[0;34m.\u001b[0m\u001b[0mstartswith\u001b[0m\u001b[0;34m(\u001b[0m\u001b[0mself\u001b[0m\u001b[0;34m.\u001b[0m\u001b[0mipython_extension_dir\u001b[0m\u001b[0;34m)\u001b[0m\u001b[0;34m:\u001b[0m\u001b[0;34m\u001b[0m\u001b[0;34m\u001b[0m\u001b[0m\n\u001b[1;32m     82\u001b[0m                         print((\"Loading extensions from {dir} is deprecated. \"\n",
      "\u001b[0;32m~/files/phd_coursework/spring_2020/stats_253/venv/lib/python3.7/importlib/__init__.py\u001b[0m in \u001b[0;36mimport_module\u001b[0;34m(name, package)\u001b[0m\n\u001b[1;32m    125\u001b[0m                 \u001b[0;32mbreak\u001b[0m\u001b[0;34m\u001b[0m\u001b[0;34m\u001b[0m\u001b[0m\n\u001b[1;32m    126\u001b[0m             \u001b[0mlevel\u001b[0m \u001b[0;34m+=\u001b[0m \u001b[0;36m1\u001b[0m\u001b[0;34m\u001b[0m\u001b[0;34m\u001b[0m\u001b[0m\n\u001b[0;32m--> 127\u001b[0;31m     \u001b[0;32mreturn\u001b[0m \u001b[0m_bootstrap\u001b[0m\u001b[0;34m.\u001b[0m\u001b[0m_gcd_import\u001b[0m\u001b[0;34m(\u001b[0m\u001b[0mname\u001b[0m\u001b[0;34m[\u001b[0m\u001b[0mlevel\u001b[0m\u001b[0;34m:\u001b[0m\u001b[0;34m]\u001b[0m\u001b[0;34m,\u001b[0m \u001b[0mpackage\u001b[0m\u001b[0;34m,\u001b[0m \u001b[0mlevel\u001b[0m\u001b[0;34m)\u001b[0m\u001b[0;34m\u001b[0m\u001b[0;34m\u001b[0m\u001b[0m\n\u001b[0m\u001b[1;32m    128\u001b[0m \u001b[0;34m\u001b[0m\u001b[0m\n\u001b[1;32m    129\u001b[0m \u001b[0;34m\u001b[0m\u001b[0m\n",
      "\u001b[0;32m~/files/phd_coursework/spring_2020/stats_253/venv/lib/python3.7/importlib/_bootstrap.py\u001b[0m in \u001b[0;36m_gcd_import\u001b[0;34m(name, package, level)\u001b[0m\n",
      "\u001b[0;32m~/files/phd_coursework/spring_2020/stats_253/venv/lib/python3.7/importlib/_bootstrap.py\u001b[0m in \u001b[0;36m_find_and_load\u001b[0;34m(name, import_)\u001b[0m\n",
      "\u001b[0;32m~/files/phd_coursework/spring_2020/stats_253/venv/lib/python3.7/importlib/_bootstrap.py\u001b[0m in \u001b[0;36m_find_and_load_unlocked\u001b[0;34m(name, import_)\u001b[0m\n",
      "\u001b[0;32m~/files/phd_coursework/spring_2020/stats_253/venv/lib/python3.7/importlib/_bootstrap.py\u001b[0m in \u001b[0;36m_call_with_frames_removed\u001b[0;34m(f, *args, **kwds)\u001b[0m\n",
      "\u001b[0;32m~/files/phd_coursework/spring_2020/stats_253/venv/lib/python3.7/importlib/_bootstrap.py\u001b[0m in \u001b[0;36m_gcd_import\u001b[0;34m(name, package, level)\u001b[0m\n",
      "\u001b[0;32m~/files/phd_coursework/spring_2020/stats_253/venv/lib/python3.7/importlib/_bootstrap.py\u001b[0m in \u001b[0;36m_find_and_load\u001b[0;34m(name, import_)\u001b[0m\n",
      "\u001b[0;32m~/files/phd_coursework/spring_2020/stats_253/venv/lib/python3.7/importlib/_bootstrap.py\u001b[0m in \u001b[0;36m_find_and_load_unlocked\u001b[0;34m(name, import_)\u001b[0m\n",
      "\u001b[0;31mModuleNotFoundError\u001b[0m: No module named 'rpy2'"
     ]
    }
   ],
   "source": [
    "import numpy as np\n",
    "import pandas as pd\n",
    "import networkx as nx\n",
    "import matplotlib.pyplot as plt\n",
    "import scipy.stats\n",
    "\n",
    "# install using: pip install git+https://github.com/ijmbarr/causalgraphicalmodels\n",
    "import causalgraphicalmodels\n",
    "from causalgraphicalmodels import CausalGraphicalModel\n",
    "%load_ext rpy2.ipython"
   ]
  },
  {
   "cell_type": "markdown",
   "metadata": {},
   "source": [
    "Graphical causal models provide a way to encode and visualize our assumptions about the causal structure that relates a set of variables.  Let's look at a simple example, which describes the various factors that relate to a sidewalk being slippery.  First, we show the graph:"
   ]
  },
  {
   "cell_type": "code",
   "execution_count": null,
   "metadata": {},
   "outputs": [],
   "source": [
    "# from http://www.degeneratestate.org/posts/2018/Jul/10/causal-inference-with-python-part-2-causal-graphical-models/\n",
    "sprinkler = CausalGraphicalModel(\n",
    "    nodes=[\"season\", \"rain\", \"sprinkler\", \"wet\", \"slippery\"],\n",
    "    edges=[\n",
    "        (\"season\", \"rain\"), \n",
    "        (\"season\", \"sprinkler\"), \n",
    "        (\"rain\", \"wet\"),\n",
    "        (\"sprinkler\", \"wet\"), \n",
    "        (\"wet\", \"slippery\")\n",
    "    ]\n",
    ")\n",
    "\n",
    "# draw return a graphviz `dot` object, which jupyter can render\n",
    "sprinkler.draw()"
   ]
  },
  {
   "cell_type": "markdown",
   "metadata": {},
   "source": [
    "This is an example of a *directed acyclic graph* (or *DAG*). Each variable of interest (or *node*) is represented by an ellipse, and the causal relations between the variables are represented as lines with arrows.  The arrows represent the *directed* nature of the graph, and are meant to reflect specific claims about causal influence.  For example, this model says that raining causes the sidewalk to be wet, and that the sidewalk being wet causes it to be slippery.  We refer to the cause (the node from which an arrow emerges) as a *parent*, and the node that it connects to as a *child*.  \n",
    "\n",
    "Following graph theory, we refer to the lines connecting two nodes as *edges*.  A *path* is a sequence of edges that connect two nodes, regardless of the direction of the arrows; it can only pass through each variable once. A *directed path* is a path that follows the direction of causal arrows, and thus describes a series of causal interactions. \n",
    "\n",
    "The *acyclic* nature of the graph means that there are no cycles; that is, that a directed path never leads back to the same variable where it started.  It is possible to have a *directed cyclic graph*, but we will not discuss these as their analysis is more challenging in the context of SEM.\n",
    "\n",
    "## What do we mean by \"cause\"?\n",
    "\n",
    "The concept of causality has long been and remains a source of great controversy; the discussion here will focus on the particular sense that has long been used by scientists, and that underlies the use of randomized experiments. Let's say that we want to test the claim: \"dietary saturated fat causes heart disease, via its effect on blood cholesterol.\"  This implies the following graph:\n",
    "\n"
   ]
  },
  {
   "cell_type": "code",
   "execution_count": 10,
   "metadata": {},
   "outputs": [
    {
     "data": {
      "image/svg+xml": [
       "<?xml version=\"1.0\" encoding=\"UTF-8\" standalone=\"no\"?>\n",
       "<!DOCTYPE svg PUBLIC \"-//W3C//DTD SVG 1.1//EN\"\n",
       " \"http://www.w3.org/Graphics/SVG/1.1/DTD/svg11.dtd\">\n",
       "<!-- Generated by graphviz version 2.30.1 (20130221.2233)\n",
       " -->\n",
       "<!-- Title: %3 Pages: 1 -->\n",
       "<svg width=\"128pt\" height=\"188pt\"\n",
       " viewBox=\"0.00 0.00 128.00 188.00\" xmlns=\"http://www.w3.org/2000/svg\" xmlns:xlink=\"http://www.w3.org/1999/xlink\">\n",
       "<g id=\"graph0\" class=\"graph\" transform=\"scale(1 1) rotate(0) translate(4 184)\">\n",
       "<title>%3</title>\n",
       "<polygon fill=\"white\" stroke=\"white\" points=\"-4,5 -4,-184 125,-184 125,5 -4,5\"/>\n",
       "<!-- dietary sat fat -->\n",
       "<g id=\"node1\" class=\"node\"><title>dietary sat fat</title>\n",
       "<ellipse fill=\"none\" stroke=\"black\" cx=\"60\" cy=\"-162\" rx=\"60.1672\" ry=\"18\"/>\n",
       "<text text-anchor=\"middle\" x=\"60\" y=\"-158.3\" font-family=\"Times,serif\" font-size=\"14.00\">dietary sat fat</text>\n",
       "</g>\n",
       "<!-- cholesterol -->\n",
       "<g id=\"node3\" class=\"node\"><title>cholesterol</title>\n",
       "<ellipse fill=\"none\" stroke=\"black\" cx=\"60\" cy=\"-90\" rx=\"50.5427\" ry=\"18\"/>\n",
       "<text text-anchor=\"middle\" x=\"60\" y=\"-86.3\" font-family=\"Times,serif\" font-size=\"14.00\">cholesterol</text>\n",
       "</g>\n",
       "<!-- dietary sat fat&#45;&gt;cholesterol -->\n",
       "<g id=\"edge1\" class=\"edge\"><title>dietary sat fat&#45;&gt;cholesterol</title>\n",
       "<path fill=\"none\" stroke=\"black\" d=\"M60,-143.697C60,-135.983 60,-126.712 60,-118.112\"/>\n",
       "<polygon fill=\"black\" stroke=\"black\" points=\"63.5001,-118.104 60,-108.104 56.5001,-118.104 63.5001,-118.104\"/>\n",
       "</g>\n",
       "<!-- heart disease -->\n",
       "<g id=\"node2\" class=\"node\"><title>heart disease</title>\n",
       "<ellipse fill=\"none\" stroke=\"black\" cx=\"60\" cy=\"-18\" rx=\"57.2927\" ry=\"18\"/>\n",
       "<text text-anchor=\"middle\" x=\"60\" y=\"-14.3\" font-family=\"Times,serif\" font-size=\"14.00\">heart disease</text>\n",
       "</g>\n",
       "<!-- cholesterol&#45;&gt;heart disease -->\n",
       "<g id=\"edge2\" class=\"edge\"><title>cholesterol&#45;&gt;heart disease</title>\n",
       "<path fill=\"none\" stroke=\"black\" d=\"M60,-71.6966C60,-63.9827 60,-54.7125 60,-46.1124\"/>\n",
       "<polygon fill=\"black\" stroke=\"black\" points=\"63.5001,-46.1043 60,-36.1043 56.5001,-46.1044 63.5001,-46.1043\"/>\n",
       "</g>\n",
       "</g>\n",
       "</svg>\n"
      ],
      "text/plain": [
       "<graphviz.dot.Digraph at 0x1201a2990>"
      ]
     },
     "execution_count": 10,
     "metadata": {},
     "output_type": "execute_result"
    }
   ],
   "source": [
    "hd = CausalGraphicalModel(\n",
    "    nodes=[\"dietary sat fat\", \"cholesterol\", \"heart disease\"],\n",
    "    edges=[\n",
    "        (\"dietary sat fat\", \"cholesterol\"), \n",
    "        (\"cholesterol\", \"heart disease\"), \n",
    "    ]\n",
    ")\n",
    "\n",
    "# draw return a graphviz `dot` object, which jupyter can render\n",
    "hd.draw()"
   ]
  },
  {
   "cell_type": "markdown",
   "metadata": {},
   "source": [
    "Intuitively we often think of causality in an as-if (or *counterfactual*) way: If I were to change one thing, how would it affect something else?  We can see that the graph in this example implies two possible interventions that one could make in order to affect heart disease. First, we could manipulate the level of dietary saturated fat; for example, we could perform a randomized controlled trial where we randomly assign people to eat either a high- or low-saturated fat diet.  Randomization plays the important role of equating (on average) any other variables that might affect the outcome.  We could also imagine performing a randomed trial where we manipulate cholesterol levels (e.g. through a drug).  In each case, we infer the presence of a causal relation on the basis of our ability to directly control or manipulate a relevant aspect of the system. \n",
    "\n",
    "Importantly, we realize that if this model is true, then by manipulating the level of cholesterol, we should be able to eliminate the effect of saturated fat -- that is, by controlling that step in the causal chain we break the relationship between saturated fat and heart disease. "
   ]
  },
  {
   "cell_type": "markdown",
   "metadata": {},
   "source": [
    "\n",
    "## Causal vs. statistical language\n",
    "\n",
    "\"Correlation is not causation, but it sure is a hint.\" -- Edward Tufte\n",
    "\n",
    "If we see a statistical relationship between two variables X and Y, what does that mean in terms of causality?  It could mean any of a number of different things (Glymour, 2006):\n",
    "\n",
    "1. There are no causal relations between X and Y; the association arose by random fluctuation\n",
    "2. X causes Y\n",
    "3. Y causes X\n",
    "4. The association is *confounded* - that is, a common third factor causes both X and Y\n",
    "5. The association is *spurious*, due to conditioning on a common effect of X and Y (as we discuss more below).\n",
    "\n",
    "\n",
    "In order to go from a question about causality to a question that we can assess using statistics, we need to look at the implications of the graphical structure of a causal model on the statistical relations between variables.  In particular, we will focus on *conditional indepdendence*: That is, for which set of variables can we infer that they should be statistically independent, after conditioning on some other variables.\n",
    "\n",
    "The mathematical foundation for the move from causal to statistical langauge lies in the \"calculus of interventions\", also known as the *do-calculus* developed by Pearl and his colleagues.  This approach frames causality in terms of the effects of particular interventions on a graph (such as setting a particular variable to a particular value), allowing one to estimate the effect of such an intervention on the resulting probability distribution of variables.  Importantly, it provides a way to move from mathematical statements about the effects of a particular intervention (\"$do(x)$\") to statements about the probability distributions observed in observational data (i.e. without any experimental control or manipulation). In essence, it provides us with a guide for when we can treat the observation of $X = x$ as equivalent to performing the manipulation $do(X=x)$. We will not go into the details of this foundation in this class; interested readers should consult Pearl's 2009 book for a detailed explication.\n",
    "\n",
    "### Assumptions of the graphical causal modeling approach\n",
    "\n",
    "The causal modeling approach makes several important assumptions:\n",
    "\n",
    "1. Causal Markov assumption: Every variable in a DAG is independent of all of its non-descendents, conditional on its parents. That is, any variable X is independent of any other variable Y conditioning on the direct causes of X, unless X is an ancestor of Y.\n",
    "2. Faithfulness assumption: The statistical relationships in the data faithfully reflect the causal structure.  In particular, positive and negative causal effects do not perfectly cancel each other out.\n",
    "3. Negligible randomness: We assume that any observed statistical relationships did not arise due to chance.\n",
    "\n",
    "### d-separation\n",
    "\n",
    "It turns out that a DAG directly implies a set of statistical independence relations between the variables in the graph.  A criterion known as *d-separation* was proposed by Pearl to allow us to identify these implies conditional independence relationships.  The basic idea is this (from Kline, 2016): A pair of variables X and Y is d-separated by another set of variables Z if and only if Z blocks every path from X to Y.\n",
    "\n",
    "A pair of variables connected by a path in a DAG is d-separated by a set of other variables Z if either:\n",
    "\n",
    "1. one of the non-colliders on the path is in Z, or \n",
    "2. there is a collider on the path, but neither the collider nor any of its descendants is in Z\n",
    "\n",
    "\n",
    "Let's look at the three different ways in which a directed graph involving three nodes can be arranged, using simple examples.  \n",
    "\n",
    "The first example is a *fork*:"
   ]
  },
  {
   "cell_type": "code",
   "execution_count": 11,
   "metadata": {},
   "outputs": [
    {
     "name": "stdout",
     "output_type": "stream",
     "text": [
      "Implied conditional Independence Relationship:  [('x3', 'x1', {'x2'})]\n"
     ]
    },
    {
     "data": {
      "image/svg+xml": [
       "<?xml version=\"1.0\" encoding=\"UTF-8\" standalone=\"no\"?>\n",
       "<!DOCTYPE svg PUBLIC \"-//W3C//DTD SVG 1.1//EN\"\n",
       " \"http://www.w3.org/Graphics/SVG/1.1/DTD/svg11.dtd\">\n",
       "<!-- Generated by graphviz version 2.30.1 (20130221.2233)\n",
       " -->\n",
       "<!-- Title: %3 Pages: 1 -->\n",
       "<svg width=\"134pt\" height=\"116pt\"\n",
       " viewBox=\"0.00 0.00 134.00 116.00\" xmlns=\"http://www.w3.org/2000/svg\" xmlns:xlink=\"http://www.w3.org/1999/xlink\">\n",
       "<g id=\"graph0\" class=\"graph\" transform=\"scale(1 1) rotate(0) translate(4 112)\">\n",
       "<title>%3</title>\n",
       "<polygon fill=\"white\" stroke=\"white\" points=\"-4,5 -4,-112 131,-112 131,5 -4,5\"/>\n",
       "<!-- x3 -->\n",
       "<g id=\"node1\" class=\"node\"><title>x3</title>\n",
       "<ellipse fill=\"none\" stroke=\"black\" cx=\"99\" cy=\"-18\" rx=\"27\" ry=\"18\"/>\n",
       "<text text-anchor=\"middle\" x=\"99\" y=\"-14.3\" font-family=\"Times,serif\" font-size=\"14.00\">x3</text>\n",
       "</g>\n",
       "<!-- x1 -->\n",
       "<g id=\"node2\" class=\"node\"><title>x1</title>\n",
       "<ellipse fill=\"none\" stroke=\"black\" cx=\"27\" cy=\"-18\" rx=\"27\" ry=\"18\"/>\n",
       "<text text-anchor=\"middle\" x=\"27\" y=\"-14.3\" font-family=\"Times,serif\" font-size=\"14.00\">x1</text>\n",
       "</g>\n",
       "<!-- x2 -->\n",
       "<g id=\"node3\" class=\"node\"><title>x2</title>\n",
       "<ellipse fill=\"none\" stroke=\"black\" cx=\"63\" cy=\"-90\" rx=\"27\" ry=\"18\"/>\n",
       "<text text-anchor=\"middle\" x=\"63\" y=\"-86.3\" font-family=\"Times,serif\" font-size=\"14.00\">x2</text>\n",
       "</g>\n",
       "<!-- x2&#45;&gt;x1 -->\n",
       "<g id=\"edge1\" class=\"edge\"><title>x2&#45;&gt;x1</title>\n",
       "<path fill=\"none\" stroke=\"black\" d=\"M54.6504,-72.7646C50.2885,-64.2831 44.8531,-53.7144 39.9587,-44.1974\"/>\n",
       "<polygon fill=\"black\" stroke=\"black\" points=\"42.9904,-42.4395 35.3043,-35.1473 36.7654,-45.6409 42.9904,-42.4395\"/>\n",
       "</g>\n",
       "<!-- x2&#45;&gt;x3 -->\n",
       "<g id=\"edge2\" class=\"edge\"><title>x2&#45;&gt;x3</title>\n",
       "<path fill=\"none\" stroke=\"black\" d=\"M71.3496,-72.7646C75.7115,-64.2831 81.1469,-53.7144 86.0413,-44.1974\"/>\n",
       "<polygon fill=\"black\" stroke=\"black\" points=\"89.2346,-45.6409 90.6957,-35.1473 83.0096,-42.4395 89.2346,-45.6409\"/>\n",
       "</g>\n",
       "</g>\n",
       "</svg>\n"
      ],
      "text/plain": [
       "<graphviz.dot.Digraph at 0x12018d4d0>"
      ]
     },
     "execution_count": 11,
     "metadata": {},
     "output_type": "execute_result"
    }
   ],
   "source": [
    "from causalgraphicalmodels.examples import fork, chain, collider\n",
    "\n",
    "print(\"Implied conditional Independence Relationship: \", \n",
    "      fork.get_all_independence_relationships())\n",
    "fork.draw()"
   ]
  },
  {
   "cell_type": "markdown",
   "metadata": {},
   "source": [
    "In the fork, x1 and x3 are d-separated by x2 because the path between x1 and x3 includes the non-collider x2.  Thus, x1 and x3 become independent after conditioning on x2.  The path between x1 and x3 is known as a *back-door* path, because the path is a back door for spurious association between the variables to arise.\n",
    "\n",
    "The second example is a *chain*:"
   ]
  },
  {
   "cell_type": "code",
   "execution_count": 12,
   "metadata": {},
   "outputs": [
    {
     "name": "stdout",
     "output_type": "stream",
     "text": [
      "Implied conditional Independence Relationship:  [('x3', 'x1', {'x2'})]\n"
     ]
    },
    {
     "data": {
      "image/svg+xml": [
       "<?xml version=\"1.0\" encoding=\"UTF-8\" standalone=\"no\"?>\n",
       "<!DOCTYPE svg PUBLIC \"-//W3C//DTD SVG 1.1//EN\"\n",
       " \"http://www.w3.org/Graphics/SVG/1.1/DTD/svg11.dtd\">\n",
       "<!-- Generated by graphviz version 2.30.1 (20130221.2233)\n",
       " -->\n",
       "<!-- Title: %3 Pages: 1 -->\n",
       "<svg width=\"62pt\" height=\"188pt\"\n",
       " viewBox=\"0.00 0.00 62.00 188.00\" xmlns=\"http://www.w3.org/2000/svg\" xmlns:xlink=\"http://www.w3.org/1999/xlink\">\n",
       "<g id=\"graph0\" class=\"graph\" transform=\"scale(1 1) rotate(0) translate(4 184)\">\n",
       "<title>%3</title>\n",
       "<polygon fill=\"white\" stroke=\"white\" points=\"-4,5 -4,-184 59,-184 59,5 -4,5\"/>\n",
       "<!-- x3 -->\n",
       "<g id=\"node1\" class=\"node\"><title>x3</title>\n",
       "<ellipse fill=\"none\" stroke=\"black\" cx=\"27\" cy=\"-18\" rx=\"27\" ry=\"18\"/>\n",
       "<text text-anchor=\"middle\" x=\"27\" y=\"-14.3\" font-family=\"Times,serif\" font-size=\"14.00\">x3</text>\n",
       "</g>\n",
       "<!-- x1 -->\n",
       "<g id=\"node2\" class=\"node\"><title>x1</title>\n",
       "<ellipse fill=\"none\" stroke=\"black\" cx=\"27\" cy=\"-162\" rx=\"27\" ry=\"18\"/>\n",
       "<text text-anchor=\"middle\" x=\"27\" y=\"-158.3\" font-family=\"Times,serif\" font-size=\"14.00\">x1</text>\n",
       "</g>\n",
       "<!-- x2 -->\n",
       "<g id=\"node3\" class=\"node\"><title>x2</title>\n",
       "<ellipse fill=\"none\" stroke=\"black\" cx=\"27\" cy=\"-90\" rx=\"27\" ry=\"18\"/>\n",
       "<text text-anchor=\"middle\" x=\"27\" y=\"-86.3\" font-family=\"Times,serif\" font-size=\"14.00\">x2</text>\n",
       "</g>\n",
       "<!-- x1&#45;&gt;x2 -->\n",
       "<g id=\"edge1\" class=\"edge\"><title>x1&#45;&gt;x2</title>\n",
       "<path fill=\"none\" stroke=\"black\" d=\"M27,-143.697C27,-135.983 27,-126.712 27,-118.112\"/>\n",
       "<polygon fill=\"black\" stroke=\"black\" points=\"30.5001,-118.104 27,-108.104 23.5001,-118.104 30.5001,-118.104\"/>\n",
       "</g>\n",
       "<!-- x2&#45;&gt;x3 -->\n",
       "<g id=\"edge2\" class=\"edge\"><title>x2&#45;&gt;x3</title>\n",
       "<path fill=\"none\" stroke=\"black\" d=\"M27,-71.6966C27,-63.9827 27,-54.7125 27,-46.1124\"/>\n",
       "<polygon fill=\"black\" stroke=\"black\" points=\"30.5001,-46.1043 27,-36.1043 23.5001,-46.1044 30.5001,-46.1043\"/>\n",
       "</g>\n",
       "</g>\n",
       "</svg>\n"
      ],
      "text/plain": [
       "<graphviz.dot.Digraph at 0x120179090>"
      ]
     },
     "execution_count": 12,
     "metadata": {},
     "output_type": "execute_result"
    }
   ],
   "source": [
    "print(\"Implied conditional Independence Relationship: \", \n",
    "      chain.get_all_independence_relationships())\n",
    "chain.draw()"
   ]
  },
  {
   "cell_type": "markdown",
   "metadata": {},
   "source": [
    "In the chain, x1 and x3 are d-separated by x2 because the path between x1 and x3 includes the non-collider x2.  Thus, once again x1 and x3 become independent after conditioning on x2.\n",
    "\n",
    "The third is example is an inverted fork with a *collider*.  "
   ]
  },
  {
   "cell_type": "code",
   "execution_count": 14,
   "metadata": {},
   "outputs": [
    {
     "name": "stdout",
     "output_type": "stream",
     "text": [
      "Implied conditional Independence Relationship:  [('x3', 'x1', set())]\n"
     ]
    },
    {
     "data": {
      "image/svg+xml": [
       "<?xml version=\"1.0\" encoding=\"UTF-8\" standalone=\"no\"?>\n",
       "<!DOCTYPE svg PUBLIC \"-//W3C//DTD SVG 1.1//EN\"\n",
       " \"http://www.w3.org/Graphics/SVG/1.1/DTD/svg11.dtd\">\n",
       "<!-- Generated by graphviz version 2.30.1 (20130221.2233)\n",
       " -->\n",
       "<!-- Title: %3 Pages: 1 -->\n",
       "<svg width=\"134pt\" height=\"116pt\"\n",
       " viewBox=\"0.00 0.00 134.00 116.00\" xmlns=\"http://www.w3.org/2000/svg\" xmlns:xlink=\"http://www.w3.org/1999/xlink\">\n",
       "<g id=\"graph0\" class=\"graph\" transform=\"scale(1 1) rotate(0) translate(4 112)\">\n",
       "<title>%3</title>\n",
       "<polygon fill=\"white\" stroke=\"white\" points=\"-4,5 -4,-112 131,-112 131,5 -4,5\"/>\n",
       "<!-- x3 -->\n",
       "<g id=\"node1\" class=\"node\"><title>x3</title>\n",
       "<ellipse fill=\"none\" stroke=\"black\" cx=\"27\" cy=\"-90\" rx=\"27\" ry=\"18\"/>\n",
       "<text text-anchor=\"middle\" x=\"27\" y=\"-86.3\" font-family=\"Times,serif\" font-size=\"14.00\">x3</text>\n",
       "</g>\n",
       "<!-- x2 -->\n",
       "<g id=\"node3\" class=\"node\"><title>x2</title>\n",
       "<ellipse fill=\"none\" stroke=\"black\" cx=\"63\" cy=\"-18\" rx=\"27\" ry=\"18\"/>\n",
       "<text text-anchor=\"middle\" x=\"63\" y=\"-14.3\" font-family=\"Times,serif\" font-size=\"14.00\">x2</text>\n",
       "</g>\n",
       "<!-- x3&#45;&gt;x2 -->\n",
       "<g id=\"edge2\" class=\"edge\"><title>x3&#45;&gt;x2</title>\n",
       "<path fill=\"none\" stroke=\"black\" d=\"M35.3496,-72.7646C39.7115,-64.2831 45.1469,-53.7144 50.0413,-44.1974\"/>\n",
       "<polygon fill=\"black\" stroke=\"black\" points=\"53.2346,-45.6409 54.6957,-35.1473 47.0096,-42.4395 53.2346,-45.6409\"/>\n",
       "</g>\n",
       "<!-- x1 -->\n",
       "<g id=\"node2\" class=\"node\"><title>x1</title>\n",
       "<ellipse fill=\"none\" stroke=\"black\" cx=\"99\" cy=\"-90\" rx=\"27\" ry=\"18\"/>\n",
       "<text text-anchor=\"middle\" x=\"99\" y=\"-86.3\" font-family=\"Times,serif\" font-size=\"14.00\">x1</text>\n",
       "</g>\n",
       "<!-- x1&#45;&gt;x2 -->\n",
       "<g id=\"edge1\" class=\"edge\"><title>x1&#45;&gt;x2</title>\n",
       "<path fill=\"none\" stroke=\"black\" d=\"M90.6504,-72.7646C86.2885,-64.2831 80.8531,-53.7144 75.9587,-44.1974\"/>\n",
       "<polygon fill=\"black\" stroke=\"black\" points=\"78.9904,-42.4395 71.3043,-35.1473 72.7654,-45.6409 78.9904,-42.4395\"/>\n",
       "</g>\n",
       "</g>\n",
       "</svg>\n"
      ],
      "text/plain": [
       "<graphviz.dot.Digraph at 0x120187bd0>"
      ]
     },
     "execution_count": 14,
     "metadata": {},
     "output_type": "execute_result"
    }
   ],
   "source": [
    "print(\"Implied conditional Independence Relationship: \", \n",
    "      collider.get_all_independence_relationships())\n",
    "collider.draw()"
   ]
  },
  {
   "cell_type": "markdown",
   "metadata": {},
   "source": [
    "In this example, x1 and x3 are independent (unconditionally) because there is no path between them. However, they actually become *dependent* once we conditionalize on x2 (the node where the inputs collide).  This can give rise to some unintuitive phenomena, which go the names of \"Berkson's paradox\" or \"conditioning on a common effect\" (which we return to below).\n"
   ]
  },
  {
   "cell_type": "markdown",
   "metadata": {},
   "source": [
    "We can use the d-separation criterion to automatically identify all of the pairwise independence relations in the sprinkler example:"
   ]
  },
  {
   "cell_type": "code",
   "execution_count": 15,
   "metadata": {},
   "outputs": [
    {
     "data": {
      "text/plain": [
       "[('slippery', 'season', {'wet'}),\n",
       " ('slippery', 'season', {'rain', 'wet'}),\n",
       " ('slippery', 'season', {'rain', 'sprinkler'}),\n",
       " ('slippery', 'season', {'sprinkler', 'wet'}),\n",
       " ('slippery', 'season', {'rain', 'sprinkler', 'wet'}),\n",
       " ('slippery', 'rain', {'wet'}),\n",
       " ('slippery', 'rain', {'sprinkler', 'wet'}),\n",
       " ('slippery', 'rain', {'season', 'wet'}),\n",
       " ('slippery', 'rain', {'season', 'sprinkler', 'wet'}),\n",
       " ('slippery', 'sprinkler', {'wet'}),\n",
       " ('slippery', 'sprinkler', {'rain', 'wet'}),\n",
       " ('slippery', 'sprinkler', {'season', 'wet'}),\n",
       " ('slippery', 'sprinkler', {'rain', 'season', 'wet'}),\n",
       " ('wet', 'season', {'rain', 'sprinkler'}),\n",
       " ('wet', 'season', {'rain', 'slippery', 'sprinkler'}),\n",
       " ('rain', 'sprinkler', {'season'})]"
      ]
     },
     "execution_count": 15,
     "metadata": {},
     "output_type": "execute_result"
    }
   ],
   "source": [
    "sprinkler.get_all_independence_relationships()"
   ]
  },
  {
   "cell_type": "markdown",
   "metadata": {},
   "source": [
    "These implied conditional independence relationships provide one way of testing the fit of a model, because they imply that particular partial correlations in the data should tend to zero (or \"vanish\") (e.g. $\\rho_{rain, slippery|wet}$).  This approach is used the in [TETRAD software ](http://www.phil.cmu.edu/tetrad/) to search for causal structure in data; we will not discuss causal discovery in this class, but interested readers should read [Causation, Prediction, and Search by Spirtes et al.](https://mitpress.mit.edu/books/causation-prediction-and-search-second-edition).\n",
    "\n",
    "Note that in an important sense, it is the *missing* edges in the graph that are in some ways most important, because they reflect strong claims about an absolute lack of causal influence between the nodes.  For this reason, when generating a causal graph, Pearl (2009) suggests that one starts with bidrectional arrows between each pair of nodes, which \"should be deleted only by well-motivated justifications, such as the unlikely existence of a common cause for the two variables and the unlikely existence of selection bias. Although we can never be cognizant of all the factors that may affect our variables, substantive knowledge sometimes permits us to state that the influence of a possible common factor is not likely to be significant.\" (Pearl, 2009, p. 163)."
   ]
  },
  {
   "cell_type": "markdown",
   "metadata": {},
   "source": [
    "## Markov equivalence\n",
    "\n",
    "In some cases different graphs can have the same statistical implications; they are said to comprise a *Markov equivalence class*.  For example, take the following three graphs:\n",
    "\n",
    "\n",
    "![](me1.png)  |  ![](me2.png) |  ![](me3.png)"
   ]
  },
  {
   "cell_type": "markdown",
   "metadata": {},
   "source": [
    "All of these have the same set of implied conditional independencies:\n",
    "\n",
    "`('X', 'W', {'Z'}), \n",
    "('X', 'W', {'Z', 'Y'}), \n",
    "('X', 'Y', {'Z'}), \n",
    "('X', 'Y', {'Z', 'W'})`\n",
    "\n",
    "This means that we could not distinguish between these models based on the statistical relations between the variables, regardless of the amount of data; if we tried to do so we would be wasting our time.  As in this example, these kinds of equivalence classes will generally reflect cases where the direction of particular edges varies between the members of the equivalence class."
   ]
  },
  {
   "cell_type": "markdown",
   "metadata": {},
   "source": [
    "## Unobserved causes\n",
    "\n",
    "In the former examples, all of the variables in our graphs were observable, but in many cases (including those of greatest interest for SEM), there are variables that are unobservable, or *latent* in SEM language.  In order to be considered a proper causal graph, the graph must also include any known but unobserved causes.  If we don't include these, then the causal assumptions fail.\n",
    "\n",
    "For example, let's go back to our example above regarding the relationship between saturated fat intake and heart disease:"
   ]
  },
  {
   "cell_type": "code",
   "execution_count": 16,
   "metadata": {},
   "outputs": [
    {
     "name": "stdout",
     "output_type": "stream",
     "text": [
      "[('dietary sat fat', 'heart disease', {'cholesterol'})]\n"
     ]
    },
    {
     "data": {
      "image/svg+xml": [
       "<?xml version=\"1.0\" encoding=\"UTF-8\" standalone=\"no\"?>\n",
       "<!DOCTYPE svg PUBLIC \"-//W3C//DTD SVG 1.1//EN\"\n",
       " \"http://www.w3.org/Graphics/SVG/1.1/DTD/svg11.dtd\">\n",
       "<!-- Generated by graphviz version 2.30.1 (20130221.2233)\n",
       " -->\n",
       "<!-- Title: %3 Pages: 1 -->\n",
       "<svg width=\"128pt\" height=\"188pt\"\n",
       " viewBox=\"0.00 0.00 128.00 188.00\" xmlns=\"http://www.w3.org/2000/svg\" xmlns:xlink=\"http://www.w3.org/1999/xlink\">\n",
       "<g id=\"graph0\" class=\"graph\" transform=\"scale(1 1) rotate(0) translate(4 184)\">\n",
       "<title>%3</title>\n",
       "<polygon fill=\"white\" stroke=\"white\" points=\"-4,5 -4,-184 125,-184 125,5 -4,5\"/>\n",
       "<!-- dietary sat fat -->\n",
       "<g id=\"node1\" class=\"node\"><title>dietary sat fat</title>\n",
       "<ellipse fill=\"none\" stroke=\"black\" cx=\"60\" cy=\"-162\" rx=\"60.1672\" ry=\"18\"/>\n",
       "<text text-anchor=\"middle\" x=\"60\" y=\"-158.3\" font-family=\"Times,serif\" font-size=\"14.00\">dietary sat fat</text>\n",
       "</g>\n",
       "<!-- cholesterol -->\n",
       "<g id=\"node3\" class=\"node\"><title>cholesterol</title>\n",
       "<ellipse fill=\"none\" stroke=\"black\" cx=\"60\" cy=\"-90\" rx=\"50.5427\" ry=\"18\"/>\n",
       "<text text-anchor=\"middle\" x=\"60\" y=\"-86.3\" font-family=\"Times,serif\" font-size=\"14.00\">cholesterol</text>\n",
       "</g>\n",
       "<!-- dietary sat fat&#45;&gt;cholesterol -->\n",
       "<g id=\"edge1\" class=\"edge\"><title>dietary sat fat&#45;&gt;cholesterol</title>\n",
       "<path fill=\"none\" stroke=\"black\" d=\"M60,-143.697C60,-135.983 60,-126.712 60,-118.112\"/>\n",
       "<polygon fill=\"black\" stroke=\"black\" points=\"63.5001,-118.104 60,-108.104 56.5001,-118.104 63.5001,-118.104\"/>\n",
       "</g>\n",
       "<!-- heart disease -->\n",
       "<g id=\"node2\" class=\"node\"><title>heart disease</title>\n",
       "<ellipse fill=\"none\" stroke=\"black\" cx=\"60\" cy=\"-18\" rx=\"57.2927\" ry=\"18\"/>\n",
       "<text text-anchor=\"middle\" x=\"60\" y=\"-14.3\" font-family=\"Times,serif\" font-size=\"14.00\">heart disease</text>\n",
       "</g>\n",
       "<!-- cholesterol&#45;&gt;heart disease -->\n",
       "<g id=\"edge2\" class=\"edge\"><title>cholesterol&#45;&gt;heart disease</title>\n",
       "<path fill=\"none\" stroke=\"black\" d=\"M60,-71.6966C60,-63.9827 60,-54.7125 60,-46.1124\"/>\n",
       "<polygon fill=\"black\" stroke=\"black\" points=\"63.5001,-46.1043 60,-36.1043 56.5001,-46.1044 63.5001,-46.1043\"/>\n",
       "</g>\n",
       "</g>\n",
       "</svg>\n"
      ],
      "text/plain": [
       "<graphviz.dot.Digraph at 0x120176bd0>"
      ]
     },
     "execution_count": 16,
     "metadata": {},
     "output_type": "execute_result"
    }
   ],
   "source": [
    "\n",
    "print(hd.get_all_independence_relationships())\n",
    "hd.draw()\n"
   ]
  },
  {
   "cell_type": "markdown",
   "metadata": {},
   "source": [
    "We interpret this to say that if we could hold cholesterol constant (e.g. using a drug that controlled it), then diet and heart diseease would become conditionally independent.  However, it is generally known that people who take supposedly \"healthy\" actions in one domain will often take those actions in other domains as well; this is know as the [\"healthy user bias\"](https://www.ncbi.nlm.nih.gov/pmc/articles/PMC3077477/). For example, people who eat a \"healthy\" diet will also be more likely to exercise, which can improve cardiovascular health, either by affecting cholesterol directly or by other mechanisms.  There are also likely to be other factors that affect both healthy user bias and heart disease (e.g. socioeconomic status).  Thus, the true causal graph probably looks more like this:"
   ]
  },
  {
   "cell_type": "code",
   "execution_count": 17,
   "metadata": {},
   "outputs": [
    {
     "data": {
      "image/svg+xml": [
       "<?xml version=\"1.0\" encoding=\"UTF-8\" standalone=\"no\"?>\n",
       "<!DOCTYPE svg PUBLIC \"-//W3C//DTD SVG 1.1//EN\"\n",
       " \"http://www.w3.org/Graphics/SVG/1.1/DTD/svg11.dtd\">\n",
       "<!-- Generated by graphviz version 2.30.1 (20130221.2233)\n",
       " -->\n",
       "<!-- Title: %3 Pages: 1 -->\n",
       "<svg width=\"259pt\" height=\"332pt\"\n",
       " viewBox=\"0.00 0.00 259.00 332.00\" xmlns=\"http://www.w3.org/2000/svg\" xmlns:xlink=\"http://www.w3.org/1999/xlink\">\n",
       "<g id=\"graph0\" class=\"graph\" transform=\"scale(1 1) rotate(0) translate(4 328)\">\n",
       "<title>%3</title>\n",
       "<polygon fill=\"white\" stroke=\"white\" points=\"-4,5 -4,-328 256,-328 256,5 -4,5\"/>\n",
       "<!-- healthy user -->\n",
       "<g id=\"node1\" class=\"node\"><title>healthy user</title>\n",
       "<ellipse fill=\"none\" stroke=\"black\" cx=\"164\" cy=\"-234\" rx=\"55.3682\" ry=\"18\"/>\n",
       "<text text-anchor=\"middle\" x=\"164\" y=\"-230.3\" font-family=\"Times,serif\" font-size=\"14.00\">healthy user</text>\n",
       "</g>\n",
       "<!-- dietary sat fat -->\n",
       "<g id=\"node5\" class=\"node\"><title>dietary sat fat</title>\n",
       "<ellipse fill=\"none\" stroke=\"black\" cx=\"60\" cy=\"-162\" rx=\"60.1672\" ry=\"18\"/>\n",
       "<text text-anchor=\"middle\" x=\"60\" y=\"-158.3\" font-family=\"Times,serif\" font-size=\"14.00\">dietary sat fat</text>\n",
       "</g>\n",
       "<!-- healthy user&#45;&gt;dietary sat fat -->\n",
       "<g id=\"edge3\" class=\"edge\"><title>healthy user&#45;&gt;dietary sat fat</title>\n",
       "<path fill=\"none\" stroke=\"black\" d=\"M140.919,-217.465C126.478,-207.745 107.675,-195.089 91.8287,-184.423\"/>\n",
       "<polygon fill=\"black\" stroke=\"black\" points=\"93.6263,-181.414 83.3761,-178.734 89.7176,-187.221 93.6263,-181.414\"/>\n",
       "</g>\n",
       "<!-- exercise -->\n",
       "<g id=\"node6\" class=\"node\"><title>exercise</title>\n",
       "<ellipse fill=\"none\" stroke=\"black\" cx=\"179\" cy=\"-162\" rx=\"39.9464\" ry=\"18\"/>\n",
       "<text text-anchor=\"middle\" x=\"179\" y=\"-158.3\" font-family=\"Times,serif\" font-size=\"14.00\">exercise</text>\n",
       "</g>\n",
       "<!-- healthy user&#45;&gt;exercise -->\n",
       "<g id=\"edge4\" class=\"edge\"><title>healthy user&#45;&gt;exercise</title>\n",
       "<path fill=\"none\" stroke=\"black\" d=\"M167.708,-215.697C169.361,-207.983 171.347,-198.712 173.19,-190.112\"/>\n",
       "<polygon fill=\"black\" stroke=\"black\" points=\"176.662,-190.616 175.335,-180.104 169.817,-189.149 176.662,-190.616\"/>\n",
       "</g>\n",
       "<!-- heart disease -->\n",
       "<g id=\"node2\" class=\"node\"><title>heart disease</title>\n",
       "<ellipse fill=\"none\" stroke=\"black\" cx=\"194\" cy=\"-18\" rx=\"57.2927\" ry=\"18\"/>\n",
       "<text text-anchor=\"middle\" x=\"194\" y=\"-14.3\" font-family=\"Times,serif\" font-size=\"14.00\">heart disease</text>\n",
       "</g>\n",
       "<!-- cholesterol -->\n",
       "<g id=\"node3\" class=\"node\"><title>cholesterol</title>\n",
       "<ellipse fill=\"none\" stroke=\"black\" cx=\"115\" cy=\"-90\" rx=\"50.5427\" ry=\"18\"/>\n",
       "<text text-anchor=\"middle\" x=\"115\" y=\"-86.3\" font-family=\"Times,serif\" font-size=\"14.00\">cholesterol</text>\n",
       "</g>\n",
       "<!-- cholesterol&#45;&gt;heart disease -->\n",
       "<g id=\"edge2\" class=\"edge\"><title>cholesterol&#45;&gt;heart disease</title>\n",
       "<path fill=\"none\" stroke=\"black\" d=\"M132.926,-73.1159C143.283,-63.9391 156.494,-52.2331 167.978,-42.0574\"/>\n",
       "<polygon fill=\"black\" stroke=\"black\" points=\"170.433,-44.5585 175.596,-35.307 165.791,-39.3193 170.433,-44.5585\"/>\n",
       "</g>\n",
       "<!-- SES -->\n",
       "<g id=\"node4\" class=\"node\"><title>SES</title>\n",
       "<ellipse fill=\"none\" stroke=\"black\" cx=\"205\" cy=\"-306\" rx=\"27\" ry=\"18\"/>\n",
       "<text text-anchor=\"middle\" x=\"205\" y=\"-302.3\" font-family=\"Times,serif\" font-size=\"14.00\">SES</text>\n",
       "</g>\n",
       "<!-- SES&#45;&gt;healthy user -->\n",
       "<g id=\"edge7\" class=\"edge\"><title>SES&#45;&gt;healthy user</title>\n",
       "<path fill=\"none\" stroke=\"black\" d=\"M195.491,-288.765C190.665,-280.525 184.685,-270.317 179.238,-261.016\"/>\n",
       "<polygon fill=\"black\" stroke=\"black\" points=\"182.104,-258.984 174.03,-252.124 176.064,-262.522 182.104,-258.984\"/>\n",
       "</g>\n",
       "<!-- SES&#45;&gt;heart disease -->\n",
       "<g id=\"edge8\" class=\"edge\"><title>SES&#45;&gt;heart disease</title>\n",
       "<path fill=\"none\" stroke=\"black\" d=\"M214.067,-288.866C219.278,-278.65 225.308,-264.964 228,-252 243.387,-177.889 218.731,-89.0964 203.905,-45.6281\"/>\n",
       "<polygon fill=\"black\" stroke=\"black\" points=\"207.168,-44.3559 200.555,-36.0785 200.563,-46.6733 207.168,-44.3559\"/>\n",
       "</g>\n",
       "<!-- dietary sat fat&#45;&gt;cholesterol -->\n",
       "<g id=\"edge1\" class=\"edge\"><title>dietary sat fat&#45;&gt;cholesterol</title>\n",
       "<path fill=\"none\" stroke=\"black\" d=\"M73.0342,-144.411C79.8153,-135.781 88.2369,-125.062 95.7522,-115.497\"/>\n",
       "<polygon fill=\"black\" stroke=\"black\" points=\"98.6332,-117.496 102.059,-107.47 93.129,-113.171 98.6332,-117.496\"/>\n",
       "</g>\n",
       "<!-- exercise&#45;&gt;cholesterol -->\n",
       "<g id=\"edge5\" class=\"edge\"><title>exercise&#45;&gt;cholesterol</title>\n",
       "<path fill=\"none\" stroke=\"black\" d=\"M164.477,-145.116C156.329,-136.204 146,-124.906 136.89,-114.942\"/>\n",
       "<polygon fill=\"black\" stroke=\"black\" points=\"139.24,-112.326 129.909,-107.307 134.074,-117.049 139.24,-112.326\"/>\n",
       "</g>\n",
       "<!-- exercise&#45;&gt;heart disease -->\n",
       "<g id=\"edge6\" class=\"edge\"><title>exercise&#45;&gt;heart disease</title>\n",
       "<path fill=\"none\" stroke=\"black\" d=\"M180.809,-143.871C183.366,-119.67 188.062,-75.2108 191.106,-46.3932\"/>\n",
       "<polygon fill=\"black\" stroke=\"black\" points=\"194.614,-46.5016 192.184,-36.1893 187.653,-45.7662 194.614,-46.5016\"/>\n",
       "</g>\n",
       "</g>\n",
       "</svg>\n"
      ],
      "text/plain": [
       "<graphviz.dot.Digraph at 0x12017b550>"
      ]
     },
     "execution_count": 17,
     "metadata": {},
     "output_type": "execute_result"
    }
   ],
   "source": [
    "hd2 = CausalGraphicalModel(\n",
    "    nodes=[\"dietary sat fat\", \"cholesterol\", \"heart disease\", \"healthy user\", \"exercise\", \"SES\"],\n",
    "    edges=[\n",
    "        (\"dietary sat fat\", \"cholesterol\"), \n",
    "        (\"cholesterol\", \"heart disease\"), \n",
    "        (\"healthy user\", \"dietary sat fat\"),\n",
    "        (\"exercise\", \"cholesterol\"),\n",
    "        (\"healthy user\", \"exercise\"),\n",
    "        (\"exercise\", \"heart disease\"),\n",
    "        (\"SES\", \"healthy user\"),\n",
    "        (\"SES\", \"heart disease\")\n",
    "    ]\n",
    ")\n",
    "\n",
    "hd2.draw()\n"
   ]
  },
  {
   "cell_type": "markdown",
   "metadata": {},
   "source": [
    "If we don't have a measurement of healthy user bias (which we generally don't), then healthy user status must be treated as an unobserved variable. \n",
    "\n",
    "## Confounding\n",
    "\n",
    "Another way that we might describe the situation above is that the relationship between dietary fat intake and heart disease is *confounded*.  In the language of graphical causal modeling, we would say there is a *back-door path* that connects these two variables. For this graph we can identify the back-door paths automatically:"
   ]
  },
  {
   "cell_type": "code",
   "execution_count": 18,
   "metadata": {},
   "outputs": [
    {
     "data": {
      "text/plain": [
       "[['dietary sat fat',\n",
       "  'healthy user',\n",
       "  'exercise',\n",
       "  'cholesterol',\n",
       "  'heart disease'],\n",
       " ['dietary sat fat', 'healthy user', 'exercise', 'heart disease'],\n",
       " ['dietary sat fat', 'healthy user', 'SES', 'heart disease']]"
      ]
     },
     "execution_count": 18,
     "metadata": {},
     "output_type": "execute_result"
    }
   ],
   "source": [
    "hd2.get_all_backdoor_paths('dietary sat fat', 'heart disease')"
   ]
  },
  {
   "cell_type": "markdown",
   "metadata": {},
   "source": [
    "One useful feature of causal modeling is that we can also identify which other variables can be conrtrolled in order to eliminate any potential confounding, by identifying those sets that block all of the back-door paths between our two variables of interest:"
   ]
  },
  {
   "cell_type": "code",
   "execution_count": 19,
   "metadata": {},
   "outputs": [
    {
     "data": {
      "text/plain": [
       "frozenset({frozenset({'healthy user'}),\n",
       "           frozenset({'SES', 'healthy user'}),\n",
       "           frozenset({'exercise', 'healthy user'}),\n",
       "           frozenset({'SES', 'exercise'}),\n",
       "           frozenset({'SES', 'exercise', 'healthy user'})})"
      ]
     },
     "execution_count": 19,
     "metadata": {},
     "output_type": "execute_result"
    }
   ],
   "source": [
    "hd2.get_all_backdoor_adjustment_sets('dietary sat fat', 'heart disease')"
   ]
  },
  {
   "cell_type": "markdown",
   "metadata": {},
   "source": [
    "Thus, *assuming that this causal model is correct and complete*, we can identify the total causal effect of dietary saturated fat intake on heart disease if we control for any of the sets of variables identifed as an *adjustment set*."
   ]
  },
  {
   "cell_type": "markdown",
   "metadata": {},
   "source": [
    "## Framing simple regression as a causal model\n",
    "\n",
    "Although results from regression analyses are often framed in terms of causal language, the regression model itself is inherently agnostic to the direction of influence between the different variables.  Let's take a particular regression equation:\n",
    "\n",
    "$$\n",
    "y_i = \\alpha_y + \\beta_{yx} * x_i + \\epsilon_{yi}\n",
    "$$\n",
    "\n",
    "where $\\alpha$ is the intercept and $\\beta_{yx}$ is the slope for y against x.  We could equivalently write this as:\n",
    "\n",
    "$$\n",
    "x_i = \\alpha_x + \\beta_{xy} * y_i + \\epsilon_{xi}\n",
    "$$\n",
    "\n",
    "where:\n",
    "\n",
    "$$\n",
    "\\alpha_x = \\frac{-\\beta_{yx}}{\\alpha_y}, \n",
    "$$\n",
    "\n",
    "$$\n",
    "\\beta_{xy} = \\frac{1}{\\beta_{yx}}, \n",
    "$$\n",
    "\n",
    "and\n",
    "\n",
    "$$\n",
    "\\epsilon_{xi} = \\frac{\\epsilon_{yi}}{-\\beta_{yx}}\n",
    "$$\n",
    "\n",
    "\n",
    "Thus, from the standpoint of regression, it is perfectly legitimate to use either the X or Y variable as the predictor, since the goal is simply to predict the value of one variable conditional on the value of another.\n",
    "\n",
    "But now think about this from the standpoint of a *structural model*.  The first equation can be drawn as follows:"
   ]
  },
  {
   "cell_type": "code",
   "execution_count": 20,
   "metadata": {},
   "outputs": [
    {
     "data": {
      "image/png": "[encoded data removed]",
      "text/plain": [
       "<Figure size 432x288 with 1 Axes>"
      ]
     },
     "metadata": {},
     "output_type": "display_data"
    }
   ],
   "source": [
    "G = nx.DiGraph()\n",
    "G.add_edge('X', 'Y')\n",
    "G.add_edge('e', 'Y')\n",
    "G.add_edge('a', 'Y')\n",
    "pos = {'X':[0, 1], 'e':[0, 0], 'Y':[0.5, 0.5], 'a':[0, 0.5]}\n",
    "nx.draw(G, pos, node_size=3000, node_color='white', edgecolors='black', width=2, arrowsize=20)\n",
    "edge_labels={('X', 'Y'): r'$\\beta_{yx}$'}\n",
    "node_labels={i:i for i in G.nodes}\n",
    "node_labels['e'] = r'$\\epsilon_y$'\n",
    "node_labels['a'] = r'$\\alpha_y$'\n",
    "_ = nx.draw_networkx_labels(G, pos, labels=node_labels, font_size=24)\n",
    "_ = nx.draw_networkx_edge_labels(G, pos, edge_labels=edge_labels, font_size=18)\n"
   ]
  },
  {
   "cell_type": "markdown",
   "metadata": {},
   "source": [
    "The second equation would be drawn as:"
   ]
  },
  {
   "cell_type": "code",
   "execution_count": 21,
   "metadata": {},
   "outputs": [
    {
     "data": {
      "image/png": "[encoded data removed]",
      "text/plain": [
       "<Figure size 432x288 with 1 Axes>"
      ]
     },
     "metadata": {},
     "output_type": "display_data"
    }
   ],
   "source": [
    "G = nx.DiGraph()\n",
    "G.add_edge('Y', 'X')\n",
    "G.add_edge('e', 'X')\n",
    "G.add_edge('a', 'X')\n",
    "pos = {'Y':[0, 1], 'e':[0, 0], 'X':[0.5, 0.5], 'a':[0, 0.5]}\n",
    "nx.draw(G, pos, node_size=3000, node_color='white', edgecolors='black', width=2, arrowsize=20)\n",
    "edge_labels={('X', 'Y'): r'$\\beta_{xy}$'}\n",
    "node_labels={i:i for i in G.nodes}\n",
    "node_labels['e'] = r'$\\epsilon_x$'\n",
    "node_labels['a'] = r'$\\alpha_x$'\n",
    "_ = nx.draw_networkx_labels(G, pos, labels=node_labels, font_size=24)\n",
    "_ = nx.draw_networkx_edge_labels(G, pos, edge_labels=edge_labels, font_size=18)\n"
   ]
  },
  {
   "cell_type": "markdown",
   "metadata": {},
   "source": [
    "It's clear from looking at these two causal graphs that they make very different predictions; in particular, whereas the first graph implies that manipulating X should have an effect on Y, the second graph would imply that changing the value of X should have no effect on the value of Y.\n",
    "\n",
    "The causal model requires several assumptions ([Bollen & Pearl, 2012](https://papers.ssrn.com/sol3/papers.cfm?abstract_id=2343821)):\n",
    "\n",
    "1. Linearity: the effect of a unit change in X on Y is the same regardless of the value of X\n",
    "2. Exclusion: if we hold X constant, then changes to other variables in the model (e.g. variables Z that affect the value of X) will not have any effect on Y\n",
    "3. Homogeneity: the causal effect $\\beta_{yx}$ is the same for all units in the population.\n",
    "\n",
    "Thus, a causal model can be thought of as one or more regression equations along with a set of causal assumptions."
   ]
  },
  {
   "cell_type": "markdown",
   "metadata": {},
   "source": [
    "# Berkson's paradox\n",
    "\n",
    "We saw above that if we condition on a collider (i.e. a common effect), we induce an association between initially independent variables.  Think about the sprinkler example for a moment. If we know that either the sprinkler or rain can cause the sidewalk to be wet, then if we know that it's is wet and that it was raining, then it becomes less likely that the sprinkler caused the wetness; in the langauge of Bayesian reasoning, we have \"explained away\" the wetness once we know that it has rained.\n",
    "\n",
    "\n",
    "Berkson's paradox has important consequences in the context of regression analysis, where including a common effect of the x and y variables as a regressor in the model can introduce spurious relationships.  To see this in action, let's set up a (somewhat contrived) situation that can help us understand how conditioning on a collider (or the child of a collider) can affect regression parameter estimates.  Here we will create a simulated example of conditioning on a collider to see how it affects regression parameters.  "
   ]
  },
  {
   "cell_type": "code",
   "execution_count": 22,
   "metadata": {},
   "outputs": [
    {
     "data": {
      "text/html": [
       "<div>\n",
       "<style scoped>\n",
       "    .dataframe tbody tr th:only-of-type {\n",
       "        vertical-align: middle;\n",
       "    }\n",
       "\n",
       "    .dataframe tbody tr th {\n",
       "        vertical-align: top;\n",
       "    }\n",
       "\n",
       "    .dataframe thead th {\n",
       "        text-align: right;\n",
       "    }\n",
       "</style>\n",
       "<table border=\"1\" class=\"dataframe\">\n",
       "  <thead>\n",
       "    <tr style=\"text-align: right;\">\n",
       "      <th></th>\n",
       "      <th>x1</th>\n",
       "      <th>x3</th>\n",
       "      <th>x2</th>\n",
       "    </tr>\n",
       "  </thead>\n",
       "  <tbody>\n",
       "    <tr>\n",
       "      <th>x1</th>\n",
       "      <td>1.000000</td>\n",
       "      <td>0.000601</td>\n",
       "      <td>0.726513</td>\n",
       "    </tr>\n",
       "    <tr>\n",
       "      <th>x3</th>\n",
       "      <td>0.000601</td>\n",
       "      <td>1.000000</td>\n",
       "      <td>0.675513</td>\n",
       "    </tr>\n",
       "    <tr>\n",
       "      <th>x2</th>\n",
       "      <td>0.726513</td>\n",
       "      <td>0.675513</td>\n",
       "      <td>1.000000</td>\n",
       "    </tr>\n",
       "  </tbody>\n",
       "</table>\n",
       "</div>"
      ],
      "text/plain": [
       "          x1        x3        x2\n",
       "x1  1.000000  0.000601  0.726513\n",
       "x3  0.000601  1.000000  0.675513\n",
       "x2  0.726513  0.675513  1.000000"
      ]
     },
     "execution_count": 22,
     "metadata": {},
     "output_type": "execute_result"
    }
   ],
   "source": [
    "npts = 100\n",
    "np.random.seed(67895)\n",
    "colliderDf = pd.DataFrame({'x1': np.random.randn(npts),\n",
    "                           'x3': np.random.randn(npts)})\n",
    "colliderDf['x2'] = colliderDf.mean(1) + np.random.randn(npts)*.1\n",
    "\n",
    "colliderDf.corr()"
   ]
  },
  {
   "cell_type": "markdown",
   "metadata": {},
   "source": [
    "Let's say that we run a linear regression for x1 vs x3:"
   ]
  },
  {
   "cell_type": "code",
   "execution_count": 23,
   "metadata": {},
   "outputs": [
    {
     "data": {
      "text/html": [
       "<table class=\"simpletable\">\n",
       "<caption>OLS Regression Results</caption>\n",
       "<tr>\n",
       "  <th>Dep. Variable:</th>           <td>x1</td>        <th>  R-squared (uncentered):</th>      <td>   0.001</td>\n",
       "</tr>\n",
       "<tr>\n",
       "  <th>Model:</th>                   <td>OLS</td>       <th>  Adj. R-squared (uncentered):</th> <td>  -0.010</td>\n",
       "</tr>\n",
       "<tr>\n",
       "  <th>Method:</th>             <td>Least Squares</td>  <th>  F-statistic:       </th>          <td> 0.05556</td>\n",
       "</tr>\n",
       "<tr>\n",
       "  <th>Date:</th>             <td>Sun, 05 Apr 2020</td> <th>  Prob (F-statistic):</th>           <td> 0.814</td> \n",
       "</tr>\n",
       "<tr>\n",
       "  <th>Time:</th>                 <td>09:27:15</td>     <th>  Log-Likelihood:    </th>          <td> -149.31</td>\n",
       "</tr>\n",
       "<tr>\n",
       "  <th>No. Observations:</th>      <td>   100</td>      <th>  AIC:               </th>          <td>   300.6</td>\n",
       "</tr>\n",
       "<tr>\n",
       "  <th>Df Residuals:</th>          <td>    99</td>      <th>  BIC:               </th>          <td>   303.2</td>\n",
       "</tr>\n",
       "<tr>\n",
       "  <th>Df Model:</th>              <td>     1</td>      <th>                     </th>              <td> </td>   \n",
       "</tr>\n",
       "<tr>\n",
       "  <th>Covariance Type:</th>      <td>nonrobust</td>    <th>                     </th>              <td> </td>   \n",
       "</tr>\n",
       "</table>\n",
       "<table class=\"simpletable\">\n",
       "<tr>\n",
       "   <td></td>     <th>coef</th>     <th>std err</th>      <th>t</th>      <th>P>|t|</th>  <th>[0.025</th>    <th>0.975]</th>  \n",
       "</tr>\n",
       "<tr>\n",
       "  <th>x3</th> <td>    0.0253</td> <td>    0.107</td> <td>    0.236</td> <td> 0.814</td> <td>   -0.188</td> <td>    0.238</td>\n",
       "</tr>\n",
       "</table>\n",
       "<table class=\"simpletable\">\n",
       "<tr>\n",
       "  <th>Omnibus:</th>       <td> 5.563</td> <th>  Durbin-Watson:     </th> <td>   1.932</td>\n",
       "</tr>\n",
       "<tr>\n",
       "  <th>Prob(Omnibus):</th> <td> 0.062</td> <th>  Jarque-Bera (JB):  </th> <td>   8.391</td>\n",
       "</tr>\n",
       "<tr>\n",
       "  <th>Skew:</th>          <td> 0.061</td> <th>  Prob(JB):          </th> <td>  0.0151</td>\n",
       "</tr>\n",
       "<tr>\n",
       "  <th>Kurtosis:</th>      <td> 4.414</td> <th>  Cond. No.          </th> <td>    1.00</td>\n",
       "</tr>\n",
       "</table><br/><br/>Warnings:<br/>[1] Standard Errors assume that the covariance matrix of the errors is correctly specified."
      ],
      "text/plain": [
       "<class 'statsmodels.iolib.summary.Summary'>\n",
       "\"\"\"\n",
       "                                 OLS Regression Results                                \n",
       "=======================================================================================\n",
       "Dep. Variable:                     x1   R-squared (uncentered):                   0.001\n",
       "Model:                            OLS   Adj. R-squared (uncentered):             -0.010\n",
       "Method:                 Least Squares   F-statistic:                            0.05556\n",
       "Date:                Sun, 05 Apr 2020   Prob (F-statistic):                       0.814\n",
       "Time:                        09:27:15   Log-Likelihood:                         -149.31\n",
       "No. Observations:                 100   AIC:                                      300.6\n",
       "Df Residuals:                      99   BIC:                                      303.2\n",
       "Df Model:                           1                                                  \n",
       "Covariance Type:            nonrobust                                                  \n",
       "==============================================================================\n",
       "                 coef    std err          t      P>|t|      [0.025      0.975]\n",
       "------------------------------------------------------------------------------\n",
       "x3             0.0253      0.107      0.236      0.814      -0.188       0.238\n",
       "==============================================================================\n",
       "Omnibus:                        5.563   Durbin-Watson:                   1.932\n",
       "Prob(Omnibus):                  0.062   Jarque-Bera (JB):                8.391\n",
       "Skew:                           0.061   Prob(JB):                       0.0151\n",
       "Kurtosis:                       4.414   Cond. No.                         1.00\n",
       "==============================================================================\n",
       "\n",
       "Warnings:\n",
       "[1] Standard Errors assume that the covariance matrix of the errors is correctly specified.\n",
       "\"\"\""
      ]
     },
     "execution_count": 23,
     "metadata": {},
     "output_type": "execute_result"
    }
   ],
   "source": [
    "import statsmodels.api as sm\n",
    "model = sm.OLS(colliderDf['x1'], colliderDf['x3'])\n",
    "result = model.fit()\n",
    "result.summary()"
   ]
  },
  {
   "cell_type": "markdown",
   "metadata": {},
   "source": [
    "Here we see that there is no significant relationship between the two variables, but the coefficient for x3 is slightly positive.  However, if we add the collider x2 to the model:"
   ]
  },
  {
   "cell_type": "code",
   "execution_count": 24,
   "metadata": {},
   "outputs": [
    {
     "data": {
      "text/html": [
       "<table class=\"simpletable\">\n",
       "<caption>OLS Regression Results</caption>\n",
       "<tr>\n",
       "  <th>Dep. Variable:</th>           <td>x1</td>        <th>  R-squared (uncentered):</th>      <td>   0.970</td>\n",
       "</tr>\n",
       "<tr>\n",
       "  <th>Model:</th>                   <td>OLS</td>       <th>  Adj. R-squared (uncentered):</th> <td>   0.969</td>\n",
       "</tr>\n",
       "<tr>\n",
       "  <th>Method:</th>             <td>Least Squares</td>  <th>  F-statistic:       </th>          <td>   1589.</td>\n",
       "</tr>\n",
       "<tr>\n",
       "  <th>Date:</th>             <td>Sun, 05 Apr 2020</td> <th>  Prob (F-statistic):</th>          <td>2.11e-75</td>\n",
       "</tr>\n",
       "<tr>\n",
       "  <th>Time:</th>                 <td>09:27:15</td>     <th>  Log-Likelihood:    </th>          <td>  26.116</td>\n",
       "</tr>\n",
       "<tr>\n",
       "  <th>No. Observations:</th>      <td>   100</td>      <th>  AIC:               </th>          <td>  -48.23</td>\n",
       "</tr>\n",
       "<tr>\n",
       "  <th>Df Residuals:</th>          <td>    98</td>      <th>  BIC:               </th>          <td>  -43.02</td>\n",
       "</tr>\n",
       "<tr>\n",
       "  <th>Df Model:</th>              <td>     2</td>      <th>                     </th>              <td> </td>   \n",
       "</tr>\n",
       "<tr>\n",
       "  <th>Covariance Type:</th>      <td>nonrobust</td>    <th>                     </th>              <td> </td>   \n",
       "</tr>\n",
       "</table>\n",
       "<table class=\"simpletable\">\n",
       "<tr>\n",
       "   <td></td>     <th>coef</th>     <th>std err</th>      <th>t</th>      <th>P>|t|</th>  <th>[0.025</th>    <th>0.975]</th>  \n",
       "</tr>\n",
       "<tr>\n",
       "  <th>x3</th> <td>   -0.9745</td> <td>    0.026</td> <td>  -37.827</td> <td> 0.000</td> <td>   -1.026</td> <td>   -0.923</td>\n",
       "</tr>\n",
       "<tr>\n",
       "  <th>x2</th> <td>    1.9659</td> <td>    0.035</td> <td>   56.349</td> <td> 0.000</td> <td>    1.897</td> <td>    2.035</td>\n",
       "</tr>\n",
       "</table>\n",
       "<table class=\"simpletable\">\n",
       "<tr>\n",
       "  <th>Omnibus:</th>       <td> 0.937</td> <th>  Durbin-Watson:     </th> <td>   1.941</td>\n",
       "</tr>\n",
       "<tr>\n",
       "  <th>Prob(Omnibus):</th> <td> 0.626</td> <th>  Jarque-Bera (JB):  </th> <td>   1.038</td>\n",
       "</tr>\n",
       "<tr>\n",
       "  <th>Skew:</th>          <td>-0.207</td> <th>  Prob(JB):          </th> <td>   0.595</td>\n",
       "</tr>\n",
       "<tr>\n",
       "  <th>Kurtosis:</th>      <td> 2.721</td> <th>  Cond. No.          </th> <td>    2.48</td>\n",
       "</tr>\n",
       "</table><br/><br/>Warnings:<br/>[1] Standard Errors assume that the covariance matrix of the errors is correctly specified."
      ],
      "text/plain": [
       "<class 'statsmodels.iolib.summary.Summary'>\n",
       "\"\"\"\n",
       "                                 OLS Regression Results                                \n",
       "=======================================================================================\n",
       "Dep. Variable:                     x1   R-squared (uncentered):                   0.970\n",
       "Model:                            OLS   Adj. R-squared (uncentered):              0.969\n",
       "Method:                 Least Squares   F-statistic:                              1589.\n",
       "Date:                Sun, 05 Apr 2020   Prob (F-statistic):                    2.11e-75\n",
       "Time:                        09:27:15   Log-Likelihood:                          26.116\n",
       "No. Observations:                 100   AIC:                                     -48.23\n",
       "Df Residuals:                      98   BIC:                                     -43.02\n",
       "Df Model:                           2                                                  \n",
       "Covariance Type:            nonrobust                                                  \n",
       "==============================================================================\n",
       "                 coef    std err          t      P>|t|      [0.025      0.975]\n",
       "------------------------------------------------------------------------------\n",
       "x3            -0.9745      0.026    -37.827      0.000      -1.026      -0.923\n",
       "x2             1.9659      0.035     56.349      0.000       1.897       2.035\n",
       "==============================================================================\n",
       "Omnibus:                        0.937   Durbin-Watson:                   1.941\n",
       "Prob(Omnibus):                  0.626   Jarque-Bera (JB):                1.038\n",
       "Skew:                          -0.207   Prob(JB):                        0.595\n",
       "Kurtosis:                       2.721   Cond. No.                         2.48\n",
       "==============================================================================\n",
       "\n",
       "Warnings:\n",
       "[1] Standard Errors assume that the covariance matrix of the errors is correctly specified.\n",
       "\"\"\""
      ]
     },
     "execution_count": 24,
     "metadata": {},
     "output_type": "execute_result"
    }
   ],
   "source": [
    "model2 = sm.OLS(colliderDf['x1'], colliderDf[['x3', 'x2']])\n",
    "result2 = model2.fit()\n",
    "result2.summary()"
   ]
  },
  {
   "cell_type": "markdown",
   "metadata": {},
   "source": [
    "Now we see that the effect of x3 is highly significant in the negative direction! This is because when one conditionalizes on the collider, the only remaining variance must necessarily move in the opposite direction.  This example shows how insights from graphical causal models are useful even if one doesn't wish to explicitly test causal hypotheses."
   ]
  },
  {
   "cell_type": "markdown",
   "metadata": {},
   "source": [
    "## SEM as a causal model\n",
    "\n",
    "Whereas graphical models generally do not make any particular claims about the mathematical structure of the model, SEM is framed in terms of a set of linear models.  That is, graphical models are *nonparametric* whereas SEMs are a particular *parametric* instantiation of those models.  [Pearl (2012)](https://ftp.cs.ucla.edu/pub/stat_ser/r370.pdf) lays out the logic of structural equation modeling (SEM) in the context of graphical causal models.\n",
    "\n",
    "The inputs to the model are:\n",
    "\n",
    "1. A set $A$ of causal assumptions (justified on scientific grounds) that are encoded in a model $M_A$ expressed as a directed graph.\n",
    "2. A set $Q$ of questions concerning causal relations between the variables in the model --- e.g. \"What is the effect of treatment X on outcome Y?\"\n",
    "3. A set $D$ of data (experimental or observational) presumably generated by a process consistent with assumptions $A$.\n",
    "\n",
    "The outputs from the process of modeling are:\n",
    "\n",
    "1. A set $A*$ of statements regarding the logical implications of $A$, separate from the data, such as the conditional independences implicated by the graph.\n",
    "2. A set $C$ of data-based claims regarding the magnitudes or likelihoods of the questions in $Q$ given the data $D$ and assumptions $A$.\n",
    "3. A set $T$ of testable statistical implications of $A$, such as the predicted vanishing of particular partial correlations that is implied by conditional independence relationships.\n",
    "\n",
    "Note that SEM can never provide evidence in favor of the causal assumptions; those serve somewhat like the null hypothesis in standard statistical testing. What it can do is allow us to (sometimes) ask questions out the specific causal effects in the model, and therefore disconfirm particular claims (e.g. by showing that a particular claimed causal effect is not different from zero).  They can also provide us estimates of the magnitude of the causal effect, which could be useful for guiding our behavior (such as treatment or policy intervention).\n",
    "\n",
    "As Bollen and Pearl (2012) say:\n",
    "\n",
    ">Lest there be any doubt:\n",
    "SEM does not aim to establish causal relations from associations alone.\n",
    "Perhaps the best way to make this point clear is to state formally and unambiguously\n",
    "what SEM does aim to establish. SEM is an inference engine that takes in two inputs, qualitative causal assumptions and empirical data, and derives two logical consequences of these inputs: quantitative causal conclusions and statistical measures of fit for the testable implications of the assumptions. Failure to fit the data casts doubt on the strong causal assumptions of zero coefficients or zero covariances and guides the researcher to diagnose, or repair the structural misspecifications. Fitting the data does not “prove” the causal assumptions, but it makes them tentatively more plausible. Any such positive results need to be replicated and to withstand the criticisms of researchers who suggest other models for the same data.\n",
    "\n"
   ]
  },
  {
   "cell_type": "markdown",
   "metadata": {},
   "source": [
    "## Potential outcomes framework\n",
    "\n",
    "Another prominent approach to causal inference is known as the *potential outcomes* framework, most strongly associated with Donald Rubin. In this framework, causal inference is framed as a missing data problem.  For example, let's say that we want to know whether going to college results in greater income.  For any particular individual, we only have data for the outcome that actually occurred, and not for the counterfactual outcome. \n",
    "\n",
    "The potential outcomes approach has often been framed by its proponents as being somehow in conflict with and superior to the graphical causal modeling approach.  However, Pearl has shown that the two approaches are logically equivalent, such that any statement that can be expressed in one framework can be translated directly into the other.  Thus, one should feel free to take advantage of the framework that seems most suitable to one's particular analyses.  We will not discuss the details of how to implement this framework in this course."
   ]
  },
  {
   "cell_type": "code",
   "execution_count": null,
   "metadata": {},
   "outputs": [],
   "source": []
  }
 ],
 "metadata": {
  "kernelspec": {
   "display_name": "Python 3",
   "language": "python",
   "name": "python3"
  },
  "language_info": {
   "codemirror_mode": {
    "name": "ipython",
    "version": 3
   },
   "file_extension": ".py",
   "mimetype": "text/x-python",
   "name": "python",
   "nbconvert_exporter": "python",
   "pygments_lexer": "ipython3",
   "version": "3.7.3"
  }
 },
 "nbformat": 4,
 "nbformat_minor": 4
}
