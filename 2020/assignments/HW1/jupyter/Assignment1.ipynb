{
 "cells": [
  {
   "cell_type": "markdown",
   "metadata": {},
   "source": [
    "# Psych 253 Assignment 1\n",
    "**YOUR NAME AND DATE HERE**\n",
    "\n",
    "*Complete and hand in this completed worksheet (including its outputs and any supporting code outside of the worksheet) with your assignment submission. Your code should largely go where specified by the comments, though feel free to include more individual cells within those chunks if that's helpful for you. For more details see the assignment 1 pdf on canvas.*"
   ]
  },
  {
   "cell_type": "markdown",
   "metadata": {},
   "source": [
    "First, we will import the packages and code modules we will need for the assignment, as well as defining a few key helper functions"
   ]
  },
  {
   "cell_type": "code",
   "execution_count": 1,
   "metadata": {},
   "outputs": [],
   "source": [
    "#import the plotting library matplotlib\n",
    "%matplotlib inline\n",
    "import matplotlib\n",
    "import matplotlib.pyplot as plt\n",
    "\n",
    "#other useful imports \n",
    "import numpy as np\n",
    "import scipy as sp\n",
    "import scipy.stats as stats\n",
    "import h5py"
   ]
  },
  {
   "cell_type": "code",
   "execution_count": 2,
   "metadata": {},
   "outputs": [],
   "source": [
    "#loading code modules \n",
    "import metrics \n",
    "import cross_validation as cv\n",
    "from utils import spearman_brown\n",
    "from utils import featurewise_norm"
   ]
  },
  {
   "cell_type": "markdown",
   "metadata": {},
   "source": [
    "Here's a link to the dataset we'll be using for this assignment: [ventral neural dataset](https://psych253data.s3-us-west-1.amazonaws.com/ventral_neural_data.hdf5). Warning it's a pretty big download (~4 GB)! If you have problems downloading it, please ask me for help."
   ]
  },
  {
   "cell_type": "code",
   "execution_count": 3,
   "metadata": {},
   "outputs": [],
   "source": [
    "#loading the dataset \n",
    "DATA_PATH = \"ventral_neural_data.hdf5\" ##YOUR PATH HERE\n",
    "Ventral_Dataset = h5py.File(DATA_PATH, 'r')"
   ]
  },
  {
   "cell_type": "code",
   "execution_count": 4,
   "metadata": {},
   "outputs": [],
   "source": [
    "#useful utility function for plotting HDF5 dimension labels\n",
    "def dimnames(dataset):\n",
    "    dims = dataset.dims  #get the dimension object\n",
    "    dimlist = [x.label for x in dims.keys()]  #get the label attribute\n",
    "    dimlist = map(str, dimlist)  #cast everything to string instead of \"unicode\" ... complicated rathole ... not strictly necessary\n",
    "    return dimlist"
   ]
  },
  {
   "cell_type": "code",
   "execution_count": 5,
   "metadata": {},
   "outputs": [],
   "source": [
    "#here's a very simple implementation of split-half reliability\n",
    "#this is a NON-boostrapping version\n",
    "\n",
    "def get_correlation(data_by_trial, num_trials, num_splits):\n",
    "    \"\"\"arguments:\n",
    "          data_by_trial -- (numpy array) the data\n",
    "             assumes a tensor with structure is (stimuli, trials)\n",
    "             \n",
    "          num_trials -- (nonnegative integer) how many trials to consider\n",
    "          \n",
    "          num_splits (nonnegative integer) how many splits of the data to make\n",
    "          \n",
    "       returns:\n",
    "          array of length num_splits\n",
    "    \"\"\"\n",
    "\n",
    "    \n",
    "    #get the total number of trials\n",
    "    num_total_trials = data_by_trial.shape[1]\n",
    "    \n",
    "    #you better not ask for more trials than you actually have\n",
    "    assert num_trials <= num_total_trials, \"You asked for %d trials but there's only %d\" % (num_trials, num_total_trials)\n",
    "    \n",
    "    #we want to make sure that while we select groups of trials basically randomly,\n",
    "    #that we can still exactly reproduce our results later\n",
    "    #so to do this, we use a constructed random number generator to select trial groups\n",
    "    #and seed the generator with seed = 0 (could be any non-negative integer, but the seed\n",
    "    #*must* be set for this to be reproducible\n",
    "    random_number_generator = np.random.RandomState(seed=0)\n",
    "\n",
    "    corrvals = []\n",
    "    for split_index in range(num_splits):\n",
    "        #construct a new permutation of the trial indices\n",
    "        perm =  random_number_generator.permutation(num_total_trials)\n",
    "    \n",
    "        #take the first num_trials/2 and second num_trials/2 pieces of the data\n",
    "        first_half_of_trial_indices = perm[:num_trials // 2]\n",
    "        second_half_of_trial_indices = perm[num_trials // 2: num_trials]\n",
    "        \n",
    "        #mean over trial dimension\n",
    "        mean_first_half_of_trials = data_by_trial[:, first_half_of_trial_indices].mean(axis=1)\n",
    "        mean_second_half_of_trials = data_by_trial[:, second_half_of_trial_indices].mean(axis=1)\n",
    "        \n",
    "        #compute the correlation between the means\n",
    "        corrval = stats.pearsonr(mean_first_half_of_trials, mean_second_half_of_trials)[0]\n",
    "        #add to the list\n",
    "        corrvals.append(corrval)\n",
    "        \n",
    "    return np.array(corrvals)"
   ]
  },
  {
   "cell_type": "code",
   "execution_count": 6,
   "metadata": {},
   "outputs": [],
   "source": [
    "def get_reliability_spearman_brown(data, num_trials):\n",
    "    \"\"\"\n",
    "    This is a convenience function that gets us the reliability (Spearman-Brown corrected) for some data and number of trials\n",
    "    \n",
    "    arguments:\n",
    "       data -- (numpy array) of shape (stimuli, trials)\n",
    "    \n",
    "    \"\"\"\n",
    "    means = []\n",
    "    sems = []\n",
    "    corrected_means = []\n",
    "    \n",
    "    #determine the total number of trials\n",
    "    total_num_trials = data.shape[1]\n",
    "    \n",
    "    #we'll evaluate reliability for this total number of trials\n",
    "    cs = get_correlation(data, num_trials, 10 * num_trials) #we'll determine below that having num_splits ~ 10 * num trials is good enough\n",
    "    \n",
    "    mean = cs.mean()\n",
    "    sem = cs.std() / np.sqrt(10 * num_trials)\n",
    "    multiple = total_num_trials / float(num_trials) #have to do \"float\" here since python 2.x does integer division\n",
    "    k = multiple * 2 #multiply by 2 because get_correlation uses split-half\n",
    "    corrected_mean = spearman_brown(mean, k) \n",
    "    \n",
    "    return corrected_mean"
   ]
  },
  {
   "cell_type": "markdown",
   "metadata": {},
   "source": [
    "# 1.1 Data wrangling and Python practice"
   ]
  },
  {
   "cell_type": "code",
   "execution_count": 8,
   "metadata": {},
   "outputs": [
    {
     "data": {
      "text/plain": [
       "['image_meta',\n",
       " 'images',\n",
       " 'neural_meta',\n",
       " 'time_averaged',\n",
       " 'time_averaged_trial_averaged',\n",
       " 'time_binned',\n",
       " 'time_binned_trial_averaged']"
      ]
     },
     "execution_count": 8,
     "metadata": {},
     "output_type": "execute_result"
    }
   ],
   "source": [
    "#We'll start with some set up and exploration\n",
    "\n",
    "#First, what is in the dataset\n",
    "list(Ventral_Dataset.keys())"
   ]
  },
  {
   "cell_type": "code",
   "execution_count": 9,
   "metadata": {},
   "outputs": [],
   "source": [
    "# TODO:                                                                        \n",
    "# Okay, what about a level below in the data structure\n",
    "# i.e. what are the keys for the image_meta data\n",
    "# *****START OF YOUR CODE (DO NOT DELETE/MODIFY THIS LINE)*****\n",
    "\n",
    "pass\n",
    "\n",
    "# *****END OF YOUR CODE (DO NOT DELETE/MODIFY THIS LINE)*****"
   ]
  },
  {
   "cell_type": "code",
   "execution_count": 10,
   "metadata": {},
   "outputs": [
    {
     "name": "stdout",
     "output_type": "stream",
     "text": [
      "Shape: (5760, 168)\n"
     ]
    }
   ],
   "source": [
    "#We'll start with some set up and exploration\n",
    "\n",
    "#Let's get the IT neural data -- time and trial averaged\n",
    "Neural_Data = Ventral_Dataset['time_averaged_trial_averaged'][:]\n",
    "\n",
    "IT_NEURONS = Ventral_Dataset['neural_meta']['IT_NEURONS']\n",
    "IT_Neural_Data = Neural_Data[:, IT_NEURONS]\n",
    "\n",
    "#... and remind ourselves of the tensor shape\n",
    "print('Shape:', IT_Neural_Data.shape) #num images x num neurons"
   ]
  },
  {
   "cell_type": "code",
   "execution_count": 11,
   "metadata": {},
   "outputs": [],
   "source": [
    "# TODO:                                                                        \n",
    "# Okay, now get the same type of neural data for V4\n",
    "# Following code will assume you called the neurons \n",
    "# V4_NEURONS and the neural data V4_Neural_Data\n",
    "# *****START OF YOUR CODE (DO NOT DELETE/MODIFY THIS LINE)*****\n",
    "\n",
    "pass\n",
    "\n",
    "# *****END OF YOUR CODE (DO NOT DELETE/MODIFY THIS LINE)*****"
   ]
  },
  {
   "cell_type": "code",
   "execution_count": 12,
   "metadata": {},
   "outputs": [
    {
     "name": "stdout",
     "output_type": "stream",
     "text": [
      "[b'V0' b'V3' b'V6']\n"
     ]
    }
   ],
   "source": [
    "#Get the different variation levels to use for indexing\n",
    "var_level = Ventral_Dataset['image_meta']['variation_level']\n",
    "unique_var_levels = np.unique(var_level)\n",
    "print(unique_var_levels)"
   ]
  },
  {
   "cell_type": "code",
   "execution_count": 13,
   "metadata": {},
   "outputs": [
    {
     "data": {
      "text/plain": [
       "['variation_level_0', 'variation_level_3', 'variation_level_6']"
      ]
     },
     "execution_count": 13,
     "metadata": {},
     "output_type": "execute_result"
    }
   ],
   "source": [
    "#Let's check what the different keys are\n",
    "list(Ventral_Dataset['time_averaged'].keys())"
   ]
  },
  {
   "cell_type": "code",
   "execution_count": 14,
   "metadata": {},
   "outputs": [],
   "source": [
    "#Okay now we can use unique_var_levels and what we learnt in the cell above\n",
    "#to get the data by trial for the time-averaged responses\n",
    "data_by_trial = {}\n",
    "for vl in unique_var_levels:\n",
    "    level_number = vl.decode(\"utf-8\") #in python 3 these are byte strings so we need to decode them\n",
    "    arr = Ventral_Dataset['time_averaged']['variation_level_%s' % level_number[-1]][:, :, :]\n",
    "    data_by_trial[level_number] = arr.swapaxes(0,1) #swap axes to match format required by get_correlation"
   ]
  },
  {
   "cell_type": "code",
   "execution_count": 15,
   "metadata": {},
   "outputs": [
    {
     "name": "stdout",
     "output_type": "stream",
     "text": [
      "[<\"trial\" dimension 0 of HDF5 dataset at 4453202408>, <\"image\" dimension 1 of HDF5 dataset at 4453202408>, <\"neuron\" dimension 2 of HDF5 dataset at 4453202408>]\n",
      "28\n"
     ]
    }
   ],
   "source": [
    "#How many trials are there?\n",
    "\n",
    "#First, what are the different dimensions of our data by trials for one variation level \n",
    "print(list(Ventral_Dataset['time_averaged']['variation_level_3'].dims.keys()))\n",
    "\n",
    "#Let's check the number of trials for variation level 0 against the number given in the assignment PDF (28)\n",
    "#(Remember we swapped the axes for data_by_trial)\n",
    "num_trials_V0 = data_by_trial['V0'].shape[1]\n",
    "print(num_trials_V0)"
   ]
  },
  {
   "cell_type": "code",
   "execution_count": 16,
   "metadata": {},
   "outputs": [],
   "source": [
    "# TODO:                                                                        \n",
    "# Create a variable for the number of neurons called 'num_neurons'\n",
    "# *****START OF YOUR CODE (DO NOT DELETE/MODIFY THIS LINE)*****\n",
    "\n",
    "pass\n",
    "\n",
    "# *****END OF YOUR CODE (DO NOT DELETE/MODIFY THIS LINE)*****"
   ]
  },
  {
   "cell_type": "markdown",
   "metadata": {},
   "source": [
    "# 1.2 Reliability"
   ]
  },
  {
   "cell_type": "markdown",
   "metadata": {},
   "source": [
    "## 1.2.1 Problem 1: Reliability computation on time-averaged responses"
   ]
  },
  {
   "cell_type": "markdown",
   "metadata": {},
   "source": [
    "### Reliability of each neuron\n",
    "In this problem, we would like you to first compute the reliability for each neuron and variation level using the methods described in the class (specifically, split-half reliability and the Spearman-Brown correction prediction), and then perform a significance test on the population of all the neurons to determine whether the population is significantly reliable or not."
   ]
  },
  {
   "cell_type": "markdown",
   "metadata": {},
   "source": [
    "Before we launch into this problem, let's test a few things and confirm some of our earlier choices:"
   ]
  },
  {
   "cell_type": "code",
   "execution_count": 17,
   "metadata": {},
   "outputs": [
    {
     "name": "stdout",
     "output_type": "stream",
     "text": [
      "[array([0.84145457], dtype=float32), array([0.95104754], dtype=float32), array([0.93814296], dtype=float32)]\n"
     ]
    }
   ],
   "source": [
    "#first I'll test out the split-half reliability on one neuron with one split just to make sure it's working\n",
    "neuron_ind = 10 #rando neuron\n",
    "num_splits = 1\n",
    "\n",
    "corrmeans_by_var_level = []\n",
    "for vl in unique_var_levels:\n",
    "    level_number = vl.decode(\"utf-8\")\n",
    "    num_trials = data_by_trial[level_number].shape[1] #use all trials for each level\n",
    "    cs = get_correlation(data_by_trial[level_number][:, :, neuron_ind], num_trials, num_splits)\n",
    "\n",
    "    corrmeans_by_var_level.extend([cs])\n",
    "    \n",
    "print(corrmeans_by_var_level)"
   ]
  },
  {
   "cell_type": "markdown",
   "metadata": {},
   "source": [
    "In that test we used one split but how many splits should we be using in reality? In our get_reliability_spearman_brown function we set the number of splits to be 10 times the num of trials. Let's see how we got that number..."
   ]
  },
  {
   "cell_type": "code",
   "execution_count": 18,
   "metadata": {},
   "outputs": [
    {
     "data": {
      "text/plain": [
       "(-1, 513)"
      ]
     },
     "execution_count": 18,
     "metadata": {},
     "output_type": "execute_result"
    },
    {
     "data": {
      "image/png": "[encoded data removed]",
      "text/plain": [
       "<Figure size 432x288 with 1 Axes>"
      ]
     },
     "metadata": {},
     "output_type": "display_data"
    }
   ],
   "source": [
    "# let's plot reliability estimate and the SEM as a function of the number of splits\n",
    "neuron_ind = 10\n",
    "vl = 'V6'\n",
    "num_splits = [2, 8, 16, 32, 64, 96, 128, 192, 256, 512]\n",
    "\n",
    "#... first for 10 trials\n",
    "num_trials = 10\n",
    "\n",
    "means = []\n",
    "sems = []\n",
    "\n",
    "for ns in num_splits:\n",
    "    cs = get_correlation(data_by_trial[vl][:, :, neuron_ind],\n",
    "                           num_trials, \n",
    "                           ns)\n",
    "    mean = cs.mean()\n",
    "    means.append(mean)\n",
    "    sem = cs.std() / np.sqrt(ns)\n",
    "    sems.append(sem)\n",
    "    \n",
    "means = np.array(means)\n",
    "sems = np.array(sems)\n",
    "\n",
    "plt.plot(num_splits, means)\n",
    "plt.fill_between(num_splits, means - sems, means + sems, color='b', alpha = 0.2)\n",
    "plt.xlabel('Number of splits')\n",
    "plt.ylabel('Split half reliability')\n",
    "plt.title('Neuron %d varlevel %s reliability\\n at %d trials' % (neuron_ind, vl, num_trials))\n",
    "plt.xlim(-1, 513)"
   ]
  },
  {
   "cell_type": "code",
   "execution_count": 19,
   "metadata": {},
   "outputs": [
    {
     "data": {
      "text/plain": [
       "(-1, 513)"
      ]
     },
     "execution_count": 19,
     "metadata": {},
     "output_type": "execute_result"
    },
    {
     "data": {
      "image/png": "[encoded data removed]",
      "text/plain": [
       "<Figure size 432x288 with 1 Axes>"
      ]
     },
     "metadata": {},
     "output_type": "display_data"
    }
   ],
   "source": [
    "#... and then 25\n",
    "num_trials = 25\n",
    "\n",
    "means = []\n",
    "sems = []\n",
    "\n",
    "for ns in num_splits:\n",
    "    cs = get_correlation(data_by_trial[vl][:, :, neuron_ind],\n",
    "                           num_trials, \n",
    "                           ns)\n",
    "    mean = cs.mean()\n",
    "    means.append(mean)\n",
    "    sem = cs.std() / np.sqrt(ns)\n",
    "    sems.append(sem)\n",
    "    \n",
    "means = np.array(means)\n",
    "sems = np.array(sems)\n",
    "\n",
    "plt.plot(num_splits, means)\n",
    "plt.fill_between(num_splits, means - sems, means + sems, color='b', alpha = 0.2)\n",
    "plt.xlabel('Number of splits')\n",
    "plt.ylabel('Split half reliability')\n",
    "plt.title('Neuron %d varlevel %s reliability\\n at %d trials' % (neuron_ind, vl, num_trials))\n",
    "plt.xlim(-1, 513)"
   ]
  },
  {
   "cell_type": "markdown",
   "metadata": {},
   "source": [
    "Okay, it looks like having num_splits ~ 10 * num_trials is good enough for a stable approximation of reliability so we'll use that rough rule of thumb from now on."
   ]
  },
  {
   "cell_type": "code",
   "execution_count": 20,
   "metadata": {},
   "outputs": [],
   "source": [
    "# TODO:                                                                        \n",
    "# Compute the split-half reliability for the neurons\n",
    "# *****START OF YOUR CODE (DO NOT DELETE/MODIFY THIS LINE)*****\n",
    "\n",
    "pass\n",
    "\n",
    "# *****END OF YOUR CODE (DO NOT DELETE/MODIFY THIS LINE)*****"
   ]
  },
  {
   "cell_type": "code",
   "execution_count": 21,
   "metadata": {},
   "outputs": [],
   "source": [
    "# TODO:                                                                        \n",
    "# Compute the reliability of the neurons with the Spearman-Brown prediction\n",
    "# *****START OF YOUR CODE (DO NOT DELETE/MODIFY THIS LINE)*****\n",
    "\n",
    "pass\n",
    "\n",
    "# *****END OF YOUR CODE (DO NOT DELETE/MODIFY THIS LINE)*****"
   ]
  },
  {
   "cell_type": "markdown",
   "metadata": {},
   "source": [
    "#### Inline question 1:\n",
    "Please describe your methods for computing reliability and results.\n",
    "\n",
    "<span style=\"color:blue\">Your answer:</span>"
   ]
  },
  {
   "cell_type": "markdown",
   "metadata": {},
   "source": [
    "### Reliability by areas"
   ]
  },
  {
   "cell_type": "markdown",
   "metadata": {},
   "source": [
    "Now that you’ve gotten a reliability measure for each neuron, choose reliability from one (any) method and use this to test whether reliability of V4 neurons is significantly different from that of IT neurons. You can find the indexes of V4 neurons and IT neurons in the dataset, and as discussed in class. "
   ]
  },
  {
   "cell_type": "code",
   "execution_count": 24,
   "metadata": {},
   "outputs": [],
   "source": [
    "# TODO:                                                                        \n",
    "# Compute the reliability for V4 vs. IT neurons\n",
    "# *****START OF YOUR CODE (DO NOT DELETE/MODIFY THIS LINE)*****\n",
    "\n",
    "pass\n",
    "\n",
    "# *****END OF YOUR CODE (DO NOT DELETE/MODIFY THIS LINE)*****"
   ]
  },
  {
   "cell_type": "markdown",
   "metadata": {},
   "source": [
    "Note that V4 and IT have different numbers of neurons in this experiment. Test the reliability of neurons in the two areas again, subsampling neurons from each area to account for this difference. "
   ]
  },
  {
   "cell_type": "code",
   "execution_count": 25,
   "metadata": {},
   "outputs": [],
   "source": [
    "# TODO:                                                                        \n",
    "# Compute the reliability with subsampling\n",
    "# *****START OF YOUR CODE (DO NOT DELETE/MODIFY THIS LINE)*****\n",
    "\n",
    "pass\n",
    "\n",
    "# *****END OF YOUR CODE (DO NOT DELETE/MODIFY THIS LINE)*****"
   ]
  },
  {
   "cell_type": "markdown",
   "metadata": {},
   "source": [
    "Plot a bar chart showing the mean and standard deviations of reliabilities for V4 and IT. "
   ]
  },
  {
   "cell_type": "code",
   "execution_count": 26,
   "metadata": {},
   "outputs": [],
   "source": [
    "# TODO:                                                                        \n",
    "# Plot bar chart\n",
    "# *****START OF YOUR CODE (DO NOT DELETE/MODIFY THIS LINE)*****\n",
    "\n",
    "pass\n",
    "\n",
    "# *****END OF YOUR CODE (DO NOT DELETE/MODIFY THIS LINE)*****"
   ]
  },
  {
   "cell_type": "markdown",
   "metadata": {},
   "source": [
    "To get an intuitive understanding of the potential differences between the areas, also plot a histogram of the reliability of the neurons in the two areas."
   ]
  },
  {
   "cell_type": "code",
   "execution_count": 27,
   "metadata": {},
   "outputs": [],
   "source": [
    "# TODO:                                                                        \n",
    "# Plot histogram\n",
    "# *****START OF YOUR CODE (DO NOT DELETE/MODIFY THIS LINE)*****\n",
    "\n",
    "pass\n",
    "\n",
    "# *****END OF YOUR CODE (DO NOT DELETE/MODIFY THIS LINE)*****"
   ]
  },
  {
   "cell_type": "markdown",
   "metadata": {},
   "source": [
    "#### Inline question 2:\n",
    "Please summarize what you've found here.\n",
    "\n",
    "\n",
    "<span style=\"color:blue\">Your answer:</span>"
   ]
  },
  {
   "cell_type": "markdown",
   "metadata": {},
   "source": [
    "### Reliability by animals"
   ]
  },
  {
   "cell_type": "markdown",
   "metadata": {},
   "source": [
    "We also would like to validate that neurons in each animal are generating reliable responses. After grouping neurons by animals, test if there is a significant difference in reliability between the two animals. "
   ]
  },
  {
   "cell_type": "code",
   "execution_count": 28,
   "metadata": {},
   "outputs": [],
   "source": [
    "# TODO:                                                                        \n",
    "# Compute the reliability for Chabo vs. Tito\n",
    "# *****START OF YOUR CODE (DO NOT DELETE/MODIFY THIS LINE)*****\n",
    "\n",
    "pass\n",
    "\n",
    "# *****END OF YOUR CODE (DO NOT DELETE/MODIFY THIS LINE)*****"
   ]
  },
  {
   "cell_type": "markdown",
   "metadata": {},
   "source": [
    "#### Inline question 3:\n",
    "Please summarize what you've found here.\n",
    "\n",
    "\n",
    "<span style=\"color:blue\">Your answer:</span>"
   ]
  },
  {
   "cell_type": "markdown",
   "metadata": {},
   "source": [
    "Plot a histogram of reliability of neurons in two animals."
   ]
  },
  {
   "cell_type": "code",
   "execution_count": 29,
   "metadata": {},
   "outputs": [],
   "source": [
    "# TODO:                                                                        \n",
    "# Plot histogram\n",
    "# *****START OF YOUR CODE (DO NOT DELETE/MODIFY THIS LINE)*****\n",
    "\n",
    "pass\n",
    "\n",
    "# *****END OF YOUR CODE (DO NOT DELETE/MODIFY THIS LINE)*****"
   ]
  },
  {
   "cell_type": "markdown",
   "metadata": {},
   "source": [
    "## 1.2.1 Problem 2: Reliability computation on 20ms responses"
   ]
  },
  {
   "cell_type": "markdown",
   "metadata": {},
   "source": [
    "Although we might have confirmed the quality of this dataset through computing reliability on time-averaged neural responses, this process of time-averaging could conceal low-quality data by combining both high- and low-quality data. Therefore, in this problem, we will work on time-binned neural responses which are closer to the most original experimental data. Specifically:"
   ]
  },
  {
   "cell_type": "markdown",
   "metadata": {},
   "source": [
    "### Reliability by area in each 20ms bin"
   ]
  },
  {
   "cell_type": "markdown",
   "metadata": {},
   "source": [
    "Please first compute reliability for every neuron on data from each of the 20ms bins from 0ms to 200ms post stimulus presentation. The time binned neural data is stored in the dataset using key “time binned”. One interesting pattern to investigate is how the reliabilities vary across time, especially whether this pattern differs between neurons in V4 and IT. Hence, please group the reliabilities of neurons for V4 and IT respectively for different time bins and then plot the timecourse of reliabilities for these areas in the same plot. "
   ]
  },
  {
   "cell_type": "code",
   "execution_count": 30,
   "metadata": {},
   "outputs": [],
   "source": [
    "# TODO:                                                                        \n",
    "# Calculate reliability by bin and then sort by V4 and IT\n",
    "# *****START OF YOUR CODE (DO NOT DELETE/MODIFY THIS LINE)*****\n",
    "\n",
    "pass\n",
    "\n",
    "# *****END OF YOUR CODE (DO NOT DELETE/MODIFY THIS LINE)*****"
   ]
  },
  {
   "cell_type": "code",
   "execution_count": 31,
   "metadata": {},
   "outputs": [],
   "source": [
    "# TODO:                                                                        \n",
    "# Plot the timecourse of reliabilities for these areas in the same plot\n",
    "# *****START OF YOUR CODE (DO NOT DELETE/MODIFY THIS LINE)*****\n",
    "\n",
    "pass\n",
    "\n",
    "# *****END OF YOUR CODE (DO NOT DELETE/MODIFY THIS LINE)*****"
   ]
  },
  {
   "cell_type": "markdown",
   "metadata": {},
   "source": [
    "#### Inline question 4:\n",
    "Describe your findings. Do you think everything is OK in the data? If not, explain what you find abnormal and why. If you think everything’s OK, please check the hint in the assignment PDF.\n",
    "\n",
    "\n",
    "<span style=\"color:blue\">Your answer:</span>"
   ]
  },
  {
   "cell_type": "markdown",
   "metadata": {},
   "source": [
    "### Diagnose the problem"
   ]
  },
  {
   "cell_type": "markdown",
   "metadata": {},
   "source": [
    "OK, let’s face reality: There must be something wrong in our data! Given the reliabilities for all neurons in all time bins, how should we locate this problem? What will you try to diagnose it? Please show your efforts here and explain your motivations behind these efforts. If you find it difficult to continue, we have provided you hints in the PDF"
   ]
  },
  {
   "cell_type": "code",
   "execution_count": 32,
   "metadata": {},
   "outputs": [],
   "source": [
    "# TODO:                                                                        \n",
    "# Diagnose the problem\n",
    "# *****START OF YOUR CODE (DO NOT DELETE/MODIFY THIS LINE)*****\n",
    "\n",
    "pass\n",
    "\n",
    "# *****END OF YOUR CODE (DO NOT DELETE/MODIFY THIS LINE)*****"
   ]
  },
  {
   "cell_type": "markdown",
   "metadata": {},
   "source": [
    "#### Inline question 5:\n",
    "Report what you've found.\n",
    "\n",
    "\n",
    "<span style=\"color:blue\">Your answer:</span>"
   ]
  },
  {
   "cell_type": "markdown",
   "metadata": {},
   "source": [
    "### Difference in V4 and IT neurons"
   ]
  },
  {
   "cell_type": "markdown",
   "metadata": {},
   "source": [
    "Finally, exclude the wrong part of the data in the following analyses. Redraw the first plot you had for this problem (Section: Reliability by area in each 20ms bin). Describe and interpret your findings. How do V4 and IT differ in terms of when in time they become reliable? Or when reliability fades? What might any differences between V4 and IT you find mean neuroscientifically?"
   ]
  },
  {
   "cell_type": "code",
   "execution_count": 33,
   "metadata": {},
   "outputs": [],
   "source": [
    "# TODO:                                                                        \n",
    "# Exclude the problem data\n",
    "# *****START OF YOUR CODE (DO NOT DELETE/MODIFY THIS LINE)*****\n",
    "\n",
    "pass\n",
    "\n",
    "# *****END OF YOUR CODE (DO NOT DELETE/MODIFY THIS LINE)*****"
   ]
  },
  {
   "cell_type": "code",
   "execution_count": 34,
   "metadata": {},
   "outputs": [],
   "source": [
    "# TODO:                                                                        \n",
    "# Redraw the plot\n",
    "# *****START OF YOUR CODE (DO NOT DELETE/MODIFY THIS LINE)*****\n",
    "\n",
    "pass\n",
    "\n",
    "# *****END OF YOUR CODE (DO NOT DELETE/MODIFY THIS LINE)*****"
   ]
  },
  {
   "cell_type": "markdown",
   "metadata": {},
   "source": [
    "#### Inline question 6:\n",
    "Describe and interpret your findings\n",
    "\n",
    "\n",
    "<span style=\"color:blue\">Your answer:</span>"
   ]
  },
  {
   "cell_type": "code",
   "execution_count": 35,
   "metadata": {},
   "outputs": [],
   "source": [
    "#Close the dataset\n",
    "Ventral_Dataset.close()"
   ]
  },
  {
   "cell_type": "markdown",
   "metadata": {},
   "source": [
    "You're done with Assignment 1!"
   ]
  },
  {
   "cell_type": "code",
   "execution_count": null,
   "metadata": {},
   "outputs": [],
   "source": []
  }
 ],
 "metadata": {
  "kernelspec": {
   "display_name": "Python 3",
   "language": "python",
   "name": "python3"
  },
  "language_info": {
   "codemirror_mode": {
    "name": "ipython",
    "version": 3
   },
   "file_extension": ".py",
   "mimetype": "text/x-python",
   "name": "python",
   "nbconvert_exporter": "python",
   "pygments_lexer": "ipython3",
   "version": "3.6.4"
  }
 },
 "nbformat": 4,
 "nbformat_minor": 2
}
