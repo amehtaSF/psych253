{
 "cells": [
  {
   "cell_type": "markdown",
   "metadata": {},
   "source": [
    "## Lecture 3: Modeling\n",
    "\n",
    "In this notebook we will start with a very simple example of fitting a model.  We will use some data from the [National Health and Nutrition Examination Survey(https://www.cdc.gov/nchs/nhanes/index.htm), widely known as *NHANES*.  A subset of the data is included in the NHANES package for R, which we will extract and save for further use in other examples.\n"
   ]
  },
  {
   "cell_type": "code",
   "execution_count": 1,
   "metadata": {},
   "outputs": [
    {
     "name": "stderr",
     "output_type": "stream",
     "text": [
      "/Users/poldrack/anaconda3/envs/py37/lib/python3.7/site-packages/rpy2/robjects/pandas2ri.py:14: FutureWarning: pandas.core.index is deprecated and will be removed in a future version.  The public classes are available in the top-level namespace.\n",
      "  from pandas.core.index import Index as PandasIndex\n"
     ]
    }
   ],
   "source": [
    "import numpy as np\n",
    "import pandas as pd\n",
    "import matplotlib.pyplot as plt\n",
    "import scipy.stats\n",
    "from sklearn.linear_model import LinearRegression\n",
    "from sklearn.preprocessing import PolynomialFeatures\n",
    "from sklearn.model_selection import KFold, LeaveOneOut, ShuffleSplit\n",
    "from sklearn.metrics import r2_score\n",
    "\n",
    "%load_ext rpy2.ipython\n"
   ]
  },
  {
   "cell_type": "code",
   "execution_count": 2,
   "metadata": {},
   "outputs": [
    {
     "name": "stderr",
     "output_type": "stream",
     "text": [
      "R[write to console]: Parsed with column specification:\n",
      "cols(\n",
      "  .default = col_double(),\n",
      "  SurveyYr = \u001b[31mcol_character()\u001b[39m,\n",
      "  Gender = \u001b[31mcol_character()\u001b[39m,\n",
      "  AgeDecade = \u001b[31mcol_character()\u001b[39m,\n",
      "  Race1 = \u001b[31mcol_character()\u001b[39m,\n",
      "  Race3 = \u001b[33mcol_logical()\u001b[39m,\n",
      "  Education = \u001b[31mcol_character()\u001b[39m,\n",
      "  MaritalStatus = \u001b[31mcol_character()\u001b[39m,\n",
      "  HHIncome = \u001b[31mcol_character()\u001b[39m,\n",
      "  HomeOwn = \u001b[31mcol_character()\u001b[39m,\n",
      "  Work = \u001b[31mcol_character()\u001b[39m,\n",
      "  BMICatUnder20yrs = \u001b[33mcol_logical()\u001b[39m,\n",
      "  BMI_WHO = \u001b[31mcol_character()\u001b[39m,\n",
      "  Testosterone = \u001b[33mcol_logical()\u001b[39m,\n",
      "  Diabetes = \u001b[31mcol_character()\u001b[39m,\n",
      "  HealthGen = \u001b[31mcol_character()\u001b[39m,\n",
      "  LittleInterest = \u001b[31mcol_character()\u001b[39m,\n",
      "  Depressed = \u001b[31mcol_character()\u001b[39m,\n",
      "  SleepTrouble = \u001b[31mcol_character()\u001b[39m,\n",
      "  PhysActive = \u001b[31mcol_character()\u001b[39m,\n",
      "  TVHrsDay = \u001b[33mcol_logical()\u001b[39m\n",
      "  # ... with 12 more columns\n",
      ")\n",
      "\n",
      "R[write to console]: See spec(...) for full column specifications.\n",
      "\n",
      "R[write to console]: Warning:\n",
      "R[write to console]:  12883 parsing failures.\n",
      " row              col           expected     actual                          file\n",
      "3569 Race3            1/0/T/F/TRUE/FALSE Asian      'data/NHANES/NHANES_data.csv'\n",
      "3569 BMICatUnder20yrs 1/0/T/F/TRUE/FALSE NormWeight 'data/NHANES/NHANES_data.csv'\n",
      "3569 Testosterone     1/0/T/F/TRUE/FALSE 274.95     'data/NHANES/NHANES_data.csv'\n",
      "3569 TVHrsDay         1/0/T/F/TRUE/FALSE 2_hr       'data/NHANES/NHANES_data.csv'\n",
      "3569 CompHrsDay       1/0/T/F/TRUE/FALSE 3_hr       'data/NHANES/NHANES_data.csv'\n",
      ".... ................ .................. .......... .............................\n",
      "See problems(...) for more details.\n",
      "\n",
      "\n"
     ]
    }
   ],
   "source": [
    "%%R -o NHANES\n",
    "\n",
    "if (!file.exists('data/NHANES/NHANES_data.csv')){\n",
    "    library(NHANES)\n",
    "    library(magrittr)\n",
    "    library(dplyr)\n",
    "    # drop duplicated IDs within the NHANES dataset\n",
    "    NHANES <- NHANES %>% \n",
    "        dplyr::distinct(ID, .keep_all = TRUE)\n",
    "\n",
    "    write.table(NHANES, file='data/NHANES/NHANES_data.csv', row.names=FALSE, sep=',')\n",
    "} else {\n",
    "    library(readr)\n",
    "    NHANES = read_csv(file='data/NHANES/NHANES_data.csv')\n",
    "}"
   ]
  },
  {
   "cell_type": "code",
   "execution_count": 3,
   "metadata": {},
   "outputs": [
    {
     "data": {
      "text/plain": [
       "(6779, 76)"
      ]
     },
     "execution_count": 3,
     "metadata": {},
     "output_type": "execute_result"
    }
   ],
   "source": [
    "NHANES = pd.read_csv('data/NHANES/NHANES_data.csv')\n",
    "NHANES.shape"
   ]
  },
  {
   "cell_type": "code",
   "execution_count": 4,
   "metadata": {},
   "outputs": [
    {
     "data": {
      "text/plain": [
       "(1691, 76)"
      ]
     },
     "execution_count": 4,
     "metadata": {},
     "output_type": "execute_result"
    }
   ],
   "source": [
    "NHANES_child = NHANES.query('Age < 18').dropna(subset=['Height'])\n",
    "NHANES_child.shape"
   ]
  },
  {
   "cell_type": "code",
   "execution_count": 5,
   "metadata": {},
   "outputs": [
    {
     "data": {
      "image/png": "[encoded data removed]",
      "text/plain": [
       "<Figure size 432x288 with 1 Axes>"
      ]
     },
     "metadata": {
      "needs_background": "light"
     },
     "output_type": "display_data"
    }
   ],
   "source": [
    "_ = plt.hist(NHANES_child.Height, 100)"
   ]
  },
  {
   "cell_type": "markdown",
   "metadata": {},
   "source": [
    "## A very simple model: the mode\n",
    "\n",
    "We would like to come up with a model that will ultimately allow us to accurately predict the height for any child.  One very simple idea might be to just use the mode --- that is, the most common value in the dataset.  "
   ]
  },
  {
   "cell_type": "code",
   "execution_count": 6,
   "metadata": {},
   "outputs": [
    {
     "data": {
      "text/plain": [
       "166.5"
      ]
     },
     "execution_count": 6,
     "metadata": {},
     "output_type": "execute_result"
    }
   ],
   "source": [
    "mode_result = scipy.stats.mode(NHANES_child['Height'])\n",
    "height_mode = mode_result.mode[0]\n",
    "height_mode"
   ]
  },
  {
   "cell_type": "markdown",
   "metadata": {},
   "source": [
    "In this simple model, the predicted height for any child would be 166.5 cm.  \n",
    "\n",
    "## Assessing the fit of a model: The loss function\n",
    "\n",
    "How can we tell if a model is good or bad? One obvious way is to ask how close the predicted values of the model are from the actual values in the data, which we generally refer to as the *error* or *residuals*. A *loss function* is a function that uses the error values to summarize the goodness of fit of the model into a single number: the *loss*.  \n",
    "\n",
    "A simple measure of the loss that we might imagine is to simply take the mean of the errors.  We can do that for our model which predicts that the height of each individual should be the mode of the dataset:\n",
    "\n"
   ]
  },
  {
   "cell_type": "code",
   "execution_count": 7,
   "metadata": {},
   "outputs": [
    {
     "data": {
      "text/plain": [
       "-28.80419869899468"
      ]
     },
     "execution_count": 7,
     "metadata": {},
     "output_type": "execute_result"
    }
   ],
   "source": [
    "error_mode = NHANES_child['Height'] - height_mode\n",
    "error_mode.mean()"
   ]
  },
  {
   "cell_type": "markdown",
   "metadata": {},
   "source": [
    "The average error for any individual is 28 centimeters, which seems like a pretty bad model!\n",
    "\n",
    "\n",
    "## A better model: The mean\n",
    "\n",
    "Let's see what happens if we instead use the arithmetic mean as our model.  If we compute the mean error loss for this model:\n"
   ]
  },
  {
   "cell_type": "code",
   "execution_count": 8,
   "metadata": {},
   "outputs": [
    {
     "data": {
      "text/plain": [
       "-9.983734714169119e-15"
      ]
     },
     "execution_count": 8,
     "metadata": {},
     "output_type": "execute_result"
    }
   ],
   "source": [
    "height_mean = NHANES_child['Height'].mean()\n",
    "error_mean = NHANES_child['Height'] - height_mean\n",
    "error_mean.mean()"
   ]
  },
  {
   "cell_type": "markdown",
   "metadata": {},
   "source": [
    "We see that the mean error loss is essentially zero - and we can indeed prove that the mean error for the arithmetic mean must be zero.  Let's look at a histogram of the errors from the mean:\n",
    "\n"
   ]
  },
  {
   "cell_type": "code",
   "execution_count": 9,
   "metadata": {},
   "outputs": [
    {
     "data": {
      "image/png": "[encoded data removed]",
      "text/plain": [
       "<Figure size 432x288 with 1 Axes>"
      ]
     },
     "metadata": {
      "needs_background": "light"
     },
     "output_type": "display_data"
    }
   ],
   "source": [
    "_ = plt.hist(error_mean, 100)"
   ]
  },
  {
   "cell_type": "markdown",
   "metadata": {},
   "source": [
    "## Squared error loss\n",
    "\n",
    "We see that although the average error is now zero, there is still a substantial amount of error across individuals when compared to the mean. We need a loss function that doesn't allow the positive and negative errors to cancel each other out; one way to accomplish this is by squaring the errors.  If we sum those, we get the *sum of squared errors*:\n",
    "\n",
    "$$\n",
    "SSE = \\sum_1^N{(y_i - \\bar{y})^2}\n",
    "$$\n",
    "\n",
    "In order to make this number more interpretable, let's do two things: divide by the number of observations (giving the *mean squared error*) and then taking the square root to put the values back onto the original scale (giving the *root mean squared error*):\n",
    "\n",
    "$$\n",
    "RMSE = \\sqrt{\\frac{\\sum_1^N{(y_i - \\bar{y})^2}}{N}}\n",
    "$$\n"
   ]
  },
  {
   "cell_type": "code",
   "execution_count": 10,
   "metadata": {},
   "outputs": [],
   "source": [
    "def RMSE(values, estimate):\n",
    "    \"\"\"\n",
    "    return rmse for a set of values and an estimate\n",
    "    \"\"\"\n",
    "    error = values - estimate\n",
    "\n",
    "    return np.sqrt(error.dot(error)/values.shape[0])"
   ]
  },
  {
   "cell_type": "code",
   "execution_count": 11,
   "metadata": {},
   "outputs": [
    {
     "name": "stderr",
     "output_type": "stream",
     "text": [
      "/Users/poldrack/anaconda3/envs/py37/lib/python3.7/site-packages/ipykernel_launcher.py:1: DeprecationWarning: The default dtype for empty Series will be 'object' instead of 'float64' in a future version. Specify a dtype explicitly to silence this warning.\n",
      "  \"\"\"Entry point for launching an IPython kernel.\n"
     ]
    },
    {
     "data": {
      "text/plain": [
       "mean    26.911674\n",
       "mode    39.419793\n",
       "dtype: float64"
      ]
     },
     "execution_count": 11,
     "metadata": {},
     "output_type": "execute_result"
    }
   ],
   "source": [
    "model_RMSE = pd.Series()\n",
    "model_RMSE['mean'] = RMSE(NHANES_child.Height, height_mean)\n",
    "\n",
    "model_RMSE['mode']  = RMSE(NHANES_child.Height, height_mode)\n",
    "\n",
    "model_RMSE\n",
    "\n"
   ]
  },
  {
   "cell_type": "markdown",
   "metadata": {},
   "source": [
    "Here we see that the RMSE for the mean is substantially less than the mode.  In fact, the mean is guaranteed to have the minimum RMSE for any single value.  We can see this visually by computing the error for many different values, and plotting them:\n"
   ]
  },
  {
   "cell_type": "code",
   "execution_count": 12,
   "metadata": {},
   "outputs": [
    {
     "data": {
      "text/plain": [
       "Text(0.5, 0, 'target value')"
      ]
     },
     "execution_count": 12,
     "metadata": {},
     "output_type": "execute_result"
    },
    {
     "data": {
      "image/png": "[encoded data removed]",
      "text/plain": [
       "<Figure size 432x288 with 1 Axes>"
      ]
     },
     "metadata": {
      "needs_background": "light"
     },
     "output_type": "display_data"
    }
   ],
   "source": [
    "test_values = np.arange(height_mean - 5, height_mean + 5, .01)\n",
    "rmse_vals = [RMSE(NHANES_child.Height, i) for i in test_values]\n",
    "plt.plot(test_values, rmse_vals)\n",
    "plt.plot([height_mean], [model_RMSE['mean']], '*', markersize=10, color='red')\n",
    "plt.ylabel('RMSE')\n",
    "plt.xlabel('target value')"
   ]
  },
  {
   "cell_type": "markdown",
   "metadata": {},
   "source": [
    "The mean minimizes the squared error loss. This is closely related to the L2 norm of the error values, which is the square root of the sum of squared errors, and thus:\n",
    "\n",
    "$$\n",
    "RMSE = \\frac{||y - \\hat{y}||_2}{\\sqrt{N}}\n",
    "$$"
   ]
  },
  {
   "cell_type": "code",
   "execution_count": 13,
   "metadata": {},
   "outputs": [
    {
     "data": {
      "text/plain": [
       "Text(0.5, 0, 'target value')"
      ]
     },
     "execution_count": 13,
     "metadata": {},
     "output_type": "execute_result"
    },
    {
     "data": {
      "image/png": "[encoded data removed]",
      "text/plain": [
       "<Figure size 432x288 with 1 Axes>"
      ]
     },
     "metadata": {
      "needs_background": "light"
     },
     "output_type": "display_data"
    }
   ],
   "source": [
    "def l2norm_error(data, target):\n",
    "    \"\"\"\n",
    "    return L2 norm, normalized by sqrt of N\n",
    "    i.e. RMSE\n",
    "    \"\"\"\n",
    "\n",
    "    error = data - target\n",
    "    return(np.linalg.norm(error)/np.sqrt(error.shape[0]))\n",
    "\n",
    "l2norm_mean = l2norm_error(NHANES_child.Height, height_mean)\n",
    "l2norm_vals = [l2norm_error(NHANES_child.Height, i) for i in test_values]\n",
    "plt.plot(test_values, l2norm_vals)\n",
    "plt.plot([height_mean], [l2norm_mean], '*', markersize=10, color='red')\n",
    "plt.ylabel('L2 norm/sqrt(N)')\n",
    "plt.xlabel('target value')"
   ]
  },
  {
   "cell_type": "markdown",
   "metadata": {},
   "source": [
    "## Other loss functions\n",
    "\n",
    "What if we decided that we wanted to minimize a different loss?  For example, let's say that we instead wanted to minimize the absolute error rather than the squared error:\n",
    "\n",
    "$$\n",
    "SAE = \\sum_1^N{|y_i - \\bar{y}|}\n",
    "$$\n",
    "\n",
    "which turns out to be the same as the L1 norm.  Here we will get a slightly different answer - now the mimimum of the loss function falls at the sample *median* (denoted by the red star) rather than the sample mean:\n"
   ]
  },
  {
   "cell_type": "code",
   "execution_count": 14,
   "metadata": {},
   "outputs": [
    {
     "data": {
      "text/plain": [
       "Text(0.5, 0, 'target value')"
      ]
     },
     "execution_count": 14,
     "metadata": {},
     "output_type": "execute_result"
    },
    {
     "data": {
      "image/png": "[encoded data removed]",
      "text/plain": [
       "<Figure size 432x288 with 1 Axes>"
      ]
     },
     "metadata": {
      "needs_background": "light"
     },
     "output_type": "display_data"
    }
   ],
   "source": [
    "def MAE(data, target):\n",
    "    abserror = np.abs(data - target)\n",
    "    return(np.mean(abserror))\n",
    "\n",
    "height_median = np.median(NHANES_child.Height)\n",
    "mae_median = MAE(NHANES_child.Height, height_median)\n",
    "mae_vals = [MAE(NHANES_child.Height, i) for i in test_values]\n",
    "plt.plot(test_values, mae_vals)\n",
    "plt.plot([height_median], [mae_median], '*', markersize=10, color='red')\n",
    "plt.ylabel('mean absolute error')\n",
    "plt.xlabel('target value')"
   ]
  },
  {
   "cell_type": "markdown",
   "metadata": {},
   "source": [
    "## Improving our model\n",
    "\n",
    "The mean doesn't seem like a particularly good model on its own, because it would have us predict the same height for a four-year-old as a teenager. What happens if we instead fit a model that includes age, along with an intercept?  \n",
    "\n",
    "$$ \n",
    "\\hat{Height_i} = \\beta_1 * age_i + \\beta_0\n",
    "$$\n",
    "\n",
    "We will return to how we actually fit this model in a later session; for now, we will just use the LinearRegression object from scikit-learn. \n",
    "\n",
    "## An aside: Object-oriented programming\n",
    "\n",
    "We are going to use functions from the [scikit-learn](https://scikit-learn.org/stable/) package extensively in this course.  In order to use these effectively, you need to understand the concept of *object-oriented programming*.  First, have a look at the [help page for the LinearRegression object](https://scikit-learn.org/stable/modules/generated/sklearn.linear_model.LinearRegression.html).  \n",
    "\n",
    "You will see that the page first gives a description of the parameters that the function takes:\n"
   ]
  },
  {
   "cell_type": "code",
   "execution_count": 15,
   "metadata": {},
   "outputs": [
    {
     "data": {
      "text/plain": [
       "\u001b[0;31mInit signature:\u001b[0m\n",
       "\u001b[0mLinearRegression\u001b[0m\u001b[0;34m(\u001b[0m\u001b[0;34m\u001b[0m\n",
       "\u001b[0;34m\u001b[0m    \u001b[0mfit_intercept\u001b[0m\u001b[0;34m=\u001b[0m\u001b[0;32mTrue\u001b[0m\u001b[0;34m,\u001b[0m\u001b[0;34m\u001b[0m\n",
       "\u001b[0;34m\u001b[0m    \u001b[0mnormalize\u001b[0m\u001b[0;34m=\u001b[0m\u001b[0;32mFalse\u001b[0m\u001b[0;34m,\u001b[0m\u001b[0;34m\u001b[0m\n",
       "\u001b[0;34m\u001b[0m    \u001b[0mcopy_X\u001b[0m\u001b[0;34m=\u001b[0m\u001b[0;32mTrue\u001b[0m\u001b[0;34m,\u001b[0m\u001b[0;34m\u001b[0m\n",
       "\u001b[0;34m\u001b[0m    \u001b[0mn_jobs\u001b[0m\u001b[0;34m=\u001b[0m\u001b[0;32mNone\u001b[0m\u001b[0;34m,\u001b[0m\u001b[0;34m\u001b[0m\n",
       "\u001b[0;34m\u001b[0m\u001b[0;34m)\u001b[0m\u001b[0;34m\u001b[0m\u001b[0;34m\u001b[0m\u001b[0m\n",
       "\u001b[0;31mDocstring:\u001b[0m     \n",
       "Ordinary least squares Linear Regression.\n",
       "\n",
       "LinearRegression fits a linear model with coefficients w = (w1, ..., wp)\n",
       "to minimize the residual sum of squares between the observed targets in\n",
       "the dataset, and the targets predicted by the linear approximation.\n",
       "\n",
       "Parameters\n",
       "----------\n",
       "fit_intercept : bool, optional, default True\n",
       "    Whether to calculate the intercept for this model. If set\n",
       "    to False, no intercept will be used in calculations\n",
       "    (i.e. data is expected to be centered).\n",
       "\n",
       "normalize : bool, optional, default False\n",
       "    This parameter is ignored when ``fit_intercept`` is set to False.\n",
       "    If True, the regressors X will be normalized before regression by\n",
       "    subtracting the mean and dividing by the l2-norm.\n",
       "    If you wish to standardize, please use\n",
       "    :class:`sklearn.preprocessing.StandardScaler` before calling ``fit`` on\n",
       "    an estimator with ``normalize=False``.\n",
       "\n",
       "copy_X : bool, optional, default True\n",
       "    If True, X will be copied; else, it may be overwritten.\n",
       "\n",
       "n_jobs : int or None, optional (default=None)\n",
       "    The number of jobs to use for the computation. This will only provide\n",
       "    speedup for n_targets > 1 and sufficient large problems.\n",
       "    ``None`` means 1 unless in a :obj:`joblib.parallel_backend` context.\n",
       "    ``-1`` means using all processors. See :term:`Glossary <n_jobs>`\n",
       "    for more details.\n",
       "\n",
       "Attributes\n",
       "----------\n",
       "coef_ : array of shape (n_features, ) or (n_targets, n_features)\n",
       "    Estimated coefficients for the linear regression problem.\n",
       "    If multiple targets are passed during the fit (y 2D), this\n",
       "    is a 2D array of shape (n_targets, n_features), while if only\n",
       "    one target is passed, this is a 1D array of length n_features.\n",
       "\n",
       "rank_ : int\n",
       "    Rank of matrix `X`. Only available when `X` is dense.\n",
       "\n",
       "singular_ : array of shape (min(X, y),)\n",
       "    Singular values of `X`. Only available when `X` is dense.\n",
       "\n",
       "intercept_ : float or array of shape of (n_targets,)\n",
       "    Independent term in the linear model. Set to 0.0 if\n",
       "    `fit_intercept = False`.\n",
       "\n",
       "See Also\n",
       "--------\n",
       "sklearn.linear_model.Ridge : Ridge regression addresses some of the\n",
       "    problems of Ordinary Least Squares by imposing a penalty on the\n",
       "    size of the coefficients with l2 regularization.\n",
       "sklearn.linear_model.Lasso : The Lasso is a linear model that estimates\n",
       "    sparse coefficients with l1 regularization.\n",
       "sklearn.linear_model.ElasticNet : Elastic-Net is a linear regression\n",
       "    model trained with both l1 and l2 -norm regularization of the\n",
       "    coefficients.\n",
       "\n",
       "Notes\n",
       "-----\n",
       "From the implementation point of view, this is just plain Ordinary\n",
       "Least Squares (scipy.linalg.lstsq) wrapped as a predictor object.\n",
       "\n",
       "Examples\n",
       "--------\n",
       ">>> import numpy as np\n",
       ">>> from sklearn.linear_model import LinearRegression\n",
       ">>> X = np.array([[1, 1], [1, 2], [2, 2], [2, 3]])\n",
       ">>> # y = 1 * x_0 + 2 * x_1 + 3\n",
       ">>> y = np.dot(X, np.array([1, 2])) + 3\n",
       ">>> reg = LinearRegression().fit(X, y)\n",
       ">>> reg.score(X, y)\n",
       "1.0\n",
       ">>> reg.coef_\n",
       "array([1., 2.])\n",
       ">>> reg.intercept_\n",
       "3.0000...\n",
       ">>> reg.predict(np.array([[3, 5]]))\n",
       "array([16.])\n",
       "\u001b[0;31mFile:\u001b[0m           ~/anaconda3/envs/py37/lib/python3.7/site-packages/sklearn/linear_model/_base.py\n",
       "\u001b[0;31mType:\u001b[0m           ABCMeta\n",
       "\u001b[0;31mSubclasses:\u001b[0m     \n"
      ]
     },
     "metadata": {},
     "output_type": "display_data"
    }
   ],
   "source": [
    "?LinearRegression"
   ]
  },
  {
   "cell_type": "markdown",
   "metadata": {},
   "source": [
    "Note that these are aspects of the regression, but they don't actually provide the data needed to perform the analysis.  In scikit-learn, we first set up the LinearRegression *object*, which you can think of as \"a tool do to a linear regression\".  If you look at the help page, you will see that it also describes a set of *methods*, which you can think of as \"things the tool can do\".  In this case, one of those is the `fit()` object:"
   ]
  },
  {
   "cell_type": "code",
   "execution_count": 16,
   "metadata": {},
   "outputs": [
    {
     "data": {
      "text/plain": [
       "\u001b[0;31mSignature:\u001b[0m \u001b[0mLinearRegression\u001b[0m\u001b[0;34m.\u001b[0m\u001b[0mfit\u001b[0m\u001b[0;34m(\u001b[0m\u001b[0mself\u001b[0m\u001b[0;34m,\u001b[0m \u001b[0mX\u001b[0m\u001b[0;34m,\u001b[0m \u001b[0my\u001b[0m\u001b[0;34m,\u001b[0m \u001b[0msample_weight\u001b[0m\u001b[0;34m=\u001b[0m\u001b[0;32mNone\u001b[0m\u001b[0;34m)\u001b[0m\u001b[0;34m\u001b[0m\u001b[0;34m\u001b[0m\u001b[0m\n",
       "\u001b[0;31mDocstring:\u001b[0m\n",
       "Fit linear model.\n",
       "\n",
       "Parameters\n",
       "----------\n",
       "X : {array-like, sparse matrix} of shape (n_samples, n_features)\n",
       "    Training data\n",
       "\n",
       "y : array-like of shape (n_samples,) or (n_samples, n_targets)\n",
       "    Target values. Will be cast to X's dtype if necessary\n",
       "\n",
       "sample_weight : array-like of shape (n_samples,), default=None\n",
       "    Individual weights for each sample\n",
       "\n",
       "    .. versionadded:: 0.17\n",
       "       parameter *sample_weight* support to LinearRegression.\n",
       "\n",
       "Returns\n",
       "-------\n",
       "self : returns an instance of self.\n",
       "\u001b[0;31mFile:\u001b[0m      ~/anaconda3/envs/py37/lib/python3.7/site-packages/sklearn/linear_model/_base.py\n",
       "\u001b[0;31mType:\u001b[0m      function\n"
      ]
     },
     "metadata": {},
     "output_type": "display_data"
    }
   ],
   "source": [
    "?LinearRegression.fit"
   ]
  },
  {
   "cell_type": "markdown",
   "metadata": {},
   "source": [
    "It is this `fit()` method that actually takes in the data and estimates the best parameters for the model. Let's see this in action for the relation of age and height:"
   ]
  },
  {
   "cell_type": "code",
   "execution_count": 17,
   "metadata": {},
   "outputs": [
    {
     "data": {
      "text/plain": [
       "LinearRegression(copy_X=True, fit_intercept=True, n_jobs=None, normalize=False)"
      ]
     },
     "execution_count": 17,
     "metadata": {},
     "output_type": "execute_result"
    }
   ],
   "source": [
    "lr = LinearRegression()\n",
    "lr.fit(NHANES_child[['Age']], NHANES_child['Height'])\n"
   ]
  },
  {
   "cell_type": "markdown",
   "metadata": {},
   "source": [
    "After the model is fitted, the LinearRegression object that we created now contains the estimated parameters of the model:"
   ]
  },
  {
   "cell_type": "code",
   "execution_count": 18,
   "metadata": {},
   "outputs": [
    {
     "name": "stdout",
     "output_type": "stream",
     "text": [
      "slope: [5.4788831]\n",
      "intercept: 86.10811551847299\n"
     ]
    }
   ],
   "source": [
    "print('slope:', lr.coef_)\n",
    "print('intercept:', lr.intercept_)\n"
   ]
  },
  {
   "cell_type": "markdown",
   "metadata": {},
   "source": [
    "One nice thing about this is that we can now simply pass the object into a function, which can use the contents of the object. Here is an example to create a plot of the regression line:"
   ]
  },
  {
   "cell_type": "code",
   "execution_count": 19,
   "metadata": {},
   "outputs": [
    {
     "data": {
      "image/png": "[encoded data removed]",
      "text/plain": [
       "<Figure size 432x288 with 1 Axes>"
      ]
     },
     "metadata": {
      "needs_background": "light"
     },
     "output_type": "display_data"
    }
   ],
   "source": [
    "\n",
    "def regression_plot(X, y, lr, poly=None):\n",
    "    \"\"\"\n",
    "    given X and y values and an lr object,\n",
    "    plot the data with the regression line\n",
    "    desmtx: allows us to specify a more complex design\n",
    "    poly: polynomial order (default is linear)\n",
    "    \"\"\"\n",
    "\n",
    "    plt.scatter(X, y)\n",
    "    pred_X = np.arange(X.min(), X.max()+.01, .01)\n",
    "    \n",
    "    if poly is None:\n",
    "        plt.plot(pred_X, lr.predict(pred_X.reshape(-1, 1)), color='red')\n",
    "    else:\n",
    "        polyfit = PolynomialFeatures(poly)\n",
    "        desmtx = polyfit.fit_transform(pred_X.reshape(-1, 1) - np.mean(pred_X))\n",
    "        plt.plot(pred_X, lr.predict(desmtx), color='red')\n",
    "\n",
    "\n",
    "regression_plot(NHANES_child['Age'], NHANES_child['Height'], lr)"
   ]
  },
  {
   "cell_type": "markdown",
   "metadata": {},
   "source": [
    "The LinearRegression object also has a `predict()` method that takes in an X variable and returns the predicted values of y for each X. We can use this to compute the RMSE for this model:"
   ]
  },
  {
   "cell_type": "code",
   "execution_count": 20,
   "metadata": {},
   "outputs": [
    {
     "data": {
      "text/plain": [
       "mean    26.911674\n",
       "mode    39.419793\n",
       "age      8.358295\n",
       "dtype: float64"
      ]
     },
     "execution_count": 20,
     "metadata": {},
     "output_type": "execute_result"
    }
   ],
   "source": [
    "model_RMSE['age']  = RMSE(NHANES_child['Height'], lr.predict(NHANES_child[['Age']]))\n",
    "model_RMSE"
   ]
  },
  {
   "cell_type": "markdown",
   "metadata": {},
   "source": [
    "This is obviously a much better model, right?  \n",
    "\n",
    "## Overfitting\n",
    "\n",
    "We generally want our model to fit well, but it's possible for a model to fit *too* well.  To see this, let's generate some data where we know the true generative model for the data (which in this case is a linear model).\n"
   ]
  },
  {
   "cell_type": "code",
   "execution_count": 21,
   "metadata": {},
   "outputs": [
    {
     "data": {
      "text/plain": [
       "<matplotlib.collections.PathCollection at 0x11c556950>"
      ]
     },
     "execution_count": 21,
     "metadata": {},
     "output_type": "execute_result"
    },
    {
     "data": {
      "image/png": "[encoded data removed]",
      "text/plain": [
       "<Figure size 432x288 with 1 Axes>"
      ]
     },
     "metadata": {
      "needs_background": "light"
     },
     "output_type": "display_data"
    }
   ],
   "source": [
    "simDf = pd.DataFrame({'X':np.random.randn(24)})\n",
    "simDf['Y'] = simDf['X']*0.5 + np.random.randn(24)*0.5\n",
    "\n",
    "plt.scatter(simDf.X, simDf.Y)"
   ]
  },
  {
   "cell_type": "markdown",
   "metadata": {},
   "source": [
    "First let's look at a linear fit."
   ]
  },
  {
   "cell_type": "code",
   "execution_count": 22,
   "metadata": {},
   "outputs": [
    {
     "name": "stderr",
     "output_type": "stream",
     "text": [
      "/Users/poldrack/anaconda3/envs/py37/lib/python3.7/site-packages/ipykernel_launcher.py:7: DeprecationWarning: The default dtype for empty Series will be 'object' instead of 'float64' in a future version. Specify a dtype explicitly to silence this warning.\n",
      "  import sys\n"
     ]
    },
    {
     "data": {
      "image/png": "[encoded data removed]",
      "text/plain": [
       "<Figure size 432x288 with 1 Axes>"
      ]
     },
     "metadata": {
      "needs_background": "light"
     },
     "output_type": "display_data"
    }
   ],
   "source": [
    "lr = LinearRegression()\n",
    "## lr.fit wants an Nx1 array for the X variable, and a vector for the Y variable\n",
    "lr.fit(simDf[['X']], simDf['Y'])\n",
    "\n",
    "regression_plot(simDf['X'], simDf['Y'], lr)\n",
    "\n",
    "sim_RMSE = pd.Series()\n",
    "sim_RMSE['linear_orig'] = RMSE(simDf['Y'], lr.predict(simDf[['X']]))\n"
   ]
  },
  {
   "cell_type": "markdown",
   "metadata": {},
   "source": [
    "Now let's fit the same data with a much more complex model: a 5th-order polynomial.  We can use the sklearn function `PolynomialFeatures()` to generate this:"
   ]
  },
  {
   "cell_type": "code",
   "execution_count": 23,
   "metadata": {},
   "outputs": [
    {
     "data": {
      "text/plain": [
       "linear_orig    0.423734\n",
       "poly_orig      0.339300\n",
       "dtype: float64"
      ]
     },
     "execution_count": 23,
     "metadata": {},
     "output_type": "execute_result"
    }
   ],
   "source": [
    "poly_order = 8\n",
    "polyfit = PolynomialFeatures(poly_order)\n",
    "# demean the original variable\n",
    "X = polyfit.fit_transform(simDf[['X']] - simDf['X'].mean())\n",
    "lr_poly = LinearRegression()\n",
    "lr_poly.fit(X, simDf['Y'])\n",
    "\n",
    "sim_RMSE['poly_orig']  = RMSE(simDf['Y'], lr_poly.predict(X))\n",
    "sim_RMSE"
   ]
  },
  {
   "cell_type": "code",
   "execution_count": 24,
   "metadata": {},
   "outputs": [
    {
     "data": {
      "image/png": "[encoded data removed]",
      "text/plain": [
       "<Figure size 432x288 with 1 Axes>"
      ]
     },
     "metadata": {
      "needs_background": "light"
     },
     "output_type": "display_data"
    }
   ],
   "source": [
    "regression_plot(simDf['X'], simDf['Y'], lr_poly,poly=poly_order)"
   ]
  },
  {
   "cell_type": "markdown",
   "metadata": {},
   "source": [
    "Here we see that the RMSE is much lower than for the linear model - even though we know that the linear model is the right one!  This is because we are *overfitting* the data - that is, our parameter estimates are increasingly reflecting the random noise in the data, rather than the underlying mechanism.  To see this, let's generate another dataset from the same linear function (with different random noise) and see how well our two models (fitted to the previous dataset) generalize to the new data:"
   ]
  },
  {
   "cell_type": "code",
   "execution_count": 25,
   "metadata": {},
   "outputs": [
    {
     "data": {
      "text/plain": [
       "linear_orig    0.423734\n",
       "poly_orig      0.339300\n",
       "poly_new       0.497367\n",
       "linear_new     0.490264\n",
       "dtype: float64"
      ]
     },
     "execution_count": 25,
     "metadata": {},
     "output_type": "execute_result"
    }
   ],
   "source": [
    "simDf['Y_new'] = simDf['X']*0.5 + np.random.randn(24)*0.5\n",
    "\n",
    "sim_RMSE['poly_new']  = RMSE(simDf['Y_new'], lr_poly.predict(X))\n",
    "sim_RMSE['linear_new'] = RMSE(simDf['Y_new'], lr.predict(simDf[['X']]))\n",
    "sim_RMSE"
   ]
  },
  {
   "cell_type": "code",
   "execution_count": null,
   "metadata": {},
   "outputs": [],
   "source": []
  },
  {
   "cell_type": "markdown",
   "metadata": {},
   "source": [
    "Now we see that the polynomial model has substantially *higher* RMSE than the linear model on the new data. A more complex model will always fit a particular dataset better than a less complex model, but their ability to predict values for a new dataset will depend on the actual complexity of the underlying process that generates the data.\n",
    "\n",
    "## Cross-validation\n",
    "\n",
    "In the previous example, we were able to generate a new dataset from the same underlying process. However, it is usually not feasible for us to generate an entirely new dataset to test our model. Fortunately, there is a way for us to test the generalization ability of our model that works almost as well as testing our model on completely new data: *cross-validation*.  \n",
    "\n",
    "The idea behind cross-validation is that we split our data into multiple sections (or *folds*), and then iteratively leave out one of the folds, fit the model on the remaining folds (known as the *training* data) and then assess the model fit on the held-out (or *test*) data.  For this to work, it is *absolutely essential* that there is no crosstalk between the training and test folds.  It is also important to have sufficiently large data in order to obtain stable estimates of test accuracy; there is no set number that is \"large enough\" but an emerging rule of thumb is that it rarely makes sense to perform cross-validation with less than 100 samples.  Otherwise we risk highly variable estimates of accuracy (as shown by Varoquaux in his [Cross-validation failure](https://arxiv.org/abs/1706.07581) paper).\n",
    "\n",
    "Let's see an example in action.  First we generate some data."
   ]
  },
  {
   "cell_type": "code",
   "execution_count": 26,
   "metadata": {},
   "outputs": [],
   "source": [
    "# generate data using 10 random regressors with random parameters\n",
    "npts = 100\n",
    "nvars = 20\n",
    "noise_sd = 5\n",
    "X = np.random.randn(npts, nvars)\n",
    "beta = np.zeros((nvars, 1))\n",
    "beta[3, 0] = 4\n",
    "y = X.dot(beta) + np.random.randn(npts, 1)*noise_sd\n",
    "y_new = X.dot(beta) + np.random.randn(npts, 1)*noise_sd\n"
   ]
  },
  {
   "cell_type": "markdown",
   "metadata": {},
   "source": [
    "Now let's fit a linear model on the full dataset and assess its fit.  We will assess the fit using the coefficient of variation, aka *R-squared*, which denotes the proportion of variance accounted for in the data."
   ]
  },
  {
   "cell_type": "code",
   "execution_count": 27,
   "metadata": {},
   "outputs": [
    {
     "data": {
      "text/plain": [
       "0.48690869351124444"
      ]
     },
     "execution_count": 27,
     "metadata": {},
     "output_type": "execute_result"
    }
   ],
   "source": [
    "# first run standard linear regression and compute r-squared\n",
    "\n",
    "lr = LinearRegression()\n",
    "lr.fit(X, y)\n",
    "lr.score(X, y)"
   ]
  },
  {
   "cell_type": "markdown",
   "metadata": {},
   "source": [
    "Also test on new data:"
   ]
  },
  {
   "cell_type": "code",
   "execution_count": 28,
   "metadata": {},
   "outputs": [
    {
     "data": {
      "text/plain": [
       "0.35378691283156605"
      ]
     },
     "execution_count": 28,
     "metadata": {},
     "output_type": "execute_result"
    }
   ],
   "source": [
    "lr.score(X, y_new)"
   ]
  },
  {
   "cell_type": "markdown",
   "metadata": {},
   "source": [
    "Here we see that our model accounts for a large amount of variance in our sample, but the same model accounts for substantially less variance in a new sample.  Now let's perform cross-validation. We will use the `KFold()` object from sklearn to create the training and test folds.  first let's see a simple version of how this works (from the sklearn documentation):"
   ]
  },
  {
   "cell_type": "code",
   "execution_count": 57,
   "metadata": {},
   "outputs": [
    {
     "name": "stdout",
     "output_type": "stream",
     "text": [
      "TRAIN: [2 3] TEST: [0 1]\n",
      "TRAIN: [0 1] TEST: [2 3]\n"
     ]
    }
   ],
   "source": [
    "X_simple = np.array([[1, 2], [3, 4], [1, 2], [3, 4]])\n",
    "y_simple = np.array([1, 2, 3, 4])\n",
    "kf = KFold(n_splits=2)\n",
    "for train_index, test_index in kf.split(X_simple):\n",
    "     print(\"TRAIN:\", train_index, \"TEST:\", test_index)\n",
    "     X_train, X_test = X_simple[train_index], X_simple[test_index]\n",
    "     y_train, y_test = y_simple[train_index], y_simple[test_index]\n"
   ]
  },
  {
   "cell_type": "markdown",
   "metadata": {},
   "source": [
    "The cross-validation operator returns the indices of the rows in the data that should be assigned to training or test for that particular fold.  Now let's do this on our data, using 10-fold cross-validation."
   ]
  },
  {
   "cell_type": "code",
   "execution_count": 54,
   "metadata": {},
   "outputs": [
    {
     "data": {
      "text/plain": [
       "0.6348574546054513"
      ]
     },
     "execution_count": 54,
     "metadata": {},
     "output_type": "execute_result"
    }
   ],
   "source": [
    "# create cross-validation operator, \n",
    "# shuffling row order to prevent any bias between folds\n",
    "kf = KFold(n_splits=10, shuffle=True)\n",
    "\n",
    "# loop through the folds\n",
    "predicted = np.zeros((npts, 1))\n",
    "for train_index, test_index in kf.split(X):\n",
    "    # create separate train and test datasets for this fold\n",
    "    X_train, X_test = X[train_index], X[test_index]\n",
    "    y_train, y_test = y[train_index], y[test_index]\n",
    "    # train the model\n",
    "    lr.fit(X_train, y_train)\n",
    "    predicted[test_index] = lr.predict(X_test)\n",
    "\n",
    "\n",
    "# compute r-squared for out-of-sample predictions\n",
    "r2_score(y, predicted)"
   ]
  },
  {
   "cell_type": "markdown",
   "metadata": {},
   "source": [
    "Here we see that the goodness of fit for the crossvalidated predictions are very close to those obtained using a new dataset generated from the same mechanism."
   ]
  },
  {
   "cell_type": "markdown",
   "metadata": {},
   "source": [
    "## Cross-validation for model selection\n",
    "\n",
    "So far we have seen how we can use cross-validation to get an accurate estimate of how well our model can generalize to a new sample. We can also use cross-validation to compare different models, since the error on the test data provides us with a measure of how well our model fits new data, which will not be inflated by the complexity of the model.\n",
    "\n",
    "To see this, let's generate some data where the true underlying function is a third order polynomial, and use cross-validation to find the model with the best generalization performance.\n"
   ]
  },
  {
   "cell_type": "code",
   "execution_count": 31,
   "metadata": {},
   "outputs": [
    {
     "data": {
      "text/plain": [
       "<matplotlib.collections.PathCollection at 0x11bb4ae50>"
      ]
     },
     "execution_count": 31,
     "metadata": {},
     "output_type": "execute_result"
    },
    {
     "data": {
      "image/png": "[encoded data removed]",
      "text/plain": [
       "<Figure size 432x288 with 1 Axes>"
      ]
     },
     "metadata": {
      "needs_background": "light"
     },
     "output_type": "display_data"
    }
   ],
   "source": [
    "# functions to generate polynomial data for simulation\n",
    "\n",
    "def poly_generate(x, params):\n",
    "    \"\"\"\n",
    "    generate polynomial function of x given parameters\n",
    "    x: values to transform\n",
    "    params: an array of parameters for each polynomial\n",
    "    \"\"\"\n",
    "\n",
    "    powers = np.arange(params.shape[0])\n",
    "    s = [np.sum(i**powers) for i in x]\n",
    "\n",
    "    return(np.array(s))\n",
    "\n",
    "def make_poly_df(npts, params, x_sd = 1, noise_sd = 1):\n",
    "    X = np.random.randn(npts)*x_sd\n",
    "    y = poly_generate(X, params) + np.random.randn(npts)*noise_sd\n",
    "    polyDf = pd.DataFrame({'x':X, 'y':y})\n",
    "    return(polyDf)\n",
    "\n",
    "params = np.array([0, 2, -0.4, 1.5])\n",
    "npts=200\n",
    "polyDf = make_poly_df(npts, params, noise_sd=2)\n",
    "\n",
    "plt.scatter(polyDf.x, polyDf.y)"
   ]
  },
  {
   "cell_type": "code",
   "execution_count": 55,
   "metadata": {},
   "outputs": [],
   "source": [
    "# use crossvalidation to test a range of polynomial model complexities\n",
    "\n",
    "# create cross-validation operator, \n",
    "# shuffling row order to prevent any bias between folds\n",
    "# use 4 splits here to make things faster\n",
    "n_splits = 4\n",
    "kf = KFold(n_splits=n_splits)\n",
    "\n",
    "# polynomial model orders to test\n",
    "max_order = 10\n",
    "poly_orders = np.arange(0, max_order)\n",
    "\n",
    "X = polyDf[['x']].values\n",
    "X = X - X.mean()\n",
    "y = polyDf.y.values\n",
    "\n",
    "# loop through the folds\n",
    "predicted = np.zeros((npts, max_order))\n",
    "errorDf = pd.DataFrame({'order': poly_orders,\n",
    "                        'train': np.zeros(max_order),\n",
    "                        'test': np.zeros(max_order)})\n",
    "\n",
    "for train_index, test_index in kf.split(X):\n",
    "    # create separate train and test datasets for this fold\n",
    "    y_train, y_test = y[train_index], y[test_index]\n",
    "\n",
    "    # loop through the polynomial expansions\n",
    "    train_errors = []\n",
    "    for i, poly_order in enumerate(poly_orders):\n",
    "        polyfit = PolynomialFeatures(poly_order)\n",
    "\n",
    "        X_train = polyfit.fit_transform(X[train_index])\n",
    "        X_test = polyfit.fit_transform(X[test_index])\n",
    "\n",
    "        # train the model\n",
    "        lr.fit(X_train, y_train)\n",
    "        errorDf.loc[i, 'train'] = 1 - errorDf['train'].iloc[i] + r2_score(y_train, lr.predict(X_train))/n_splits\n",
    "        predicted[test_index, i] = lr.predict(X_test)\n",
    "\n"
   ]
  },
  {
   "cell_type": "code",
   "execution_count": 56,
   "metadata": {},
   "outputs": [
    {
     "name": "stdout",
     "output_type": "stream",
     "text": [
      "Found best test fit for order =  3\n"
     ]
    },
    {
     "data": {
      "image/png": "[encoded data removed]",
      "text/plain": [
       "<Figure size 432x288 with 1 Axes>"
      ]
     },
     "metadata": {
      "needs_background": "light"
     },
     "output_type": "display_data"
    }
   ],
   "source": [
    "# get prediction errors\n",
    "for i, poly_order in enumerate(poly_orders):\n",
    "    errorDf.loc[i, 'test'] = 1 - r2_score(y, predicted[:,i])\n",
    "\n",
    "# plot fit indices\n",
    "plt.plot(errorDf.order, errorDf.train, color='red')\n",
    "plt.plot(errorDf.order, errorDf.test, color='blue')\n",
    "plt.legend(['Training error', 'Test error'])\n",
    "plt.ylabel('error (1 - R-squared)')\n",
    "print('Found best test fit for order = ', np.argmin(errorDf.test))\n"
   ]
  },
  {
   "cell_type": "markdown",
   "metadata": {},
   "source": [
    "Crossvalidation found the correct model order in this case.\n",
    "\n"
   ]
  },
  {
   "cell_type": "markdown",
   "metadata": {},
   "source": [
    "## Choosing the right cross-validation method\n",
    "\n",
    "It is important to choose the right cross-validation method as well as the right metric for assessing fit. For example, let's say that you want to use cross-validation to assess the ability to predict disease symptoms from a set of 10 biomarkers, all of which are continuously distributed.  \n",
    "\n",
    "Let's first generate some data in which there is no relationship between the two variables - all of the values are simply random noise."
   ]
  },
  {
   "cell_type": "code",
   "execution_count": 113,
   "metadata": {},
   "outputs": [],
   "source": [
    "npts = 24\n",
    "nvars = 10\n",
    "\n",
    "np.random.seed(0)\n",
    "X = np.random.randn(npts, nvars)\n",
    "y = np.random.randn(npts, 1)"
   ]
  },
  {
   "cell_type": "markdown",
   "metadata": {},
   "source": [
    "Now let's say that you decide to use leave-one-out crossvalidation to assess our ability to predict the symptom measure from the biomarker out of sample.\n"
   ]
  },
  {
   "cell_type": "code",
   "execution_count": 114,
   "metadata": {},
   "outputs": [],
   "source": [
    "loo = LeaveOneOut()\n",
    "\n",
    "predicted = np.zeros((npts, 1))\n",
    "for train_index, test_index in loo.split(X):\n",
    "    # create separate train and test datasets for this fold\n",
    "    X_train, X_test = X[train_index], X[test_index]\n",
    "    y_train, y_test = y[train_index], y[test_index]\n",
    "    # train the model\n",
    "    lr.fit(X_train, y_train)\n",
    "    predicted[test_index] = lr.predict(X_test)\n"
   ]
  },
  {
   "cell_type": "markdown",
   "metadata": {},
   "source": [
    "You compute $R^2$ for your predictions to see how well the model worked:"
   ]
  },
  {
   "cell_type": "code",
   "execution_count": 120,
   "metadata": {},
   "outputs": [
    {
     "data": {
      "text/plain": [
       "-1.2844083728531248"
      ]
     },
     "execution_count": 120,
     "metadata": {},
     "output_type": "execute_result"
    }
   ],
   "source": [
    "r2_score(y, predicted)"
   ]
  },
  {
   "cell_type": "markdown",
   "metadata": {},
   "source": [
    "Huh? How can $R^2$ be negative?  It turns out that this can happen when the predictive model fits particularly badly -- worse than if one had simply used the sample mean as the prediction.  In this particular case, what has happened is that the regression model overfits to the training data, leading to a negatively correlated prediction when the left-out value has a strong impact on the regression model.  Using shuffle-split or balanced cross-validation methods can help address this.\n",
    "\n",
    "## Keeping a firewall between training and test data\n",
    "\n",
    "Perhaps the most important rule of cross-validation is this: **There must be no contamination of the test data with the training data.**  Let's see what happens when this rule is broken.  We will once again generate a dataset with no relation between the X and y variables, using a large number of X variables (e.g. as we would in fMRI):"
   ]
  },
  {
   "cell_type": "code",
   "execution_count": 227,
   "metadata": {},
   "outputs": [],
   "source": [
    "npts = 200\n",
    "nvars = 100000\n",
    "\n",
    "np.random.seed(0)\n",
    "X = np.random.randn(npts, nvars)\n",
    "y = np.random.randn(npts, 1)"
   ]
  },
  {
   "cell_type": "markdown",
   "metadata": {},
   "source": [
    "We can perform crossvalidation (this time using ShuffleSplit) to confirm that there is no predictive relationship."
   ]
  },
  {
   "cell_type": "code",
   "execution_count": 202,
   "metadata": {},
   "outputs": [
    {
     "data": {
      "text/plain": [
       "-0.009194217855086784"
      ]
     },
     "execution_count": 202,
     "metadata": {},
     "output_type": "execute_result"
    }
   ],
   "source": [
    "ss = ShuffleSplit(n_splits=4)\n",
    "\n",
    "predicted = np.zeros((npts, 1))\n",
    "for train_index, test_index in ss.split(X):\n",
    "    # create separate train and test datasets for this fold\n",
    "    X_train, X_test = X[train_index], X[test_index]\n",
    "    y_train, y_test = y[train_index], y[test_index]\n",
    "    # train the model\n",
    "    lr.fit(X_train, y_train)\n",
    "    predicted[test_index] = lr.predict(X_test)\n",
    "    \n",
    "r2_score(y, predicted)"
   ]
  },
  {
   "cell_type": "markdown",
   "metadata": {},
   "source": [
    "Now let's say that we first decide to select the best variables, before we perform cross-validation.  For example, we could pick the 5 X variables that are most strongly associated with the y variable (due to random noise):"
   ]
  },
  {
   "cell_type": "code",
   "execution_count": 203,
   "metadata": {},
   "outputs": [],
   "source": [
    "coefs = np.zeros(nvars)\n",
    "lr = LinearRegression()\n",
    "for i in range(nvars):\n",
    "    coefs[i] = np.corrcoef(X[:, i], y[:,0])[0,1]\n",
    "best_vars = np.argsort(np.abs(coefs))[99995:]\n",
    "X_filtered = X[:, best_vars]"
   ]
  },
  {
   "cell_type": "markdown",
   "metadata": {},
   "source": [
    "If we then perform cross-validation after variable selection, we will see that there is a large (but illusory) increase in the apparent predictive ability of the model:"
   ]
  },
  {
   "cell_type": "code",
   "execution_count": 226,
   "metadata": {},
   "outputs": [
    {
     "data": {
      "text/plain": [
       "0.11627677776101464"
      ]
     },
     "execution_count": 226,
     "metadata": {},
     "output_type": "execute_result"
    }
   ],
   "source": [
    "predicted = np.zeros((npts, 1))\n",
    "for train_index, test_index in ss.split(X_filtered):\n",
    "    # create separate train and test datasets for this fold\n",
    "    X_train, X_test = X_filtered[train_index],X_filtered[test_index]\n",
    "    y_train, y_test = y[train_index], y[test_index]\n",
    "    # train the model\n",
    "    lr.fit(X_train, y_train)\n",
    "    predicted[test_index] = lr.predict(X_test)\n",
    "    \n",
    "r2_score(y, predicted)"
   ]
  },
  {
   "cell_type": "code",
   "execution_count": null,
   "metadata": {},
   "outputs": [],
   "source": []
  }
 ],
 "metadata": {
  "file_extension": ".py",
  "kernelspec": {
   "display_name": "Python 3",
   "language": "python",
   "name": "python3"
  },
  "language_info": {
   "codemirror_mode": {
    "name": "ipython",
    "version": 3
   },
   "file_extension": ".py",
   "mimetype": "text/x-python",
   "name": "python",
   "nbconvert_exporter": "python",
   "pygments_lexer": "ipython3",
   "version": "3.7.3"
  },
  "mimetype": "text/x-python",
  "name": "python",
  "npconvert_exporter": "python",
  "pygments_lexer": "ipython3",
  "version": 3
 },
 "nbformat": 4,
 "nbformat_minor": 4
}
