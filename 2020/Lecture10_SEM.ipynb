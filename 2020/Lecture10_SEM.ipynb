{
 "cells": [
  {
   "cell_type": "markdown",
   "metadata": {},
   "source": [
    "## Lecture 10: Structural equation modeling\n",
    "\n",
    "In this lecture we will focus on the estimation of parameters for SEM models.  We will use the *lavaan* R package for SEM analysis - there are Python-based packages, but they are not as widely accepted as lavaan. This will also highlight the utility of the R-to-Python bridge provided by Jupyter and the rpy2 package."
   ]
  },
  {
   "cell_type": "code",
   "execution_count": 2,
   "metadata": {},
   "outputs": [
    {
     "name": "stderr",
     "output_type": "stream",
     "text": [
      "/opt/conda/lib/python3.7/site-packages/rpy2/robjects/pandas2ri.py:14: FutureWarning: pandas.core.index is deprecated and will be removed in a future version.  The public classes are available in the top-level namespace.\n",
      "  from pandas.core.index import Index as PandasIndex\n"
     ]
    }
   ],
   "source": [
    "import numpy as np\n",
    "import pandas as pd\n",
    "import statsmodels.api as sm\n",
    "from IPython.display import display, HTML\n",
    "import rpy2\n",
    "import matplotlib.pyplot as plt\n",
    "import rpy2.robjects as robjects\n",
    "from rpy2.robjects import r, pandas2ri\n",
    "from rpy2.robjects.packages import importr\n",
    "pandas2ri.activate()\n",
    "import seaborn as sns\n",
    "\n",
    "%load_ext rpy2.ipython"
   ]
  },
  {
   "cell_type": "code",
   "execution_count": null,
   "metadata": {},
   "outputs": [],
   "source": []
  },
  {
   "cell_type": "code",
   "execution_count": null,
   "metadata": {},
   "outputs": [],
   "source": []
  },
  {
   "cell_type": "code",
   "execution_count": null,
   "metadata": {},
   "outputs": [],
   "source": []
  },
  {
   "cell_type": "code",
   "execution_count": null,
   "metadata": {},
   "outputs": [],
   "source": []
  },
  {
   "cell_type": "code",
   "execution_count": null,
   "metadata": {},
   "outputs": [],
   "source": []
  },
  {
   "cell_type": "markdown",
   "metadata": {},
   "source": [
    "## Linear regression\n",
    "\n",
    "We will start by showing how one can estimate a simple linear regression model using SEM.  We will use simulated data so that we know the ground truth.\n",
    "\n",
    "First, let's generate some data."
   ]
  },
  {
   "cell_type": "code",
   "execution_count": 3,
   "metadata": {},
   "outputs": [
    {
     "data": {
      "text/html": [
       "<div>\n",
       "<style scoped>\n",
       "    .dataframe tbody tr th:only-of-type {\n",
       "        vertical-align: middle;\n",
       "    }\n",
       "\n",
       "    .dataframe tbody tr th {\n",
       "        vertical-align: top;\n",
       "    }\n",
       "\n",
       "    .dataframe thead th {\n",
       "        text-align: right;\n",
       "    }\n",
       "</style>\n",
       "<table border=\"1\" class=\"dataframe\">\n",
       "  <thead>\n",
       "    <tr style=\"text-align: right;\">\n",
       "      <th></th>\n",
       "      <th>x</th>\n",
       "      <th>Y</th>\n",
       "    </tr>\n",
       "  </thead>\n",
       "  <tbody>\n",
       "    <tr>\n",
       "      <th>x</th>\n",
       "      <td>1.000000</td>\n",
       "      <td>0.480377</td>\n",
       "    </tr>\n",
       "    <tr>\n",
       "      <th>Y</th>\n",
       "      <td>0.480377</td>\n",
       "      <td>1.000000</td>\n",
       "    </tr>\n",
       "  </tbody>\n",
       "</table>\n",
       "</div>"
      ],
      "text/plain": [
       "          x         Y\n",
       "x  1.000000  0.480377\n",
       "Y  0.480377  1.000000"
      ]
     },
     "execution_count": 3,
     "metadata": {},
     "output_type": "execute_result"
    },
    {
     "data": {
      "image/png": "[encoded data removed]",
      "text/plain": [
       "<Figure size 432x288 with 1 Axes>"
      ]
     },
     "metadata": {
      "needs_background": "light"
     },
     "output_type": "display_data"
    }
   ],
   "source": [
    "npts = 500\n",
    "noise_sd = 1\n",
    "rng = np.random.RandomState(1)\n",
    "simdataDf = pd.DataFrame({'x': rng.randn(npts)})\n",
    "beta = np.array([0.5])\n",
    "simdataDf['Y'] = simdataDf.dot(beta) + np.random.randn(npts)*noise_sd\n",
    "\n",
    "sns.scatterplot(x='x', y='Y', data=simdataDf)\n",
    "simdataDf.corr()"
   ]
  },
  {
   "cell_type": "code",
   "execution_count": 4,
   "metadata": {},
   "outputs": [
    {
     "name": "stdout",
     "output_type": "stream",
     "text": [
      "                            OLS Regression Results                            \n",
      "==============================================================================\n",
      "Dep. Variable:                      Y   R-squared:                       0.231\n",
      "Model:                            OLS   Adj. R-squared:                  0.229\n",
      "Method:                 Least Squares   F-statistic:                     149.4\n",
      "Date:                Sat, 25 Apr 2020   Prob (F-statistic):           3.15e-30\n",
      "Time:                        20:12:46   Log-Likelihood:                -725.91\n",
      "No. Observations:                 500   AIC:                             1456.\n",
      "Df Residuals:                     498   BIC:                             1464.\n",
      "Df Model:                           1                                         \n",
      "Covariance Type:            nonrobust                                         \n",
      "==============================================================================\n",
      "                 coef    std err          t      P>|t|      [0.025      0.975]\n",
      "------------------------------------------------------------------------------\n",
      "const         -0.0811      0.046     -1.748      0.081      -0.172       0.010\n",
      "x              0.5727      0.047     12.223      0.000       0.481       0.665\n",
      "==============================================================================\n",
      "Omnibus:                        0.942   Durbin-Watson:                   2.080\n",
      "Prob(Omnibus):                  0.624   Jarque-Bera (JB):                0.917\n",
      "Skew:                           0.105   Prob(JB):                        0.632\n",
      "Kurtosis:                       2.986   Cond. No.                         1.06\n",
      "==============================================================================\n",
      "\n",
      "Warnings:\n",
      "[1] Standard Errors assume that the covariance matrix of the errors is correctly specified.\n"
     ]
    }
   ],
   "source": [
    "# estimate linear regression model\n",
    "\n",
    "X = sm.add_constant(simdataDf[['x']])\n",
    "y = simdataDf['Y']\n",
    "model = sm.OLS(y, X)\n",
    "ols_results = model.fit()\n",
    "print(ols_results.summary())"
   ]
  },
  {
   "cell_type": "markdown",
   "metadata": {},
   "source": [
    "Now let's build a structural model for this analysis using lavaan."
   ]
  },
  {
   "cell_type": "code",
   "execution_count": 5,
   "metadata": {},
   "outputs": [
    {
     "name": "stderr",
     "output_type": "stream",
     "text": [
      "R[write to console]: This is lavaan 0.6-5\n",
      "\n",
      "R[write to console]: lavaan is BETA software! Please report any bugs.\n",
      "\n"
     ]
    },
    {
     "name": "stdout",
     "output_type": "stream",
     "text": [
      "lavaan 0.6-5 ended normally after 10 iterations\n",
      "\n",
      "  Estimator                                         ML\n",
      "  Optimization method                           NLMINB\n",
      "  Number of free parameters                          3\n",
      "                                                      \n",
      "  Number of observations                           500\n",
      "                                                      \n",
      "Model Test User Model:\n",
      "                                                      \n",
      "  Test statistic                                 0.000\n",
      "  Degrees of freedom                                 0\n",
      "\n",
      "Parameter Estimates:\n",
      "\n",
      "  Information                                 Expected\n",
      "  Information saturated (h1) model          Structured\n",
      "  Standard errors                             Standard\n",
      "\n",
      "Regressions:\n",
      "                   Estimate  Std.Err  z-value  P(>|z|)   Std.lv  Std.all\n",
      "  Y ~                                                                   \n",
      "    x                 0.573    0.047   12.247    0.000    0.573    0.480\n",
      "\n",
      "Intercepts:\n",
      "                   Estimate  Std.Err  z-value  P(>|z|)   Std.lv  Std.all\n",
      "   .Y                -0.081    0.046   -1.752    0.080   -0.081   -0.069\n",
      "\n",
      "Variances:\n",
      "                   Estimate  Std.Err  z-value  P(>|z|)   Std.lv  Std.all\n",
      "   .Y                 1.068    0.068   15.811    0.000    1.068    0.769\n",
      "\n"
     ]
    }
   ],
   "source": [
    "%%R -i simdataDf -o results\n",
    "\n",
    "library(lavaan)\n",
    "myModel <- ' # regressions\n",
    "             Y ~ x\n",
    "    \n",
    "             # variances and covariances \n",
    "             Y ~~ Y \n",
    "\n",
    "             # intercepts \n",
    "             Y~ 1 \n",
    "           '\n",
    "\n",
    "fit <- lavaan(myModel, data=simdataDf)\n",
    "summary(fit, standardized=TRUE)\n",
    "\n",
    "results = list(fitted = fitted(fit)$cov,\n",
    "              resid = resid(fit)$cov,\n",
    "              coefs = coef(fit))"
   ]
  },
  {
   "cell_type": "code",
   "execution_count": 11,
   "metadata": {},
   "outputs": [
    {
     "name": "stdout",
     "output_type": "stream",
     "text": [
      "$cov\n",
      "  Y     x    \n",
      "Y 1.388      \n",
      "x 0.559 0.977\n",
      "\n",
      "$mean\n",
      "     Y      x \n",
      "-0.050  0.053 \n",
      "\n"
     ]
    },
    {
     "data": {
      "image/png": "[encoded data removed]"
     },
     "metadata": {},
     "output_type": "display_data"
    }
   ],
   "source": [
    "%%R\n",
    "library(semPlot)\n",
    "\n",
    "semPaths(fit, \"model\", \"est\", rotation=1, sizeMan =10, sizeMan2 = 10, \n",
    "        edge.label.cex = 1)\n",
    "\n",
    "fitted(fit)"
   ]
  },
  {
   "cell_type": "markdown",
   "metadata": {},
   "source": [
    "As you can see, the estimated parameters from SEM are the same as the regression model. However, the standard errors are very slightly different (not noticable to the third decimal place in this case) - this is because the OLS regression estimates using the unbiased estimator for the variance (with N-1 in the denominator), whereas SEM uses maximum likelihood which is a biased estimator of the variance (with N in the denominator).  These differences are minor unless the sample size is very small.\n",
    "\n"
   ]
  },
  {
   "cell_type": "markdown",
   "metadata": {},
   "source": [
    "## Estimating SEM parameters\n",
    "\n",
    "We saw in the earlier session on regression how those parameters are estimated using least squares.  SEM models are estimated in a different way.  Most importantly, the main difference between SEM and regression is the loss function: Whereas in linear regression we used the sum of squared errors between the predicted and estimated values for the data points, in SEM we use the sum of squared differences between the observed covariance and the covariance predicted by the model. For this reason, these models are often referred to as \"covariance structure models\".\n",
    "\n",
    "The observed covariance between all measured variables serves as our estimate of the population covariance, which we simply plug into the loss function.  We compare this to the covariance matrix that is implied by any specific set of parameter values. \n",
    "\n",
    "Let's see how this works for the simple regression example, where we only have a single parameter.  The implied covariance matrix here is:\n",
    "\n",
    "\n",
    "\n",
    "| $\\sigma^2(x)$  |                | \n",
    "| ------------- | -------------  |\n",
    "| $cov(x*\\beta_1,x)$    |  $\\sigma^2(y)$  |  \n"
   ]
  },
  {
   "cell_type": "code",
   "execution_count": 21,
   "metadata": {},
   "outputs": [
    {
     "name": "stdout",
     "output_type": "stream",
     "text": [
      "observed covariance\n",
      "[[0.9789087  0.56058198]\n",
      " [0.56058198 1.39114108]]\n"
     ]
    }
   ],
   "source": [
    "S = simdataDf.cov().values\n",
    "print('observed covariance')\n",
    "print(S)"
   ]
  },
  {
   "cell_type": "markdown",
   "metadata": {},
   "source": [
    "Let's create a function to generate the implied covariance from this dataset, given a specific value of $\\beta_1$:"
   ]
  },
  {
   "cell_type": "code",
   "execution_count": 22,
   "metadata": {},
   "outputs": [
    {
     "name": "stdout",
     "output_type": "stream",
     "text": [
      "model-implied covariance\n",
      "[[0.9789087  0.56058198]\n",
      " [0.56058198 1.39114108]]\n"
     ]
    }
   ],
   "source": [
    "def get_implied_cov(dataDf, beta):\n",
    "    # get observed cov\n",
    "    observed = np.cov(dataDf.values.T)\n",
    "    # get diagonal from observed\n",
    "    sigma = np.zeros(observed.shape)\n",
    "    sigma[np.diag_indices_from(observed)] = np.diag(observed)\n",
    "    \n",
    "    # get implied \n",
    "    sigma[0, 1] = np.cov(dataDf.x*beta, dataDf.x)[0, 1]\n",
    "    sigma[1, 0] = sigma[0, 1]\n",
    "    return(sigma)\n",
    "\n",
    "sigma = get_implied_cov(simdataDf, ols_results.params.x)\n",
    "print('model-implied covariance')\n",
    "print(sigma)"
   ]
  },
  {
   "cell_type": "markdown",
   "metadata": {},
   "source": [
    "In this case the model-implied differs from the observed covariance matrix at one location (since the variances of x and y remain the same), which is the covariance of predicted values (using $\\beta_1$) with the observed values.\n",
    "\n",
    "## Loss function\n",
    "\n",
    "Why are we worried about covariances?  Because whereas the squared error loss for ordinary least squares compares the predicted and observed *data*, the loss function for structural equation modeling compares the predicted and observed *covariances*.  Here is the loss function that is used for maximum likelihood estimation (rearranged from Bollen, 1989):\n",
    "\n",
    "$$\n",
    "F_{ML}(\\theta) = log |\\Sigma| - log|\\textbf{S}| + tr(\\textbf{S}\\Sigma^{-1}) - (p + q)\n",
    "$$\n",
    "\n",
    "where:\n",
    "\n",
    "- $log |\\Sigma|$ is the log determinant of the implied covariance matrix \n",
    "- $log |\\textbf{S}|$ is the log determinant of the observed covariance matrix \n",
    "- $tr(\\textbf{S}\\Sigma^{-1})$ is the trace of a matrix obtained by multiplying the observed covariance matrix by the inverse of the implied covariance matrix - basically this is a sum of the ratios of the observed and implied variances; in a simple model like this one, it is simply the number of variables, since the implied and observed variances are identical.\n",
    "- p is the number of endogenous (dependent) variables\n",
    "- q is the number of exogenous (independent) variables\n",
    "\n",
    "Why do we take the determinant of the covariance matrix?  This basically tells us how dispersed our data are. Remember that the determinant of a 2 x 2 matrix:\n",
    "\n",
    "$$\n",
    "x = \\left[ \\begin{array}{cc}\n",
    "a & b \\\\\n",
    "c & d \\\\\n",
    "\\end{array} \\right]\n",
    "$$\n",
    "\n",
    "is:\n",
    "\n",
    "$$\n",
    "|x| = a*d - b*c\n",
    "$$\n",
    "\n",
    "In the case of a covariance matrix, $a$ and $d$ are the variances, and $b$ and $c$ are the covariance, so the determinant is effectively the square of the variances minus the square of the covariances.  Also note that the determinant of a covariance matrix is always positive because the covariance matrices are positive definite. Thus, the determinant will be zero if the covariance is one, whereas the determinant will be maximal when the covariance is zero, and minimal (zero) when the correlation is perfect (either positive or negative):"
   ]
  },
  {
   "cell_type": "code",
   "execution_count": 23,
   "metadata": {},
   "outputs": [
    {
     "data": {
      "image/png": "[encoded data removed]",
      "text/plain": [
       "<Figure size 432x288 with 1 Axes>"
      ]
     },
     "metadata": {
      "needs_background": "light"
     },
     "output_type": "display_data"
    }
   ],
   "source": [
    "nruns=1000\n",
    "npts=100\n",
    "detsimDf = pd.DataFrame({'r': np.arange(-1, 1, 0.01)})\n",
    "\n",
    "for i in range(detsimDf.shape[0]):\n",
    "    r = detsimDf.r[i]\n",
    "    vcov = np.array([[1, r], [r, 1]])\n",
    "    detsimDf.loc[i, 'det'] = np.linalg.det(vcov)\n",
    "    \n",
    "plt.plot(detsimDf.r, detsimDf.det)\n",
    "plt.xlabel('r(x,y)')\n",
    "plt.ylabel('det(vcov)')\n",
    "plt.savefig('det_vs_corr.pdf')\n"
   ]
  },
  {
   "cell_type": "markdown",
   "metadata": {},
   "source": [
    "We see that the log determinant is at its minimum when the data are perfectly correlated; in the context of modeling, this means that the better our model, the more of the variance in the data we capture and thus the smaller the difference between the log determinant of the model-implied covariance and the sample covariance.  "
   ]
  },
  {
   "cell_type": "markdown",
   "metadata": {},
   "source": [
    "Now let's generate a function to compute the loss, given particular implied and observed covariance functions:"
   ]
  },
  {
   "cell_type": "code",
   "execution_count": 34,
   "metadata": {},
   "outputs": [
    {
     "name": "stdout",
     "output_type": "stream",
     "text": [
      "log(det) for implied: -1.2740884971649395\n",
      "trace of variance ratios: 5.568078850876492\n",
      "log(det) for observed: 0.0464521563926683\n"
     ]
    },
    {
     "data": {
      "text/plain": [
       "2.2475381973188844"
      ]
     },
     "execution_count": 34,
     "metadata": {},
     "output_type": "execute_result"
    }
   ],
   "source": [
    "def f_ml(cov_est, implied, verbose=False):\n",
    "    log_det_implied = np.log(np.linalg.det(implied) )\n",
    "    if verbose:\n",
    "        print('log(det) for implied:', log_det_implied)\n",
    "    cov_ratio_trace = np.trace(cov_est.dot(np.linalg.inv(implied)))\n",
    "    if verbose:\n",
    "        print('trace of variance ratios:', cov_ratio_trace)\n",
    "    log_det_observed = np.log(np.linalg.det(cov_est))\n",
    "    if verbose:\n",
    "        print('log(det) for observed:', log_det_observed)\n",
    "    F_ml = log_det_implied + cov_ratio_trace - log_det_observed - cov_est.shape[0]\n",
    "    return(F_ml)\n",
    "\n",
    "f_ml(S, sigma, verbose=True)"
   ]
  },
  {
   "cell_type": "markdown",
   "metadata": {},
   "source": [
    "Now let's try various values for the regression parameter and compute their loss:"
   ]
  },
  {
   "cell_type": "code",
   "execution_count": 35,
   "metadata": {},
   "outputs": [
    {
     "name": "stdout",
     "output_type": "stream",
     "text": [
      "Parameter with minimum loss: 0.5726601219749525\n",
      "OLS estimate of parameter: 0.5726601219749528\n"
     ]
    },
    {
     "data": {
      "image/png": "[encoded data removed]",
      "text/plain": [
       "<Figure size 432x288 with 1 Axes>"
      ]
     },
     "metadata": {
      "needs_background": "light"
     },
     "output_type": "display_data"
    }
   ],
   "source": [
    "offset = 0.5\n",
    "params = np.arange(ols_results.params.x - offset, ols_results.params.x + offset, 0.01)\n",
    "loss_values = np.zeros(params.shape[0])\n",
    "for i, beta in enumerate(params):\n",
    "    sigma = get_implied_cov(simdataDf, beta)\n",
    "    loss_values[i] = f_ml(S, sigma)\n",
    "    \n",
    "plt.plot(params, loss_values)\n",
    "plt.vlines(ols_results.params.x, ymin=np.min(loss_values) - 0.2, ymax=np.max(loss_values))\n",
    "print('Parameter with minimum loss:', params[np.argmin(loss_values)])\n",
    "print('OLS estimate of parameter:', ols_results.params.x)\n",
    "\n",
    "assert np.allclose(params[np.argmin(loss_values)], ols_results.params.x)"
   ]
  },
  {
   "cell_type": "markdown",
   "metadata": {},
   "source": [
    "# A slightly more complex model\n",
    "\n",
    "For this example, let's use a slightly more complex model, where we have a causal chain relating two variables (after Bollen, 1989, p. 88):\n",
    "\n",
    "$$\n",
    "y_1 = \\gamma_{11}*x_1 + \\xi_1\n",
    "$$\n",
    "\n",
    "$$\n",
    "y_2 = \\beta_{21}*y_1 + \\xi_2\n",
    "$$\n",
    "\n",
    "where $x$ is an independent variable, $y_1$ and $y_2$ are dependent variables, and $\\xi_1$ and $\\xi_2$ are *disturbances* (i.e. error variables)."
   ]
  },
  {
   "cell_type": "code",
   "execution_count": 11,
   "metadata": {},
   "outputs": [
    {
     "data": {
      "text/html": [
       "<div>\n",
       "<style scoped>\n",
       "    .dataframe tbody tr th:only-of-type {\n",
       "        vertical-align: middle;\n",
       "    }\n",
       "\n",
       "    .dataframe tbody tr th {\n",
       "        vertical-align: top;\n",
       "    }\n",
       "\n",
       "    .dataframe thead th {\n",
       "        text-align: right;\n",
       "    }\n",
       "</style>\n",
       "<table border=\"1\" class=\"dataframe\">\n",
       "  <thead>\n",
       "    <tr style=\"text-align: right;\">\n",
       "      <th></th>\n",
       "      <th>y1</th>\n",
       "      <th>y2</th>\n",
       "      <th>x</th>\n",
       "    </tr>\n",
       "  </thead>\n",
       "  <tbody>\n",
       "    <tr>\n",
       "      <th>y1</th>\n",
       "      <td>18.778761</td>\n",
       "      <td>56.522409</td>\n",
       "      <td>1.612106</td>\n",
       "    </tr>\n",
       "    <tr>\n",
       "      <th>y2</th>\n",
       "      <td>56.522409</td>\n",
       "      <td>206.186173</td>\n",
       "      <td>5.383139</td>\n",
       "    </tr>\n",
       "    <tr>\n",
       "      <th>x</th>\n",
       "      <td>1.612106</td>\n",
       "      <td>5.383139</td>\n",
       "      <td>0.997718</td>\n",
       "    </tr>\n",
       "  </tbody>\n",
       "</table>\n",
       "</div>"
      ],
      "text/plain": [
       "           y1          y2         x\n",
       "y1  18.778761   56.522409  1.612106\n",
       "y2  56.522409  206.186173  5.383139\n",
       "x    1.612106    5.383139  0.997718"
      ]
     },
     "execution_count": 11,
     "metadata": {},
     "output_type": "execute_result"
    }
   ],
   "source": [
    "noise_sd = [4, 6]\n",
    "chainDf = pd.DataFrame({'x': np.random.randn(npts)})\n",
    "chainDf['y1'] = chainDf.x * 1.5 + np.random.randn(npts)*noise_sd[0]\n",
    "chainDf['y2'] = chainDf['y1'] * 3 + np.random.randn(npts)*noise_sd[1]\n",
    "chainDf = chainDf[['y1', 'y2', 'x']]\n",
    "chainDf.cov()"
   ]
  },
  {
   "cell_type": "code",
   "execution_count": 12,
   "metadata": {},
   "outputs": [
    {
     "name": "stdout",
     "output_type": "stream",
     "text": [
      "lavaan 0.6-5 ended normally after 35 iterations\n",
      "\n",
      "  Estimator                                         ML\n",
      "  Optimization method                           NLMINB\n",
      "  Number of free parameters                          6\n",
      "                                                      \n",
      "  Number of observations                           500\n",
      "                                                      \n",
      "Model Test User Model:\n",
      "                                                      \n",
      "  Test statistic                                 4.568\n",
      "  Degrees of freedom                                 1\n",
      "  P-value (Chi-square)                           0.033\n",
      "\n",
      "Parameter Estimates:\n",
      "\n",
      "  Information                                 Expected\n",
      "  Information saturated (h1) model          Structured\n",
      "  Standard errors                             Standard\n",
      "\n",
      "Regressions:\n",
      "                   Estimate  Std.Err  z-value  P(>|z|)   Std.lv  Std.all\n",
      "  y1 ~                                                                  \n",
      "    x                 1.616    0.180    8.974    0.000    1.616    0.372\n",
      "  y2 ~                                                                  \n",
      "    y1                3.010    0.062   48.570    0.000    3.010    0.908\n",
      "\n",
      "Intercepts:\n",
      "                   Estimate  Std.Err  z-value  P(>|z|)   Std.lv  Std.all\n",
      "   .y1                0.100    0.180    0.556    0.578    0.100    0.023\n",
      "   .y2                0.104    0.268    0.386    0.699    0.104    0.007\n",
      "\n",
      "Variances:\n",
      "                   Estimate  Std.Err  z-value  P(>|z|)   Std.lv  Std.all\n",
      "   .y1               16.142    1.021   15.811    0.000   16.142    0.861\n",
      "   .y2               35.987    2.276   15.811    0.000   35.987    0.175\n",
      "\n"
     ]
    }
   ],
   "source": [
    "%%R -i chainDf -o results\n",
    "\n",
    "library(lavaan)\n",
    "myModel <- ' # regressions\n",
    "             y1 ~ x\n",
    "             y2 ~ y1\n",
    "    \n",
    "             # variances and covariances \n",
    "             y1 ~~ y1\n",
    "             y2 ~~ y2\n",
    "\n",
    "             # intercepts \n",
    "             y1 ~ 1 \n",
    "             y2 ~ 1\n",
    "           '\n",
    "\n",
    "fit <- lavaan(myModel, data=chainDf)\n",
    "summary(fit, standardized=TRUE)\n",
    "\n",
    "results = list(fitted = fitted(fit)$cov,\n",
    "              resid = resid(fit)$cov,\n",
    "              coefs = coef(fit))"
   ]
  },
  {
   "cell_type": "code",
   "execution_count": 13,
   "metadata": {},
   "outputs": [
    {
     "data": {
      "image/png": "[encoded data removed]"
     },
     "metadata": {},
     "output_type": "display_data"
    }
   ],
   "source": [
    "%%R\n",
    "\n",
    "semPaths(fit, \"model\", \"est\")"
   ]
  },
  {
   "cell_type": "code",
   "execution_count": 14,
   "metadata": {},
   "outputs": [
    {
     "data": {
      "text/plain": [
       "array([[ 18.74120332,  56.40936467,   1.60888187],\n",
       "       [ 56.40936467, 205.77380104,   5.3723729 ],\n",
       "       [  1.60888187,   5.3723729 ,   0.99572298]])"
      ]
     },
     "execution_count": 14,
     "metadata": {},
     "output_type": "execute_result"
    }
   ],
   "source": [
    "implied, resid, coefs = np.array(results[0]), np.array(results[1]), np.array(results[2])\n",
    "cov = resid + implied\n",
    "cov"
   ]
  },
  {
   "cell_type": "code",
   "execution_count": 15,
   "metadata": {},
   "outputs": [],
   "source": [
    "cov_est = np.cov(chainDf.T, bias=True)\n",
    "cov_est\n",
    "assert np.allclose(cov, cov_est)"
   ]
  },
  {
   "cell_type": "code",
   "execution_count": 16,
   "metadata": {},
   "outputs": [
    {
     "name": "stdout",
     "output_type": "stream",
     "text": [
      "[ 1.61579264  3.00991157 16.14158384 35.98660184  0.09997267  0.10359135]\n"
     ]
    }
   ],
   "source": [
    "print(results[2])"
   ]
  },
  {
   "cell_type": "code",
   "execution_count": 17,
   "metadata": {},
   "outputs": [
    {
     "data": {
      "text/plain": [
       "array([[ 18.74120331,  56.40936463,   1.60888186],\n",
       "       [ 56.40936463, 205.77380097,   4.84259212],\n",
       "       [  1.60888186,   4.84259212,   0.99572298]])"
      ]
     },
     "execution_count": 17,
     "metadata": {},
     "output_type": "execute_result"
    }
   ],
   "source": [
    "implied"
   ]
  },
  {
   "cell_type": "code",
   "execution_count": 18,
   "metadata": {},
   "outputs": [],
   "source": [
    "# add Bollen's eq 4.15"
   ]
  },
  {
   "cell_type": "code",
   "execution_count": 19,
   "metadata": {},
   "outputs": [],
   "source": [
    "# reconstruct the implied covariance matrix from the estimated parameters\n",
    "def get_implied_cov(coefs, cov_est):\n",
    "    my_implied = np.zeros(implied.shape)\n",
    "    my_implied[0,0] = (coefs[0]**2) * cov_est[2,2] + coefs[2]\n",
    "    my_implied[1, 0] = coefs[1]*(my_implied[0, 0])\n",
    "    my_implied[2, 0] = coefs[0]*cov_est[2, 2]\n",
    "    my_implied[1, 1] = (coefs[1]**2)*my_implied[0, 0] + coefs[3]\n",
    "    my_implied[2, 1] = coefs[1]*coefs[0]*cov_est[2, 2]\n",
    "    my_implied[2,2] = cov_est[2,2]\n",
    "\n",
    "    my_implied[np.triu_indices_from(my_implied, 1)] = my_implied[np.tril_indices_from(my_implied, -1)]\n",
    "    return(my_implied)\n",
    "\n",
    "my_implied = get_implied_cov(coefs, cov_est)\n",
    "assert np.allclose(my_implied, implied)"
   ]
  },
  {
   "cell_type": "markdown",
   "metadata": {},
   "source": [
    "## Computing the loss\n",
    "\n",
    "Now that we have seen how to compute the implied covariance matrix for a particular set of parameters, we can compute the loss function that is used for maximum likelihood estimation:\n",
    "\n",
    "$$\n",
    "F_{ML}(\\theta) = log |\\Sigma| + tr(\\textbf{S}\\Sigma^{-1}) - log|\\textbf{S}| - (p + q)\n",
    "$$\n",
    "\n",
    "where p is the number of endogenous (dependent) variables, and q is the number of exogenous (independent) variables.\n"
   ]
  },
  {
   "cell_type": "code",
   "execution_count": 20,
   "metadata": {},
   "outputs": [],
   "source": []
  },
  {
   "cell_type": "code",
   "execution_count": 21,
   "metadata": {},
   "outputs": [
    {
     "name": "stdout",
     "output_type": "stream",
     "text": [
      "6.3602592946689\n",
      "3.0183553197351753\n",
      "6.351123493497318\n"
     ]
    },
    {
     "data": {
      "text/plain": [
       "0.027491120906756983"
      ]
     },
     "execution_count": 21,
     "metadata": {},
     "output_type": "execute_result"
    }
   ],
   "source": [
    "f_ml(cov_est, implied)"
   ]
  },
  {
   "cell_type": "code",
   "execution_count": null,
   "metadata": {},
   "outputs": [],
   "source": []
  },
  {
   "cell_type": "markdown",
   "metadata": {},
   "source": [
    "Let's try some various parameter values and look at the likelihood landscape:"
   ]
  },
  {
   "cell_type": "code",
   "execution_count": 22,
   "metadata": {},
   "outputs": [],
   "source": [
    "y1xvals = np.arange(1, 1.12, .001)\n",
    "y2y1vals = np.arange(2.98, 3.03, .001)\n",
    "\n",
    "ml_est = np.zeros((y1xvals.shape[0], y2y1vals.shape[0]))\n",
    "for i, p0 in enumerate(y1xvals):\n",
    "    for j, p1 in enumerate(y2y1vals):\n",
    "        sim_coefs = coefs.copy()\n",
    "        sim_coefs[0] = p0\n",
    "        sim_coefs[1] = p1\n",
    "        sim_implied = get_implied_cov(sim_coefs, cov_est)\n",
    "        ml_est[i, j] = f_ml(cov_est, sim_implied, verbose=False)\n",
    "\n"
   ]
  },
  {
   "cell_type": "code",
   "execution_count": 23,
   "metadata": {},
   "outputs": [
    {
     "name": "stdout",
     "output_type": "stream",
     "text": [
      "[1.12]\n",
      "[2.996]\n"
     ]
    }
   ],
   "source": [
    "minloc = np.where(ml_est == np.min(ml_est))\n",
    "print(y1xvals[minloc[0]])\n",
    "print(y2y1vals[minloc[1]])"
   ]
  },
  {
   "cell_type": "code",
   "execution_count": 24,
   "metadata": {},
   "outputs": [
    {
     "data": {
      "text/plain": [
       "<matplotlib.image.AxesImage at 0x7f3b842bbf50>"
      ]
     },
     "execution_count": 24,
     "metadata": {},
     "output_type": "execute_result"
    },
    {
     "data": {
      "image/png": "[encoded data removed]",
      "text/plain": [
       "<Figure size 720x360 with 1 Axes>"
      ]
     },
     "metadata": {
      "needs_background": "light"
     },
     "output_type": "display_data"
    }
   ],
   "source": [
    "fig = plt.figure(figsize=(10, 5))\n",
    "plt.imshow(ml_est)\n"
   ]
  },
  {
   "cell_type": "markdown",
   "metadata": {},
   "source": [
    "## Identification of SEMs\n",
    "\n"
   ]
  },
  {
   "cell_type": "code",
   "execution_count": null,
   "metadata": {},
   "outputs": [],
   "source": []
  },
  {
   "cell_type": "markdown",
   "metadata": {},
   "source": [
    "## Confirmatory factor analysis\n",
    "\n",
    "One common use of structural equation modeling is for the estimation of *confirmatory factor analysis* models.  These models include a set of *indicator* variables, which reflect observed measurements.  Each indicator in a standard CFA model has two latent inputs: a single *factor* which is measured by that indicator, and an *error* term that represents the unique sources of variance for that indicator.  There can be multiple factors, which are allowed to correlate with one another.  \n",
    "\n",
    "For standard CFA models (in which each observed variable is associated with a single latent factor), the identification requirements are simple: for a single factor there must be three indicators, and for two or more factors each factor must be associated with at least two indicators.\n",
    "\n",
    "As an example, we will use the SRO dataset to fit a CFA model with three factors:\n",
    "\n",
    "Impulsivity: measured by BIS-11 (nonplanning), Dickman (dysfunctional), and impulsive venturesomeness (impulsiveness) scores\n",
    "Sensation seeking: measured by UPPS-P (sensation seeking), sensation seeking survey (thrill seeking), and BIS-BAS (fun seeking) scores\n",
    "Goal-directedness: measured by Grit scale (grit), TIPS (conscientiousness), and UPPS-P (lack of perseverance) scores\n",
    "\n",
    "Let's set up the model in lavaan:\n"
   ]
  },
  {
   "cell_type": "code",
   "execution_count": 25,
   "metadata": {},
   "outputs": [],
   "source": [
    "from data_utils import get_SRO_data\n",
    "SRO_data = get_SRO_data()\n",
    "cfadata = SRO_data[['bis11_survey.Nonplanning',\n",
    "                    'dickman_survey.dysfunctional',\n",
    "                    'impulsive_venture_survey.impulsiveness',\n",
    "                    'bis_bas_survey.BAS_fun_seeking',\n",
    "                    'sensation_seeking_survey.thrill_adventure_seeking',\n",
    "                    'upps_impulsivity_survey.sensation_seeking',\n",
    "                    'upps_impulsivity_survey.lack_of_perseverance',\n",
    "                    'ten_item_personality_survey.conscientiousness',\n",
    "                    'grit_scale_survey.grit']].dropna()"
   ]
  },
  {
   "cell_type": "code",
   "execution_count": 26,
   "metadata": {},
   "outputs": [
    {
     "name": "stdout",
     "output_type": "stream",
     "text": [
      "lavaan 0.6-5 ended normally after 51 iterations\n",
      "\n",
      "  Estimator                                         ML\n",
      "  Optimization method                           NLMINB\n",
      "  Number of free parameters                         21\n",
      "                                                      \n",
      "  Number of observations                           510\n",
      "                                                      \n",
      "Model Test User Model:\n",
      "                                                      \n",
      "  Test statistic                               348.645\n",
      "  Degrees of freedom                                24\n",
      "  P-value (Chi-square)                           0.000\n",
      "\n",
      "Parameter Estimates:\n",
      "\n",
      "  Information                                 Expected\n",
      "  Information saturated (h1) model          Structured\n",
      "  Standard errors                             Standard\n",
      "\n",
      "Latent Variables:\n",
      "                   Estimate  Std.Err  z-value  P(>|z|)\n",
      "  IMP =~                                              \n",
      "    bs11_srvy.Nnpl    1.000                           \n",
      "    dckmn_srvy.dys    0.273    0.018   15.329    0.000\n",
      "    implsv_vntr_s.    0.281    0.018   15.430    0.000\n",
      "  SS =~                                               \n",
      "    bs_bs_sr.BAS__    1.000                           \n",
      "    snstn_skng_.__    0.612    0.037   16.335    0.000\n",
      "    upps_mplsvt_._    1.716    0.108   15.940    0.000\n",
      "  GD =~                                               \n",
      "    upps_mplsv_.__    1.000                           \n",
      "    tn_tm_prsnlt_.   -1.779    0.091  -19.456    0.000\n",
      "    grt_scl_srvy.g  -10.963    0.441  -24.854    0.000\n",
      "\n",
      "Covariances:\n",
      "                   Estimate  Std.Err  z-value  P(>|z|)\n",
      "  IMP ~~                                              \n",
      "    SS                0.080    0.014    5.621    0.000\n",
      "    GD                0.170    0.020    8.482    0.000\n",
      "  SS ~~                                               \n",
      "    GD               -0.003    0.010   -0.337    0.736\n",
      "\n",
      "Variances:\n",
      "                   Estimate  Std.Err  z-value  P(>|z|)\n",
      "   .bs11_srvy.Nnpl    0.538    0.037   14.358    0.000\n",
      "   .dckmn_srvy.dys    0.011    0.001    8.770    0.000\n",
      "   .implsv_vntr_s.    0.009    0.001    7.484    0.000\n",
      "   .bs_bs_sr.BAS__    0.253    0.017   15.148    0.000\n",
      "   .snstn_skng_.__    0.031    0.003   11.068    0.000\n",
      "   .upps_mplsvt_._   -0.016    0.016   -0.990    0.322\n",
      "   .upps_mplsv_.__    0.042    0.008    5.336    0.000\n",
      "   .tn_tm_prsnlt_.    0.772    0.055   14.124    0.000\n",
      "   .grt_scl_srvy.g   11.097    1.131    9.811    0.000\n",
      "    IMP               0.385    0.050    7.745    0.000\n",
      "    SS                0.171    0.022    7.778    0.000\n",
      "    GD                0.270    0.021   13.055    0.000\n",
      "\n"
     ]
    }
   ],
   "source": [
    "%%R -i cfadata\n",
    "\n",
    "cfa.model <- 'IMP =~ bis11_survey.Nonplanning + dickman_survey.dysfunctional + impulsive_venture_survey.impulsiveness\n",
    "              SS =~ bis_bas_survey.BAS_fun_seeking + sensation_seeking_survey.thrill_adventure_seeking + upps_impulsivity_survey.sensation_seeking\n",
    "              GD =~ upps_impulsivity_survey.lack_of_perseverance + ten_item_personality_survey.conscientiousness + grit_scale_survey.grit'\n",
    "\n",
    "fit <- cfa(cfa.model, data=cfadata)\n",
    "\n",
    "summary(fit)"
   ]
  },
  {
   "cell_type": "code",
   "execution_count": 1,
   "metadata": {},
   "outputs": [
    {
     "name": "stderr",
     "output_type": "stream",
     "text": [
      "UsageError: Cell magic `%%R` not found.\n"
     ]
    }
   ],
   "source": [
    "%%R\n",
    "s = semPlotModel(fit)\n",
    "m = modelMatrices(s)\n",
    "\n"
   ]
  },
  {
   "cell_type": "code",
   "execution_count": 35,
   "metadata": {},
   "outputs": [
    {
     "data": {
      "image/png": "[encoded data removed]"
     },
     "metadata": {},
     "output_type": "display_data"
    }
   ],
   "source": [
    "%%R\n",
    "\n",
    "varnames = c('BIS11', 'Dickman', 'Imp', 'BASFunSeeking', 'SSSThrill', \n",
    "             'UPPSSensSeek', 'UPPSLackPers', 'TIPSConsc','Grit', \"IMP\" ,\"SS\",  \"GD\" )\n",
    "\n",
    "semPaths(fit, \"model\", \"est\", \n",
    "         rotation=2, sizeMan =20, sizeMan2 = 10, \n",
    "         nodeLabels=varnames, edge.label.cex = 1)"
   ]
  },
  {
   "cell_type": "code",
   "execution_count": null,
   "metadata": {},
   "outputs": [],
   "source": []
  },
  {
   "cell_type": "markdown",
   "metadata": {},
   "source": [
    "## Model fit testing\n",
    "\n",
    "blah blah blah"
   ]
  },
  {
   "cell_type": "code",
   "execution_count": 29,
   "metadata": {},
   "outputs": [
    {
     "name": "stdout",
     "output_type": "stream",
     "text": [
      "lavaan 0.6-5 ended normally after 51 iterations\n",
      "\n",
      "  Estimator                                         ML\n",
      "  Optimization method                           NLMINB\n",
      "  Number of free parameters                         21\n",
      "                                                      \n",
      "  Number of observations                           510\n",
      "                                                      \n",
      "Model Test User Model:\n",
      "                                                      \n",
      "  Test statistic                               348.645\n",
      "  Degrees of freedom                                24\n",
      "  P-value (Chi-square)                           0.000\n",
      "\n",
      "Model Test Baseline Model:\n",
      "\n",
      "  Test statistic                              2927.019\n",
      "  Degrees of freedom                                36\n",
      "  P-value                                        0.000\n",
      "\n",
      "User Model versus Baseline Model:\n",
      "\n",
      "  Comparative Fit Index (CFI)                    0.888\n",
      "  Tucker-Lewis Index (TLI)                       0.832\n",
      "\n",
      "Loglikelihood and Information Criteria:\n",
      "\n",
      "  Loglikelihood user model (H0)              -3340.240\n",
      "  Loglikelihood unrestricted model (H1)      -3165.918\n",
      "                                                      \n",
      "  Akaike (AIC)                                6722.480\n",
      "  Bayesian (BIC)                              6811.403\n",
      "  Sample-size adjusted Bayesian (BIC)         6744.746\n",
      "\n",
      "Root Mean Square Error of Approximation:\n",
      "\n",
      "  RMSEA                                          0.163\n",
      "  90 Percent confidence interval - lower         0.148\n",
      "  90 Percent confidence interval - upper         0.178\n",
      "  P-value RMSEA <= 0.05                          0.000\n",
      "\n",
      "Standardized Root Mean Square Residual:\n",
      "\n",
      "  SRMR                                           0.118\n",
      "\n",
      "Parameter Estimates:\n",
      "\n",
      "  Information                                 Expected\n",
      "  Information saturated (h1) model          Structured\n",
      "  Standard errors                             Standard\n",
      "\n",
      "Latent Variables:\n",
      "                   Estimate  Std.Err  z-value  P(>|z|)\n",
      "  IMP =~                                              \n",
      "    bs11_srvy.Nnpl    1.000                           \n",
      "    dckmn_srvy.dys    0.273    0.018   15.329    0.000\n",
      "    implsv_vntr_s.    0.281    0.018   15.430    0.000\n",
      "  SS =~                                               \n",
      "    bs_bs_sr.BAS__    1.000                           \n",
      "    snstn_skng_.__    0.612    0.037   16.335    0.000\n",
      "    upps_mplsvt_._    1.716    0.108   15.940    0.000\n",
      "  GD =~                                               \n",
      "    upps_mplsv_.__    1.000                           \n",
      "    tn_tm_prsnlt_.   -1.779    0.091  -19.456    0.000\n",
      "    grt_scl_srvy.g  -10.963    0.441  -24.854    0.000\n",
      "\n",
      "Covariances:\n",
      "                   Estimate  Std.Err  z-value  P(>|z|)\n",
      "  IMP ~~                                              \n",
      "    SS                0.080    0.014    5.621    0.000\n",
      "    GD                0.170    0.020    8.482    0.000\n",
      "  SS ~~                                               \n",
      "    GD               -0.003    0.010   -0.337    0.736\n",
      "\n",
      "Variances:\n",
      "                   Estimate  Std.Err  z-value  P(>|z|)\n",
      "   .bs11_srvy.Nnpl    0.538    0.037   14.358    0.000\n",
      "   .dckmn_srvy.dys    0.011    0.001    8.770    0.000\n",
      "   .implsv_vntr_s.    0.009    0.001    7.484    0.000\n",
      "   .bs_bs_sr.BAS__    0.253    0.017   15.148    0.000\n",
      "   .snstn_skng_.__    0.031    0.003   11.068    0.000\n",
      "   .upps_mplsvt_._   -0.016    0.016   -0.990    0.322\n",
      "   .upps_mplsv_.__    0.042    0.008    5.336    0.000\n",
      "   .tn_tm_prsnlt_.    0.772    0.055   14.124    0.000\n",
      "   .grt_scl_srvy.g   11.097    1.131    9.811    0.000\n",
      "    IMP               0.385    0.050    7.745    0.000\n",
      "    SS                0.171    0.022    7.778    0.000\n",
      "    GD                0.270    0.021   13.055    0.000\n",
      "\n"
     ]
    }
   ],
   "source": [
    "%%R\n",
    "\n",
    "summary(fit, fit.measures=TRUE)"
   ]
  },
  {
   "cell_type": "markdown",
   "metadata": {},
   "source": [
    "...\n",
    "\n",
    "\n",
    "## Model comparison\n",
    "\n"
   ]
  },
  {
   "cell_type": "code",
   "execution_count": 30,
   "metadata": {},
   "outputs": [
    {
     "name": "stdout",
     "output_type": "stream",
     "text": [
      "lavaan 0.6-5 ended normally after 38 iterations\n",
      "\n",
      "  Estimator                                         ML\n",
      "  Optimization method                           NLMINB\n",
      "  Number of free parameters                         19\n",
      "                                                      \n",
      "  Number of observations                           510\n",
      "                                                      \n",
      "Model Test User Model:\n",
      "                                                      \n",
      "  Test statistic                               660.063\n",
      "  Degrees of freedom                                26\n",
      "  P-value (Chi-square)                           0.000\n",
      "\n",
      "Model Test Baseline Model:\n",
      "\n",
      "  Test statistic                              2927.019\n",
      "  Degrees of freedom                                36\n",
      "  P-value                                        0.000\n",
      "\n",
      "User Model versus Baseline Model:\n",
      "\n",
      "  Comparative Fit Index (CFI)                    0.781\n",
      "  Tucker-Lewis Index (TLI)                       0.696\n",
      "\n",
      "Loglikelihood and Information Criteria:\n",
      "\n",
      "  Loglikelihood user model (H0)              -3495.949\n",
      "  Loglikelihood unrestricted model (H1)      -3165.918\n",
      "                                                      \n",
      "  Akaike (AIC)                                7029.898\n",
      "  Bayesian (BIC)                              7110.352\n",
      "  Sample-size adjusted Bayesian (BIC)         7050.044\n",
      "\n",
      "Root Mean Square Error of Approximation:\n",
      "\n",
      "  RMSEA                                          0.219\n",
      "  90 Percent confidence interval - lower         0.204\n",
      "  90 Percent confidence interval - upper         0.233\n",
      "  P-value RMSEA <= 0.05                          0.000\n",
      "\n",
      "Standardized Root Mean Square Residual:\n",
      "\n",
      "  SRMR                                           0.155\n",
      "\n",
      "Parameter Estimates:\n",
      "\n",
      "  Information                                 Expected\n",
      "  Information saturated (h1) model          Structured\n",
      "  Standard errors                             Standard\n",
      "\n",
      "Latent Variables:\n",
      "                   Estimate  Std.Err  z-value  P(>|z|)\n",
      "  IMP =~                                              \n",
      "    bs11_srvy.Nnpl    1.000                           \n",
      "    dckmn_srvy.dys    0.144    0.012   11.651    0.000\n",
      "    implsv_vntr_s.    0.137    0.012   11.044    0.000\n",
      "    upps_mplsv_.__    0.681    0.034   20.227    0.000\n",
      "    tn_tm_prsnlt_.   -1.347    0.077  -17.428    0.000\n",
      "    grt_scl_srvy.g   -7.562    0.397  -19.057    0.000\n",
      "  SS =~                                               \n",
      "    bs_bs_sr.BAS__    1.000                           \n",
      "    snstn_skng_.__    0.611    0.039   15.812    0.000\n",
      "    upps_mplsvt_._    1.834    0.128   14.316    0.000\n",
      "\n",
      "Covariances:\n",
      "                   Estimate  Std.Err  z-value  P(>|z|)\n",
      "  IMP ~~                                              \n",
      "    SS                0.011    0.013    0.848    0.396\n",
      "\n",
      "Variances:\n",
      "                   Estimate  Std.Err  z-value  P(>|z|)\n",
      "   .bs11_srvy.Nnpl    0.397    0.029   13.612    0.000\n",
      "   .dckmn_srvy.dys    0.028    0.002   15.300    0.000\n",
      "   .implsv_vntr_s.    0.030    0.002   15.387    0.000\n",
      "   .upps_mplsv_.__    0.068    0.007    9.487    0.000\n",
      "   .tn_tm_prsnlt_.    0.672    0.050   13.437    0.000\n",
      "   .grt_scl_srvy.g   13.432    1.131   11.872    0.000\n",
      "   .bs_bs_sr.BAS__    0.264    0.018   14.953    0.000\n",
      "   .snstn_skng_.__    0.035    0.003   11.048    0.000\n",
      "   .upps_mplsvt_._   -0.050    0.021   -2.384    0.017\n",
      "    IMP               0.526    0.054    9.680    0.000\n",
      "    SS                0.160    0.022    7.368    0.000\n",
      "\n"
     ]
    }
   ],
   "source": [
    "%%R\n",
    "\n",
    "# fit a simpler two-factor model\n",
    "cfa.model2 <- 'IMP =~ bis11_survey.Nonplanning + dickman_survey.dysfunctional + impulsive_venture_survey.impulsiveness + upps_impulsivity_survey.lack_of_perseverance + ten_item_personality_survey.conscientiousness + grit_scale_survey.grit\n",
    "              SS =~ bis_bas_survey.BAS_fun_seeking + sensation_seeking_survey.thrill_adventure_seeking + upps_impulsivity_survey.sensation_seeking '\n",
    "\n",
    "fit2 <- cfa(cfa.model2, data=cfadata)\n",
    "\n",
    "summary(fit2, fit.measures=TRUE)\n"
   ]
  },
  {
   "cell_type": "code",
   "execution_count": null,
   "metadata": {},
   "outputs": [],
   "source": []
  },
  {
   "cell_type": "code",
   "execution_count": 31,
   "metadata": {},
   "outputs": [
    {
     "name": "stderr",
     "output_type": "stream",
     "text": [
      "R[write to console]:  \n",
      "\n",
      "R[write to console]: ###############################################################################\n",
      "\n",
      "R[write to console]: This is semTools 0.5-2\n",
      "\n",
      "R[write to console]: All users of R (or SEM) are invited to submit functions or ideas for functions.\n",
      "\n",
      "R[write to console]: ###############################################################################\n",
      "\n"
     ]
    },
    {
     "name": "stdout",
     "output_type": "stream",
     "text": [
      "################### Nested Model Comparison #########################\n",
      "Chi-Squared Difference Test\n",
      "\n",
      "     Df    AIC    BIC  Chisq Chisq diff Df diff Pr(>Chisq)    \n",
      "fit  24 6722.5 6811.4 348.65                                  \n",
      "fit2 26 7029.9 7110.4 660.06     311.42       2  < 2.2e-16 ***\n",
      "---\n",
      "Signif. codes:  0 ‘***’ 0.001 ‘**’ 0.01 ‘*’ 0.05 ‘.’ 0.1 ‘ ’ 1\n",
      "\n",
      "####################### Model Fit Indices ###########################\n",
      "        chisq df pvalue   cfi   tli       aic       bic rmsea  srmr\n",
      "fit  348.645† 24   .000 .888† .832† 6722.480† 6811.403† .163† .118†\n",
      "fit2 660.063  26   .000 .781  .696  7029.898  7110.352  .219  .155 \n",
      "\n",
      "################## Differences in Fit Indices #######################\n",
      "           df    cfi    tli     aic     bic rmsea  srmr\n",
      "fit2 - fit  2 -0.107 -0.135 307.418 298.949 0.056 0.037\n",
      "\n"
     ]
    }
   ],
   "source": [
    "%%R \n",
    "\n",
    "library(semTools)\n",
    "\n",
    "compareFit(fit, fit2)"
   ]
  },
  {
   "cell_type": "markdown",
   "metadata": {},
   "source": [
    "## Cross-validation\n",
    "\n",
    "We can also used cross-validation to assess the fit of a model to held-out data, using the same loss function that we used for fitting the model:\n",
    "\n",
    "\n",
    "$$\n",
    "F_{ML} = log |\\Sigma(\\theta)| + tr(\\textbf{S}\\Sigma^{-1}(\\theta)) - log|\\textbf{S}| - (p + q)\n",
    "$$\n",
    "\n",
    "To do this, let's create a python function that uses rpy2 to call lavaan:"
   ]
  },
  {
   "cell_type": "code",
   "execution_count": 32,
   "metadata": {},
   "outputs": [
    {
     "name": "stderr",
     "output_type": "stream",
     "text": [
      "R[write to console]: Error in print(SRO_data) : object 'SRO_data' not found\n",
      "Calls: <Anonymous> -> <Anonymous> -> print\n",
      "\n",
      "R[write to console]: In addition: \n",
      "R[write to console]: Warning messages:\n",
      "\n",
      "R[write to console]: 1: \n",
      "R[write to console]: In lav_data_full(data = data, group = group, cluster = cluster,  :\n",
      "R[write to console]: \n",
      " \n",
      "R[write to console]:  lavaan WARNING: some observed variances are (at least) a factor 1000 times larger than others; use varTable(fit) to investigate\n",
      "\n",
      "R[write to console]: 2: \n",
      "R[write to console]: In lav_object_post_check(object) :\n",
      "R[write to console]: \n",
      " \n",
      "R[write to console]:  lavaan WARNING: some estimated ov variances are negative\n",
      "\n",
      "R[write to console]: 3: \n",
      "R[write to console]: In lav_data_full(data = data, group = group, cluster = cluster,  :\n",
      "R[write to console]: \n",
      " \n",
      "R[write to console]:  lavaan WARNING: some observed variances are (at least) a factor 1000 times larger than others; use varTable(fit) to investigate\n",
      "\n",
      "R[write to console]: 4: \n",
      "R[write to console]: In lav_object_post_check(object) :\n",
      "R[write to console]: \n",
      " \n",
      "R[write to console]:  lavaan WARNING: some estimated ov variances are negative\n",
      "\n"
     ]
    },
    {
     "ename": "RRuntimeError",
     "evalue": "Error in print(SRO_data) : object 'SRO_data' not found\nCalls: <Anonymous> -> <Anonymous> -> print\n",
     "output_type": "error",
     "traceback": [
      "\u001b[0;31m---------------------------------------------------------------------------\u001b[0m",
      "\u001b[0;31mRRuntimeError\u001b[0m                             Traceback (most recent call last)",
      "\u001b[0;32m<ipython-input-32-a8bccc7fb2a2>\u001b[0m in \u001b[0;36m<module>\u001b[0;34m\u001b[0m\n\u001b[1;32m      1\u001b[0m \u001b[0mpandas2ri\u001b[0m\u001b[0;34m.\u001b[0m\u001b[0mpy2rpy\u001b[0m\u001b[0;34m(\u001b[0m\u001b[0mSRO_data\u001b[0m\u001b[0;34m[\u001b[0m\u001b[0;34m[\u001b[0m\u001b[0;34m'Age'\u001b[0m\u001b[0;34m]\u001b[0m\u001b[0;34m]\u001b[0m\u001b[0;34m)\u001b[0m\u001b[0;34m\u001b[0m\u001b[0;34m\u001b[0m\u001b[0m\n\u001b[0;32m----> 2\u001b[0;31m \u001b[0mr\u001b[0m\u001b[0;34m(\u001b[0m\u001b[0;34m'print(SRO_data)'\u001b[0m\u001b[0;34m)\u001b[0m\u001b[0;34m\u001b[0m\u001b[0;34m\u001b[0m\u001b[0m\n\u001b[0m",
      "\u001b[0;32m/opt/conda/lib/python3.7/site-packages/rpy2/robjects/__init__.py\u001b[0m in \u001b[0;36m__call__\u001b[0;34m(self, string)\u001b[0m\n\u001b[1;32m    387\u001b[0m     \u001b[0;32mdef\u001b[0m \u001b[0m__call__\u001b[0m\u001b[0;34m(\u001b[0m\u001b[0mself\u001b[0m\u001b[0;34m,\u001b[0m \u001b[0mstring\u001b[0m\u001b[0;34m)\u001b[0m\u001b[0;34m:\u001b[0m\u001b[0;34m\u001b[0m\u001b[0;34m\u001b[0m\u001b[0m\n\u001b[1;32m    388\u001b[0m         \u001b[0mp\u001b[0m \u001b[0;34m=\u001b[0m \u001b[0m_rparse\u001b[0m\u001b[0;34m(\u001b[0m\u001b[0mtext\u001b[0m\u001b[0;34m=\u001b[0m\u001b[0mStrSexpVector\u001b[0m\u001b[0;34m(\u001b[0m\u001b[0;34m(\u001b[0m\u001b[0mstring\u001b[0m\u001b[0;34m,\u001b[0m\u001b[0;34m)\u001b[0m\u001b[0;34m)\u001b[0m\u001b[0;34m)\u001b[0m\u001b[0;34m\u001b[0m\u001b[0;34m\u001b[0m\u001b[0m\n\u001b[0;32m--> 389\u001b[0;31m         \u001b[0mres\u001b[0m \u001b[0;34m=\u001b[0m \u001b[0mself\u001b[0m\u001b[0;34m.\u001b[0m\u001b[0meval\u001b[0m\u001b[0;34m(\u001b[0m\u001b[0mp\u001b[0m\u001b[0;34m)\u001b[0m\u001b[0;34m\u001b[0m\u001b[0;34m\u001b[0m\u001b[0m\n\u001b[0m\u001b[1;32m    390\u001b[0m         \u001b[0;32mreturn\u001b[0m \u001b[0mconversion\u001b[0m\u001b[0;34m.\u001b[0m\u001b[0mrpy2py\u001b[0m\u001b[0;34m(\u001b[0m\u001b[0mres\u001b[0m\u001b[0;34m)\u001b[0m\u001b[0;34m\u001b[0m\u001b[0;34m\u001b[0m\u001b[0m\n\u001b[1;32m    391\u001b[0m \u001b[0;34m\u001b[0m\u001b[0m\n",
      "\u001b[0;32m/opt/conda/lib/python3.7/site-packages/rpy2/robjects/functions.py\u001b[0m in \u001b[0;36m__call__\u001b[0;34m(self, *args, **kwargs)\u001b[0m\n\u001b[1;32m    190\u001b[0m                 \u001b[0mkwargs\u001b[0m\u001b[0;34m[\u001b[0m\u001b[0mr_k\u001b[0m\u001b[0;34m]\u001b[0m \u001b[0;34m=\u001b[0m \u001b[0mv\u001b[0m\u001b[0;34m\u001b[0m\u001b[0;34m\u001b[0m\u001b[0m\n\u001b[1;32m    191\u001b[0m         return (super(SignatureTranslatedFunction, self)\n\u001b[0;32m--> 192\u001b[0;31m                 .__call__(*args, **kwargs))\n\u001b[0m\u001b[1;32m    193\u001b[0m \u001b[0;34m\u001b[0m\u001b[0m\n\u001b[1;32m    194\u001b[0m \u001b[0;34m\u001b[0m\u001b[0m\n",
      "\u001b[0;32m/opt/conda/lib/python3.7/site-packages/rpy2/robjects/functions.py\u001b[0m in \u001b[0;36m__call__\u001b[0;34m(self, *args, **kwargs)\u001b[0m\n\u001b[1;32m    119\u001b[0m             \u001b[0;32melse\u001b[0m\u001b[0;34m:\u001b[0m\u001b[0;34m\u001b[0m\u001b[0;34m\u001b[0m\u001b[0m\n\u001b[1;32m    120\u001b[0m                 \u001b[0mnew_kwargs\u001b[0m\u001b[0;34m[\u001b[0m\u001b[0mk\u001b[0m\u001b[0;34m]\u001b[0m \u001b[0;34m=\u001b[0m \u001b[0mconversion\u001b[0m\u001b[0;34m.\u001b[0m\u001b[0mpy2rpy\u001b[0m\u001b[0;34m(\u001b[0m\u001b[0mv\u001b[0m\u001b[0;34m)\u001b[0m\u001b[0;34m\u001b[0m\u001b[0;34m\u001b[0m\u001b[0m\n\u001b[0;32m--> 121\u001b[0;31m         \u001b[0mres\u001b[0m \u001b[0;34m=\u001b[0m \u001b[0msuper\u001b[0m\u001b[0;34m(\u001b[0m\u001b[0mFunction\u001b[0m\u001b[0;34m,\u001b[0m \u001b[0mself\u001b[0m\u001b[0;34m)\u001b[0m\u001b[0;34m.\u001b[0m\u001b[0m__call__\u001b[0m\u001b[0;34m(\u001b[0m\u001b[0;34m*\u001b[0m\u001b[0mnew_args\u001b[0m\u001b[0;34m,\u001b[0m \u001b[0;34m**\u001b[0m\u001b[0mnew_kwargs\u001b[0m\u001b[0;34m)\u001b[0m\u001b[0;34m\u001b[0m\u001b[0;34m\u001b[0m\u001b[0m\n\u001b[0m\u001b[1;32m    122\u001b[0m         \u001b[0mres\u001b[0m \u001b[0;34m=\u001b[0m \u001b[0mconversion\u001b[0m\u001b[0;34m.\u001b[0m\u001b[0mrpy2py\u001b[0m\u001b[0;34m(\u001b[0m\u001b[0mres\u001b[0m\u001b[0;34m)\u001b[0m\u001b[0;34m\u001b[0m\u001b[0;34m\u001b[0m\u001b[0m\n\u001b[1;32m    123\u001b[0m         \u001b[0;32mreturn\u001b[0m \u001b[0mres\u001b[0m\u001b[0;34m\u001b[0m\u001b[0;34m\u001b[0m\u001b[0m\n",
      "\u001b[0;32m/opt/conda/lib/python3.7/site-packages/rpy2/rinterface_lib/conversion.py\u001b[0m in \u001b[0;36m_\u001b[0;34m(*args, **kwargs)\u001b[0m\n\u001b[1;32m     26\u001b[0m \u001b[0;32mdef\u001b[0m \u001b[0m_cdata_res_to_rinterface\u001b[0m\u001b[0;34m(\u001b[0m\u001b[0mfunction\u001b[0m\u001b[0;34m)\u001b[0m\u001b[0;34m:\u001b[0m\u001b[0;34m\u001b[0m\u001b[0;34m\u001b[0m\u001b[0m\n\u001b[1;32m     27\u001b[0m     \u001b[0;32mdef\u001b[0m \u001b[0m_\u001b[0m\u001b[0;34m(\u001b[0m\u001b[0;34m*\u001b[0m\u001b[0margs\u001b[0m\u001b[0;34m,\u001b[0m \u001b[0;34m**\u001b[0m\u001b[0mkwargs\u001b[0m\u001b[0;34m)\u001b[0m\u001b[0;34m:\u001b[0m\u001b[0;34m\u001b[0m\u001b[0;34m\u001b[0m\u001b[0m\n\u001b[0;32m---> 28\u001b[0;31m         \u001b[0mcdata\u001b[0m \u001b[0;34m=\u001b[0m \u001b[0mfunction\u001b[0m\u001b[0;34m(\u001b[0m\u001b[0;34m*\u001b[0m\u001b[0margs\u001b[0m\u001b[0;34m,\u001b[0m \u001b[0;34m**\u001b[0m\u001b[0mkwargs\u001b[0m\u001b[0;34m)\u001b[0m\u001b[0;34m\u001b[0m\u001b[0;34m\u001b[0m\u001b[0m\n\u001b[0m\u001b[1;32m     29\u001b[0m         \u001b[0;31m# TODO: test cdata is of the expected CType\u001b[0m\u001b[0;34m\u001b[0m\u001b[0;34m\u001b[0m\u001b[0;34m\u001b[0m\u001b[0m\n\u001b[1;32m     30\u001b[0m         \u001b[0;32mreturn\u001b[0m \u001b[0m_cdata_to_rinterface\u001b[0m\u001b[0;34m(\u001b[0m\u001b[0mcdata\u001b[0m\u001b[0;34m)\u001b[0m\u001b[0;34m\u001b[0m\u001b[0;34m\u001b[0m\u001b[0m\n",
      "\u001b[0;32m/opt/conda/lib/python3.7/site-packages/rpy2/rinterface.py\u001b[0m in \u001b[0;36m__call__\u001b[0;34m(self, *args, **kwargs)\u001b[0m\n\u001b[1;32m    783\u001b[0m                     error_occured))\n\u001b[1;32m    784\u001b[0m             \u001b[0;32mif\u001b[0m \u001b[0merror_occured\u001b[0m\u001b[0;34m[\u001b[0m\u001b[0;36m0\u001b[0m\u001b[0;34m]\u001b[0m\u001b[0;34m:\u001b[0m\u001b[0;34m\u001b[0m\u001b[0;34m\u001b[0m\u001b[0m\n\u001b[0;32m--> 785\u001b[0;31m                 \u001b[0;32mraise\u001b[0m \u001b[0membedded\u001b[0m\u001b[0;34m.\u001b[0m\u001b[0mRRuntimeError\u001b[0m\u001b[0;34m(\u001b[0m\u001b[0m_rinterface\u001b[0m\u001b[0;34m.\u001b[0m\u001b[0m_geterrmessage\u001b[0m\u001b[0;34m(\u001b[0m\u001b[0;34m)\u001b[0m\u001b[0;34m)\u001b[0m\u001b[0;34m\u001b[0m\u001b[0;34m\u001b[0m\u001b[0m\n\u001b[0m\u001b[1;32m    786\u001b[0m         \u001b[0;32mreturn\u001b[0m \u001b[0mres\u001b[0m\u001b[0;34m\u001b[0m\u001b[0;34m\u001b[0m\u001b[0m\n\u001b[1;32m    787\u001b[0m \u001b[0;34m\u001b[0m\u001b[0m\n",
      "\u001b[0;31mRRuntimeError\u001b[0m: Error in print(SRO_data) : object 'SRO_data' not found\nCalls: <Anonymous> -> <Anonymous> -> print\n"
     ]
    }
   ],
   "source": [
    "pandas2ri.py2rpy(SRO_data[['Age']])\n",
    "r('print(SRO_data)')"
   ]
  },
  {
   "cell_type": "code",
   "execution_count": null,
   "metadata": {},
   "outputs": [],
   "source": [
    "from rpy2.robjects.packages import importr\n",
    "from rpy2.robjects import r, pandas2ri\n",
    "pandas2ri.activate()\n",
    "\n",
    "nruns = 10\n",
    "test_proportion = .2\n",
    "\n",
    "r('''\n",
    "fml = function(observed, implied){\n",
    " log(det(observed)) - log(det(implied)) + sum(diag(solve(implied)%*%observed)) + length(diag(observed))\n",
    "}''')\n",
    "\n",
    "fml = r('''\n",
    "library(lavaan)\n",
    "\n",
    "cfa.model <- \"IMP =~ bis11_survey.Nonplanning + dickman_survey.dysfunctional + impulsive_venture_survey.impulsiveness\n",
    "              SS =~ bis_bas_survey.BAS_fun_seeking + sensation_seeking_survey.thrill_adventure_seeking + upps_impulsivity_survey.sensation_seeking\n",
    "              GD =~ upps_impulsivity_survey.lack_of_perseverance + ten_item_personality_survey.conscientiousness + grit_scale_survey.grit\"\n",
    "cfa.model2 <- \"IMP =~ bis11_survey.Nonplanning + dickman_survey.dysfunctional + impulsive_venture_survey.impulsiveness + upps_impulsivity_survey.lack_of_perseverance + ten_item_personality_survey.conscientiousness + grit_scale_survey.grit\n",
    "              SS =~ bis_bas_survey.BAS_fun_seeking + sensation_seeking_survey.thrill_adventure_seeking + upps_impulsivity_survey.sensation_seeking \"\n",
    "cfa.model3 <- \"SC =~ bis11_survey.Nonplanning + dickman_survey.dysfunctional + impulsive_venture_survey.impulsiveness + upps_impulsivity_survey.lack_of_perseverance + ten_item_personality_survey.conscientiousness + grit_scale_survey.grit + bis_bas_survey.BAS_fun_seeking + sensation_seeking_survey.thrill_adventure_seeking + upps_impulsivity_survey.sensation_seeking \"\n",
    "\n",
    "nruns = %d\n",
    "testprop = %f\n",
    "npts = nrow(cfadata)\n",
    "idx = rep(0, npts)\n",
    "idx[1:round(npts*testprop)] = 1\n",
    "fmlresult = c()\n",
    "\n",
    "for (i in 1:nruns){\n",
    "    # split train/test\n",
    "    idx = sample(idx)\n",
    "    traindata = cfadata[idx==0,]\n",
    "    testdata = cfadata[idx==1,]\n",
    "    fit = cfa(cfa.model, data=traindata)\n",
    "    fit2 = cfa(cfa.model2, data=traindata)\n",
    "    fit3 = cfa(cfa.model3, data=traindata)\n",
    "\n",
    "\n",
    "    test_cov = cov(testdata)\n",
    "    train_cov = cov(traindata)\n",
    "    implied_cov = fitted(fit)$cov\n",
    "    fmlresult = rbind(fmlresult, c(fml(train_cov, fitted(fit)$cov), fml(train_cov, fitted(fit2)$cov), fml(train_cov, fitted(fit3)$cov),\n",
    "            fml(test_cov, fitted(fit)$cov), fml(test_cov, fitted(fit2)$cov), fml(test_cov, fitted(fit3)$cov)))\n",
    "\n",
    "}\n",
    "''' % (nruns, test_proportion))\n"
   ]
  },
  {
   "cell_type": "code",
   "execution_count": null,
   "metadata": {},
   "outputs": [],
   "source": [
    "%%R\n",
    "\n",
    "\n",
    "apply(fmlresult, 2, mean)"
   ]
  },
  {
   "cell_type": "code",
   "execution_count": null,
   "metadata": {},
   "outputs": [],
   "source": [
    "foo = r['data.frame'](cfadata)\n",
    "foo"
   ]
  },
  {
   "cell_type": "code",
   "execution_count": null,
   "metadata": {},
   "outputs": [],
   "source": [
    "r('dim(cfadata)')"
   ]
  },
  {
   "cell_type": "code",
   "execution_count": null,
   "metadata": {},
   "outputs": [],
   "source": [
    "%%R\n",
    "\n",
    "ls()"
   ]
  },
  {
   "cell_type": "code",
   "execution_count": null,
   "metadata": {},
   "outputs": [],
   "source": [
    "newdata = cfadata.copy()\n",
    "foo = r['data.frame'](newdata)\n"
   ]
  },
  {
   "cell_type": "code",
   "execution_count": null,
   "metadata": {},
   "outputs": [],
   "source": []
  }
 ],
 "metadata": {
  "kernelspec": {
   "display_name": "Python 3",
   "language": "python",
   "name": "python3"
  },
  "language_info": {
   "codemirror_mode": {
    "name": "ipython",
    "version": 3
   },
   "file_extension": ".py",
   "mimetype": "text/x-python",
   "name": "python",
   "nbconvert_exporter": "python",
   "pygments_lexer": "ipython3",
   "version": "3.7.6"
  }
 },
 "nbformat": 4,
 "nbformat_minor": 4
}
