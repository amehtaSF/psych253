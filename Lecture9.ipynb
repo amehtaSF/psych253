{
 "cells": [
  {
   "cell_type": "code",
   "execution_count": 1,
   "metadata": {
    "collapsed": true,
    "deletable": true,
    "editable": true
   },
   "outputs": [],
   "source": [
    "%matplotlib inline\n",
    "\n",
    "import matplotlib\n",
    "import matplotlib.pyplot as plt\n",
    "\n",
    "#the above imports the plotting library matplotlib"
   ]
  },
  {
   "cell_type": "code",
   "execution_count": 2,
   "metadata": {
    "collapsed": true,
    "deletable": true,
    "editable": true
   },
   "outputs": [],
   "source": [
    "#standard imports\n",
    "import time\n",
    "import numpy as np\n",
    "import h5py\n"
   ]
  },
  {
   "cell_type": "code",
   "execution_count": 3,
   "metadata": {
    "collapsed": true,
    "deletable": true,
    "editable": true
   },
   "outputs": [],
   "source": [
    "#We're not using the GPU here, so we set the \n",
    "#\"CUDA_VISIBLE_DEVICES\" environment variable to -1\n",
    "#which tells tensorflow to only use the CPU\n",
    "\n",
    "import os\n",
    "os.environ[\"CUDA_VISIBLE_DEVICES\"]=\"-1\"    \n",
    "import tensorflow as tf"
   ]
  },
  {
   "cell_type": "markdown",
   "metadata": {
    "collapsed": true,
    "deletable": true,
    "editable": true
   },
   "source": [
    "## Gradient Descent"
   ]
  },
  {
   "cell_type": "code",
   "execution_count": 4,
   "metadata": {
    "collapsed": true,
    "deletable": true,
    "editable": true
   },
   "outputs": [],
   "source": [
    "#let's define a model which \"believes\" that the output data\n",
    "#is scalar power of a scalar input, e.g. :\n",
    "#      y ~ x^p\n",
    "\n",
    "#defining the scalar input data variable \n",
    "batch_size = 200\n",
    "x = tf.get_variable('x', shape=(batch_size,), dtype=tf.float32)\n",
    "\n",
    "#define the scalar power variable\n",
    "initial_power = tf.zeros(shape=())\n",
    "power = tf.get_variable('pow', initializer=initial_power, dtype=tf.float32)\n",
    "\n",
    "#define the model\n",
    "model = x**power\n",
    "\n",
    "#the output data needs a variable too\n",
    "y = tf.get_variable('y', shape=(batch_size,), dtype=tf.float32)"
   ]
  },
  {
   "cell_type": "code",
   "execution_count": 8,
   "metadata": {
    "collapsed": true,
    "deletable": true,
    "editable": true
   },
   "outputs": [],
   "source": [
    "#the error rate of the model is mean L2 distance across \n",
    "#the batch of data\n",
    "\n",
    "loss = tf.reduce_mean((model - y)**2)"
   ]
  },
  {
   "cell_type": "code",
   "execution_count": 174,
   "metadata": {
    "collapsed": true
   },
   "outputs": [],
   "source": [
    "#now, our goal is to use gradient descent to \n",
    "#figure out the parameter of our model -- namely, the power variable\n",
    "grad = tf.gradients(loss, power)[0]"
   ]
  },
  {
   "cell_type": "code",
   "execution_count": 5,
   "metadata": {
    "collapsed": true,
    "deletable": true,
    "editable": true
   },
   "outputs": [],
   "source": [
    "#Let's fit (optimize) the model.   \n",
    "#to do that we'll have to first of course define a tensorflow session\n",
    "\n",
    "sess = tf.Session()"
   ]
  },
  {
   "cell_type": "code",
   "execution_count": 12,
   "metadata": {
    "collapsed": true,
    "deletable": true,
    "editable": true
   },
   "outputs": [],
   "source": [
    "#... and initialize the power variable\n",
    "initializer = tf.global_variables_initializer()\n",
    "sess.run(initializer)"
   ]
  },
  {
   "cell_type": "code",
   "execution_count": 184,
   "metadata": {
    "collapsed": true
   },
   "outputs": [],
   "source": [
    "#ok ... so let's test the case where the true input-output relationship\n",
    "#is x --> x^2\n",
    "xval = np.arange(0, 2, .01)\n",
    "yval = np.arange(0, 2, .01)**2"
   ]
  },
  {
   "cell_type": "code",
   "execution_count": 185,
   "metadata": {
    "collapsed": false
   },
   "outputs": [],
   "source": [
    "#OK\n",
    "initial_guess = 0\n",
    "assign_op = tf.assign(power, initial_guess)\n",
    "sess.run(assign_op)\n",
    "\n",
    "gradval = sess.run(grad, feed_dict={x: xval, y: yval})\n"
   ]
  },
  {
   "cell_type": "code",
   "execution_count": 186,
   "metadata": {
    "collapsed": false
   },
   "outputs": [
    {
     "data": {
      "text/plain": [
       "-1.5306325"
      ]
     },
     "execution_count": 186,
     "metadata": {},
     "output_type": "execute_result"
    }
   ],
   "source": [
    "gradval"
   ]
  },
  {
   "cell_type": "code",
   "execution_count": 187,
   "metadata": {
    "collapsed": false
   },
   "outputs": [
    {
     "name": "stdout",
     "output_type": "stream",
     "text": [
      "1.53063249588\n"
     ]
    }
   ],
   "source": [
    "#ok so this is telling us to do:\n",
    "\n",
    "new_guess = initial_guess + -1 * (gradval)\n",
    "print(new_guess)"
   ]
  },
  {
   "cell_type": "code",
   "execution_count": 188,
   "metadata": {
    "collapsed": false
   },
   "outputs": [
    {
     "data": {
      "text/plain": [
       "-0.56193405"
      ]
     },
     "execution_count": 188,
     "metadata": {},
     "output_type": "execute_result"
    }
   ],
   "source": [
    "#ok so let's assign the new guess to the power variable\n",
    "assign_op = tf.assign(power, new_guess)\n",
    "sess.run(assign_op)\n",
    "\n",
    "#... and get the gradient again\n",
    "gradval = sess.run(grad, feed_dict={x: xval, y: yval})\n",
    "\n",
    "gradval"
   ]
  },
  {
   "cell_type": "code",
   "execution_count": 189,
   "metadata": {
    "collapsed": false
   },
   "outputs": [
    {
     "name": "stdout",
     "output_type": "stream",
     "text": [
      "2.09256654978\n"
     ]
    }
   ],
   "source": [
    "new_guess = new_guess + -1 * (gradval)\n",
    "print(new_guess)"
   ]
  },
  {
   "cell_type": "code",
   "execution_count": 190,
   "metadata": {
    "collapsed": false
   },
   "outputs": [
    {
     "name": "stdout",
     "output_type": "stream",
     "text": [
      "('gradient: %.3f', 0.17790559)\n",
      "('power: %.3f', 1.9146609604358673)\n"
     ]
    }
   ],
   "source": [
    "#... and one more time ...\n",
    "assign_op = tf.assign(power, new_guess)\n",
    "sess.run(assign_op)\n",
    "\n",
    "#... get the gradient again\n",
    "gradval = sess.run(grad, feed_dict={x: xval, y: yval})\n",
    "print('gradient: %.3f', gradval)\n",
    "\n",
    "#... do the update\n",
    "new_guess = new_guess + -1 * (gradval)\n",
    "print('power: %.3f', new_guess)\n",
    "\n",
    "#ok so we're hovering back and forth around guess of 2.... which is right!"
   ]
  },
  {
   "cell_type": "code",
   "execution_count": 211,
   "metadata": {
    "collapsed": false,
    "deletable": true,
    "editable": true
   },
   "outputs": [
    {
     "data": {
      "text/plain": [
       "<matplotlib.text.Text at 0x7fc9daebe9d0>"
      ]
     },
     "execution_count": 211,
     "metadata": {},
     "output_type": "execute_result"
    },
    {
     "data": {
      "image/png": "[encoded data removed]",
      "text/plain": [
       "<matplotlib.figure.Figure at 0x7fc9db516bd0>"
      ]
     },
     "metadata": {},
     "output_type": "display_data"
    }
   ],
   "source": [
    "#OK let's do this in a real loop and keep track of useful stuff along the way\n",
    "xval = np.arange(0, 2, .01)\n",
    "yval = np.arange(0, 2, .01)**2\n",
    "\n",
    "#start the guess off at 0 again\n",
    "assign_op = tf.assign(power, 0)\n",
    "sess.run(assign_op)\n",
    "\n",
    "#let's keep track of the guess along the way\n",
    "powers = []\n",
    "\n",
    "#and the loss, which should go down\n",
    "losses = []\n",
    "\n",
    "#and the grads just for luck\n",
    "grads = []\n",
    "\n",
    "#let's iterate the gradient descent process 20 timesteps\n",
    "num_iterations = 20\n",
    "\n",
    "#for each timestep ...\n",
    "for i in range(num_iterations):\n",
    "    \n",
    "    #... get the current derivative (grad), the current guess of \"power\"\n",
    "    #and the loss, given the input and output training data (xval & yval)\n",
    "    output = sess.run({'grad': grad, \n",
    "                       'power': power,\n",
    "                       'loss': loss}, \n",
    "                      feed_dict={x: xval, y: yval})\n",
    "    current_power = output['power']\n",
    "    current_loss = output['loss']\n",
    "    gradval = output['grad']\n",
    "    \n",
    "    #... keep track of interesting stuff along the way\n",
    "    powers.append(current_power)\n",
    "    grads.append(gradval)\n",
    "    losses.append(current_loss)\n",
    "    \n",
    "    #... now do the gradient descent step\n",
    "    new_power = current_power - gradval\n",
    "    \n",
    "    #... and actually update the value of the power variable\n",
    "    assign_op = tf.assign(power, new_power)\n",
    "    sess.run(assign_op)\n",
    "    \n",
    "    #and then, the loop runs again\n",
    "    \n",
    "plt.plot(powers, label='estimated power')\n",
    "plt.plot(losses, label='loss')\n",
    "plt.xlabel('iterations')\n",
    "plt.legend(loc='center right')\n",
    "plt.title('Estimating a quadratic')"
   ]
  },
  {
   "cell_type": "code",
   "execution_count": 212,
   "metadata": {
    "collapsed": false,
    "deletable": true,
    "editable": true
   },
   "outputs": [
    {
     "data": {
      "text/plain": [
       "<matplotlib.text.Text at 0x7fc9dad436d0>"
      ]
     },
     "execution_count": 212,
     "metadata": {},
     "output_type": "execute_result"
    },
    {
     "data": {
      "image/png": "[encoded data removed]",
      "text/plain": [
       "<matplotlib.figure.Figure at 0x7fc9db121e50>"
      ]
     },
     "metadata": {},
     "output_type": "display_data"
    }
   ],
   "source": [
    "##ok now let's try that again except where y ~ x^3\n",
    "\n",
    "#all we need to do is change the data\n",
    "xval = np.arange(0, 2, .01)\n",
    "yval = np.arange(0, 2, .01)**3\n",
    "\n",
    "#The rest  of the code remains the same\n",
    "assign_op = tf.assign(power, 0)\n",
    "sess.run(assign_op)\n",
    "\n",
    "powers = []\n",
    "losses = []\n",
    "grads = []\n",
    "\n",
    "num_iterations = 20\n",
    "for i in range(num_iterations):    \n",
    "    output = sess.run({'grad': grad, \n",
    "                       'power': power,\n",
    "                       'loss': loss}, \n",
    "                      feed_dict={x: xval, y: yval})\n",
    "    current_power = output['power']\n",
    "    current_loss = output['loss']\n",
    "    gradval = output['grad']\n",
    "    \n",
    "    powers.append(current_power)\n",
    "    grads.append(gradval)\n",
    "    losses.append(current_loss)\n",
    "    \n",
    "    new_power = current_power - gradval\n",
    "    \n",
    "    assign_op = tf.assign(power, new_power)\n",
    "    sess.run(assign_op)\n",
    "    \n",
    "    \n",
    "plt.plot(powers, label='estimated power')\n",
    "plt.plot(losses, label='loss')\n",
    "plt.xlabel('iterations')\n",
    "plt.legend(loc='center right')\n",
    "plt.title('Failing to estimate a cubic')\n",
    "    \n",
    "#wait ... this did *not* work.  why? "
   ]
  },
  {
   "cell_type": "code",
   "execution_count": 193,
   "metadata": {
    "collapsed": false,
    "deletable": true,
    "editable": true
   },
   "outputs": [
    {
     "data": {
      "text/plain": [
       "[6.0235572,\n",
       " 0.87862968,\n",
       " 16.070698,\n",
       " inf,\n",
       " nan,\n",
       " nan,\n",
       " nan,\n",
       " nan,\n",
       " nan,\n",
       " nan,\n",
       " nan,\n",
       " nan,\n",
       " nan,\n",
       " nan,\n",
       " nan,\n",
       " nan,\n",
       " nan,\n",
       " nan,\n",
       " nan,\n",
       " nan]"
      ]
     },
     "execution_count": 193,
     "metadata": {},
     "output_type": "execute_result"
    }
   ],
   "source": [
    "#whoa ... the loss must have diverged to infinity (or close) really early\n",
    "losses\n",
    "#why? "
   ]
  },
  {
   "cell_type": "code",
   "execution_count": 197,
   "metadata": {
    "collapsed": false
   },
   "outputs": [
    {
     "data": {
      "text/plain": [
       "[-2.3299172,\n",
       " -2.1364195,\n",
       " 33.202091,\n",
       " nan,\n",
       " nan,\n",
       " nan,\n",
       " nan,\n",
       " nan,\n",
       " nan,\n",
       " nan,\n",
       " nan,\n",
       " nan,\n",
       " nan,\n",
       " nan,\n",
       " nan,\n",
       " nan,\n",
       " nan,\n",
       " nan,\n",
       " nan,\n",
       " nan]"
      ]
     },
     "execution_count": 197,
     "metadata": {},
     "output_type": "execute_result"
    }
   ],
   "source": [
    "#let's look at the gradients\n",
    "grads\n",
    "#hm.  the gradient was getting big at the end. "
   ]
  },
  {
   "cell_type": "code",
   "execution_count": 198,
   "metadata": {
    "collapsed": true
   },
   "outputs": [],
   "source": [
    "#after all, the taylor series only works in the close-to-the-value limit. \n",
    "#we must have been been taking too big steps.  \n",
    "#how do we fix this? "
   ]
  },
  {
   "cell_type": "code",
   "execution_count": 293,
   "metadata": {
    "collapsed": false,
    "deletable": true,
    "editable": true
   },
   "outputs": [],
   "source": [
    "def gradient_descent(loss, \n",
    "                     target,\n",
    "                     initial_guess,\n",
    "                     learning_rate,\n",
    "                     training_data,\n",
    "                     num_iterations):\n",
    "    \n",
    "    #assign initial value to the garge\n",
    "    assign_op = tf.assign(target, initial_guess)\n",
    "    sess.run(assign_op)\n",
    "\n",
    "    grad = tf.gradients(loss, target)\n",
    "    \n",
    "    targets = []\n",
    "    losses = []\n",
    "    grads = []\n",
    "    for i in range(num_iterations):\n",
    "        output = sess.run({'grad': grad, \n",
    "                           'target': target,\n",
    "                           'loss': loss}, \n",
    "                          feed_dict=training_data)\n",
    "        current_value = np.array(output['target'])\n",
    "        current_loss = output['loss']\n",
    "        gradval = np.array(output['grad'])\n",
    "        targets.append(current_value)\n",
    "        losses.append(current_loss)\n",
    "        grads.append(gradval)\n",
    "        \n",
    "        #just like before except now we scale the gradient update \n",
    "        #by the learning rate\n",
    "        \n",
    "        new_value = current_value - gradval * learning_rate\n",
    "        \n",
    "        print(current_value, new_value)\n",
    "        assign_op = tf.assign(target, new_value)\n",
    "        sess.run(assign_op)\n",
    "        \n",
    "    return targets, losses, grads\n",
    "    "
   ]
  },
  {
   "cell_type": "code",
   "execution_count": 295,
   "metadata": {
    "collapsed": false
   },
   "outputs": [
    {
     "ename": "AttributeError",
     "evalue": "'list' object has no attribute 'dtype'",
     "output_type": "error",
     "traceback": [
      "\u001b[0;31m---------------------------------------------------------------------------\u001b[0m",
      "\u001b[0;31mAttributeError\u001b[0m                            Traceback (most recent call last)",
      "\u001b[0;32m<ipython-input-295-4c3000073d6e>\u001b[0m in \u001b[0;36m<module>\u001b[0;34m()\u001b[0m\n\u001b[1;32m      8\u001b[0m                                           \u001b[0mlearning_rate\u001b[0m\u001b[0;34m=\u001b[0m\u001b[0;36m0.1\u001b[0m\u001b[0;34m,\u001b[0m\u001b[0;34m\u001b[0m\u001b[0m\n\u001b[1;32m      9\u001b[0m                                           \u001b[0mtraining_data\u001b[0m\u001b[0;34m=\u001b[0m\u001b[0mdata_dict\u001b[0m\u001b[0;34m,\u001b[0m\u001b[0;34m\u001b[0m\u001b[0m\n\u001b[0;32m---> 10\u001b[0;31m                                           num_iterations=20)\n\u001b[0m\u001b[1;32m     11\u001b[0m \u001b[0mplt\u001b[0m\u001b[0;34m.\u001b[0m\u001b[0mplot\u001b[0m\u001b[0;34m(\u001b[0m\u001b[0mpowers\u001b[0m\u001b[0;34m,\u001b[0m \u001b[0mlabel\u001b[0m\u001b[0;34m=\u001b[0m\u001b[0;34m'estimated power'\u001b[0m\u001b[0;34m)\u001b[0m\u001b[0;34m\u001b[0m\u001b[0m\n\u001b[1;32m     12\u001b[0m \u001b[0mplt\u001b[0m\u001b[0;34m.\u001b[0m\u001b[0mplot\u001b[0m\u001b[0;34m(\u001b[0m\u001b[0mlosses\u001b[0m\u001b[0;34m,\u001b[0m \u001b[0mlabel\u001b[0m\u001b[0;34m=\u001b[0m\u001b[0;34m'loss'\u001b[0m\u001b[0;34m)\u001b[0m\u001b[0;34m\u001b[0m\u001b[0m\n",
      "\u001b[0;32m<ipython-input-293-9b9cc93b5bc1>\u001b[0m in \u001b[0;36mgradient_descent\u001b[0;34m(loss, target, initial_guess, learning_rate, training_data, num_iterations)\u001b[0m\n\u001b[1;32m      7\u001b[0m \u001b[0;34m\u001b[0m\u001b[0m\n\u001b[1;32m      8\u001b[0m     \u001b[0;31m#assign initial value to the garge\u001b[0m\u001b[0;34m\u001b[0m\u001b[0;34m\u001b[0m\u001b[0m\n\u001b[0;32m----> 9\u001b[0;31m     \u001b[0massign_op\u001b[0m \u001b[0;34m=\u001b[0m \u001b[0mtf\u001b[0m\u001b[0;34m.\u001b[0m\u001b[0massign\u001b[0m\u001b[0;34m(\u001b[0m\u001b[0mtarget\u001b[0m\u001b[0;34m,\u001b[0m \u001b[0minitial_guess\u001b[0m\u001b[0;34m)\u001b[0m\u001b[0;34m\u001b[0m\u001b[0m\n\u001b[0m\u001b[1;32m     10\u001b[0m     \u001b[0msess\u001b[0m\u001b[0;34m.\u001b[0m\u001b[0mrun\u001b[0m\u001b[0;34m(\u001b[0m\u001b[0massign_op\u001b[0m\u001b[0;34m)\u001b[0m\u001b[0;34m\u001b[0m\u001b[0m\n\u001b[1;32m     11\u001b[0m \u001b[0;34m\u001b[0m\u001b[0m\n",
      "\u001b[0;32m/usr/local/lib/python2.7/dist-packages/tensorflow/python/ops/state_ops.pyc\u001b[0m in \u001b[0;36massign\u001b[0;34m(ref, value, validate_shape, use_locking, name)\u001b[0m\n\u001b[1;32m    271\u001b[0m       \u001b[0mthe\u001b[0m \u001b[0massignment\u001b[0m \u001b[0mhas\u001b[0m \u001b[0mcompleted\u001b[0m\u001b[0;34m.\u001b[0m\u001b[0;34m\u001b[0m\u001b[0m\n\u001b[1;32m    272\u001b[0m   \"\"\"\n\u001b[0;32m--> 273\u001b[0;31m   \u001b[0;32mif\u001b[0m \u001b[0mref\u001b[0m\u001b[0;34m.\u001b[0m\u001b[0mdtype\u001b[0m\u001b[0;34m.\u001b[0m\u001b[0m_is_ref_dtype\u001b[0m\u001b[0;34m:\u001b[0m\u001b[0;34m\u001b[0m\u001b[0m\n\u001b[0m\u001b[1;32m    274\u001b[0m     return gen_state_ops.assign(\n\u001b[1;32m    275\u001b[0m         \u001b[0mref\u001b[0m\u001b[0;34m,\u001b[0m \u001b[0mvalue\u001b[0m\u001b[0;34m,\u001b[0m \u001b[0muse_locking\u001b[0m\u001b[0;34m=\u001b[0m\u001b[0muse_locking\u001b[0m\u001b[0;34m,\u001b[0m \u001b[0mname\u001b[0m\u001b[0;34m=\u001b[0m\u001b[0mname\u001b[0m\u001b[0;34m,\u001b[0m\u001b[0;34m\u001b[0m\u001b[0m\n",
      "\u001b[0;31mAttributeError\u001b[0m: 'list' object has no attribute 'dtype'"
     ]
    }
   ],
   "source": [
    "xval = np.arange(0, 2, .01)\n",
    "yval = np.arange(0, 2, .01)**3\n",
    "data_dict = {x: xval, y:yval}\n",
    "\n",
    "powers, losses, grads = gradient_descent(loss=loss,\n",
    "                                          target=power,\n",
    "                                          initial_guess=0,\n",
    "                                          learning_rate=0.1,\n",
    "                                          training_data=data_dict,\n",
    "                                          num_iterations=20)\n",
    "plt.plot(powers, label='estimated power')\n",
    "plt.plot(losses, label='loss')\n",
    "plt.legend(loc='upper right')\n",
    "plt.title('Estimating a cubic')\n",
    "\n",
    "#ok -- now the result stably converges!"
   ]
  },
  {
   "cell_type": "code",
   "execution_count": 267,
   "metadata": {
    "collapsed": false
   },
   "outputs": [
    {
     "data": {
      "text/plain": [
       "<matplotlib.text.Text at 0x7fc9d9d1b210>"
      ]
     },
     "execution_count": 267,
     "metadata": {},
     "output_type": "execute_result"
    },
    {
     "data": {
      "image/png": "[encoded data removed]",
      "text/plain": [
       "<matplotlib.figure.Figure at 0x7fc9d9df0fd0>"
      ]
     },
     "metadata": {},
     "output_type": "display_data"
    }
   ],
   "source": [
    "#and also for a higher power .... \n",
    "xval = np.arange(0, 2, .01)\n",
    "yval = np.arange(0, 2, .01)**4\n",
    "data_dict = {x: xval, y:yval}\n",
    "\n",
    "powers, losses, grads = gradient_descent(loss=loss,\n",
    "                                         target=power,\n",
    "                                         initial_guess=0,\n",
    "                                         learning_rate=0.1,\n",
    "                                         training_data=data_dict,\n",
    "                                         num_iterations=20)\n",
    "plt.plot(powers, label='estimated power')\n",
    "plt.plot(losses, label='loss')\n",
    "plt.legend(loc='upper right')\n",
    "plt.title('Estimating a quartic')"
   ]
  },
  {
   "cell_type": "code",
   "execution_count": 268,
   "metadata": {
    "collapsed": false,
    "deletable": true,
    "editable": true
   },
   "outputs": [
    {
     "data": {
      "text/plain": [
       "<matplotlib.text.Text at 0x7fc9d9c18250>"
      ]
     },
     "execution_count": 268,
     "metadata": {},
     "output_type": "execute_result"
    },
    {
     "data": {
      "image/png": "[encoded data removed]",
      "text/plain": [
       "<matplotlib.figure.Figure at 0x7fc9d9c81a50>"
      ]
     },
     "metadata": {},
     "output_type": "display_data"
    }
   ],
   "source": [
    "#what about when the data is actually not of the right form?\n",
    "\n",
    "xval = np.arange(0, 2, .01)\n",
    "yval = np.sin(xval)\n",
    "\n",
    "\n",
    "data_dict = {x: xval, y:yval}\n",
    "\n",
    "powers, losses, grads = gradient_descent(loss=loss,\n",
    "                                          target=power,\n",
    "                                          initial_guess=0,\n",
    "                                          learning_rate=0.1,\n",
    "                                          training_data=data_dict,\n",
    "                                          num_iterations=20)\n",
    "plt.plot(powers, label='estimated power')\n",
    "plt.plot(losses, label='loss')\n",
    "plt.legend(loc='center right')\n",
    "plt.title('Estimating sine with a power, not converged yet')\n",
    "\n",
    "#doesn't look like it's converged yet -- maybe we need to run it longer? "
   ]
  },
  {
   "cell_type": "code",
   "execution_count": 269,
   "metadata": {
    "collapsed": false,
    "deletable": true,
    "editable": true
   },
   "outputs": [
    {
     "data": {
      "text/plain": [
       "<matplotlib.text.Text at 0x7fc9d9a1ae90>"
      ]
     },
     "execution_count": 269,
     "metadata": {},
     "output_type": "execute_result"
    },
    {
     "data": {
      "image/png": "[encoded data removed]",
      "text/plain": [
       "<matplotlib.figure.Figure at 0x7fc9d9ed5a90>"
      ]
     },
     "metadata": {},
     "output_type": "display_data"
    }
   ],
   "source": [
    "#sine(x) now with more iterations\n",
    "\n",
    "xval = np.arange(0, 2, .01)\n",
    "yval = np.sin(xval)\n",
    "\n",
    "data_dict = {x: xval, y:yval}\n",
    "\n",
    "powers, losses, grads = gradient_descent(loss=loss,\n",
    "                                        target=power,\n",
    "                                        initial_guess=0,\n",
    "                                        learning_rate=0.1,\n",
    "                                        training_data=data_dict,\n",
    "                                        num_iterations=100)  #<-- more iterations\n",
    "\n",
    "plt.plot(powers, label='estimated power')\n",
    "plt.plot(losses, label='loss')\n",
    "plt.legend(loc='center right')\n",
    "plt.title('Estimating sine with a power (badly)')\n",
    "\n",
    "#ok it's converged but not to a great loss.  This is unsurprising \n",
    "#since x^p is a bad model for sine(x)"
   ]
  },
  {
   "cell_type": "code",
   "execution_count": null,
   "metadata": {
    "collapsed": true
   },
   "outputs": [],
   "source": [
    "#how should we improve? \n",
    "#THE MACHINE LEARNING ANSWER:  well, let's have more parameters in our model\n",
    "#let's write a model using the Taylor series idea more explicitly\n",
    "#    y ~ sum_i a_i x^i  \n",
    "#for some coefficients a_i that we have to guess"
   ]
  },
  {
   "cell_type": "code",
   "execution_count": null,
   "metadata": {
    "collapsed": true
   },
   "outputs": [],
   "source": [
    "approximation_order = 5\n",
    "\n",
    "coefficients = tf.get_variable('coefficients', \n",
    "                        initializer= tf.zeros(shape=(approximation_order,)),\n",
    "                        dtype=tf.float32)"
   ]
  },
  {
   "cell_type": "code",
   "execution_count": 239,
   "metadata": {
    "collapsed": true
   },
   "outputs": [],
   "source": [
    "initializer = tf.global_variables_initializer()\n",
    "sess.run(initializer)"
   ]
  },
  {
   "cell_type": "code",
   "execution_count": 248,
   "metadata": {
    "collapsed": false
   },
   "outputs": [],
   "source": [
    "powervec = tf.range(0, approximation_order, dtype=tf.float32)\n",
    "x_expanded = tf.expand_dims(x, axis=1)\n",
    "x_exponentiated = x_expanded**powervec\n",
    "x_multiplied_by_coefficients = coefficients * x_exponentiated\n",
    "polynomial_model = tf.reduce_sum(x_multiplied_by_coefficients, axis=1)\n",
    "\n",
    "polynomial_loss = tf.reduce_mean((polynomial_model - y)**2)\n",
    "\n",
    "polynomial_grad = tf.gradients(polynomial_loss, coefficients)"
   ]
  },
  {
   "cell_type": "code",
   "execution_count": 249,
   "metadata": {
    "collapsed": false
   },
   "outputs": [
    {
     "data": {
      "text/plain": [
       "[array([-1.41158855, -1.73249876, -2.45131397, -3.75488901, -6.04951048], dtype=float32)]"
      ]
     },
     "execution_count": 249,
     "metadata": {},
     "output_type": "execute_result"
    }
   ],
   "source": [
    "xval = np.arange(0, 2, .01)\n",
    "yval = np.sin(xval)\n",
    "\n",
    "data_dict = {x: xval, y:yval}\n",
    "\n",
    "sess.run(polynomial_grad, feed_dict=data_dict)"
   ]
  },
  {
   "cell_type": "code",
   "execution_count": 287,
   "metadata": {
    "collapsed": false
   },
   "outputs": [
    {
     "ename": "TypeError",
     "evalue": "can't multiply sequence by non-int of type 'float'",
     "output_type": "error",
     "traceback": [
      "\u001b[0;31m---------------------------------------------------------------------------\u001b[0m",
      "\u001b[0;31mTypeError\u001b[0m                                 Traceback (most recent call last)",
      "\u001b[0;32m<ipython-input-287-c65a63910784>\u001b[0m in \u001b[0;36m<module>\u001b[0;34m()\u001b[0m\n\u001b[1;32m      9\u001b[0m                                         \u001b[0mlearning_rate\u001b[0m\u001b[0;34m=\u001b[0m\u001b[0;36m0.1\u001b[0m\u001b[0;34m,\u001b[0m\u001b[0;34m\u001b[0m\u001b[0m\n\u001b[1;32m     10\u001b[0m                                         \u001b[0mtraining_data\u001b[0m\u001b[0;34m=\u001b[0m\u001b[0mdata_dict\u001b[0m\u001b[0;34m,\u001b[0m\u001b[0;34m\u001b[0m\u001b[0m\n\u001b[0;32m---> 11\u001b[0;31m                                         num_iterations=20)  #<-- more iterations\n\u001b[0m",
      "\u001b[0;32m<ipython-input-286-90873081c63c>\u001b[0m in \u001b[0;36mgradient_descent\u001b[0;34m(loss, target, initial_guess, learning_rate, training_data, num_iterations)\u001b[0m\n\u001b[1;32m     29\u001b[0m         \u001b[0;31m#just like before except now we scale the gradient update\u001b[0m\u001b[0;34m\u001b[0m\u001b[0;34m\u001b[0m\u001b[0m\n\u001b[1;32m     30\u001b[0m         \u001b[0;31m#by the learning rate\u001b[0m\u001b[0;34m\u001b[0m\u001b[0;34m\u001b[0m\u001b[0m\n\u001b[0;32m---> 31\u001b[0;31m         \u001b[0mnew_value\u001b[0m \u001b[0;34m=\u001b[0m \u001b[0mcurrent_value\u001b[0m \u001b[0;34m-\u001b[0m \u001b[0mgradval\u001b[0m \u001b[0;34m*\u001b[0m \u001b[0mlearning_rate\u001b[0m\u001b[0;34m\u001b[0m\u001b[0m\n\u001b[0m\u001b[1;32m     32\u001b[0m \u001b[0;34m\u001b[0m\u001b[0m\n\u001b[1;32m     33\u001b[0m         \u001b[0massign_op\u001b[0m \u001b[0;34m=\u001b[0m \u001b[0mtf\u001b[0m\u001b[0;34m.\u001b[0m\u001b[0massign\u001b[0m\u001b[0;34m(\u001b[0m\u001b[0mtarget\u001b[0m\u001b[0;34m,\u001b[0m \u001b[0mnew_value\u001b[0m\u001b[0;34m)\u001b[0m\u001b[0;34m\u001b[0m\u001b[0m\n",
      "\u001b[0;31mTypeError\u001b[0m: can't multiply sequence by non-int of type 'float'"
     ]
    }
   ],
   "source": [
    "xval = np.arange(0, 2, .01)\n",
    "yval = np.sin(xval)\n",
    "\n",
    "data_dict = {x: xval, y:yval}\n",
    "\n",
    "coefvals, losses, grads = gradient_descent(loss=polynomial_loss,\n",
    "                                        target=coefficients,\n",
    "                                        initial_guess=np.ones(approximation_order),\n",
    "                                        learning_rate=0.1,\n",
    "                                        training_data=data_dict,\n",
    "                                        num_iterations=20)  #<-- more iterations"
   ]
  },
  {
   "cell_type": "code",
   "execution_count": 279,
   "metadata": {
    "collapsed": false
   },
   "outputs": [
    {
     "data": {
      "text/plain": [
       "[-3.1372299e-05,\n",
       " -3.1372299e-05,\n",
       " -3.1372299e-05,\n",
       " -3.1372299e-05,\n",
       " -3.1372299e-05,\n",
       " -3.1372299e-05,\n",
       " -3.1372299e-05,\n",
       " -3.1372299e-05,\n",
       " -3.1372299e-05,\n",
       " -3.1372299e-05,\n",
       " -3.1372299e-05,\n",
       " -3.1372299e-05,\n",
       " -3.1372299e-05,\n",
       " -3.1372299e-05,\n",
       " -3.1372299e-05,\n",
       " -3.1372299e-05,\n",
       " -3.1372299e-05,\n",
       " -3.1372299e-05,\n",
       " -3.1372299e-05,\n",
       " -3.1372299e-05]"
      ]
     },
     "execution_count": 279,
     "metadata": {},
     "output_type": "execute_result"
    }
   ],
   "source": [
    "grads"
   ]
  },
  {
   "cell_type": "code",
   "execution_count": null,
   "metadata": {
    "collapsed": true
   },
   "outputs": [],
   "source": []
  },
  {
   "cell_type": "code",
   "execution_count": 93,
   "metadata": {
    "collapsed": false,
    "deletable": true,
    "editable": true
   },
   "outputs": [],
   "source": [
    "grad2 = tf.gradients(grad, power)[0]"
   ]
  },
  {
   "cell_type": "code",
   "execution_count": 96,
   "metadata": {
    "collapsed": false,
    "deletable": true,
    "editable": true
   },
   "outputs": [
    {
     "data": {
      "text/plain": [
       "{'grad': -2.3299172, 'grad2': 2.9339702, 'loss': 6.0235572, 'power': 0.0}"
      ]
     },
     "execution_count": 96,
     "metadata": {},
     "output_type": "execute_result"
    }
   ],
   "source": [
    "xval = np.arange(0, 2, .01)\n",
    "yval = np.arange(0, 2, .01)**3\n",
    "\n",
    "assign_op = tf.assign(power, 0)\n",
    "sess.run(assign_op)\n",
    "\n",
    "sess.run({'grad2': grad2, 'grad': grad, \n",
    "                       'power': power,\n",
    "                       'loss': loss}, \n",
    "                      feed_dict={x: xval, y: yval})"
   ]
  },
  {
   "cell_type": "code",
   "execution_count": 106,
   "metadata": {
    "collapsed": false,
    "deletable": true,
    "editable": true
   },
   "outputs": [
    {
     "data": {
      "text/plain": [
       "<matplotlib.legend.Legend at 0x7fc9e8093750>"
      ]
     },
     "execution_count": 106,
     "metadata": {},
     "output_type": "execute_result"
    },
    {
     "data": {
      "image/png": "[encoded data removed]",
      "text/plain": [
       "<matplotlib.figure.Figure at 0x7fc9e86e4c10>"
      ]
     },
     "metadata": {},
     "output_type": "display_data"
    }
   ],
   "source": [
    "xval = np.arange(0, 2, .01)\n",
    "yval = np.arange(0, 2, .01)**2\n",
    "\n",
    "assign_op = tf.assign(power, 0)\n",
    "sess.run(assign_op)\n",
    "\n",
    "powers = []\n",
    "losses = []\n",
    "for i in range(20):\n",
    "    output = sess.run({'grad': grad,\n",
    "                       'grad2': grad2,\n",
    "                       'power': power,\n",
    "                       'loss': loss}, \n",
    "                      feed_dict={x: xval, y: yval})\n",
    "    current_power = output['power']\n",
    "    current_loss = output['loss']\n",
    "    powers.append(current_power)\n",
    "    losses.append(current_loss)\n",
    "    gradval = output['grad']\n",
    "    grad2val = output['grad2']\n",
    "    new_power = current_power - gradval / grad2val\n",
    "    assign_op = tf.assign(power, new_power)\n",
    "    sess.run(assign_op)\n",
    "    \n",
    "plt.plot(powers, label='estimated power')\n",
    "plt.plot(losses, label='loss')\n",
    "plt.legend(loc='center right')\n",
    "    "
   ]
  },
  {
   "cell_type": "code",
   "execution_count": 149,
   "metadata": {
    "collapsed": false,
    "deletable": true,
    "editable": true
   },
   "outputs": [
    {
     "data": {
      "text/plain": [
       "<matplotlib.legend.Legend at 0x7fc9e1107bd0>"
      ]
     },
     "execution_count": 149,
     "metadata": {},
     "output_type": "execute_result"
    },
    {
     "data": {
      "image/png": "[encoded data removed]",
      "text/plain": [
       "<matplotlib.figure.Figure at 0x7fc9e11f5f50>"
      ]
     },
     "metadata": {},
     "output_type": "display_data"
    }
   ],
   "source": [
    "xval = np.arange(0, 2, .01)\n",
    "yval = np.arange(0, 2, .01)**3\n",
    "\n",
    "assign_op = tf.assign(power, 1)\n",
    "sess.run(assign_op)\n",
    "\n",
    "powers = []\n",
    "losses = []\n",
    "\n",
    "learning_rate = .1\n",
    "for i in range(20):\n",
    "    output = sess.run({'grad': grad,\n",
    "                       'grad2': grad2,\n",
    "                       'power': power,\n",
    "                       'loss': loss}, \n",
    "                      feed_dict={x: xval, y: yval})\n",
    "    current_power = output['power']\n",
    "    current_loss = output['loss']\n",
    "    powers.append(current_power)\n",
    "    losses.append(current_loss)\n",
    "    gradval = output['grad']\n",
    "    grad2val = output['grad2']\n",
    "    #print(gradval)\n",
    "    new_power = current_power - gradval / grad2val * learning_rate\n",
    "    assign_op = tf.assign(power, new_power)\n",
    "    sess.run(assign_op)\n",
    "    \n",
    "plt.plot(powers, label='estimated power')\n",
    "plt.plot(losses, label='loss')\n",
    "plt.legend(loc='center right')\n",
    "    "
   ]
  },
  {
   "cell_type": "code",
   "execution_count": 172,
   "metadata": {
    "collapsed": false,
    "deletable": true,
    "editable": true
   },
   "outputs": [
    {
     "name": "stdout",
     "output_type": "stream",
     "text": [
      "(76.37957, 113.89825)\n",
      "(26.377148, 45.202255)\n",
      "(8.5104542, 19.364319)\n",
      "(2.3287811, 9.7291889)\n",
      "(0.40988311, 6.4859095)\n",
      "(0.022078674, 5.7975049)\n",
      "(7.5526841e-05, 5.7579708)\n",
      "(8.4851823e-09, 5.7578354)\n",
      "(8.4851823e-09, 5.7578354)\n",
      "(8.4851823e-09, 5.7578354)\n",
      "(8.4851823e-09, 5.7578354)\n",
      "(8.4851823e-09, 5.7578354)\n",
      "(8.4851823e-09, 5.7578354)\n",
      "(8.4851823e-09, 5.7578354)\n",
      "(8.4851823e-09, 5.7578354)\n",
      "(8.4851823e-09, 5.7578354)\n",
      "(8.4851823e-09, 5.7578354)\n",
      "(8.4851823e-09, 5.7578354)\n",
      "(8.4851823e-09, 5.7578354)\n",
      "(8.4851823e-09, 5.7578354)\n"
     ]
    },
    {
     "data": {
      "text/plain": [
       "<matplotlib.legend.Legend at 0x7fc9db99eb10>"
      ]
     },
     "execution_count": 172,
     "metadata": {},
     "output_type": "execute_result"
    },
    {
     "data": {
      "image/png": "[encoded data removed]",
      "text/plain": [
       "<matplotlib.figure.Figure at 0x7fc9dbab62d0>"
      ]
     },
     "metadata": {},
     "output_type": "display_data"
    }
   ],
   "source": [
    "xval = np.arange(0, 2, .01)\n",
    "yval = np.arange(0, 2, .01)**3\n",
    "\n",
    "assign_op = tf.assign(power, 5)\n",
    "sess.run(assign_op)\n",
    "\n",
    "powers = []\n",
    "losses = []\n",
    "\n",
    "for i in range(20):\n",
    "    output = sess.run({'grad': grad,\n",
    "                       'grad2': grad2,\n",
    "                       'power': power,\n",
    "                       'loss': loss}, \n",
    "                      feed_dict={x: xval, y: yval})\n",
    "    current_power = output['power']\n",
    "    current_loss = output['loss']\n",
    "    powers.append(current_power)\n",
    "    losses.append(current_loss)\n",
    "    gradval = output['grad']\n",
    "    grad2val = output['grad2']\n",
    "    print(gradval, grad2val)\n",
    "    new_power = current_power - gradval / np.maximum(grad2val , 1)\n",
    "    assign_op = tf.assign(power, new_power)\n",
    "    sess.run(assign_op)\n",
    "    \n",
    "plt.plot(powers, label='estimated power')\n",
    "plt.plot(losses, label='loss')\n",
    "plt.legend(loc='center right')\n",
    "    "
   ]
  },
  {
   "cell_type": "code",
   "execution_count": 160,
   "metadata": {
    "collapsed": false,
    "deletable": true,
    "editable": true
   },
   "outputs": [
    {
     "name": "stdout",
     "output_type": "stream",
     "text": [
      "(-2.4045424, 0.37191954)\n",
      "(-2.2419088, 1.0245801)\n",
      "(-1.9186679, 1.9111855)\n",
      "(-1.4565806, 2.9561205)\n",
      "(-0.95440263, 3.9757071)\n",
      "(-0.5378381, 4.7720437)\n",
      "(-0.26791441, 5.2717557)\n",
      "(-0.12316689, 5.5354853)\n",
      "(-0.054222323, 5.6601715)\n",
      "(-0.023381663, 5.7157631)\n",
      "(-0.0099890754, 5.7398686)\n",
      "(-0.0042500207, 5.7501926)\n",
      "(-0.0018046557, 5.75459)\n",
      "(-0.00076589029, 5.7564583)\n",
      "(-0.00032527809, 5.7572503)\n",
      "(-0.00013859692, 5.757586)\n",
      "(-5.8954749e-05, 5.7577295)\n",
      "(-2.4656953e-05, 5.7577906)\n",
      "(-1.0950914e-05, 5.7578154)\n",
      "(-4.0798345e-06, 5.7578278)\n"
     ]
    },
    {
     "data": {
      "text/plain": [
       "<matplotlib.legend.Legend at 0x7fc9e0775890>"
      ]
     },
     "execution_count": 160,
     "metadata": {},
     "output_type": "execute_result"
    },
    {
     "data": {
      "image/png": "[encoded data removed]",
      "text/plain": [
       "<matplotlib.figure.Figure at 0x7fc9e0dbed50>"
      ]
     },
     "metadata": {},
     "output_type": "display_data"
    }
   ],
   "source": [
    "xval = np.arange(0, 2, .01)\n",
    "yval = np.arange(0, 2, .01)**3\n",
    "\n",
    "assign_op = tf.assign(power, 2)\n",
    "sess.run(assign_op)\n",
    "\n",
    "powers = []\n",
    "losses = []\n",
    "\n",
    "learning_rate = .1\n",
    "for i in range(20):\n",
    "    output = sess.run({'grad': grad,\n",
    "                       'grad2': grad2,\n",
    "                       'power': power,\n",
    "                       'loss': loss}, \n",
    "                      feed_dict={x: xval, y: yval})\n",
    "    current_power = output['power']\n",
    "    current_loss = output['loss']\n",
    "    powers.append(current_power)\n",
    "    losses.append(current_loss)\n",
    "    gradval = output['grad']\n",
    "    grad2val = output['grad2']\n",
    "    print(gradval, grad2val)\n",
    "    new_power = current_power - gradval * learning_rate\n",
    "    assign_op = tf.assign(power, new_power)\n",
    "    sess.run(assign_op)\n",
    "    \n",
    "plt.plot(powers, label='estimated power')\n",
    "plt.plot(losses, label='loss')\n",
    "plt.legend(loc='center right')\n",
    "    "
   ]
  },
  {
   "cell_type": "code",
   "execution_count": null,
   "metadata": {
    "collapsed": true
   },
   "outputs": [],
   "source": []
  }
 ],
 "metadata": {
  "kernelspec": {
   "display_name": "Python 2",
   "language": "python",
   "name": "python2"
  },
  "language_info": {
   "codemirror_mode": {
    "name": "ipython",
    "version": 2
   },
   "file_extension": ".py",
   "mimetype": "text/x-python",
   "name": "python",
   "nbconvert_exporter": "python",
   "pygments_lexer": "ipython2",
   "version": "2.7.12"
  }
 },
 "nbformat": 4,
 "nbformat_minor": 2
}
