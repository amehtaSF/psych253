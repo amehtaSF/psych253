{
 "cells": [
  {
   "cell_type": "code",
   "execution_count": 1,
   "metadata": {
    "collapsed": true,
    "deletable": true,
    "editable": true
   },
   "outputs": [],
   "source": [
    "%matplotlib inline\n",
    "\n",
    "import matplotlib\n",
    "import matplotlib.pyplot as plt\n",
    "\n",
    "#the above imports the plotting library matplotlib"
   ]
  },
  {
   "cell_type": "code",
   "execution_count": 2,
   "metadata": {
    "collapsed": true,
    "deletable": true,
    "editable": true
   },
   "outputs": [],
   "source": [
    "#standard imports\n",
    "import time\n",
    "import numpy as np\n",
    "import h5py\n"
   ]
  },
  {
   "cell_type": "code",
   "execution_count": 3,
   "metadata": {
    "collapsed": true,
    "deletable": true,
    "editable": true
   },
   "outputs": [],
   "source": [
    "#We're not using the GPU here, so we set the \n",
    "#\"CUDA_VISIBLE_DEVICES\" environment variable to -1\n",
    "#which tells tensorflow to only use the CPU\n",
    "\n",
    "import os\n",
    "os.environ[\"CUDA_VISIBLE_DEVICES\"]=\"-1\"    \n",
    "import tensorflow as tf"
   ]
  },
  {
   "cell_type": "markdown",
   "metadata": {
    "collapsed": true,
    "deletable": true,
    "editable": true
   },
   "source": [
    "## Gradient Descent"
   ]
  },
  {
   "cell_type": "code",
   "execution_count": 5,
   "metadata": {
    "collapsed": false,
    "deletable": true,
    "editable": true
   },
   "outputs": [],
   "source": [
    "#let's define a model which \"believes\" that the output data\n",
    "#is scalar power of a scalar input, e.g. :\n",
    "#      y ~ x^p\n",
    "\n",
    "#defining the scalar input data variable \n",
    "batch_size = 200\n",
    "\n",
    "#the \"placeholder\" mechanis is similar in effect to\n",
    "#            x = tf.get_variable('x', shape=(batch_size,), dtype=tf.float32)\n",
    "#except we don't have to define a fixed name \"x\"\n",
    "x = tf.placeholder(shape=(batch_size,), dtype=tf.float32)\n",
    "\n",
    "#define the scalar power variable\n",
    "initial_power = tf.zeros(shape=())\n",
    "power = tf.get_variable('pow', initializer=initial_power, dtype=tf.float32)\n",
    "\n",
    "#define the model\n",
    "model = x**power\n",
    "\n",
    "#the output data needs a variable too\n",
    "y = tf.placeholder(shape=(batch_size,), dtype=tf.float32)"
   ]
  },
  {
   "cell_type": "code",
   "execution_count": 6,
   "metadata": {
    "collapsed": false,
    "deletable": true,
    "editable": true
   },
   "outputs": [],
   "source": [
    "#the error rate of the model is mean L2 distance across \n",
    "#the batch of data\n",
    "power_loss = tf.reduce_mean((model - y)**2)"
   ]
  },
  {
   "cell_type": "code",
   "execution_count": 17,
   "metadata": {
    "collapsed": false,
    "deletable": true,
    "editable": true
   },
   "outputs": [],
   "source": [
    "#now, our goal is to use gradient descent to \n",
    "#figure out the parameter of our model -- namely, the power variable\n",
    "grad = tf.gradients(power_loss, power)[0]"
   ]
  },
  {
   "cell_type": "code",
   "execution_count": 11,
   "metadata": {
    "collapsed": true,
    "deletable": true,
    "editable": true
   },
   "outputs": [],
   "source": [
    "#Let's fit (optimize) the model.   \n",
    "#to do that we'll have to first of course define a tensorflow session\n",
    "sess = tf.Session()"
   ]
  },
  {
   "cell_type": "code",
   "execution_count": 12,
   "metadata": {
    "collapsed": true,
    "deletable": true,
    "editable": true
   },
   "outputs": [],
   "source": [
    "#... and initialize the power variable\n",
    "initializer = tf.global_variables_initializer()\n",
    "sess.run(initializer)"
   ]
  },
  {
   "cell_type": "code",
   "execution_count": 14,
   "metadata": {
    "collapsed": true,
    "deletable": true,
    "editable": true
   },
   "outputs": [],
   "source": [
    "#ok ... so let's test the case where the true input-output relationship\n",
    "#is x --> x^2\n",
    "xval = np.arange(0, 2, .01)\n",
    "yval = np.arange(0, 2, .01)**2"
   ]
  },
  {
   "cell_type": "code",
   "execution_count": 18,
   "metadata": {
    "collapsed": false,
    "deletable": true,
    "editable": true
   },
   "outputs": [],
   "source": [
    "#OK\n",
    "initial_guess = 0\n",
    "assign_op = tf.assign(power, initial_guess)\n",
    "sess.run(assign_op)\n",
    "\n",
    "gradval = sess.run(grad, feed_dict={x: xval, y: yval})"
   ]
  },
  {
   "cell_type": "code",
   "execution_count": 11,
   "metadata": {
    "collapsed": false,
    "deletable": true,
    "editable": true
   },
   "outputs": [
    {
     "data": {
      "text/plain": [
       "-1.5306325"
      ]
     },
     "execution_count": 11,
     "metadata": {},
     "output_type": "execute_result"
    }
   ],
   "source": [
    "gradval"
   ]
  },
  {
   "cell_type": "code",
   "execution_count": 19,
   "metadata": {
    "collapsed": false,
    "deletable": true,
    "editable": true
   },
   "outputs": [
    {
     "name": "stdout",
     "output_type": "stream",
     "text": [
      "1.53063249588\n"
     ]
    }
   ],
   "source": [
    "#ok so this is telling us to do:\n",
    "\n",
    "new_guess = initial_guess + -1 * (gradval)\n",
    "print(new_guess)"
   ]
  },
  {
   "cell_type": "code",
   "execution_count": 20,
   "metadata": {
    "collapsed": false,
    "deletable": true,
    "editable": true
   },
   "outputs": [
    {
     "data": {
      "text/plain": [
       "-0.56193405"
      ]
     },
     "execution_count": 20,
     "metadata": {},
     "output_type": "execute_result"
    }
   ],
   "source": [
    "#ok so let's assign the new guess to the power variable\n",
    "assign_op = tf.assign(power, new_guess)\n",
    "sess.run(assign_op)\n",
    "\n",
    "#... and get the gradient again\n",
    "gradval = sess.run(grad, feed_dict={x: xval, y: yval})\n",
    "\n",
    "gradval"
   ]
  },
  {
   "cell_type": "code",
   "execution_count": 21,
   "metadata": {
    "collapsed": false,
    "deletable": true,
    "editable": true
   },
   "outputs": [
    {
     "name": "stdout",
     "output_type": "stream",
     "text": [
      "2.09256654978\n"
     ]
    }
   ],
   "source": [
    "new_guess = new_guess + -1 * (gradval)\n",
    "print(new_guess)"
   ]
  },
  {
   "cell_type": "code",
   "execution_count": 22,
   "metadata": {
    "collapsed": false,
    "deletable": true,
    "editable": true
   },
   "outputs": [
    {
     "name": "stdout",
     "output_type": "stream",
     "text": [
      "('gradient: %.3f', 0.17790559)\n",
      "('power: %.3f', 1.9146609604358673)\n"
     ]
    }
   ],
   "source": [
    "#... and one more time ...\n",
    "assign_op = tf.assign(power, new_guess)\n",
    "sess.run(assign_op)\n",
    "\n",
    "#... get the gradient again\n",
    "gradval = sess.run(grad, feed_dict={x: xval, y: yval})\n",
    "print('gradient: %.3f', gradval)\n",
    "\n",
    "#... do the update\n",
    "new_guess = new_guess + -1 * (gradval)\n",
    "print('power: %.3f', new_guess)\n",
    "\n",
    "#ok so we're hovering back and forth around guess of 2.... which is right!"
   ]
  },
  {
   "cell_type": "code",
   "execution_count": 27,
   "metadata": {
    "collapsed": false,
    "deletable": true,
    "editable": true
   },
   "outputs": [
    {
     "data": {
      "text/plain": [
       "<matplotlib.text.Text at 0x7fa0ab6db6d0>"
      ]
     },
     "execution_count": 27,
     "metadata": {},
     "output_type": "execute_result"
    },
    {
     "data": {
      "image/png": "[encoded data removed]",
      "text/plain": [
       "<matplotlib.figure.Figure at 0x7fa0b03a5f90>"
      ]
     },
     "metadata": {},
     "output_type": "display_data"
    }
   ],
   "source": [
    "#OK let's do this in a real loop and keep track of useful stuff along the way\n",
    "xval = np.arange(0, 2, .01)\n",
    "yval = np.arange(0, 2, .01)**2\n",
    "\n",
    "#start the guess off at 0 again\n",
    "assign_op = tf.assign(power, 0)\n",
    "sess.run(assign_op)\n",
    "\n",
    "#let's keep track of the guess along the way\n",
    "powers = []\n",
    "\n",
    "#and the loss, which should go down\n",
    "losses = []\n",
    "\n",
    "#and the grads just for luck\n",
    "grads = []\n",
    "\n",
    "#let's iterate the gradient descent process 20 timesteps\n",
    "num_iterations = 20\n",
    "\n",
    "#for each timestep ...\n",
    "for i in range(num_iterations):\n",
    "    \n",
    "    #... get the current derivative (grad), the current guess of \"power\"\n",
    "    #and the loss, given the input and output training data (xval & yval)\n",
    "    cur_power, cur_loss, gradval = sess.run([power, power_loss, grad], \n",
    "                                        feed_dict={x: xval, y: yval})\n",
    "\n",
    "    #... keep track of interesting stuff along the way\n",
    "    powers.append(cur_power)\n",
    "    losses.append(cur_loss)\n",
    "    grads.append(gradval)\n",
    "    \n",
    "    #... now do the gradient descent step\n",
    "    new_power = cur_power - gradval\n",
    "    \n",
    "    #... and actually update the value of the power variable\n",
    "    assign_op = tf.assign(power, new_power)\n",
    "    sess.run(assign_op)\n",
    "    \n",
    "    #and then, the loop runs again\n",
    "    \n",
    "plt.plot(powers, label='estimated power')\n",
    "plt.plot(losses, label='loss')\n",
    "plt.plot(grads, label='gradients')\n",
    "plt.xlabel('iterations')\n",
    "plt.legend(loc='lower right')\n",
    "plt.title('Estimating a quadratic')"
   ]
  },
  {
   "cell_type": "code",
   "execution_count": 28,
   "metadata": {
    "collapsed": false,
    "deletable": true,
    "editable": true
   },
   "outputs": [
    {
     "data": {
      "text/plain": [
       "<matplotlib.text.Text at 0x7fa0ab602890>"
      ]
     },
     "execution_count": 28,
     "metadata": {},
     "output_type": "execute_result"
    },
    {
     "data": {
      "image/png": "[encoded data removed]",
      "text/plain": [
       "<matplotlib.figure.Figure at 0x7fa0ab79c3d0>"
      ]
     },
     "metadata": {},
     "output_type": "display_data"
    }
   ],
   "source": [
    "##ok now let's try that again except where y ~ x^3\n",
    "\n",
    "#all we need to do is change the data\n",
    "xval = np.arange(0, 2, .01)\n",
    "yval = np.arange(0, 2, .01)**3\n",
    "\n",
    "#The rest of the code remains the same\n",
    "assign_op = tf.assign(power, 0)\n",
    "sess.run(assign_op)\n",
    "\n",
    "powers = []\n",
    "losses = []\n",
    "grads = []\n",
    "\n",
    "num_iterations = 20\n",
    "for i in range(num_iterations):    \n",
    "    cur_power, cur_loss, gradval = sess.run([power, power_loss, grad], \n",
    "                                        feed_dict={x: xval, y: yval})\n",
    "    powers.append(cur_power)\n",
    "    losses.append(cur_loss)\n",
    "    grads.append(gradval)\n",
    "\n",
    "    new_power = cur_power - gradval\n",
    "\n",
    "    assign_op = tf.assign(power, new_power)\n",
    "    sess.run(assign_op)\n",
    "    \n",
    "    \n",
    "plt.plot(powers, label='estimated power')\n",
    "plt.plot(losses, label='loss')\n",
    "plt.xlabel('iterations')\n",
    "plt.legend(loc='center right')\n",
    "plt.title('Failing to estimate a cubic')\n",
    "    \n",
    "#wait ... this did *not* work.  why? "
   ]
  },
  {
   "cell_type": "code",
   "execution_count": 29,
   "metadata": {
    "collapsed": false,
    "deletable": true,
    "editable": true
   },
   "outputs": [
    {
     "data": {
      "text/plain": [
       "[6.0235572,\n",
       " 0.87862968,\n",
       " 16.070698,\n",
       " inf,\n",
       " nan,\n",
       " nan,\n",
       " nan,\n",
       " nan,\n",
       " nan,\n",
       " nan,\n",
       " nan,\n",
       " nan,\n",
       " nan,\n",
       " nan,\n",
       " nan,\n",
       " nan,\n",
       " nan,\n",
       " nan,\n",
       " nan,\n",
       " nan]"
      ]
     },
     "execution_count": 29,
     "metadata": {},
     "output_type": "execute_result"
    }
   ],
   "source": [
    "#whoa ... the loss must have diverged to infinity (or close) really early\n",
    "losses\n",
    "#why? "
   ]
  },
  {
   "cell_type": "code",
   "execution_count": 19,
   "metadata": {
    "collapsed": false,
    "deletable": true,
    "editable": true
   },
   "outputs": [
    {
     "data": {
      "text/plain": [
       "[-2.3299172,\n",
       " -2.1364195,\n",
       " 33.202091,\n",
       " nan,\n",
       " nan,\n",
       " nan,\n",
       " nan,\n",
       " nan,\n",
       " nan,\n",
       " nan,\n",
       " nan,\n",
       " nan,\n",
       " nan,\n",
       " nan,\n",
       " nan,\n",
       " nan,\n",
       " nan,\n",
       " nan,\n",
       " nan,\n",
       " nan]"
      ]
     },
     "execution_count": 19,
     "metadata": {},
     "output_type": "execute_result"
    }
   ],
   "source": [
    "#let's look at the gradients\n",
    "grads\n",
    "#hm.  the gradient was getting big at the end. "
   ]
  },
  {
   "cell_type": "code",
   "execution_count": 20,
   "metadata": {
    "collapsed": true,
    "deletable": true,
    "editable": true
   },
   "outputs": [],
   "source": [
    "#after all, the taylor series only works in the close-to-the-value limit. \n",
    "#we must have been been taking too big steps.  \n",
    "#how do we fix this? "
   ]
  },
  {
   "cell_type": "markdown",
   "metadata": {
    "deletable": true,
    "editable": true
   },
   "source": [
    "### With Learning Rate"
   ]
  },
  {
   "cell_type": "code",
   "execution_count": 45,
   "metadata": {
    "collapsed": false,
    "deletable": true,
    "editable": true
   },
   "outputs": [],
   "source": [
    "def gradient_descent(loss, \n",
    "                     target,\n",
    "                     initial_guess,\n",
    "                     learning_rate,\n",
    "                     training_data,\n",
    "                     num_iterations):\n",
    "    \n",
    "    #assign initial value to the target\n",
    "    initial_op = tf.assign(target, initial_guess)\n",
    "\n",
    "    #get the gradient\n",
    "    grad = tf.gradients(loss, target)[0]\n",
    "    \n",
    "    #actually do the gradient descent step directly in tensorflow\n",
    "    newval = tf.add(target, tf.multiply(-grad, learning_rate))\n",
    "    \n",
    "    #the optimizer step actually performs the parameter update\n",
    "    optimizer_op = tf.assign(target, newval)\n",
    "    \n",
    "    #NB:  none of the four steps above are actually running anything yet\n",
    "    #They are just formal graph computations. \n",
    "    #to actually do anything, you have to run stuff in a session. \n",
    " \n",
    "    #set up containers for stuff we want to keep track of\n",
    "    targetvals = []\n",
    "    losses = []\n",
    "    gradvals = []\n",
    "    \n",
    "    #first actually run the initialization operation\n",
    "    sess.run(initial_op)\n",
    "    \n",
    "    #now take gradient steps in a loop\n",
    "    for i in range(num_iterations):\n",
    "        #just by virtue of calling \"run\" on the \"optimizer\" op, \n",
    "        #the optimization occurs ... \n",
    "        output = sess.run({'opt': optimizer_op,\n",
    "                           'grad': grad, \n",
    "                           'target': target,\n",
    "                           'loss': loss\n",
    "                          }, \n",
    "                          feed_dict=training_data)\n",
    "        targetvals.append(output['target'])\n",
    "        losses.append(output['loss'])\n",
    "        gradvals.append(output['grad'])\n",
    "                \n",
    "    return losses, targetvals, gradvals\n",
    "    "
   ]
  },
  {
   "cell_type": "code",
   "execution_count": 43,
   "metadata": {
    "collapsed": true
   },
   "outputs": [],
   "source": [
    "xval = np.arange(0, 2, .01)\n",
    "yval = np.arange(0, 2, .01)**3\n",
    "data_dict = {x: xval, y:yval}\n",
    "\n",
    "losses, powers, grads = gradient_descent(loss=power_loss,\n",
    "                                         target=power,\n",
    "                                         initial_guess=0,\n",
    "                                         learning_rate=.1,\n",
    "                                         training_data=data_dict,\n",
    "                                         num_iterations=20)"
   ]
  },
  {
   "cell_type": "code",
   "execution_count": 44,
   "metadata": {
    "collapsed": false
   },
   "outputs": [
    {
     "data": {
      "text/plain": [
       "0.0"
      ]
     },
     "execution_count": 44,
     "metadata": {},
     "output_type": "execute_result"
    }
   ],
   "source": [
    "sess.run(power)"
   ]
  },
  {
   "cell_type": "code",
   "execution_count": 37,
   "metadata": {
    "collapsed": false
   },
   "outputs": [
    {
     "data": {
      "text/plain": [
       "[0.23299173,\n",
       " 0.43095851,\n",
       " 0.62494576,\n",
       " 0.82338095,\n",
       " 1.0301416,\n",
       " 1.2472076,\n",
       " 1.4751247,\n",
       " 1.7126933,\n",
       " 1.9561515,\n",
       " 2.1980307,\n",
       " 2.4262788,\n",
       " 2.6251397,\n",
       " 2.779768,\n",
       " 2.8839216,\n",
       " 2.9441545,\n",
       " 2.9747372,\n",
       " 2.9889567,\n",
       " 2.9952524,\n",
       " 2.9979744,\n",
       " 2.9991386]"
      ]
     },
     "execution_count": 37,
     "metadata": {},
     "output_type": "execute_result"
    }
   ],
   "source": [
    "powers"
   ]
  },
  {
   "cell_type": "code",
   "execution_count": null,
   "metadata": {
    "collapsed": true
   },
   "outputs": [],
   "source": []
  },
  {
   "cell_type": "code",
   "execution_count": null,
   "metadata": {
    "collapsed": true
   },
   "outputs": [],
   "source": []
  },
  {
   "cell_type": "code",
   "execution_count": 33,
   "metadata": {
    "collapsed": false,
    "deletable": true,
    "editable": true
   },
   "outputs": [
    {
     "data": {
      "text/plain": [
       "<matplotlib.text.Text at 0x7fa0a8246750>"
      ]
     },
     "execution_count": 33,
     "metadata": {},
     "output_type": "execute_result"
    },
    {
     "data": {
      "image/png": "[encoded data removed]",
      "text/plain": [
       "<matplotlib.figure.Figure at 0x7fa0ab33bfd0>"
      ]
     },
     "metadata": {},
     "output_type": "display_data"
    }
   ],
   "source": [
    "xval = np.arange(0, 2, .01)\n",
    "yval = np.arange(0, 2, .01)**3\n",
    "data_dict = {x: xval, y:yval}\n",
    "\n",
    "losses, powers, grads = gradient_descent(loss=power_loss,\n",
    "                                         target=power,\n",
    "                                         initial_guess=0,\n",
    "                                         learning_rate=.1,\n",
    "                                         training_data=data_dict,\n",
    "                                         num_iterations=20)\n",
    "plt.plot(powers, label='estimated power')\n",
    "plt.plot(losses, label='loss')\n",
    "plt.legend(loc='upper right')\n",
    "plt.title('Estimating a cubic')\n",
    "\n",
    "#ok -- now the result stably converges!"
   ]
  },
  {
   "cell_type": "code",
   "execution_count": null,
   "metadata": {
    "collapsed": true
   },
   "outputs": [],
   "source": []
  },
  {
   "cell_type": "code",
   "execution_count": 82,
   "metadata": {
    "collapsed": false,
    "deletable": true,
    "editable": true
   },
   "outputs": [
    {
     "data": {
      "text/plain": [
       "<matplotlib.text.Text at 0x7fd979d1e150>"
      ]
     },
     "execution_count": 82,
     "metadata": {},
     "output_type": "execute_result"
    },
    {
     "data": {
      "image/png": "[encoded data removed]",
      "text/plain": [
       "<matplotlib.figure.Figure at 0x7fd979e1e850>"
      ]
     },
     "metadata": {},
     "output_type": "display_data"
    }
   ],
   "source": [
    "#and also for a higher power .... \n",
    "xval = np.arange(0, 2, .01)\n",
    "yval = np.arange(0, 2, .01)**4\n",
    "data_dict = {x: xval, y:yval}\n",
    "\n",
    "losses, powers, grads = gradient_descent(loss=power_loss,\n",
    "                                         target=power,\n",
    "                                         initial_guess=0,\n",
    "                                         learning_rate=0.1,\n",
    "                                         training_data=data_dict,\n",
    "                                         num_iterations=20)\n",
    "plt.plot(powers, label='estimated power')\n",
    "plt.plot(losses, label='loss')\n",
    "plt.legend(loc='upper right')\n",
    "plt.title('Estimating a quartic')"
   ]
  },
  {
   "cell_type": "code",
   "execution_count": 83,
   "metadata": {
    "collapsed": false,
    "deletable": true,
    "editable": true
   },
   "outputs": [
    {
     "data": {
      "text/plain": [
       "<matplotlib.text.Text at 0x7fd979bdb490>"
      ]
     },
     "execution_count": 83,
     "metadata": {},
     "output_type": "execute_result"
    },
    {
     "data": {
      "image/png": "[encoded data removed]",
      "text/plain": [
       "<matplotlib.figure.Figure at 0x7fd9a0263310>"
      ]
     },
     "metadata": {},
     "output_type": "display_data"
    }
   ],
   "source": [
    "#what about when the data is actually not of the right form?\n",
    "\n",
    "xval = np.arange(0, 2, .01)\n",
    "yval = np.sin(xval)\n",
    "\n",
    "data_dict = {x: xval, y:yval}\n",
    "\n",
    "losses, powers, grads = gradient_descent(loss=power_loss,\n",
    "                                          target=power,\n",
    "                                          initial_guess=0,\n",
    "                                          learning_rate=0.1,\n",
    "                                          training_data=data_dict,\n",
    "                                          num_iterations=20)\n",
    "plt.plot(powers, label='estimated power')\n",
    "plt.plot(losses, label='loss')\n",
    "plt.legend(loc='center right')\n",
    "plt.title('Estimating sine with a power, not converged yet')\n",
    "\n",
    "#doesn't look like it's converged yet -- maybe we need to run it longer? "
   ]
  },
  {
   "cell_type": "code",
   "execution_count": 84,
   "metadata": {
    "collapsed": false,
    "deletable": true,
    "editable": true
   },
   "outputs": [
    {
     "data": {
      "text/plain": [
       "<matplotlib.text.Text at 0x7fd979aa1e10>"
      ]
     },
     "execution_count": 84,
     "metadata": {},
     "output_type": "execute_result"
    },
    {
     "data": {
      "image/png": "[encoded data removed]",
      "text/plain": [
       "<matplotlib.figure.Figure at 0x7fd979bbf210>"
      ]
     },
     "metadata": {},
     "output_type": "display_data"
    }
   ],
   "source": [
    "#sine(x) now with more iterations\n",
    "\n",
    "xval = np.arange(0, 2, .01)\n",
    "yval = np.sin(xval)\n",
    "\n",
    "data_dict = {x: xval, y:yval}\n",
    "\n",
    "losses, powers, grads = gradient_descent(loss=power_loss,\n",
    "                                        target=power,\n",
    "                                        initial_guess=0,\n",
    "                                        learning_rate=0.1,\n",
    "                                        training_data=data_dict,\n",
    "                                        num_iterations=100)  #<-- more iterations\n",
    "\n",
    "plt.plot(powers, label='estimated power')\n",
    "plt.plot(losses, label='loss')\n",
    "plt.legend(loc='center right')\n",
    "plt.title('Estimating sine with a power (badly)')\n",
    "\n",
    "#ok it's converged but not to a great loss.  This is unsurprising \n",
    "#since x^p is a bad model for sine(x)"
   ]
  },
  {
   "cell_type": "code",
   "execution_count": 26,
   "metadata": {
    "collapsed": true,
    "deletable": true,
    "editable": true
   },
   "outputs": [],
   "source": [
    "#how should we improve? \n",
    "#THE MACHINE LEARNING ANSWER:  well, let's have more parameters in our model!\n",
    "\n",
    "#actually, let's write a model using the Taylor series idea more explicitly:\n",
    "#    y ~ sum_i a_i x^i  \n",
    "#for some coefficients a_i that we have to learn"
   ]
  },
  {
   "cell_type": "code",
   "execution_count": 27,
   "metadata": {
    "collapsed": true,
    "deletable": true,
    "editable": true
   },
   "outputs": [],
   "source": [
    "#let's go out to x^5, so approx_order = 7 (remember, we're 0-indexing in python)\n",
    "approximation_order = 6\n",
    "\n",
    "#ok so now let's define the variabe we'll be using\n",
    "#instead of \"power\" this will be coefficients of the powers\n",
    "#with one coefficient for each power from 0 to approximation_order-1\n",
    "coefficients = tf.get_variable('coefficients', \n",
    "                        initializer = tf.zeros(shape=(approximation_order,)),\n",
    "                        dtype=tf.float32)"
   ]
  },
  {
   "cell_type": "code",
   "execution_count": 173,
   "metadata": {
    "collapsed": true,
    "deletable": true,
    "editable": true
   },
   "outputs": [],
   "source": [
    "#gotta run the initializer again b/c we just defined a new trainable variable\n",
    "initializer = tf.global_variables_initializer()\n",
    "sess.run(initializer)"
   ]
  },
  {
   "cell_type": "code",
   "execution_count": 29,
   "metadata": {
    "collapsed": false,
    "deletable": true,
    "editable": true
   },
   "outputs": [],
   "source": [
    "#Ok let's define the model\n",
    "\n",
    "#here's the vector of exponents\n",
    "powervec = tf.range(0, approximation_order, dtype=tf.float32)\n",
    "\n",
    "#we want to do essentially:\n",
    "#     sum_i coefficient_i * x^powervec[i]\n",
    "#but to do x^powervec, we need to create an additional dimension on x\n",
    "x_expanded = tf.expand_dims(x, axis=1)\n",
    "\n",
    "#ok, now we can actually do x^powervec\n",
    "x_exponentiated = x_expanded**powervec\n",
    "\n",
    "#now multiply by the coefficient variable\n",
    "x_multiplied_by_coefficients = coefficients * x_exponentiated\n",
    "\n",
    "#and add up over the 1st dimension e.g. dong the sum_i\n",
    "polynomial_model = tf.reduce_sum(x_multiplied_by_coefficients, axis=1)\n",
    "\n",
    "#the loss is again l2 difference between prediction and desired output\n",
    "polynomial_loss = tf.reduce_mean((polynomial_model - y)**2)"
   ]
  },
  {
   "cell_type": "code",
   "execution_count": 174,
   "metadata": {
    "collapsed": false,
    "deletable": true,
    "editable": true
   },
   "outputs": [
    {
     "data": {
      "text/plain": [
       "array([ 0.,  0.,  0.,  0.,  0.,  0.,  0.,  0.,  0.,  0.,  0.,  0.,  0.,\n",
       "        0.,  0.,  0.,  0.,  0.,  0.,  0.,  0.,  0.,  0.,  0.,  0.,  0.,\n",
       "        0.,  0.,  0.,  0.,  0.,  0.,  0.,  0.,  0.,  0.,  0.,  0.,  0.,\n",
       "        0.,  0.,  0.,  0.,  0.,  0.,  0.,  0.,  0.,  0.,  0.,  0.,  0.,\n",
       "        0.,  0.,  0.,  0.,  0.,  0.,  0.,  0.,  0.,  0.,  0.,  0.,  0.,\n",
       "        0.,  0.,  0.,  0.,  0.,  0.,  0.,  0.,  0.,  0.,  0.,  0.,  0.,\n",
       "        0.,  0.,  0.,  0.,  0.,  0.,  0.,  0.,  0.,  0.,  0.,  0.,  0.,\n",
       "        0.,  0.,  0.,  0.,  0.,  0.,  0.,  0.,  0.,  0.,  0.,  0.,  0.,\n",
       "        0.,  0.,  0.,  0.,  0.,  0.,  0.,  0.,  0.,  0.,  0.,  0.,  0.,\n",
       "        0.,  0.,  0.,  0.,  0.,  0.,  0.,  0.,  0.,  0.,  0.,  0.,  0.,\n",
       "        0.,  0.,  0.,  0.,  0.,  0.,  0.,  0.,  0.,  0.,  0.,  0.,  0.,\n",
       "        0.,  0.,  0.,  0.,  0.,  0.,  0.,  0.,  0.,  0.,  0.,  0.,  0.,\n",
       "        0.,  0.,  0.,  0.,  0.,  0.,  0.,  0.,  0.,  0.,  0.,  0.,  0.,\n",
       "        0.,  0.,  0.,  0.,  0.,  0.,  0.,  0.,  0.,  0.,  0.,  0.,  0.,\n",
       "        0.,  0.,  0.,  0.,  0.,  0.,  0.,  0.,  0.,  0.,  0.,  0.,  0.,\n",
       "        0.,  0.,  0.,  0.,  0.], dtype=float32)"
      ]
     },
     "execution_count": 174,
     "metadata": {},
     "output_type": "execute_result"
    }
   ],
   "source": [
    "xval = np.arange(-2, 2, .02)\n",
    "yval = np.sin(xval)\n",
    "\n",
    "data_dict = {x: xval, y:yval}\n",
    "\n",
    "#starting out at 0 since the coefficients were all intialized to 0\n",
    "sess.run(polynomial_model, feed_dict=data_dict)"
   ]
  },
  {
   "cell_type": "code",
   "execution_count": 110,
   "metadata": {
    "collapsed": true,
    "deletable": true,
    "editable": true
   },
   "outputs": [],
   "source": [
    "#ok let's try it\n",
    "losses, coefvals, grads = gradient_descent(loss=polynomial_loss,\n",
    "                                        target=coefficients,\n",
    "                                        initial_guess=np.zeros(approximation_order),\n",
    "                                        learning_rate=0.1,  \n",
    "                                        training_data=data_dict,\n",
    "                                        num_iterations=100)  \n"
   ]
  },
  {
   "cell_type": "code",
   "execution_count": 111,
   "metadata": {
    "collapsed": false,
    "deletable": true,
    "editable": true
   },
   "outputs": [
    {
     "name": "stdout",
     "output_type": "stream",
     "text": [
      "100\n"
     ]
    },
    {
     "data": {
      "text/plain": [
       "(6,)"
      ]
     },
     "execution_count": 111,
     "metadata": {},
     "output_type": "execute_result"
    }
   ],
   "source": [
    "#ok, so for each timstep we have 6 values -- the coefficients\n",
    "print(len(coefvals))\n",
    "\n",
    "coefvals[-1].shape"
   ]
  },
  {
   "cell_type": "code",
   "execution_count": 112,
   "metadata": {
    "collapsed": false,
    "deletable": true,
    "editable": true
   },
   "outputs": [
    {
     "data": {
      "text/plain": [
       "array([ nan,  nan,  nan,  nan,  nan,  nan], dtype=float32)"
      ]
     },
     "execution_count": 112,
     "metadata": {},
     "output_type": "execute_result"
    }
   ],
   "source": [
    "#here's the last set of coefficients learned\n",
    "coefvals[-1]\n",
    "#whoa -- what's going on?  "
   ]
  },
  {
   "cell_type": "code",
   "execution_count": 113,
   "metadata": {
    "collapsed": false,
    "deletable": true,
    "editable": true
   },
   "outputs": [],
   "source": [
    "#let's lower the learning rate\n",
    "losses, coefvals, grads = gradient_descent(loss=polynomial_loss,\n",
    "                                        target=coefficients,\n",
    "                                        initial_guess=np.zeros(approximation_order),\n",
    "                                        learning_rate=0.005,  #<-- lowered learning rate\n",
    "                                        training_data=data_dict,\n",
    "                                        num_iterations=100)  \n"
   ]
  },
  {
   "cell_type": "code",
   "execution_count": 114,
   "metadata": {
    "collapsed": false,
    "deletable": true,
    "editable": true
   },
   "outputs": [
    {
     "data": {
      "text/plain": [
       "array([-0.00102979,  0.25239715, -0.00184434,  0.20770763,  0.00133661,\n",
       "       -0.032684  ], dtype=float32)"
      ]
     },
     "execution_count": 114,
     "metadata": {},
     "output_type": "execute_result"
    }
   ],
   "source": [
    "#ok not quite as bad\n",
    "coefvals[-1]"
   ]
  },
  {
   "cell_type": "code",
   "execution_count": 115,
   "metadata": {
    "collapsed": false,
    "deletable": true,
    "editable": true
   },
   "outputs": [
    {
     "data": {
      "text/plain": [
       "[<matplotlib.lines.Line2D at 0x7fd9a117c750>]"
      ]
     },
     "execution_count": 115,
     "metadata": {},
     "output_type": "execute_result"
    },
    {
     "data": {
      "image/png": "[encoded data removed]",
      "text/plain": [
       "<matplotlib.figure.Figure at 0x7fd979237f10>"
      ]
     },
     "metadata": {},
     "output_type": "display_data"
    }
   ],
   "source": [
    "#let's visualize what we learned\n",
    "x0 = coefvals[-1]\n",
    "assign_op = tf.assign(coefficients, x0)\n",
    "sess.run(assign_op)\n",
    "\n",
    "plt.plot(xval, sess.run(polynomial_model, feed_dict={x:xval}))\n",
    "plt.plot(xval, yval)\n",
    "\n",
    "#ok, fine, but not great"
   ]
  },
  {
   "cell_type": "code",
   "execution_count": 116,
   "metadata": {
    "collapsed": false,
    "deletable": true,
    "editable": true
   },
   "outputs": [
    {
     "data": {
      "text/plain": [
       "[<matplotlib.lines.Line2D at 0x7fd979084510>]"
      ]
     },
     "execution_count": 116,
     "metadata": {},
     "output_type": "execute_result"
    },
    {
     "data": {
      "image/png": "[encoded data removed]",
      "text/plain": [
       "<matplotlib.figure.Figure at 0x7fd979084b50>"
      ]
     },
     "metadata": {},
     "output_type": "display_data"
    }
   ],
   "source": [
    "#what if we let it run longer? \n",
    "losses, coefvals, grads = gradient_descent(loss=polynomial_loss,\n",
    "                                        target=coefficients,\n",
    "                                        initial_guess=np.zeros(approximation_order),\n",
    "                                        learning_rate=0.005,  \n",
    "                                        training_data=data_dict,\n",
    "                                        num_iterations=5000)  #<-- more iterations\n",
    "\n",
    "x0 = coefvals[-1]\n",
    "assign_op = tf.assign(coefficients, x0)\n",
    "sess.run(assign_op)\n",
    "\n",
    "plt.plot(xval, sess.run(polynomial_model, feed_dict={x:xval}))\n",
    "plt.plot(xval, yval)\n",
    "\n",
    "#ok much better"
   ]
  },
  {
   "cell_type": "markdown",
   "metadata": {
    "deletable": true,
    "editable": true
   },
   "source": [
    "### Tensorflow's Built-In Optimizers"
   ]
  },
  {
   "cell_type": "code",
   "execution_count": 65,
   "metadata": {
    "collapsed": true,
    "deletable": true,
    "editable": true
   },
   "outputs": [],
   "source": [
    "def tf_builtin_optimization(loss,\n",
    "                            optimizer_class,\n",
    "                            target,\n",
    "                            training_data,\n",
    "                            num_iterations,\n",
    "                            optimizer_args=(),\n",
    "                            optimizer_kwargs={},\n",
    "                           ):\n",
    "    \n",
    "    #construct the optimizer\n",
    "    optimizer = optimizer_class(*optimizer_args, \n",
    "                                **optimizer_kwargs)\n",
    "    #formal tensorflow optimizers will always have a \"minimize\" method\n",
    "    #this is how you actually get the optimizer op\n",
    "    optimizer_op = optimizer.minimize(loss)\n",
    "    \n",
    "    init_op = tf.global_variables_initializer()\n",
    "    sess.run(init_op)\n",
    "\n",
    "    targetvals = []\n",
    "    losses = []\n",
    "    for i in range(num_iterations):\n",
    "        output = sess.run({'opt': optimizer_op,\n",
    "                           'target': target,\n",
    "                           'loss': loss}, \n",
    "                          feed_dict=training_data)\n",
    "        targetvals.append(output['target'])\n",
    "        losses.append(output['loss'])\n",
    "                \n",
    "    return np.array(losses), targetvals"
   ]
  },
  {
   "cell_type": "code",
   "execution_count": 71,
   "metadata": {
    "collapsed": false,
    "deletable": true,
    "editable": true
   },
   "outputs": [
    {
     "data": {
      "text/plain": [
       "[<matplotlib.lines.Line2D at 0x7fd9a11f1e90>]"
      ]
     },
     "execution_count": 71,
     "metadata": {},
     "output_type": "execute_result"
    },
    {
     "data": {
      "image/png": "[encoded data removed]",
      "text/plain": [
       "<matplotlib.figure.Figure at 0x7fd9a10c44d0>"
      ]
     },
     "metadata": {},
     "output_type": "display_data"
    }
   ],
   "source": [
    "xval = np.arange(-2, 2, .02)\n",
    "yval = np.sin(xval)\n",
    "\n",
    "data_dict = {x: xval, y:yval}\n",
    "\n",
    "losses, coefvals = tf_builtin_optimization(loss=polynomial_loss,\n",
    "                              optimizer_class=tf.train.GradientDescentOptimizer,\n",
    "                              target=coefficients,\n",
    "                              training_data=data_dict,\n",
    "                              num_iterations=5000,\n",
    "                              optimizer_args=(0.005,),\n",
    "                              )  #<-- more iterations\n",
    "\n",
    "x0 = coefvals[-1]\n",
    "assign_op = tf.assign(coefficients, x0)\n",
    "sess.run(assign_op)\n",
    "\n",
    "plt.plot(xval, sess.run(polynomial_model, feed_dict={x:xval}))\n",
    "plt.plot(xval, yval)\n",
    "\n",
    "#right ok, we recovered what we did before by hand, now using\n",
    "#the standard tensorflow tools"
   ]
  },
  {
   "cell_type": "code",
   "execution_count": 158,
   "metadata": {
    "collapsed": false,
    "deletable": true,
    "editable": true
   },
   "outputs": [
    {
     "data": {
      "text/plain": [
       "<matplotlib.text.Text at 0x7fd962ec0310>"
      ]
     },
     "execution_count": 158,
     "metadata": {},
     "output_type": "execute_result"
    },
    {
     "data": {
      "image/png": "[encoded data removed]",
      "text/plain": [
       "<matplotlib.figure.Figure at 0x7fd968e86450>"
      ]
     },
     "metadata": {},
     "output_type": "display_data"
    }
   ],
   "source": [
    "#Let's use the Momentum Optimizer. standard parameters for learning \n",
    "#are learning_rate = 0.01 and momentum = 0.9\n",
    "\n",
    "xval = np.arange(-2, 2, .02)\n",
    "yval = np.sin(xval )\n",
    "data_dict = {x: xval, y:yval}\n",
    "\n",
    "losses, coefvals = tf_builtin_optimization(loss=polynomial_loss,\n",
    "                              optimizer_class=tf.train.MomentumOptimizer,\n",
    "                              target=coefficients,\n",
    "                              training_data=data_dict,\n",
    "                              num_iterations=200, #<-- notice many fewer iteratins\n",
    "                              optimizer_kwargs={'learning_rate': 0.01,\n",
    "                                                'momentum': 0.9}) \n",
    "x0 = coefvals[-1]\n",
    "assign_op = tf.assign(coefficients, x0)\n",
    "sess.run(assign_op)\n",
    "\n",
    "plt.figure(figsize=(10, 3))\n",
    "plt.subplot(1, 2, 1)\n",
    "plt.plot(xval, sess.run(polynomial_model, feed_dict={x:xval}))\n",
    "plt.plot(xval, yval)\n",
    "\n",
    "plt.subplot(1, 2, 2)\n",
    "plt.plot(losses)\n",
    "plt.xlabel('iterations')\n",
    "plt.ylabel('loss')\n",
    "plt.title('Loss with Momentum Optimizer')\n",
    "\n",
    "#basically momentum allows us to get away with a higher initial learning rate \n",
    "#(and thus fewer iterations) without blowing up"
   ]
  },
  {
   "cell_type": "code",
   "execution_count": 157,
   "metadata": {
    "collapsed": false,
    "deletable": true,
    "editable": true
   },
   "outputs": [
    {
     "data": {
      "text/plain": [
       "<matplotlib.text.Text at 0x7fd963139c90>"
      ]
     },
     "execution_count": 157,
     "metadata": {},
     "output_type": "execute_result"
    },
    {
     "data": {
      "image/png": "[encoded data removed]",
      "text/plain": [
       "<matplotlib.figure.Figure at 0x7fd963232e50>"
      ]
     },
     "metadata": {},
     "output_type": "display_data"
    }
   ],
   "source": [
    "#and we can try some other stuff, such as the Adam Optimizer\n",
    "\n",
    "losses, coefvals = tf_builtin_optimization(loss=polynomial_loss,\n",
    "                              optimizer_class=tf.train.AdamOptimizer,\n",
    "                              target=coefficients,\n",
    "                              training_data=data_dict,\n",
    "                              num_iterations=500,\n",
    "                              optimizer_kwargs={'learning_rate': 0.01})                                            \n",
    "                            \n",
    "x0 = coefvals[-1]\n",
    "assign_op = tf.assign(coefficients, x0)\n",
    "sess.run(assign_op)\n",
    "\n",
    "plt.figure(figsize=(10, 3))\n",
    "plt.subplot(1, 2, 1)\n",
    "plt.plot(xval, sess.run(polynomial_model, feed_dict={x:xval}))\n",
    "plt.plot(xval, yval)\n",
    "\n",
    "plt.subplot(1, 2, 2)\n",
    "plt.plot(losses)\n",
    "plt.xlabel('iterations')\n",
    "plt.ylabel('loss')\n",
    "plt.title('Loss with Adam optimizer')\n",
    "\n",
    "#Adam as usualy requires a bit more steps than Momentum -- but the advantage of Adam\n",
    "#is that sometimes Momentum blows up and Adam is usually more stable\n",
    "#(compare the loss traces! even though Momentum didn't below up above, it's\n",
    "#loss is much more jaggedy -- signs up potential blowup)"
   ]
  },
  {
   "cell_type": "code",
   "execution_count": 166,
   "metadata": {
    "collapsed": false,
    "deletable": true,
    "editable": true
   },
   "outputs": [
    {
     "data": {
      "text/plain": [
       "<matplotlib.text.Text at 0x7fd961d96110>"
      ]
     },
     "execution_count": 166,
     "metadata": {},
     "output_type": "execute_result"
    },
    {
     "data": {
      "image/png": "[encoded data removed]",
      "text/plain": [
       "<matplotlib.figure.Figure at 0x7fd9632a6dd0>"
      ]
     },
     "metadata": {},
     "output_type": "display_data"
    }
   ],
   "source": [
    "#so hm ... maybe because Adam is more stable we can jack up the \n",
    "#initial learning rate and thus converge even faster than with Momentum\n",
    "\n",
    "losses, coefvals = tf_builtin_optimization(loss=polynomial_loss,\n",
    "                              optimizer_class=tf.train.AdamOptimizer,\n",
    "                              target=coefficients,\n",
    "                              training_data=data_dict,\n",
    "                              num_iterations=150,\n",
    "                              optimizer_kwargs={'learning_rate': 0.5})                                            \n",
    "                            \n",
    "x0 = coefvals[-1]\n",
    "assign_op = tf.assign(coefficients, x0)\n",
    "sess.run(assign_op)\n",
    "\n",
    "plt.figure(figsize=(10, 3))\n",
    "plt.subplot(1, 2, 1)\n",
    "plt.plot(xval, sess.run(polynomial_model, feed_dict={x:xval}))\n",
    "plt.plot(xval, yval)\n",
    "\n",
    "plt.subplot(1, 2, 2)\n",
    "plt.plot(losses)\n",
    "plt.xlabel('iterations')\n",
    "plt.ylabel('loss')\n",
    "plt.title('Loss with Adam optimizer\\nhigh initial learning rate')\n",
    "\n",
    "#indeed we can!"
   ]
  },
  {
   "cell_type": "markdown",
   "metadata": {
    "collapsed": true,
    "deletable": true,
    "editable": true
   },
   "source": [
    "### Newton's Method  (Second Order)"
   ]
  },
  {
   "cell_type": "code",
   "execution_count": 168,
   "metadata": {
    "collapsed": false,
    "deletable": true,
    "editable": true
   },
   "outputs": [],
   "source": [
    "def newtons_method(loss, \n",
    "                   target,\n",
    "                   initial_guess,\n",
    "                   training_data,\n",
    "                   num_iterations,\n",
    "                   grad2clip=1.):\n",
    "    \n",
    "    #create initialization operation\n",
    "    initial_op = tf.assign(target, initial_guess)    \n",
    "\n",
    "    grad = tf.gradients(loss, target)[0]\n",
    "    #to actually compute the second order correction \n",
    "    #we split the one-variable and multi-variable cases up -- for ease of working\n",
    "    \n",
    "    if len(target.shape) == 0:   #one-variable case\n",
    "        #actually get the second derivative\n",
    "        grad2 = tf.gradients(grad, target)[0]\n",
    "        \n",
    "        #now morally we want to compute:\n",
    "        #    newval = target - grad / grad2\n",
    "        #BUT there is often numerical instability caused by dividing\n",
    "        #by grad2 if grad2 is small... so we have to clip grad2 by a clip value\n",
    "        clippedgrad2 = tf.maximum(grad2, grad2clip)\n",
    "        \n",
    "        #and now we can do the newton's formula update\n",
    "        newval = tf.add(target, -tf.divide(grad, clippedgrad2))\n",
    "    else:\n",
    "        #in the multi-variable case, we first compute the hessian matrix\n",
    "        #thank gosh tensorflow has this built in finally!\n",
    "        hess = tf.hessians(loss, target)[0]\n",
    "        #now we take it's inverse\n",
    "        hess_inv = tf.matrix_inverse(hess)\n",
    "        #now we get H^{-1} grad, e.g. multiple the matrix by the vector\n",
    "        hess_inv_grad = tf.tensordot(hess_inv, grad, 1)\n",
    "        #again we have to clip for numerical stability\n",
    "        hess_inv_grad = tf.clip_by_value(hess_inv_grad, -grad2clip, grad2clip)\n",
    "        #and get the new value for the parameters\n",
    "        newval = tf.add(target, -hess_inv_grad)\n",
    "    \n",
    "    #the rest of the code is just as in the gradient descent case\n",
    "    optimizer_op = tf.assign(target, newval)    \n",
    "    targetvals = []\n",
    "    losses = []\n",
    "    gradvals = []\n",
    "    sess.run(initial_op)\n",
    "    for i in range(num_iterations):        \n",
    "        output = sess.run({'opt': optimizer_op,\n",
    "                           'grad': grad, \n",
    "                           'target': target,\n",
    "                           'loss': loss}, \n",
    "                          feed_dict=training_data)\n",
    "        targetvals.append(output['target'])\n",
    "        losses.append(output['loss'])\n",
    "        gradvals.append(output['grad'])\n",
    "    return losses, targetvals, gradvals\n"
   ]
  },
  {
   "cell_type": "code",
   "execution_count": 169,
   "metadata": {
    "collapsed": false,
    "deletable": true,
    "editable": true
   },
   "outputs": [
    {
     "data": {
      "text/plain": [
       "<matplotlib.text.Text at 0x7fd961b7a3d0>"
      ]
     },
     "execution_count": 169,
     "metadata": {},
     "output_type": "execute_result"
    },
    {
     "data": {
      "image/png": "[encoded data removed]",
      "text/plain": [
       "<matplotlib.figure.Figure at 0x7fd9626eea90>"
      ]
     },
     "metadata": {},
     "output_type": "display_data"
    }
   ],
   "source": [
    "xval = np.arange(0, 2, .01)\n",
    "yval = np.arange(0, 2, .01)**2\n",
    "data_dict = {x: xval, y:yval}\n",
    "\n",
    "losses, powers, grads = newtons_method(loss=power_loss,\n",
    "                                       target=power,\n",
    "                                       initial_guess=0,\n",
    "                                       training_data=data_dict,\n",
    "                                       num_iterations=20,\n",
    "                                       grad2clip=1)\n",
    "\n",
    "\n",
    "plt.plot(powers, label='estimated power')\n",
    "plt.plot(losses, label='loss')\n",
    "plt.legend(loc='upper right')\n",
    "plt.title(\"Newton's Method on Quadractic\")\n",
    "\n",
    "#whoa -- much faster than before"
   ]
  },
  {
   "cell_type": "code",
   "execution_count": 172,
   "metadata": {
    "collapsed": false,
    "deletable": true,
    "editable": true
   },
   "outputs": [
    {
     "data": {
      "text/plain": [
       "<matplotlib.text.Text at 0x7fd96191b850>"
      ]
     },
     "execution_count": 172,
     "metadata": {},
     "output_type": "execute_result"
    },
    {
     "data": {
      "image/png": "[encoded data removed]",
      "text/plain": [
       "<matplotlib.figure.Figure at 0x7fd961ac9d50>"
      ]
     },
     "metadata": {},
     "output_type": "display_data"
    }
   ],
   "source": [
    "xval = np.arange(0, 2, .01)\n",
    "yval = np.arange(0, 2, .01)**3\n",
    "data_dict = {x: xval, y:yval}\n",
    "\n",
    "losses, powers, grads = newtons_method(loss=power_loss,\n",
    "                                       target=power,\n",
    "                                       initial_guess=0,\n",
    "                                       training_data=data_dict,\n",
    "                                       num_iterations=20,\n",
    "                                       grad2clip=1)\n",
    "\n",
    "\n",
    "plt.plot(powers, label='estimated power')\n",
    "plt.plot(losses, label='loss')\n",
    "plt.legend(loc='upper right')\n",
    "plt.title(\"Newton's Method on a Cubic\")\n"
   ]
  },
  {
   "cell_type": "code",
   "execution_count": 139,
   "metadata": {
    "collapsed": false,
    "deletable": true,
    "editable": true
   },
   "outputs": [
    {
     "data": {
      "text/plain": [
       "<matplotlib.text.Text at 0x7fd969b2e390>"
      ]
     },
     "execution_count": 139,
     "metadata": {},
     "output_type": "execute_result"
    },
    {
     "data": {
      "image/png": "[encoded data removed]",
      "text/plain": [
       "<matplotlib.figure.Figure at 0x7fd969c8e710>"
      ]
     },
     "metadata": {},
     "output_type": "display_data"
    }
   ],
   "source": [
    "xval = np.arange(-2, 2, .02)\n",
    "yval = np.sin(xval)\n",
    "\n",
    "data_dict = {x: xval, y:yval}\n",
    "\n",
    "losses, coefvals, grads = newtons_method(loss=polynomial_loss,\n",
    "                                        target=coefficients,\n",
    "                                        initial_guess=np.zeros(approximation_order),\n",
    "                                        training_data=data_dict,\n",
    "                                        num_iterations=2)\n",
    "\n",
    "x0 = coefvals[-1]\n",
    "assign_op = tf.assign(coefficients, x0)\n",
    "sess.run(assign_op)\n",
    "\n",
    "plt.figure(figsize=(10, 3))\n",
    "plt.subplot(1, 2, 1)\n",
    "plt.plot(xval, sess.run(polynomial_model, feed_dict={x:xval}))\n",
    "plt.plot(xval, yval)\n",
    "\n",
    "plt.subplot(1, 2, 2)\n",
    "plt.plot(losses)\n",
    "plt.xlabel('iterations')\n",
    "plt.ylabel('loss')\n",
    "\n",
    "#no joke -- the error goes to 0 after 1 update step\n"
   ]
  },
  {
   "cell_type": "code",
   "execution_count": 141,
   "metadata": {
    "collapsed": false,
    "deletable": true,
    "editable": true
   },
   "outputs": [
    {
     "data": {
      "text/plain": [
       "<matplotlib.text.Text at 0x7fd9691d8f10>"
      ]
     },
     "execution_count": 141,
     "metadata": {},
     "output_type": "execute_result"
    },
    {
     "data": {
      "image/png": "[encoded data removed]",
      "text/plain": [
       "<matplotlib.figure.Figure at 0x7fd969edfb50>"
      ]
     },
     "metadata": {},
     "output_type": "display_data"
    }
   ],
   "source": [
    "#let's try something a little more complicated \n",
    "\n",
    "xval = np.arange(-2, 2, .02)\n",
    "yval = np.cos(2 * xval) + np.sin(xval + 1)\n",
    "\n",
    "data_dict = {x: xval, y:yval}\n",
    "\n",
    "losses, coefvals, grads = newtons_method(loss=polynomial_loss,\n",
    "                                        target=coefficients,\n",
    "                                        initial_guess=np.zeros(approximation_order),\n",
    "                                        training_data=data_dict,\n",
    "                                        num_iterations=5)\n",
    "\n",
    "x0 = coefvals[-1]\n",
    "assign_op = tf.assign(coefficients, x0)\n",
    "sess.run(assign_op)\n",
    "\n",
    "plt.figure(figsize=(10, 3))\n",
    "plt.subplot(1, 2, 1)\n",
    "plt.plot(xval, sess.run(polynomial_model, feed_dict={x:xval}))\n",
    "plt.plot(xval, yval)\n",
    "\n",
    "plt.subplot(1, 2, 2)\n",
    "plt.plot(losses)\n",
    "plt.xlabel('iterations')\n",
    "plt.ylabel('loss')\n",
    "\n",
    "#really fast -- actually Newton's method always converges this fast if\n",
    "#the model is polynomial\n"
   ]
  },
  {
   "cell_type": "code",
   "execution_count": 144,
   "metadata": {
    "collapsed": false,
    "deletable": true,
    "editable": true
   },
   "outputs": [
    {
     "data": {
      "text/plain": [
       "<matplotlib.text.Text at 0x7fd968b59610>"
      ]
     },
     "execution_count": 144,
     "metadata": {},
     "output_type": "execute_result"
    },
    {
     "data": {
      "image/png": "[encoded data removed]",
      "text/plain": [
       "<matplotlib.figure.Figure at 0x7fd96b4222d0>"
      ]
     },
     "metadata": {},
     "output_type": "display_data"
    }
   ],
   "source": [
    "#just to put the above in context, let's compare to momentum\n",
    "\n",
    "xval = np.arange(-2, 2, .02)\n",
    "yval = np.cos(2 * xval) + np.sin(xval + 1)\n",
    "\n",
    "data_dict = {x: xval, y:yval}\n",
    "\n",
    "losses, coefvals = tf_builtin_optimization(loss=polynomial_loss,\n",
    "                              optimizer_class=tf.train.MomentumOptimizer,\n",
    "                              target=coefficients,\n",
    "                              training_data=data_dict,\n",
    "                              num_iterations=200,\n",
    "                              optimizer_kwargs={'learning_rate': 0.01,\n",
    "                                                'momentum': 0.9},\n",
    "                              ) \n",
    "x0 = coefvals[-1]\n",
    "assign_op = tf.assign(coefficients, x0)\n",
    "sess.run(assign_op)\n",
    "\n",
    "plt.figure(figsize=(10, 3))\n",
    "plt.subplot(1, 2, 1)\n",
    "plt.plot(xval, sess.run(polynomial_model, feed_dict={x:xval}))\n",
    "plt.plot(xval, yval)\n",
    "\n",
    "plt.subplot(1, 2, 2)\n",
    "plt.plot(losses)\n",
    "plt.xlabel('iterations')\n",
    "plt.ylabel('loss')"
   ]
  },
  {
   "cell_type": "markdown",
   "metadata": {
    "deletable": true,
    "editable": true
   },
   "source": [
    "### Quasi-Second Order methods (L-BFGS)"
   ]
  },
  {
   "cell_type": "code",
   "execution_count": null,
   "metadata": {
    "collapsed": true,
    "deletable": true,
    "editable": true
   },
   "outputs": [],
   "source": []
  }
 ],
 "metadata": {
  "kernelspec": {
   "display_name": "Python 2",
   "language": "python",
   "name": "python2"
  },
  "language_info": {
   "codemirror_mode": {
    "name": "ipython",
    "version": 2
   },
   "file_extension": ".py",
   "mimetype": "text/x-python",
   "name": "python",
   "nbconvert_exporter": "python",
   "pygments_lexer": "ipython2",
   "version": "2.7.12"
  }
 },
 "nbformat": 4,
 "nbformat_minor": 2
}
