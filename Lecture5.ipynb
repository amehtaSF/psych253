{
 "cells": [
  {
   "cell_type": "code",
   "execution_count": 50,
   "metadata": {
    "collapsed": true
   },
   "outputs": [],
   "source": [
    "%matplotlib inline\n",
    "\n",
    "import matplotlib\n",
    "import matplotlib.pyplot as plt\n",
    "\n",
    "#the above imports the plotting library matplotlib"
   ]
  },
  {
   "cell_type": "code",
   "execution_count": 9,
   "metadata": {
    "collapsed": true
   },
   "outputs": [],
   "source": [
    "#standard imports\n",
    "import pymongo as pm\n",
    "import numpy as np\n",
    "import h5py\n",
    "import scipy as sp\n",
    "import scipy.stats as stats\n",
    "\n",
    "#let's import the SVM classifier\n",
    "from sklearn.svm import LinearSVC\n",
    "\n",
    "#our own internal utility unctions\n",
    "import metrics ; reload(metrics)\n",
    "import cross_validation as cv; reload(cv)\n",
    "from utils import featurewise_norm\n"
   ]
  },
  {
   "cell_type": "code",
   "execution_count": 5,
   "metadata": {
    "collapsed": true
   },
   "outputs": [],
   "source": [
    "#ok let's load the data \n",
    "DATA_PATH = \"/home/chengxuz/Class/psych253_2018/data/ventral_neural_data.hdf5\"\n",
    "Ventral_Dataset = h5py.File(DATA_PATH)\n",
    "\n",
    "categories = Ventral_Dataset['image_meta']['category'][:]   #array of category labels for all images  --> shape == (5760,)\n",
    "unique_categories = np.unique(categories)                #array of unique category labels --> shape == (8,)\n",
    "objects = Ventral_Dataset['image_meta']['object_name'][:]   #array of object labels for all images --> shape == (5670,)\n",
    "unique_objects = np.unique(objects)                      #array of unique object labels --> shape == (64,) \n",
    "\n",
    "objects_by_category = {c: np.unique(objects[categories == c]) \n",
    "                       for c in unique_categories}\n",
    "\n",
    "Neural_Data = Ventral_Dataset['time_averaged_trial_averaged'][:]\n",
    "IT_NEURONS = Ventral_Dataset['neural_meta']['IT_NEURONS']\n",
    "V4_NEURONS = Ventral_Dataset['neural_meta']['V4_NEURONS']\n",
    "V4_Neural_Data = Neural_Data[:, V4_NEURONS]\n",
    "IT_Neural_Data = Neural_Data[:, IT_NEURONS]\n",
    "\n",
    "var_level = Ventral_Dataset['image_meta']['variation_level'][:]\n",
    "\n",
    "#use numpy recarray object to store metadata \n",
    "meta_array = np.core.records.fromarrays(Ventral_Dataset['image_meta'].values(),\n",
    "                                        names=Ventral_Dataset['image_meta'].keys())"
   ]
  },
  {
   "cell_type": "code",
   "execution_count": 3,
   "metadata": {
    "collapsed": true
   },
   "outputs": [],
   "source": [
    "HUMAN_DATA_PATH = \"/mnt/data3/yamins/visual/human_behavior.hdf5\"\n",
    "Behavioral_Dataset = h5py.File(HUMAN_DATA_PATH)"
   ]
  },
  {
   "cell_type": "code",
   "execution_count": 17,
   "metadata": {
    "collapsed": false
   },
   "outputs": [],
   "source": [
    "expnames = [('Basic_categorization', 'category')] + \\\n",
    "            [(c + '_identification', 'obj') for c in unique_categories]\n",
    "\n",
    "    \n",
    "human_confmats = {}\n",
    "for expname, exp_goal in expnames:\n",
    "    if 'Basic' in expname:\n",
    "        ucats = unique_categories\n",
    "    else:\n",
    "        catn = expname.split('_')[0]\n",
    "        ucats = objects_by_category[catn]\n",
    "    preds = Behavioral_Dataset[expname]['chosen']\n",
    "    actuals = Behavioral_Dataset[expname]['actual']\n",
    "    vls = Behavioral_Dataset[expname]['variation_level']\n",
    "    cms = np.array([metrics.get_confusion_matrix(p, a, ucats) for p, a in zip(preds, actuals)])\n",
    "    human_confmats[expname] = {'all': cms}\n",
    "    for v in ['V0', 'V3', 'V6']:\n",
    "        cms = np.array([metrics.get_confusion_matrix(p[vl==v], a[vl==v], ucats) \n",
    "                             for p, a, vl in zip(preds, actuals, vls)])\n",
    "        human_confmats[expname][v] = cms\n",
    "                     "
   ]
  },
  {
   "cell_type": "code",
   "execution_count": 91,
   "metadata": {
    "collapsed": false
   },
   "outputs": [],
   "source": [
    "pretty_good_cval = 1e-3\n",
    "var_levels = ['all', 'V0', 'V3', 'V6']\n",
    "        \n",
    "def get_splits_and_labels(expname, exp_goal, vl):\n",
    "    num_test = 10\n",
    "    if vl == 'V0':\n",
    "        num_test = 5\n",
    "        num_train = 10 - num_test\n",
    "    elif vl in ['V3', 'V6']:\n",
    "        num_train = 40 - num_test\n",
    "    else:\n",
    "        num_train = 90 - num_test\n",
    "    if exp_goal == 'category':\n",
    "        if vl == 'all':\n",
    "            train_filter = None\n",
    "            test_filter = None\n",
    "        else:\n",
    "            train_filter = lambda x: (x['variation_level'] == vl)\n",
    "            test_filter = lambda x: (x['variation_level'] == vl)\n",
    "\n",
    "        labels = meta_array['category']\n",
    "    else:\n",
    "        catn = expname.split('_')[0]\n",
    "        if vl == 'all':\n",
    "            train_filter = lambda x: (x['category'] == catn)\n",
    "            test_filter = lambda x: (x['category'] == catn)\n",
    "        else:\n",
    "            train_filter = lambda x: (x['variation_level'] == vl) and (x['category'] == catn)\n",
    "            test_filter = lambda x: (x['variation_level'] == vl) and (x['category'] == catn)\n",
    "\n",
    "        labels = meta_array['object_name']\n",
    "        \n",
    "    splits = cv.get_splits(metadata=meta_array, \n",
    "                           split_by_func=lambda x: x['object_name'],  #we're balancing splits by object\n",
    "                           num_splits=5,  \n",
    "                           num_per_class_test=num_test,  \n",
    "                           num_per_class_train=num_train,\n",
    "                           train_filter=train_filter,\n",
    "                           test_filter=test_filter\n",
    "                           )\n",
    "   \n",
    "    return splits, labels\n",
    "    \n"
   ]
  },
  {
   "cell_type": "code",
   "execution_count": 92,
   "metadata": {
    "collapsed": false
   },
   "outputs": [
    {
     "name": "stdout",
     "output_type": "stream",
     "text": [
      "Getting results for Basic_categorization all\n",
      "Mean accuracy: 74.38\n",
      "Getting results for Basic_categorization V0\n",
      "Mean accuracy: 92.38\n",
      "Getting results for Basic_categorization V3\n",
      "Mean accuracy: 85.03\n",
      "Getting results for Basic_categorization V6\n",
      "Mean accuracy: 61.44\n",
      "Getting results for Animals_identification all\n",
      "Mean accuracy: 69.50\n",
      "Getting results for Animals_identification V0\n",
      "Mean accuracy: 89.00\n",
      "Getting results for Animals_identification V3\n",
      "Mean accuracy: 75.50\n",
      "Getting results for Animals_identification V6\n",
      "Mean accuracy: 52.25\n",
      "Getting results for Boats_identification all\n",
      "Mean accuracy: 57.50\n",
      "Getting results for Boats_identification V0\n",
      "Mean accuracy: 96.00\n",
      "Getting results for Boats_identification V3\n",
      "Mean accuracy: 55.50\n",
      "Getting results for Boats_identification V6\n",
      "Mean accuracy: 36.50\n",
      "Getting results for Cars_identification all\n",
      "Mean accuracy: 32.00\n",
      "Getting results for Cars_identification V0\n",
      "Mean accuracy: 72.50\n",
      "Getting results for Cars_identification V3\n",
      "Mean accuracy: 37.00\n",
      "Getting results for Cars_identification V6\n",
      "Mean accuracy: 15.25\n",
      "Getting results for Chairs_identification all\n",
      "Mean accuracy: 54.00\n",
      "Getting results for Chairs_identification V0\n",
      "Mean accuracy: 86.00\n",
      "Getting results for Chairs_identification V3\n",
      "Mean accuracy: 56.75\n",
      "Getting results for Chairs_identification V6\n",
      "Mean accuracy: 35.75\n",
      "Getting results for Faces_identification all\n",
      "Mean accuracy: 16.25\n",
      "Getting results for Faces_identification V0\n",
      "Mean accuracy: 65.00\n",
      "Getting results for Faces_identification V3\n",
      "Mean accuracy: 15.75\n",
      "Getting results for Faces_identification V6\n",
      "Mean accuracy: 15.00\n",
      "Getting results for Fruits_identification all\n",
      "Mean accuracy: 67.75\n",
      "Getting results for Fruits_identification V0\n",
      "Mean accuracy: 97.00\n",
      "Getting results for Fruits_identification V3\n",
      "Mean accuracy: 75.00\n",
      "Getting results for Fruits_identification V6\n",
      "Mean accuracy: 47.00\n",
      "Getting results for Planes_identification all\n",
      "Mean accuracy: 42.00\n",
      "Getting results for Planes_identification V0\n",
      "Mean accuracy: 71.50\n",
      "Getting results for Planes_identification V3\n",
      "Mean accuracy: 39.25\n",
      "Getting results for Planes_identification V6\n",
      "Mean accuracy: 36.25\n",
      "Getting results for Tables_identification all\n",
      "Mean accuracy: 54.75\n",
      "Getting results for Tables_identification V0\n",
      "Mean accuracy: 53.50\n",
      "Getting results for Tables_identification V3\n",
      "Mean accuracy: 48.00\n",
      "Getting results for Tables_identification V6\n",
      "Mean accuracy: 41.25\n"
     ]
    }
   ],
   "source": [
    "neural_results = {}\n",
    "for expname, exp_goal in expnames:\n",
    "    neural_results[expname] = {}\n",
    "    for vl in var_levels:\n",
    "        print('Getting results for %s %s' % (expname, vl))\n",
    "        splits, labels = get_splits_and_labels(expname, exp_goal, vl)\n",
    "        neural_results[expname][vl] = cv.train_and_test_scikit_classifier(features=Neural_Data, \n",
    "                                     labels=labels,\n",
    "                                     splits=splits,\n",
    "                                     model_class=LinearSVC,\n",
    "                                     model_args={'C': pretty_good_cval})\n",
    "        acc = neural_results[expname][vl][0]['test']['mean_accuracy'] * 100\n",
    "        print('Mean accuracy: %.2f' % acc)\n"
   ]
  },
  {
   "cell_type": "code",
   "execution_count": 93,
   "metadata": {
    "collapsed": false
   },
   "outputs": [],
   "source": [
    "neural_confmats = {}\n",
    "for expname, exp_goal in expnames:\n",
    "    neural_confmats[expname] = {}\n",
    "    for vl in var_levels:\n",
    "        neural_confmats[expname][vl] = \\\n",
    "             neural_results[expname][vl][0]['test']['confusion_matrices']\n"
   ]
  },
  {
   "cell_type": "code",
   "execution_count": 56,
   "metadata": {
    "collapsed": true
   },
   "outputs": [],
   "source": [
    "def get_off_diagonal(mat):\n",
    "    n = mat.shape[0]\n",
    "    i0, i1 = np.triu_indices(n, 1)\n",
    "    i2, i3 = np.tril_indices(n, -1)\n",
    "    return np.concatenate([mat[i0, i1], mat[i2, i3]])"
   ]
  },
  {
   "cell_type": "code",
   "execution_count": null,
   "metadata": {
    "collapsed": true
   },
   "outputs": [],
   "source": [
    "plt.matshow(neural_confmats['Basic_categorization']['all'].mean(0))\n",
    "plt.matshow(human_confmats['Basic_categorization']['all'].mean(0))"
   ]
  },
  {
   "cell_type": "code",
   "execution_count": 94,
   "metadata": {
    "collapsed": false
   },
   "outputs": [
    {
     "data": {
      "text/plain": [
       "<matplotlib.text.Text at 0x7efec07d3dd0>"
      ]
     },
     "execution_count": 94,
     "metadata": {},
     "output_type": "execute_result"
    },
    {
     "data": {
      "image/png": "[encoded data removed]",
      "text/plain": [
       "<matplotlib.figure.Figure at 0x7efec0a89d50>"
      ]
     },
     "metadata": {},
     "output_type": "display_data"
    }
   ],
   "source": [
    "_ks = expnames\n",
    "_vls = ['V3','V6']\n",
    "clip = 100\n",
    "\n",
    "d1 = []\n",
    "d2 = []\n",
    "for _k, _ig in _ks:\n",
    "    for _vl in _vls:\n",
    "        neural_dprime = np.clip(neural_results[_k][_vl][0]['test']['mean_dprime'], -clip, clip)\n",
    "        human_dprime = np.clip(metrics.dprime_confmat(human_confmats[_k][_vl].mean(0)), -clip, clip)\n",
    "        d1.extend(neural_dprime)   \n",
    "        d2.extend(human_dprime)\n",
    "\n",
    "plt.scatter(d1, d2)\n",
    "corrval = stats.spearmanr(d1, d2)[0]\n",
    "plt.title('Corrval = %.2f' % corrval)"
   ]
  },
  {
   "cell_type": "code",
   "execution_count": 95,
   "metadata": {
    "collapsed": false
   },
   "outputs": [
    {
     "data": {
      "text/plain": [
       "<matplotlib.text.Text at 0x7efec0710cd0>"
      ]
     },
     "execution_count": 95,
     "metadata": {},
     "output_type": "execute_result"
    },
    {
     "data": {
      "image/png": "[encoded data removed]",
      "text/plain": [
       "<matplotlib.figure.Figure at 0x7efec07ce5d0>"
      ]
     },
     "metadata": {},
     "output_type": "display_data"
    }
   ],
   "source": [
    "_ks = [('Basic_categorization', None)]\n",
    "_vls = var_levels\n",
    "clip = 100\n",
    "\n",
    "d1 = []\n",
    "d2 = []\n",
    "for _k, _ig in _ks:\n",
    "    for _vl in _vls:\n",
    "        neural_dprime = np.clip(neural_results[_k][_vl][0]['test']['mean_dprime'], -clip, clip)\n",
    "        human_dprime = np.clip(metrics.dprime_confmat(human_confmats[_k][_vl].mean(0)), -clip, clip)\n",
    "        d1.extend(neural_dprime)   \n",
    "        d2.extend(human_dprime)\n",
    "\n",
    "plt.scatter(d1, d2)\n",
    "corrval = stats.spearmanr(d1, d2)[0]\n",
    "plt.title('Corrval = %.2f' % corrval)"
   ]
  },
  {
   "cell_type": "code",
   "execution_count": 96,
   "metadata": {
    "collapsed": false
   },
   "outputs": [
    {
     "data": {
      "text/plain": [
       "<matplotlib.text.Text at 0x7efec065b510>"
      ]
     },
     "execution_count": 96,
     "metadata": {},
     "output_type": "execute_result"
    },
    {
     "data": {
      "image/png": "[encoded data removed]",
      "text/plain": [
       "<matplotlib.figure.Figure at 0x7efec08cb050>"
      ]
     },
     "metadata": {},
     "output_type": "display_data"
    }
   ],
   "source": [
    "_ks = [ ('Cars_identification', None)]\n",
    "_vls = ['V3', 'V6']\n",
    "clip = 100\n",
    "\n",
    "d1 = []\n",
    "d2 = []\n",
    "for _k, _ig in _ks:\n",
    "    for _vl in _vls:\n",
    "        neural_dprime = np.clip(neural_results[_k][_vl][0]['test']['mean_dprime'], -clip, clip)\n",
    "        human_dprime = np.clip(metrics.dprime_confmat(human_confmats[_k][_vl].mean(0)), -clip, clip)\n",
    "        d1.extend(neural_dprime)   \n",
    "        d2.extend(human_dprime)\n",
    "\n",
    "plt.scatter(d1, d2)\n",
    "corrval = stats.spearmanr(d1, d2)[0]\n",
    "plt.title('Corrval = %.2f' % corrval)"
   ]
  },
  {
   "cell_type": "code",
   "execution_count": null,
   "metadata": {
    "collapsed": true
   },
   "outputs": [],
   "source": []
  }
 ],
 "metadata": {
  "kernelspec": {
   "display_name": "Python 2",
   "language": "python",
   "name": "python2"
  },
  "language_info": {
   "codemirror_mode": {
    "name": "ipython",
    "version": 2
   },
   "file_extension": ".py",
   "mimetype": "text/x-python",
   "name": "python",
   "nbconvert_exporter": "python",
   "pygments_lexer": "ipython2",
   "version": "2.7.12"
  }
 },
 "nbformat": 4,
 "nbformat_minor": 2
}
