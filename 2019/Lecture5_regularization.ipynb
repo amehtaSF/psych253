{
 "cells": [
  {
   "cell_type": "code",
   "execution_count": 2,
   "metadata": {
    "collapsed": true,
    "deletable": true,
    "editable": true
   },
   "outputs": [],
   "source": [
    "%matplotlib inline\n",
    "import matplotlib\n",
    "import matplotlib.pyplot as plt"
   ]
  },
  {
   "cell_type": "code",
   "execution_count": 3,
   "metadata": {
    "collapsed": true,
    "deletable": true,
    "editable": true
   },
   "outputs": [],
   "source": [
    "#other useful imports \n",
    "import numpy as np\n",
    "import scipy as sp\n",
    "import scipy.stats as stats\n",
    "import h5py"
   ]
  },
  {
   "cell_type": "code",
   "execution_count": 4,
   "metadata": {
    "collapsed": false,
    "deletable": true,
    "editable": true
   },
   "outputs": [
    {
     "data": {
      "text/plain": [
       "<module 'cross_validation' from 'cross_validation.pyc'>"
      ]
     },
     "execution_count": 4,
     "metadata": {},
     "output_type": "execute_result"
    }
   ],
   "source": [
    "#loading code modules containing some of the routines we wrote last time\n",
    "#... so we don't have to write them again here! this is called \"code reuse\" :)\n",
    "\n",
    "import metrics ; reload(metrics)\n",
    "import cross_validation as cv; reload(cv)\n"
   ]
  },
  {
   "cell_type": "code",
   "execution_count": 5,
   "metadata": {
    "collapsed": true,
    "deletable": true,
    "editable": true
   },
   "outputs": [],
   "source": [
    "#ok let's load our usual data \n",
    "DATA_PATH = \"/home/chengxuz/Class/psych253_2018/data/ventral_neural_data.hdf5\"\n",
    "Ventral_Dataset = h5py.File(DATA_PATH)"
   ]
  },
  {
   "cell_type": "code",
   "execution_count": 6,
   "metadata": {
    "collapsed": true,
    "deletable": true,
    "editable": true
   },
   "outputs": [],
   "source": [
    "Neural_Data = Ventral_Dataset['time_averaged_trial_averaged'][:]\n"
   ]
  },
  {
   "cell_type": "code",
   "execution_count": 7,
   "metadata": {
    "collapsed": true,
    "deletable": true,
    "editable": true
   },
   "outputs": [],
   "source": [
    "meta_array = np.core.records.fromarrays(Ventral_Dataset['image_meta'].values(),\n",
    "                                        names=Ventral_Dataset['image_meta'].keys())\n"
   ]
  },
  {
   "cell_type": "code",
   "execution_count": 8,
   "metadata": {
    "collapsed": true,
    "deletable": true,
    "editable": true
   },
   "outputs": [],
   "source": [
    "#now, let's actually import the Linear Support Vector Classifier (LinearSVC)\n",
    "#from scikit\n",
    "from sklearn.svm import LinearSVC"
   ]
  },
  {
   "cell_type": "code",
   "execution_count": 9,
   "metadata": {
    "collapsed": false,
    "deletable": true,
    "editable": true
   },
   "outputs": [
    {
     "name": "stdout",
     "output_type": "stream",
     "text": [
      "SVM Classifier Default Regulazation Var level V0 performance on Faces vs Fruits: 100.00%\n",
      "SVM Classifier Default Regulazation Var level V3 performance on Faces vs Fruits: 95.75%\n",
      "SVM Classifier Default Regulazation Var level V6 performance on Faces vs Fruits: 77.00%\n"
     ]
    }
   ],
   "source": [
    "cat1 = 'Faces'\n",
    "cat2 = 'Fruits'\n",
    "\n",
    "results_svm_default = {}\n",
    "for vl in ['V0', 'V3', 'V6']:\n",
    "    splits = cv.get_splits(meta_array, \n",
    "                        lambda x: x['object_name'],  \n",
    "                        10,  \n",
    "                        5,  \n",
    "                        5 if vl == 'V0' else 35,  \n",
    "                        train_filter=lambda x: (x['variation_level'] == vl) and (x['category'] in [cat1, cat2]),\n",
    "                        test_filter=lambda x: (x['variation_level'] == vl) and (x['category'] in [cat1, cat2])\n",
    "                       )\n",
    "\n",
    "    results, train_classes = cv.train_and_test_scikit_classifier(features=Neural_Data, \n",
    "                                               labels=meta_array['category'],\n",
    "                                               splits=splits,\n",
    "                                               model_class=LinearSVC,\n",
    "                                              )\n",
    "    results_svm_default[vl] = results\n",
    "    print('SVM Classifier Default Regulazation Var level %s performance on %s vs %s: %.2f%%' % (vl,   \n",
    "                                                                           cat1,\n",
    "                                                                           cat2,\n",
    "                                                                           100*results['test']['mean_accuracy']))\n",
    "\n"
   ]
  },
  {
   "cell_type": "code",
   "execution_count": 10,
   "metadata": {
    "collapsed": false,
    "deletable": true,
    "editable": true
   },
   "outputs": [
    {
     "name": "stdout",
     "output_type": "stream",
     "text": [
      "L2 Regularized SVM Classifier Var level V0 performance on Faces vs Fruits: 100.00%\n",
      "L2 Regularized SVM Classifier Var level V3 performance on Faces vs Fruits: 96.63%\n",
      "L2 Regularized SVM Classifier Var level V6 performance on Faces vs Fruits: 80.50%\n"
     ]
    }
   ],
   "source": [
    "#Let's do a bit more regularization (lower C)\n",
    "\n",
    "\n",
    "results_l2_svm = {}\n",
    "for vl in ['V0', 'V3', 'V6']:\n",
    "    splits = cv.get_splits(meta_array, \n",
    "                        lambda x: x['object_name'],  \n",
    "                        10,  \n",
    "                        5,  \n",
    "                        5 if vl == 'V0' else 35,  \n",
    "                        train_filter=lambda x: (x['variation_level'] == vl) and (x['category'] in [cat1, cat2]),\n",
    "                        test_filter=lambda x: (x['variation_level'] == vl) and (x['category'] in [cat1, cat2])\n",
    "                       )\n",
    "\n",
    "    results, train_classes = cv.train_and_test_scikit_classifier(features=Neural_Data, \n",
    "                                               labels=meta_array['category'],\n",
    "                                               splits=splits,\n",
    "                                               model_class=LinearSVC,\n",
    "                                               model_args={'C': 5e-3}  ##HERE'S WHERE THE REGULARIZATION \n",
    "                                                                       ##PARAMETER IS INJECTED\n",
    "                                                                       ##NB This C is proportional to 1 / lambda\n",
    "                                                                       ##So small C is MORE regularization \n",
    "                                              )\n",
    "    results_l2_svm[vl] = results\n",
    "    print('L2 Regularized SVM Classifier Var level %s performance on %s vs %s: %.2f%%' % (vl,   \n",
    "                                                                           cat1,\n",
    "                                                                           cat2,\n",
    "                                                                           100*results['test']['mean_accuracy']))\n",
    "\n",
    "#So actually, doing somewhat less than the default (C=1) is better for results"
   ]
  },
  {
   "cell_type": "code",
   "execution_count": 11,
   "metadata": {
    "collapsed": false,
    "deletable": true,
    "editable": true
   },
   "outputs": [
    {
     "name": "stdout",
     "output_type": "stream",
     "text": [
      "SVM Classifier Var level V0 performance 8-way: 91.69%\n",
      "SVM Classifier Var level V3 performance 8-way: 77.78%\n",
      "SVM Classifier Var level V6 performance 8-way: 54.62%\n",
      "SVM Classifier Var level V0 test performance 8-way: 91.69%\n",
      "SVM Classifier Var level V0 train performance 8-way: 100.00%\n",
      "SVM Classifier Var level V3 test performance 8-way: 77.78%\n",
      "SVM Classifier Var level V3 train performance 8-way: 99.82%\n",
      "SVM Classifier Var level V6 test performance 8-way: 54.62%\n",
      "SVM Classifier Var level V6 train performance 8-way: 87.14%\n"
     ]
    }
   ],
   "source": [
    "#now let's look at this for 8-way tasks not just binary\n",
    "#first with default regularization ... \n",
    "\n",
    "results_svm_classifier_8way = {}\n",
    "for vl in ['V0', 'V3', 'V6']:\n",
    "    splits = cv.get_splits(meta_array, \n",
    "                        lambda x: x['object_name'],  #we're balancing splits by object\n",
    "                        10,  \n",
    "                        5,  \n",
    "                        5 if vl == 'V0' else 35,  \n",
    "                        train_filter=lambda x: (x['variation_level'] == vl),\n",
    "                        test_filter=lambda x: (x['variation_level'] == vl)\n",
    "                       )\n",
    "\n",
    "    results, train_classes = cv.train_and_test_scikit_classifier(features=Neural_Data, \n",
    "                                               labels=meta_array['category'],\n",
    "                                               splits=splits,\n",
    "                                               model_class=LinearSVC\n",
    "                                              )\n",
    "    results_svm_classifier_8way[vl] = results\n",
    "    print('SVM Classifier Var level %s performance 8-way: %.2f%%' % (vl,\n",
    "                                                                     100*results['test']['mean_accuracy']))\n",
    "\n",
    "for vl in ['V0', 'V3', 'V6']:\n",
    "    print('SVM Classifier Var level %s test performance 8-way: %.2f%%' % (vl,\n",
    "                            100*results_svm_classifier_8way[vl]['test']['mean_accuracy']))\n",
    "    \n",
    "    print('SVM Classifier Var level %s train performance 8-way: %.2f%%' % (vl,\n",
    "                            100*results_svm_classifier_8way[vl]['train']['mean_accuracy']))\n",
    "\n",
    "#so the key observation is that the more heavily regularized L2 classifier has lower train performance\n",
    "#but higher test performance -- better generalization -- which is what matters!"
   ]
  },
  {
   "cell_type": "code",
   "execution_count": 12,
   "metadata": {
    "collapsed": false,
    "deletable": true,
    "editable": true
   },
   "outputs": [
    {
     "name": "stdout",
     "output_type": "stream",
     "text": [
      "More L2-Regularized SVM Classifier Var level V0 test performance 8-way: 93.12%\n",
      "More L2-Regularized SVM Classifier Var level V0 train performance 8-way: 100.00%\n",
      "More L2-Regularized SVM Classifier Var level V3 test performance 8-way: 84.62%\n",
      "More L2-Regularized SVM Classifier Var level V3 train performance 8-way: 95.17%\n",
      "More L2-Regularized SVM Classifier Var level V6 test performance 8-way: 60.94%\n",
      "More L2-Regularized SVM Classifier Var level V6 train performance 8-way: 81.19%\n"
     ]
    }
   ],
   "source": [
    "#... now again with more regularization (lower C)\n",
    "\n",
    "l2_results_svm_classifier_8way = {}\n",
    "for vl in ['V0', 'V3', 'V6']:\n",
    "    splits = cv.get_splits(meta_array, \n",
    "                        lambda x: x['object_name'],  #we're balancing splits by object\n",
    "                        10,  \n",
    "                        5,  \n",
    "                        5 if vl == 'V0' else 35,  \n",
    "                        train_filter=lambda x: (x['variation_level'] == vl),\n",
    "                        test_filter=lambda x: (x['variation_level'] == vl)\n",
    "                       )\n",
    "\n",
    "    results, train_classes = cv.train_and_test_scikit_classifier(features=Neural_Data, \n",
    "                                               labels=meta_array['category'],\n",
    "                                               splits=splits,\n",
    "                                               model_class=LinearSVC,\n",
    "                                               model_args = {'C': 5e-3} \n",
    "                                              )\n",
    "    l2_results_svm_classifier_8way[vl] = results\n",
    "    print('More L2-Regularized SVM Classifier Var level %s test performance 8-way: %.2f%%' % (vl,\n",
    "                                                                           100*results['test']['mean_accuracy']))\n",
    "    \n",
    "    print('More L2-Regularized SVM Classifier Var level %s train performance 8-way: %.2f%%' % (vl,\n",
    "                                                                           100*results['train']['mean_accuracy']))"
   ]
  },
  {
   "cell_type": "code",
   "execution_count": 13,
   "metadata": {
    "collapsed": true,
    "deletable": true,
    "editable": true
   },
   "outputs": [],
   "source": [
    "#ok so the interesting thing to notice about is that while with less regularization\n",
    "#training performance increases (e.g. 86.96% vs 81.19%) testing performance is worse \n",
    "#(54.44% vs 60.95%) -- so regularization can help prevent overfitting!"
   ]
  },
  {
   "cell_type": "code",
   "execution_count": 14,
   "metadata": {
    "collapsed": true,
    "deletable": true,
    "editable": true
   },
   "outputs": [],
   "source": [
    "#also, compare to the minimum distance classifier from the last lecture -- performance is really \n",
    "#much better here (e.g. ~61% vs ~43% there)"
   ]
  },
  {
   "cell_type": "markdown",
   "metadata": {
    "deletable": true,
    "editable": true
   },
   "source": [
    "### Effect of regularization values"
   ]
  },
  {
   "cell_type": "code",
   "execution_count": 46,
   "metadata": {
    "collapsed": false,
    "deletable": true,
    "editable": true
   },
   "outputs": [],
   "source": [
    "#Let's compare what happens to the weights at different values of the regularization\n",
    "\n",
    "splits = cv.get_splits(meta_array, \n",
    "                        lambda x: x['object_name'],  #we're balancing splits by object\n",
    "                        5,  \n",
    "                        5,  \n",
    "                        35,  \n",
    "                        train_filter=lambda x: (x['variation_level'] == 'V3'),\n",
    "                        test_filter=lambda x: (x['variation_level'] == 'V3')\n",
    "                       )\n",
    "\n",
    "results_defaultC, _ig = cv.train_and_test_scikit_classifier(features=Neural_Data, \n",
    "                                               labels=meta_array['category'],\n",
    "                                               splits=splits,\n",
    "                                               model_class=LinearSVC,\n",
    "                                               model_args={'C': 1},\n",
    "                                               return_models=True\n",
    "                                              )\n",
    "\n",
    "results_lowC, _ig = cv.train_and_test_scikit_classifier(features=Neural_Data, \n",
    "                                               labels=meta_array['category'],\n",
    "                                               splits=splits,\n",
    "                                               model_class=LinearSVC,\n",
    "                                               model_args={'C':5e-3},\n",
    "                                               return_models=True\n",
    "                                              )\n",
    "\n",
    "results_hiC, _ig = cv.train_and_test_scikit_classifier(features=Neural_Data, \n",
    "                                               labels=meta_array['category'],\n",
    "                                               splits=splits,\n",
    "                                               model_class=LinearSVC,\n",
    "                                               model_args={'C':5e3},\n",
    "                                               return_models=True\n",
    "                                              )\n",
    "\n",
    "trained_model_defaultC = results_defaultC['models'][0]\n",
    "trained_model_lowC = results_lowC['models'][0]\n",
    "trained_model_hiC = results_hiC['models'][0]"
   ]
  },
  {
   "cell_type": "code",
   "execution_count": 61,
   "metadata": {
    "collapsed": false,
    "deletable": true,
    "editable": true
   },
   "outputs": [
    {
     "data": {
      "text/plain": [
       "<matplotlib.text.Text at 0x7f20267f6690>"
      ]
     },
     "execution_count": 61,
     "metadata": {},
     "output_type": "execute_result"
    },
    {
     "data": {
      "image/png": "[encoded data removed]",
      "text/plain": [
       "<matplotlib.figure.Figure at 0x7f204a804650>"
      ]
     },
     "metadata": {},
     "output_type": "display_data"
    },
    {
     "data": {
      "text/plain": [
       "<matplotlib.figure.Figure at 0x7f204a804690>"
      ]
     },
     "metadata": {},
     "output_type": "display_data"
    },
    {
     "data": {
      "image/png": "[encoded data removed]",
      "text/plain": [
       "<matplotlib.figure.Figure at 0x7f20448634d0>"
      ]
     },
     "metadata": {},
     "output_type": "display_data"
    },
    {
     "data": {
      "text/plain": [
       "<matplotlib.figure.Figure at 0x7f2044863510>"
      ]
     },
     "metadata": {},
     "output_type": "display_data"
    },
    {
     "data": {
      "image/png": "[encoded data removed]",
      "text/plain": [
       "<matplotlib.figure.Figure at 0x7f20448d6810>"
      ]
     },
     "metadata": {},
     "output_type": "display_data"
    },
    {
     "data": {
      "image/png": "[encoded data removed]",
      "text/plain": [
       "<matplotlib.figure.Figure at 0x7f20448d6390>"
      ]
     },
     "metadata": {},
     "output_type": "display_data"
    }
   ],
   "source": [
    "weights_defaultC = trained_model_defaultC.coef_\n",
    "plt.matshow(weights_defaultC)\n",
    "\n",
    "plt.figure()\n",
    "weights_lowC = trained_model_lowC.coef_\n",
    "plt.matshow(trained_model_lowC.coef_)\n",
    "\n",
    "plt.figure()\n",
    "weights_hiC = trained_model_hiC.coef_\n",
    "plt.matshow(trained_model_hiC.coef_)\n",
    "\n",
    "\n",
    "plt.figure()\n",
    "l2 = plt.hist(weights_hiC.ravel(), bins=10);\n",
    "l0 = plt.hist(weights_defaultC.ravel(), bins=10);\n",
    "l1 = plt.hist(weights_lowC.ravel(), bins=10);\n",
    "plt.legend([l0[2][0], l1[2][0], l2[2][0]], ['Default C', 'Low C', 'Hi C'])\n",
    "plt.xlabel('Weight Value')\n",
    "plt.ylabel('Weight Count')\n",
    "plt.title('Weight Histogram -- L2 Reg.')\n",
    "\n",
    "\n",
    "#the weights of the low C (more heavily regularized) classifier are more close to 0\n",
    "#while weights of the hi C (more heavily regularized) classifier are more larger\n",
    "# ... as expected"
   ]
  },
  {
   "cell_type": "markdown",
   "metadata": {
    "deletable": true,
    "editable": true
   },
   "source": [
    "### Effect of regularization constant -- L1 regularization"
   ]
  },
  {
   "cell_type": "code",
   "execution_count": 47,
   "metadata": {
    "collapsed": false,
    "deletable": true,
    "editable": true
   },
   "outputs": [],
   "source": [
    "#Let's compare what happens to the weights at different values of the regularization\n",
    "\n",
    "splits = cv.get_splits(meta_array, \n",
    "                        lambda x: x['object_name'],  #we're balancing splits by object\n",
    "                        5,  \n",
    "                        5,  \n",
    "                        35,  \n",
    "                        train_filter=lambda x: (x['variation_level'] == 'V3'),\n",
    "                        test_filter=lambda x: (x['variation_level'] == 'V3')\n",
    "                       )\n",
    "\n",
    "results_defaultC_l1, _ig = cv.train_and_test_scikit_classifier(features=Neural_Data, \n",
    "                                               labels=meta_array['category'],\n",
    "                                               splits=splits,\n",
    "                                               model_class=LinearSVC,\n",
    "                                               model_args={'C': 1,\n",
    "                                                           'penalty': 'l1', \n",
    "                                                           'dual': False},\n",
    "                                               return_models=True\n",
    "                                              )\n",
    "\n",
    "results_lowC_l1, _ig = cv.train_and_test_scikit_classifier(features=Neural_Data, \n",
    "                                               labels=meta_array['category'],\n",
    "                                               splits=splits,\n",
    "                                               model_class=LinearSVC,\n",
    "                                               model_args={'C':5e-3,\n",
    "                                                           'penalty': 'l1', \n",
    "                                                           'dual': False},\n",
    "                                               return_models=True\n",
    "                                              )\n",
    "\n",
    "results_hiC_l1, _ig = cv.train_and_test_scikit_classifier(features=Neural_Data, \n",
    "                                               labels=meta_array['category'],\n",
    "                                               splits=splits,\n",
    "                                               model_class=LinearSVC,\n",
    "                                               model_args={'C':5e3,\n",
    "                                                           'penalty': 'l1', \n",
    "                                                           'dual': False},\n",
    "                                               return_models=True\n",
    "                                              )\n",
    "\n",
    "trained_model_defaultC_l1 = results_defaultC_l1['models'][0]\n",
    "trained_model_lowC_l1 = results_lowC_l1['models'][0]\n",
    "trained_model_hiC_l1 = results_hiC_l1['models'][0]"
   ]
  },
  {
   "cell_type": "code",
   "execution_count": 18,
   "metadata": {
    "collapsed": false,
    "deletable": true,
    "editable": true
   },
   "outputs": [
    {
     "data": {
      "text/plain": [
       "<matplotlib.text.Text at 0x7f2026c94bd0>"
      ]
     },
     "execution_count": 18,
     "metadata": {},
     "output_type": "execute_result"
    },
    {
     "data": {
      "image/png": "[encoded data removed]",
      "text/plain": [
       "<matplotlib.figure.Figure at 0x7f204a86c750>"
      ]
     },
     "metadata": {},
     "output_type": "display_data"
    },
    {
     "data": {
      "text/plain": [
       "<matplotlib.figure.Figure at 0x7f204a86c590>"
      ]
     },
     "metadata": {},
     "output_type": "display_data"
    },
    {
     "data": {
      "image/png": "[encoded data removed]",
      "text/plain": [
       "<matplotlib.figure.Figure at 0x7f2026dbd690>"
      ]
     },
     "metadata": {},
     "output_type": "display_data"
    },
    {
     "data": {
      "text/plain": [
       "<matplotlib.figure.Figure at 0x7f2026dbd6d0>"
      ]
     },
     "metadata": {},
     "output_type": "display_data"
    },
    {
     "data": {
      "image/png": "[encoded data removed]",
      "text/plain": [
       "<matplotlib.figure.Figure at 0x7f2026d80a50>"
      ]
     },
     "metadata": {},
     "output_type": "display_data"
    },
    {
     "data": {
      "image/png": "[encoded data removed]",
      "text/plain": [
       "<matplotlib.figure.Figure at 0x7f2026d808d0>"
      ]
     },
     "metadata": {},
     "output_type": "display_data"
    }
   ],
   "source": [
    "weights_defaultC_l1 = trained_model_defaultC_l1.coef_\n",
    "plt.matshow(weights_defaultC_l1)\n",
    "\n",
    "plt.figure()\n",
    "weights_lowC_l1 = trained_model_lowC_l1.coef_\n",
    "plt.matshow(trained_model_lowC_l1.coef_)\n",
    "\n",
    "plt.figure()\n",
    "weights_hiC_l1 = trained_model_hiC_l1.coef_\n",
    "plt.matshow(trained_model_hiC_l1.coef_)\n",
    "\n",
    "\n",
    "plt.figure()\n",
    "l2 = plt.hist(weights_hiC_l1.ravel(), bins=10);\n",
    "l0 = plt.hist(weights_defaultC_l1.ravel(), bins=10);\n",
    "l1 = plt.hist(weights_lowC_l1.ravel(), bins=10);\n",
    "plt.legend([l0[2][0], l1[2][0], l2[2][0]], ['Default C', 'Low C', 'Hi C'])\n",
    "plt.xlabel('Weight Value')\n",
    "plt.ylabel('Weight Count')\n",
    "plt.title('Weight historgrams -- L1 reg.')\n",
    "\n",
    "\n",
    "#the weights of the low C (more heavily regularized) classifier are more close to 0\n",
    "#while weights of the hi C (more heavily regularized) classifier are more larger\n",
    "# ... as expected"
   ]
  },
  {
   "cell_type": "code",
   "execution_count": 22,
   "metadata": {
    "collapsed": false,
    "deletable": true,
    "editable": true
   },
   "outputs": [],
   "source": [
    "stats.kurtosis?"
   ]
  },
  {
   "cell_type": "code",
   "execution_count": 29,
   "metadata": {
    "collapsed": false,
    "deletable": true,
    "editable": true
   },
   "outputs": [
    {
     "data": {
      "text/plain": [
       "3.281564664855546"
      ]
     },
     "execution_count": 29,
     "metadata": {},
     "output_type": "execute_result"
    }
   ],
   "source": [
    "#check out kurtosis of weight distributio with L2-reg (C=5e-3)\n",
    "stats.kurtosis(weights_lowC.ravel())"
   ]
  },
  {
   "cell_type": "code",
   "execution_count": 26,
   "metadata": {
    "collapsed": false,
    "deletable": true,
    "editable": true
   },
   "outputs": [
    {
     "data": {
      "text/plain": [
       "85.96532492851034"
      ]
     },
     "execution_count": 26,
     "metadata": {},
     "output_type": "execute_result"
    }
   ],
   "source": [
    "#check out kurtosis of weight distributio with L1-reg (C=5e-3)\n",
    "stats.kurtosis(weights_lowC_l1.ravel())"
   ]
  },
  {
   "cell_type": "code",
   "execution_count": 39,
   "metadata": {
    "collapsed": false,
    "deletable": true,
    "editable": true
   },
   "outputs": [
    {
     "data": {
      "text/plain": [
       "<matplotlib.legend.Legend at 0x7f202674d250>"
      ]
     },
     "execution_count": 39,
     "metadata": {},
     "output_type": "execute_result"
    },
    {
     "data": {
      "image/png": "[encoded data removed]",
      "text/plain": [
       "<matplotlib.figure.Figure at 0x7f2026da7e90>"
      ]
     },
     "metadata": {},
     "output_type": "display_data"
    }
   ],
   "source": [
    "kurt = lambda x: stats.kurtosis(x.ravel())\n",
    "\n",
    "kurtoses_l2 = map(kurt, [weights_lowC, weights_defaultC, weights_hiC])\n",
    "kurtoses_l1 = map(kurt, [weights_lowC_l1, weights_defaultC_l1, weights_hiC_l1])\n",
    "\n",
    "l0 = plt.plot([5e-3, 1, 5e3], kurtoses_l2)\n",
    "l1 = plt.plot([5e-3, 1, 5e3], kurtoses_l1)\n",
    "ax = plt.gca()\n",
    "ax.set_xscale('log')\n",
    "ax.set_yscale('log')\n",
    "plt.xlabel('Regularization Constant (C)')\n",
    "plt.ylabel('Weight Sparsity')\n",
    "plt.title('C vs Sparsity')\n",
    "plt.legend([l0[0], l1[0]], ['L2-Reg', 'L1-Reg'])"
   ]
  },
  {
   "cell_type": "code",
   "execution_count": 31,
   "metadata": {
    "collapsed": false,
    "deletable": true,
    "editable": true
   },
   "outputs": [
    {
     "data": {
      "text/plain": [
       "<matplotlib.text.Text at 0x7f2026b52a50>"
      ]
     },
     "execution_count": 31,
     "metadata": {},
     "output_type": "execute_result"
    },
    {
     "data": {
      "image/png": "[encoded data removed]",
      "text/plain": [
       "<matplotlib.figure.Figure at 0x7f2026a49210>"
      ]
     },
     "metadata": {},
     "output_type": "display_data"
    }
   ],
   "source": [
    "plt.scatter(weights_lowC.ravel(), \n",
    "            weights_lowC_l1.ravel())\n",
    "plt.xlabel('L2 weights', fontsize=15)\n",
    "plt.ylabel('L1 weights', fontsize=15)\n",
    "plt.title('L1 vs L2 reg. weights', fontsize=15)"
   ]
  },
  {
   "cell_type": "code",
   "execution_count": 52,
   "metadata": {
    "collapsed": false,
    "deletable": true,
    "editable": true
   },
   "outputs": [
    {
     "name": "stdout",
     "output_type": "stream",
     "text": [
      "(0.760625, 0.805, 0.7693749999999999)\n",
      "(0.8568750000000002, 0.7793749999999999, 0.756875)\n"
     ]
    }
   ],
   "source": [
    "print(results_lowC_l1['test']['mean_accuracy'],\n",
    "      results_defaultC_l1['test']['mean_accuracy'],\n",
    "      results_hiC_l1['test']['mean_accuracy'])\n",
    "      \n",
    "print(results_lowC['test']['mean_accuracy'],\n",
    "      results_defaultC['test']['mean_accuracy'],\n",
    "      results_hiC['test']['mean_accuracy'])"
   ]
  },
  {
   "cell_type": "markdown",
   "metadata": {
    "deletable": true,
    "editable": true
   },
   "source": [
    "### Systematic Comparison Across Regularization Constant"
   ]
  },
  {
   "cell_type": "code",
   "execution_count": 57,
   "metadata": {
    "collapsed": false,
    "deletable": true,
    "editable": true
   },
   "outputs": [],
   "source": [
    "#Let's look at performance (training AND testing) as a function of regularization constant\n",
    "splits = cv.get_splits(meta_array, \n",
    "                        lambda x: x['object_name'],  #we're balancing splits by object\n",
    "                        5,  \n",
    "                        5,  \n",
    "                        35,  \n",
    "                        train_filter=lambda x: (x['variation_level'] == 'V3'),\n",
    "                        test_filter=lambda x: (x['variation_level'] == 'V3')\n",
    "                       )\n",
    "\n",
    "cvals = [1e-8, 1e-7, 1e-6, 1e-5, 1e-4, 1e-3, 1e-2, 1e-1, \n",
    "         1e0, 1e1, 1e2, 1e3, 1e4, 1e5, 1e6, 1e7, 1e8]\n",
    "\n",
    "def get_C_curve():\n",
    "    results = {}\n",
    "    for cval in cvals:\n",
    "        print('Getting results for cval=%f' % cval)\n",
    "        results[cval] = cv.train_and_test_scikit_classifier(features=Neural_Data, \n",
    "                                               labels=meta_array['category'],\n",
    "                                               splits=splits,\n",
    "                                               model_class=LinearSVC,\n",
    "                                               model_args={'C': cval}\n",
    "                                              )\n",
    "    return results"
   ]
  },
  {
   "cell_type": "code",
   "execution_count": 58,
   "metadata": {
    "collapsed": false,
    "deletable": true,
    "editable": true
   },
   "outputs": [
    {
     "name": "stdout",
     "output_type": "stream",
     "text": [
      "Getting results for cval=0.000000\n",
      "Getting results for cval=0.000000\n",
      "Getting results for cval=0.000001\n",
      "Getting results for cval=0.000010\n",
      "Getting results for cval=0.000100\n",
      "Getting results for cval=0.001000\n",
      "Getting results for cval=0.010000\n",
      "Getting results for cval=0.100000\n",
      "Getting results for cval=1.000000\n",
      "Getting results for cval=10.000000\n",
      "Getting results for cval=100.000000\n",
      "Getting results for cval=1000.000000\n",
      "Getting results for cval=10000.000000\n",
      "Getting results for cval=100000.000000\n",
      "Getting results for cval=1000000.000000\n",
      "Getting results for cval=10000000.000000\n",
      "Getting results for cval=100000000.000000\n"
     ]
    }
   ],
   "source": [
    "results_C_curve = get_C_curve()"
   ]
  },
  {
   "cell_type": "code",
   "execution_count": 59,
   "metadata": {
    "collapsed": false,
    "deletable": true,
    "editable": true
   },
   "outputs": [
    {
     "data": {
      "text/plain": [
       "<matplotlib.text.Text at 0x7f208c458590>"
      ]
     },
     "execution_count": 59,
     "metadata": {},
     "output_type": "execute_result"
    },
    {
     "data": {
      "image/png": "[encoded data removed]",
      "text/plain": [
       "<matplotlib.figure.Figure at 0x7f2044872550>"
      ]
     },
     "metadata": {},
     "output_type": "display_data"
    }
   ],
   "source": [
    "test_acc_curve = np.array([np.mean(results_C_curve[_cv][0]['test']['accuracy_by_split']) for _cv in cvals])\n",
    "test_acc_std = np.array([np.std(results_C_curve[_cv][0]['test']['accuracy_by_split']) for _cv in cvals])\n",
    "\n",
    "l0 = plt.semilogx(cvals, test_acc_curve)\n",
    "plt.fill_between(cvals, test_acc_curve - test_acc_std, test_acc_curve + test_acc_std, alpha=.2)\n",
    "\n",
    "optimal = test_acc_curve.argmax()\n",
    "optperf = test_acc_curve.max()\n",
    "plt.axvline(cvals[optimal])\n",
    "plt.annotate('Optimal test performance of %.3f\\nat C=%.3f' % (optperf, cvals[optimal]), \n",
    "             xy=(cvals[optimal], test_acc_curve[optimal]),\n",
    "             xytext=(cvals[optimal]+.1, test_acc_curve[optimal]+.05),\n",
    "             arrowprops=dict(linewidth=0.5, facecolor='black', shrink=0.05))\n",
    "    \n",
    "\n",
    "train_acc_curve = np.array([np.mean(results_C_curve[_cv][0]['train']['accuracy_by_split']) for _cv in cvals])\n",
    "train_acc_std = np.array([np.std(results_C_curve[_cv][0]['train']['accuracy_by_split']) for _cv in cvals])\n",
    "\n",
    "l1 = plt.semilogx(cvals, train_acc_curve)\n",
    "plt.fill_between(cvals, train_acc_curve - train_acc_std, train_acc_curve + train_acc_std, alpha=.2, color='g')\n",
    "\n",
    "plt.xlabel('Value of C (bigger = less regularization)')\n",
    "plt.ylabel('Performance on 8-way task\\n(at Variation V3 images)')\n",
    "plt.legend([l0[0], l1[0]], ['test', 'train'], loc='lower right')\n",
    "plt.title('Regularization Curve for L2-SVM')\n",
    "\n",
    "#OK, we see that\n",
    "#  (1) training and testing are both poor at very high levels of regularization (low C)\n",
    "#  (2) training performance increases monotonically as regularization decreases, \n",
    "#      converging to ceiling levels at very high values of C\n",
    "#  (3) overfitting (gap between green and blue) increases as regularization decreases\n",
    "#  (4) most important: there is an *optimal* level of regularization from a testing perspective"
   ]
  },
  {
   "cell_type": "code",
   "execution_count": 53,
   "metadata": {
    "collapsed": true
   },
   "outputs": [],
   "source": [
    "#Let's look at performance (training AND testing) as a function of regularization constant\n",
    "splits = cv.get_splits(meta_array, \n",
    "                        lambda x: x['object_name'],  #we're balancing splits by object\n",
    "                        5,  \n",
    "                        5,  \n",
    "                        35,  \n",
    "                        train_filter=lambda x: (x['variation_level'] == 'V3'),\n",
    "                        test_filter=lambda x: (x['variation_level'] == 'V3')\n",
    "                       )\n",
    "\n",
    "cvals = [1e-8, 1e-7, 1e-6, 1e-5, 1e-4, 1e-3, 1e-2, 1e-1, \n",
    "         1e0, 1e1, 1e2, 1e3, 1e4, 1e5, 1e6, 1e7, 1e8]\n",
    "\n",
    "def get_C_curve_l1():\n",
    "    results = {}\n",
    "    for cval in cvals:\n",
    "        print('Getting results for cval=%f' % cval)\n",
    "        results[cval] = cv.train_and_test_scikit_classifier(features=Neural_Data, \n",
    "                                               labels=meta_array['category'],\n",
    "                                               splits=splits,\n",
    "                                               model_class=LinearSVC,\n",
    "                                               model_args={'C': cval,\n",
    "                                                           'penalty': 'l1',\n",
    "                                                           'dual': False}\n",
    "                                              )\n",
    "    return results"
   ]
  },
  {
   "cell_type": "code",
   "execution_count": 54,
   "metadata": {
    "collapsed": false
   },
   "outputs": [
    {
     "name": "stdout",
     "output_type": "stream",
     "text": [
      "Getting results for cval=0.000000\n",
      "Getting results for cval=0.000000\n",
      "Getting results for cval=0.000001\n",
      "Getting results for cval=0.000010\n",
      "Getting results for cval=0.000100\n",
      "Getting results for cval=0.001000\n",
      "Getting results for cval=0.010000\n",
      "Getting results for cval=0.100000\n",
      "Getting results for cval=1.000000\n",
      "Getting results for cval=10.000000\n",
      "Getting results for cval=100.000000\n",
      "Getting results for cval=1000.000000\n",
      "Getting results for cval=10000.000000\n",
      "Getting results for cval=100000.000000\n",
      "Getting results for cval=1000000.000000\n",
      "Getting results for cval=10000000.000000\n",
      "Getting results for cval=100000000.000000\n"
     ]
    }
   ],
   "source": [
    "results_C_curve_l1 = get_C_curve_l1()"
   ]
  },
  {
   "cell_type": "code",
   "execution_count": 60,
   "metadata": {
    "collapsed": false
   },
   "outputs": [
    {
     "data": {
      "text/plain": [
       "<matplotlib.text.Text at 0x7f20448dfed0>"
      ]
     },
     "execution_count": 60,
     "metadata": {},
     "output_type": "execute_result"
    },
    {
     "data": {
      "image/png": "[encoded data removed]",
      "text/plain": [
       "<matplotlib.figure.Figure at 0x7f2026e4d290>"
      ]
     },
     "metadata": {},
     "output_type": "display_data"
    }
   ],
   "source": [
    "test_acc_curve_l1 = np.array([np.mean(results_C_curve_l1[_cv][0]['test']['accuracy_by_split']) for _cv in cvals])\n",
    "test_acc_std_l1 = np.array([np.std(results_C_curve_l1[_cv][0]['test']['accuracy_by_split']) for _cv in cvals])\n",
    "\n",
    "l0 = plt.semilogx(cvals, test_acc_curve_l1)\n",
    "plt.fill_between(cvals, \n",
    "                 test_acc_curve_l1 - test_acc_std_l1, \n",
    "                 test_acc_curve_l1 + test_acc_std_l1, \n",
    "                 alpha=.2)\n",
    "\n",
    "optimal = test_acc_curve_l1.argmax()\n",
    "optperf = test_acc_curve_l1.max()\n",
    "\n",
    "plt.axvline(cvals[optimal])\n",
    "plt.annotate('Optimal test performance of %.3f\\nat C=%.3f' % (optperf, cvals[optimal]), \n",
    "             xy=(cvals[optimal], test_acc_curve_l1[optimal]),\n",
    "             xytext=(cvals[optimal]+.1, test_acc_curve_l1[optimal]+.05),\n",
    "             arrowprops=dict(linewidth=0.5, facecolor='black', shrink=0.05))\n",
    "    \n",
    "\n",
    "train_acc_curve_l1 = np.array([np.mean(results_C_curve_l1[_cv][0]['train']['accuracy_by_split']) for _cv in cvals])\n",
    "train_acc_std_l1 = np.array([np.std(results_C_curve_l1[_cv][0]['train']['accuracy_by_split']) for _cv in cvals])\n",
    "\n",
    "l1 = plt.semilogx(cvals, train_acc_curve_l1)\n",
    "plt.fill_between(cvals, \n",
    "                 train_acc_curve_l1 - train_acc_std_l1,\n",
    "                 train_acc_curve_l1 + train_acc_std_l1, alpha=.2, color='g')\n",
    "\n",
    "plt.xlabel('Value of C (bigger = less regularization)')\n",
    "plt.ylabel('Performance on 8-way task\\n(at Variation V3 images)')\n",
    "plt.legend([l0[0], l1[0]], ['test', 'train'], loc='lower right')\n",
    "plt.title('Regularization Curve for L1-SVM')\n",
    "\n",
    "#OK, we see that\n",
    "#  (1) training and testing are both poor at very high levels of regularization (low C)\n",
    "#  (2) training performance increases monotonically as regularization decreases, \n",
    "#      converging to ceiling levels at very high values of C\n",
    "#  (3) overfitting (gap between green and blue) increases as regularization decreases\n",
    "#  (4) most important: there is an *optimal* level of regularization from a testing perspective"
   ]
  },
  {
   "cell_type": "markdown",
   "metadata": {
    "deletable": true,
    "editable": true
   },
   "source": [
    "### Cross-Validating your regularization parameter"
   ]
  },
  {
   "cell_type": "code",
   "execution_count": 39,
   "metadata": {
    "collapsed": false,
    "deletable": true,
    "editable": true
   },
   "outputs": [],
   "source": [
    "#let's use the built-in GridSearch facility to make it easy to do\n",
    "#search for the C parameter\n",
    "\n",
    "splits = cv.get_splits(meta_array, \n",
    "                        lambda x: x['object_name'],  #we're balancing splits by object\n",
    "                        2,  \n",
    "                        5,  \n",
    "                        35,  \n",
    "                        train_filter=lambda x: (x['variation_level'] == 'V3'),\n",
    "                        test_filter=lambda x: (x['variation_level'] == 'V3')\n",
    "                       )\n",
    "\n",
    "#ok notice that now instead of passing model_args#\n",
    "#we're passing gridcv_params\n",
    "gridCV_res = cv.train_and_test_scikit_classifier(features=Neural_Data, \n",
    "                                 labels=meta_array['category'],\n",
    "                                 splits=splits,\n",
    "                                 model_class=LinearSVC,\n",
    "                                 gridcv_params={'C': [1e-8, 1e-7, 1e-6, 1e-5, 1e-4, \n",
    "                                                      1e-3, 1e-2, 1e-1, 1e0, 1e1, 1e2, \n",
    "                                                      1e3, 1e4, 1e5, 1e6, 1e7, 1e8]},\n",
    "                                 return_models=True\n",
    "                                 )"
   ]
  },
  {
   "cell_type": "code",
   "execution_count": 40,
   "metadata": {
    "collapsed": false,
    "deletable": true,
    "editable": true
   },
   "outputs": [
    {
     "name": "stdout",
     "output_type": "stream",
     "text": [
      "Cross-validated search for C value accuracy: 85.94%\n",
      "('Chosen cvals:', [0.001, 0.001])\n"
     ]
    }
   ],
   "source": [
    "#OK, how well do this do?\n",
    "acc = gridCV_res[0]['test']['mean_accuracy']\n",
    "print(\"Cross-validated search for C value accuracy: %.2f%%\" % (100 * acc))\n",
    "#ok not bad!\n",
    "#And what value of C did it come up with? \n",
    "chosen_cvals = [_m.best_estimator_.C for _m in gridCV_res[0]['models']]\n",
    "print('Chosen cvals:', chosen_cvals)\n",
    "#Ah, it found the same one we did (1e-3) on both splits we tried"
   ]
  },
  {
   "cell_type": "code",
   "execution_count": null,
   "metadata": {
    "collapsed": true,
    "deletable": true,
    "editable": true
   },
   "outputs": [],
   "source": []
  }
 ],
 "metadata": {
  "kernelspec": {
   "display_name": "Python 2",
   "language": "python",
   "name": "python2"
  },
  "language_info": {
   "codemirror_mode": {
    "name": "ipython",
    "version": 2
   },
   "file_extension": ".py",
   "mimetype": "text/x-python",
   "name": "python",
   "nbconvert_exporter": "python",
   "pygments_lexer": "ipython2",
   "version": "2.7.12"
  }
 },
 "nbformat": 4,
 "nbformat_minor": 2
}
