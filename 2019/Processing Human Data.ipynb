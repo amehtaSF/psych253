{
 "cells": [
  {
   "cell_type": "code",
   "execution_count": 94,
   "metadata": {
    "collapsed": true
   },
   "outputs": [],
   "source": [
    "%matplotlib inline\n",
    "\n",
    "import matplotlib\n",
    "import matplotlib.pyplot as plt\n",
    "\n",
    "#the above imports the plotting library matplotlib"
   ]
  },
  {
   "cell_type": "code",
   "execution_count": 93,
   "metadata": {
    "collapsed": false
   },
   "outputs": [],
   "source": [
    "import pymongo as pm\n",
    "import numpy as np\n",
    "import h5py\n",
    "import scipy as sp\n",
    "import scipy.stats as stats"
   ]
  },
  {
   "cell_type": "code",
   "execution_count": 37,
   "metadata": {
    "collapsed": true
   },
   "outputs": [],
   "source": []
  },
  {
   "cell_type": "code",
   "execution_count": 2,
   "metadata": {
    "collapsed": true
   },
   "outputs": [],
   "source": [
    "conn = pm.MongoClient(port=22335)\n",
    "db = conn['mturk']"
   ]
  },
  {
   "cell_type": "code",
   "execution_count": 3,
   "metadata": {
    "collapsed": false
   },
   "outputs": [
    {
     "data": {
      "text/plain": [
       "[u'system.indexes',\n",
       " u'task3',\n",
       " u'labels',\n",
       " u'task9',\n",
       " u'HvM_7x7',\n",
       " u'objectome48',\n",
       " u'objectome48_validation',\n",
       " u'objectome64',\n",
       " u'xiaoxuan_test',\n",
       " u'learning_2wayface',\n",
       " u'learning_6wayface',\n",
       " u'objectome32',\n",
       " u'objectome32_validation',\n",
       " u'objectome_pilot',\n",
       " u'subjective_similarity',\n",
       " u'learning_6wayface_fb',\n",
       " u'learning_6wayface_var3_fb',\n",
       " u'car_recognition_8way',\n",
       " u'labels_HvM',\n",
       " u'imageNet16',\n",
       " u'temporal_learning',\n",
       " u'TEST',\n",
       " u'compensate',\n",
       " u'HvM',\n",
       " u'HvM_original',\n",
       " u'temporal_learning_HvM',\n",
       " u'rishi_test',\n",
       " u'image_embedding',\n",
       " u'basic_learning',\n",
       " u'HvM_face_embedsize_learning',\n",
       " u'monkobjectome',\n",
       " u'imagenet_psychophysics',\n",
       " u'diego_backup',\n",
       " u'pixel_hard_random_2_ways',\n",
       " u'1000_random_2_ways',\n",
       " u'hard_synsets_eight_way',\n",
       " u'model_hard_random_2_ways',\n",
       " u'hardest_8_random_2_ways',\n",
       " u'stratified8ways',\n",
       " u'objectome24_notxtbg',\n",
       " u'HvM_face_learning',\n",
       " u'basic_learning_short',\n",
       " u'HvM_face_learning_short',\n",
       " u'basic_learning_long',\n",
       " u'HvM_face_learning_long',\n",
       " u'hvm_timing',\n",
       " u'hvm_timing_followup',\n",
       " u'HvM_face_learning_overtime',\n",
       " u'HvM_face_learning_overtime_s',\n",
       " u'imagenet_dynamic_range',\n",
       " u'HvM_face_learning_overtime_nonswap',\n",
       " u'HvM_face_learning_overtime_ms',\n",
       " u'HvM_face_learning_overtime_mb',\n",
       " u'HvM_face_learning_overtime_long',\n",
       " u'hvm_timing_7x7',\n",
       " u'HvM_original_formatted',\n",
       " u'HvM_face_learning_overtime_long_switch',\n",
       " u'stratified8ways_0',\n",
       " u'toy_containment',\n",
       " u'stratified8ways_0_Canonical',\n",
       " u'hard_eight_way_method1',\n",
       " u'toy_containment_v2',\n",
       " u'toy_containment_v3',\n",
       " u'HvM_face_embedsize_learning_newpairs',\n",
       " u'objects_embedsize_learning_newpairs',\n",
       " u'hvm_reaction_time',\n",
       " u'mobj-semantic',\n",
       " u'hvm_timing_7x7_followup',\n",
       " u'HvM_face_learning_overtime_long_mb',\n",
       " u'hvm_figure_ground',\n",
       " u'hvm_figure_ground_random',\n",
       " u'hvm_axisbb_occluder',\n",
       " u'hvm_line_occluders',\n",
       " u'hvm_position_old',\n",
       " u'hvm_axis_bbox_old',\n",
       " u'hvm_area_bbox_old',\n",
       " u'hvm_size_old',\n",
       " u'hvm_size_simple_old',\n",
       " u'hvm_pose_old',\n",
       " u'hvm_position',\n",
       " u'hvm_axis_bbox',\n",
       " u'hvm_area_bbox',\n",
       " u'hvm_size_simple',\n",
       " u'hvm_pose_simple_test',\n",
       " u'hvm_pose_simple',\n",
       " u'hvmnopos_pose_simple',\n",
       " u'hvmnopos_size_simple',\n",
       " u'hvm_basic_categorization',\n",
       " u'hvm_subordinate_identification_Chairs',\n",
       " u'hvm_subordinate_identification_Animals',\n",
       " u'hvm_subordinate_identification_Boats',\n",
       " u'hvm_subordinate_identification_Cars',\n",
       " u'hvm_subordinate_identification_Faces',\n",
       " u'hvm_subordinate_identification_Fruits',\n",
       " u'hvm_subordinate_identification_Planes',\n",
       " u'hvm_subordinate_identification_Tables',\n",
       " u'hvm_basic_categorization_new',\n",
       " u'landolt_c',\n",
       " u'hvm_basic_2ways',\n",
       " u'hvm_objgrain',\n",
       " u'rosch_pose_exp',\n",
       " u'hvm10-slow',\n",
       " u'hvm_figure_ground_2',\n",
       " u'hvm_figure_ground_center_with_dot',\n",
       " u'hvm_subordinate_2ways',\n",
       " u'HvM_face_learning_overnight_nonmb',\n",
       " u'HvM_face_learning_overnight_nonmb2',\n",
       " u'HvM_face_learning_overnight_mb',\n",
       " u'adjective_rating',\n",
       " u'adjective_rating_fullvar',\n",
       " u'objectome_64objs_v2a',\n",
       " u'objectome_cars_subord',\n",
       " u'objectome_tcurve_16objsset0',\n",
       " u'HvM_face_learning_overnight_mb2',\n",
       " u'hvm_dense_smp_v6_s100',\n",
       " u'hvm_dense_smp_v6_2rpw',\n",
       " u'HvM_face_learning_overnight_switch2',\n",
       " u'hvm_dense_smp_v6sbg_2rpw',\n",
       " u'hvm_dense_smp_v6spkl_2rpw',\n",
       " u'large_dense_hvm',\n",
       " u'objectome_imglvl',\n",
       " u'freiwald_tsao_identification',\n",
       " u'freiwald_tsao_identification_fliptb',\n",
       " u'hvm10_basic_2ways',\n",
       " u'hvm10_basic_2ways_timing',\n",
       " u'hvm10_allvar_basic_2ways',\n",
       " u'ko_obj24_basic_2ways',\n",
       " u'objectome24-timing-nogap',\n",
       " u'objectome24-timing',\n",
       " u'hvm10-timing-nogap',\n",
       " u'hvm10-var6-timing-nogap',\n",
       " u'rosch_latent_exp',\n",
       " u'snodgrass-naming',\n",
       " u'coco10-timing',\n",
       " u'hvm10-var6-timing-nogap-repl',\n",
       " u'ko_coco_basic_2ways',\n",
       " u'hvm10_basic_2ways_newobj',\n",
       " u'hvm10-finegrain',\n",
       " u'obj24-filterslow-200ms',\n",
       " u'obj24-filter90-200ms',\n",
       " u'obj24-slow',\n",
       " u'obj24-filterslow-100ms',\n",
       " u'obj24-slow-v2',\n",
       " u'obj24-filtercross-i1-200ms',\n",
       " u'muri10-small-exp',\n",
       " u'ko_muri10_rig_basic_2ways',\n",
       " u'ko_clutter_plus_muri10',\n",
       " u'muri-occ',\n",
       " u'mutatorsr',\n",
       " u'ko_cocogray_muri10',\n",
       " u'ko_obj24_basic_2ways_mod',\n",
       " u'ko_obj24_basic_2ways_mod_ver2']"
      ]
     },
     "execution_count": 3,
     "metadata": {},
     "output_type": "execute_result"
    }
   ],
   "source": [
    "db.collection_names()"
   ]
  },
  {
   "cell_type": "code",
   "execution_count": 54,
   "metadata": {
    "collapsed": true
   },
   "outputs": [],
   "source": [
    "coll = db['hvm_basic_categorization_new']"
   ]
  },
  {
   "cell_type": "code",
   "execution_count": 55,
   "metadata": {
    "collapsed": false
   },
   "outputs": [],
   "source": [
    "r = coll.find()[0]"
   ]
  },
  {
   "cell_type": "code",
   "execution_count": 59,
   "metadata": {
    "collapsed": false
   },
   "outputs": [
    {
     "data": {
      "text/plain": [
       "192"
      ]
     },
     "execution_count": 59,
     "metadata": {},
     "output_type": "execute_result"
    }
   ],
   "source": [
    "len(r['RT'])"
   ]
  },
  {
   "cell_type": "code",
   "execution_count": 147,
   "metadata": {
    "collapsed": false
   },
   "outputs": [
    {
     "data": {
      "text/plain": [
       "[u'category',\n",
       " u'_id',\n",
       " u'obj',\n",
       " u'ryz_semantic',\n",
       " u'ty',\n",
       " u'filename',\n",
       " u'rxy',\n",
       " u's',\n",
       " u'rxz',\n",
       " u'ryz',\n",
       " u'bg_id',\n",
       " u'var',\n",
       " u'tz',\n",
       " u'rxy_semantic',\n",
       " u'rxz_semantic',\n",
       " u'id',\n",
       " u'size']"
      ]
     },
     "execution_count": 147,
     "metadata": {},
     "output_type": "execute_result"
    }
   ],
   "source": [
    "r['ImgData'][0]['Sample'].keys()"
   ]
  },
  {
   "cell_type": "code",
   "execution_count": null,
   "metadata": {
    "collapsed": true
   },
   "outputs": [],
   "source": []
  },
  {
   "cell_type": "code",
   "execution_count": 38,
   "metadata": {
    "collapsed": true
   },
   "outputs": [],
   "source": [
    "#ok let's load the data \n",
    "DATA_PATH = \"/home/chengxuz/Class/psych253_2018/data/ventral_neural_data.hdf5\"\n",
    "Ventral_Dataset = h5py.File(DATA_PATH)\n",
    "\n",
    "categories = Ventral_Dataset['image_meta']['category'][:]   #array of category labels for all images  --> shape == (5760,)\n",
    "unique_categories = np.unique(categories)                #array of unique category labels --> shape == (8,)\n",
    "objects = Ventral_Dataset['image_meta']['object_name'][:]   #array of object labels for all images --> shape == (5670,)\n",
    "unique_objects = np.unique(objects)                      #array of unique object labels --> shape == (64,) \n",
    "\n",
    "objects_by_category = {c: np.unique(objects[categories == c]) \n",
    "                       for c in unique_categories}\n"
   ]
  },
  {
   "cell_type": "code",
   "execution_count": 148,
   "metadata": {
    "collapsed": false
   },
   "outputs": [],
   "source": [
    "def get_chosens_actuals_ids(collname, k):\n",
    "    coll = db[collname]\n",
    "    actuals = []\n",
    "    chosens = []\n",
    "    rts = []\n",
    "    ids = []\n",
    "    varlevels = []\n",
    "    for r in coll.find():\n",
    "        actual = np.array([_r['Sample'][k] for _r in r['ImgData']])\n",
    "        varlevel = np.array([_r['Sample']['var'] for _r in r['ImgData']])\n",
    "        idv = [_r['Sample']['id'] for _r in r['ImgData']]\n",
    "        chosen_inds = np.array([_r['indexChosen'] for _r in r['Response']])\n",
    "        chosen = np.array([_r['Test'][ind][k] for ind, _r in \n",
    "                                              zip(chosen_inds, r['ImgData'])])\n",
    "        actuals.append(actual)\n",
    "        chosens.append(chosen)\n",
    "        rt = np.array(r['RT'])\n",
    "        rts.append(rt)\n",
    "        ids.append(idv)\n",
    "        varlevels.append(varlevel)\n",
    "    actuals = np.array(actuals)\n",
    "    chosens = np.array(chosens)\n",
    "    rts = np.array(rts)\n",
    "    ids = np.array(ids)\n",
    "    varlevels = np.array(varlevels)\n",
    "    return actuals, chosens, rts, varlevels, ids"
   ]
  },
  {
   "cell_type": "code",
   "execution_count": 149,
   "metadata": {
    "collapsed": false
   },
   "outputs": [
    {
     "name": "stdout",
     "output_type": "stream",
     "text": [
      "Getting hvm_basic_categorization_new/\n",
      "Getting hvm_subordinate_identification_Animals/\n",
      "Getting hvm_subordinate_identification_Boats/\n",
      "Getting hvm_subordinate_identification_Cars/\n",
      "Getting hvm_subordinate_identification_Chairs/\n",
      "Getting hvm_subordinate_identification_Faces/\n",
      "Getting hvm_subordinate_identification_Fruits/\n",
      "Getting hvm_subordinate_identification_Planes/\n",
      "Getting hvm_subordinate_identification_Tables/\n"
     ]
    }
   ],
   "source": [
    "collnames = [('Basic_categorization', 'hvm_basic_categorization_new', 'category')] + \\\n",
    "            [(c + '_identification', 'hvm_subordinate_identification_%s' % c, 'obj') for c in unique_categories]\n",
    "\n",
    "human_results = {}\n",
    "for cn, cname, key in collnames:\n",
    "    print('Getting %s/' % cname)\n",
    "    human_results[cn] = get_chosens_actuals_ids(cname, key)"
   ]
  },
  {
   "cell_type": "code",
   "execution_count": 155,
   "metadata": {
    "collapsed": false
   },
   "outputs": [],
   "source": [
    "newF = h5py.File('/mnt/data3/yamins/visual/human_behavior.hdf5', mode='a')\n",
    "\n",
    "for cn, cname, k in collnames:\n",
    "    grp = newF.create_group(cn)\n",
    "    actuals, chosens, rts, vls, ids = human_results[cn]\n",
    "    actuals = actuals.astype(str)\n",
    "    chosens = chosens.astype(str)\n",
    "    ids = ids.astype(str)\n",
    "    vls = vls.astype(str)\n",
    "    d = grp.create_dataset('actual', dtype=actuals.dtype, shape=actuals.shape)\n",
    "    d[:] = actuals\n",
    "    d.dims[0].label = 'subject' \n",
    "    d.dims[1].label = 'trial' \n",
    "    \n",
    "    d = grp.create_dataset('chosen', dtype=chosens.dtype, shape=chosens.shape)\n",
    "    d[:] = chosens\n",
    "    d.dims[0].label = 'subject' \n",
    "    d.dims[1].label = 'trial'\n",
    "    \n",
    "    d = grp.create_dataset('reaction_time', dtype=rts.dtype, shape=rts.shape)\n",
    "    d[:] = rts\n",
    "    d.dims[0].label = 'subject' \n",
    "    d.dims[1].label = 'trial'\n",
    "    \n",
    "    d = grp.create_dataset('image_id', dtype=ids.dtype, shape=ids.shape)\n",
    "    d[:] = ids\n",
    "    d.dims[0].label = 'subject' \n",
    "    d.dims[1].label = 'trial'\n",
    "    \n",
    "    d = grp.create_dataset('variation_level', dtype=vls.dtype, shape=vls.shape)\n",
    "    d[:] = vls\n",
    "    d.dims[0].label = 'subject' \n",
    "    d.dims[1].label = 'trial'\n",
    "    \n",
    "newF.close()"
   ]
  },
  {
   "cell_type": "code",
   "execution_count": null,
   "metadata": {
    "collapsed": true
   },
   "outputs": [],
   "source": []
  },
  {
   "cell_type": "code",
   "execution_count": 51,
   "metadata": {
    "collapsed": false
   },
   "outputs": [],
   "source": [
    "from metrics import get_confusion_matrix"
   ]
  },
  {
   "cell_type": "code",
   "execution_count": 151,
   "metadata": {
    "collapsed": false
   },
   "outputs": [],
   "source": [
    "confmats = {}\n",
    "for cn, cname, k in collnames:\n",
    "    if 'Basic' in cn:\n",
    "        ucats = unique_categories\n",
    "    else:\n",
    "        catn = cn.split('_')[0]\n",
    "        ucats = objects_by_category[catn]\n",
    "    preds, actuals, rts, vls, ids = human_results[cn]\n",
    "    cms = np.array([get_confusion_matrix(p, a, ucats) for p, a in zip(preds, actuals)])\n",
    "    confmats[cn] = {'all': cms}\n",
    "    for v in ['V0', 'V3', 'V6']:\n",
    "        cms = np.array([get_confusion_matrix(p[vl==v], a[vl==v], ucats) \n",
    "                             for p, a, vl in zip(preds, actuals, vls)])\n",
    "        confmats[cn][v] = cms\n",
    "                     "
   ]
  },
  {
   "cell_type": "code",
   "execution_count": 153,
   "metadata": {
    "collapsed": false
   },
   "outputs": [
    {
     "data": {
      "text/plain": [
       "<matplotlib.image.AxesImage at 0x7f678b041dd0>"
      ]
     },
     "execution_count": 153,
     "metadata": {},
     "output_type": "execute_result"
    },
    {
     "data": {
      "image/png": "[encoded data removed]",
      "text/plain": [
       "<matplotlib.figure.Figure at 0x7f6796b32dd0>"
      ]
     },
     "metadata": {},
     "output_type": "display_data"
    }
   ],
   "source": [
    "plt.matshow(confmats['Basic_categorization']['V6'].mean(0))"
   ]
  },
  {
   "cell_type": "code",
   "execution_count": 146,
   "metadata": {
    "collapsed": false
   },
   "outputs": [
    {
     "data": {
      "text/plain": [
       "<matplotlib.image.AxesImage at 0x7f67862b63d0>"
      ]
     },
     "execution_count": 146,
     "metadata": {},
     "output_type": "execute_result"
    },
    {
     "data": {
      "image/png": "[encoded data removed]",
      "text/plain": [
       "<matplotlib.figure.Figure at 0x7f6786120c50>"
      ]
     },
     "metadata": {},
     "output_type": "display_data"
    }
   ],
   "source": [
    "plt.matshow(confmats['Faces_identification'].mean(0))"
   ]
  },
  {
   "cell_type": "code",
   "execution_count": null,
   "metadata": {
    "collapsed": true
   },
   "outputs": [],
   "source": []
  }
 ],
 "metadata": {
  "kernelspec": {
   "display_name": "Python 2",
   "language": "python",
   "name": "python2"
  },
  "language_info": {
   "codemirror_mode": {
    "name": "ipython",
    "version": 2
   },
   "file_extension": ".py",
   "mimetype": "text/x-python",
   "name": "python",
   "nbconvert_exporter": "python",
   "pygments_lexer": "ipython2",
   "version": "2.7.12"
  }
 },
 "nbformat": 4,
 "nbformat_minor": 2
}
