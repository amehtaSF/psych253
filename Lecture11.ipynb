{
 "cells": [
  {
   "cell_type": "code",
   "execution_count": 1,
   "metadata": {
    "collapsed": true
   },
   "outputs": [],
   "source": [
    "%matplotlib inline\n",
    "\n",
    "import matplotlib\n",
    "import matplotlib.pyplot as plt\n",
    "\n",
    "#the above imports the plotting library matplotlib"
   ]
  },
  {
   "cell_type": "code",
   "execution_count": 2,
   "metadata": {
    "collapsed": true
   },
   "outputs": [],
   "source": [
    "#standard imports\n",
    "import time\n",
    "import numpy as np\n",
    "import h5py\n"
   ]
  },
  {
   "cell_type": "code",
   "execution_count": 3,
   "metadata": {
    "collapsed": true
   },
   "outputs": [],
   "source": [
    "#importing tensorflow w/o gpus\n",
    "import os\n",
    "os.environ[\"CUDA_VISIBLE_DEVICES\"]=\"0\"    \n",
    "import tensorflow as tf"
   ]
  },
  {
   "cell_type": "code",
   "execution_count": 4,
   "metadata": {
    "collapsed": true
   },
   "outputs": [],
   "source": [
    "sess = tf.Session()"
   ]
  },
  {
   "cell_type": "code",
   "execution_count": 47,
   "metadata": {
    "collapsed": false
   },
   "outputs": [
    {
     "data": {
      "text/plain": [
       "<module 'optimizer' from 'optimizer.py'>"
      ]
     },
     "execution_count": 47,
     "metadata": {},
     "output_type": "execute_result"
    }
   ],
   "source": [
    "import optimizer; reload(optimizer)"
   ]
  },
  {
   "cell_type": "markdown",
   "metadata": {},
   "source": [
    "# Retinal Models and Neural Coding"
   ]
  },
  {
   "cell_type": "markdown",
   "metadata": {},
   "source": [
    "The retina comprises the first component of visual processing, and even at this level, the retina must compress visual information from 100 million photoreceptors down to 1 million ganglion (output) cells. In just a few layers, the retina predicts object motion [1], predicts complex spatiotemporal patterns [2], and can reduce spatiotemporal redudancy in natural scenes [3]."
   ]
  },
  {
   "cell_type": "markdown",
   "metadata": {},
   "source": [
    "We will be analyzing data recorded in the Baccus Lab from a salamander retinal ganglion cell (RGC) in response to a white noise stimulus. We will use a simple encoding model known as a Linear-Nonlinear (LN) model [4] that predicts the RGC response to the stimulus, and we will use spike-triggered analysis [5] to compute its linear receptive field. This will then motivate the use of deeper encoding models featured in [6], which you will explore in your upcoming homework assignment."
   ]
  },
  {
   "cell_type": "markdown",
   "metadata": {},
   "source": [
    "## Data "
   ]
  },
  {
   "cell_type": "markdown",
   "metadata": {},
   "source": [
    "The data we will be using is in [XXXX]. It consists of a [XXX] minute recording of a ganglion cell from the salamander retina. The stimulus was flickering white noise bars, sampled at a frame rate of 100 Hz. The stimulus array has dimensions (30x[XXXX]) corresponding to the pixel values of the 30 bars over [XXXX] frames. The time array contains the time (in seconds) of the stimulus presentation for each stimulus frame. The spike_times array contains the spike times of an isolated retinal ganglion cell (RGC) recorded in response to the stimulus."
   ]
  },
  {
   "cell_type": "code",
   "execution_count": 6,
   "metadata": {
    "collapsed": true
   },
   "outputs": [],
   "source": [
    "whitenoise_data = h5py.File('/mnt/data3/yamins/retina/whitenoise.h5') "
   ]
  },
  {
   "cell_type": "code",
   "execution_count": 7,
   "metadata": {
    "collapsed": true
   },
   "outputs": [],
   "source": [
    "naturalscene_data = h5py.File('/mnt/data3/yamins/retina/naturalscene.h5')"
   ]
  },
  {
   "cell_type": "code",
   "execution_count": 8,
   "metadata": {
    "collapsed": false
   },
   "outputs": [
    {
     "data": {
      "text/plain": [
       "[u'spikes', u'test', u'train']"
      ]
     },
     "execution_count": 8,
     "metadata": {},
     "output_type": "execute_result"
    }
   ],
   "source": [
    "whitenoise_data.keys()"
   ]
  },
  {
   "cell_type": "code",
   "execution_count": 9,
   "metadata": {
    "collapsed": false
   },
   "outputs": [
    {
     "data": {
      "text/plain": [
       "[u'response', u'stimulus', u'time']"
      ]
     },
     "execution_count": 9,
     "metadata": {},
     "output_type": "execute_result"
    }
   ],
   "source": [
    "whitenoise_data['train'].keys()"
   ]
  },
  {
   "cell_type": "code",
   "execution_count": 10,
   "metadata": {
    "collapsed": false
   },
   "outputs": [
    {
     "data": {
      "text/plain": [
       "<HDF5 dataset \"stimulus\": shape (359802, 50, 50), type \"|u1\">"
      ]
     },
     "execution_count": 10,
     "metadata": {},
     "output_type": "execute_result"
    }
   ],
   "source": [
    "whitenoise_stimuli_train = whitenoise_data['train']['stimulus']\n",
    "whitenoise_stimuli_train"
   ]
  },
  {
   "cell_type": "code",
   "execution_count": 11,
   "metadata": {
    "collapsed": false
   },
   "outputs": [
    {
     "data": {
      "text/plain": [
       "<HDF5 dataset \"stimulus\": shape (5997, 50, 50), type \"|u1\">"
      ]
     },
     "execution_count": 11,
     "metadata": {},
     "output_type": "execute_result"
    }
   ],
   "source": [
    "whitenoise_stimuli_test = whitenoise_data['test']['stimulus']\n",
    "whitenoise_stimuli_test"
   ]
  },
  {
   "cell_type": "code",
   "execution_count": 12,
   "metadata": {
    "collapsed": false
   },
   "outputs": [
    {
     "data": {
      "text/plain": [
       "[u'binned', u'firing_rate_10ms', u'firing_rate_20ms', u'firing_rate_5ms']"
      ]
     },
     "execution_count": 12,
     "metadata": {},
     "output_type": "execute_result"
    }
   ],
   "source": [
    "whitenoise_data['train']['response'].keys()"
   ]
  },
  {
   "cell_type": "code",
   "execution_count": 13,
   "metadata": {
    "collapsed": false
   },
   "outputs": [
    {
     "data": {
      "text/plain": [
       "<HDF5 dataset \"firing_rate_10ms\": shape (9, 359802), type \"<f8\">"
      ]
     },
     "execution_count": 13,
     "metadata": {},
     "output_type": "execute_result"
    }
   ],
   "source": [
    "whitenoise_responses_train = whitenoise_data['train']['response']['firing_rate_10ms']\n",
    "whitenoise_responses_train"
   ]
  },
  {
   "cell_type": "code",
   "execution_count": 14,
   "metadata": {
    "collapsed": false
   },
   "outputs": [
    {
     "data": {
      "text/plain": [
       "<HDF5 dataset \"firing_rate_10ms\": shape (9, 5997), type \"<f8\">"
      ]
     },
     "execution_count": 14,
     "metadata": {},
     "output_type": "execute_result"
    }
   ],
   "source": [
    "whitenoise_responses_test = whitenoise_data['test']['response']['firing_rate_10ms']\n",
    "whitenoise_responses_test"
   ]
  },
  {
   "cell_type": "code",
   "execution_count": 15,
   "metadata": {
    "collapsed": false
   },
   "outputs": [
    {
     "data": {
      "text/plain": [
       "<HDF5 dataset \"stimulus\": shape (359796, 50, 50), type \"|u1\">"
      ]
     },
     "execution_count": 15,
     "metadata": {},
     "output_type": "execute_result"
    }
   ],
   "source": [
    "naturalscene_stimuli_train = naturalscene_data['train']['stimulus']\n",
    "naturalscene_stimuli_train"
   ]
  },
  {
   "cell_type": "code",
   "execution_count": 16,
   "metadata": {
    "collapsed": false
   },
   "outputs": [
    {
     "data": {
      "text/plain": [
       "<HDF5 dataset \"stimulus\": shape (5996, 50, 50), type \"|u1\">"
      ]
     },
     "execution_count": 16,
     "metadata": {},
     "output_type": "execute_result"
    }
   ],
   "source": [
    "naturalscene_stimuli_test = naturalscene_data['test']['stimulus']\n",
    "naturalscene_stimuli_test"
   ]
  },
  {
   "cell_type": "code",
   "execution_count": 17,
   "metadata": {
    "collapsed": true
   },
   "outputs": [],
   "source": [
    "naturalscene_responses_train = naturalscene_data['train']['response']['firing_rate_10ms']\n",
    "naturalscene_responses_test = naturalscene_data['test']['response']['firing_rate_10ms']\n"
   ]
  },
  {
   "cell_type": "code",
   "execution_count": 18,
   "metadata": {
    "collapsed": false
   },
   "outputs": [
    {
     "data": {
      "text/plain": [
       "<matplotlib.image.AxesImage at 0x7fb2415d9650>"
      ]
     },
     "execution_count": 18,
     "metadata": {},
     "output_type": "execute_result"
    },
    {
     "data": {
      "image/png": "[encoded data removed]",
      "text/plain": [
       "<matplotlib.figure.Figure at 0x7fb2498c33d0>"
      ]
     },
     "metadata": {},
     "output_type": "display_data"
    }
   ],
   "source": [
    "plt.imshow(whitenoise_stimuli_train[0], cmap='gray')"
   ]
  },
  {
   "cell_type": "code",
   "execution_count": 19,
   "metadata": {
    "collapsed": false
   },
   "outputs": [
    {
     "data": {
      "text/plain": [
       "<matplotlib.image.AxesImage at 0x7fb2414ec190>"
      ]
     },
     "execution_count": 19,
     "metadata": {},
     "output_type": "execute_result"
    },
    {
     "data": {
      "image/png": "[encoded data removed]",
      "text/plain": [
       "<matplotlib.figure.Figure at 0x7fb2415f6610>"
      ]
     },
     "metadata": {},
     "output_type": "display_data"
    }
   ],
   "source": [
    "plt.imshow(naturalscene_stimuli_train[0], cmap='gray')"
   ]
  },
  {
   "cell_type": "code",
   "execution_count": 75,
   "metadata": {
    "collapsed": true
   },
   "outputs": [],
   "source": [
    "from os.path import join, expanduser\n",
    "from scipy.stats import zscore\n",
    "\n",
    "cells = [0, 1, 2, 3, 4]\n",
    "NUM_BLOCKS = 6\n",
    "\n",
    "def _loadexpt_h5(expt, filename):\n",
    "    \"\"\"Loads an h5py reference to an experiment on disk\"\"\"\n",
    "    filepath = join(expanduser('~/experiments/data'), expt, filename + '.h5')\n",
    "    return h5py.File(filepath, mode='r')\n",
    "\n",
    "def loadexpt(expt='15-10-07', cells=cells, filename='whitenoise', train_or_test='train'):\n",
    "    if train_or_test == 'train':\n",
    "        nskip = 6000\n",
    "    elif train_or_test == 'test':\n",
    "        nskip = 0\n",
    "    else:\n",
    "        raise AssertionError('Mode is neither train nor test!')\n",
    "\n",
    "    # load the hdf5 file\n",
    "    with _loadexpt_h5(expt, filename) as f:\n",
    "\n",
    "        expt_length = f[train_or_test]['time'].size\n",
    "\n",
    "        # load the stimulus into memory as a numpy array, and z-score it\n",
    "        stim = zscore(np.array(f[train_or_test]['stimulus']).astype('float32'))\n",
    "\n",
    "        # apply clipping to remove the stimulus just after transitions\n",
    "        num_blocks = NUM_BLOCKS if train_or_test == 'train' and nskip > 0 else 1\n",
    "        valid_indices = np.arange(expt_length).reshape(num_blocks, -1)[:, nskip:].ravel()\n",
    "\n",
    "        images = stim[valid_indices]\n",
    "        # get the response for this cell (nsamples, ncells)\n",
    "        resp = np.array(f[train_or_test]['response/firing_rate_10ms'][cells]).T[valid_indices]\n",
    "        resp = resp[40:]\n",
    "\n",
    "        return images, resp\n",
    "        \n"
   ]
  },
  {
   "cell_type": "code",
   "execution_count": 76,
   "metadata": {
    "collapsed": true
   },
   "outputs": [],
   "source": [
    "out = loadexpt(expt='/mnt/data3/yamins/retina/', filename='whitenoise', train_or_test='train')"
   ]
  },
  {
   "cell_type": "code",
   "execution_count": 78,
   "metadata": {
    "collapsed": false
   },
   "outputs": [
    {
     "data": {
      "text/plain": [
       "array([[-0.99519879, -1.00205684, -1.00223792, ..., -0.99818492,\n",
       "         1.00094926,  0.99768323],\n",
       "       [ 0.99640548,  0.99633896, -0.9995665 , ..., -0.99843645,\n",
       "         0.99662912,  0.99497074],\n",
       "       [ 0.99428886, -0.99904829,  1.00013351, ..., -1.00337553,\n",
       "        -0.9968155 ,  0.99918401],\n",
       "       ..., \n",
       "       [ 0.99913287, -0.99738997,  1.00472701, ..., -1.00220573,\n",
       "        -1.00172007, -1.00073361],\n",
       "       [ 0.99734169,  0.9983533 ,  0.99949932, ..., -0.99911749,\n",
       "         1.00111401,  0.99480426],\n",
       "       [ 1.00023329, -1.0043993 ,  1.00754225, ..., -0.99669164,\n",
       "         0.9975723 ,  1.00020003]], dtype=float32)"
      ]
     },
     "execution_count": 78,
     "metadata": {},
     "output_type": "execute_result"
    }
   ],
   "source": []
  },
  {
   "cell_type": "markdown",
   "metadata": {},
   "source": [
    "## The Linear-Nonlinear Model"
   ]
  },
  {
   "cell_type": "code",
   "execution_count": 20,
   "metadata": {
    "collapsed": true
   },
   "outputs": [],
   "source": [
    "def linear_nonlinear_model(data, labels, nonlinearity=tf.nn.softplus):\n",
    "    data_flat = tf.layers.flatten(data) \n",
    "    num_inputs = data_flat.shape.as_list()[-1]\n",
    "    num_outputs = labels.shape.as_list()[-1]\n",
    "    with tf.variable_scope(\"ln_model\", reuse=tf.AUTO_REUSE):\n",
    "        b = tf.get_variable(shape=[num_outputs],\n",
    "                        dtype=tf.float32,\n",
    "                        regularizer=tf.contrib.layers.l2_regularizer(1e-3),\n",
    "                        name='bias') \n",
    "        W = tf.get_variable(shape=[num_inputs, num_outputs],\n",
    "                        dtype=tf.float32,\n",
    "                        regularizer=tf.contrib.layers.l2_regularizer(1e-3),\n",
    "                        name='weights')\n",
    "    out = tf.matmul(data_flat, W) + b   \n",
    "    return nonlinearity(out)\n",
    "    "
   ]
  },
  {
   "cell_type": "code",
   "execution_count": 21,
   "metadata": {
    "collapsed": true
   },
   "outputs": [],
   "source": [
    "def log_loss(logits, labels, C=1):\n",
    "    log_loss = tf.reduce_mean(logits - (labels * tf.log(logits + 1e-8)))\n",
    "    reg_loss = tf.add_n(tf.get_collection(tf.GraphKeys.REGULARIZATION_LOSSES))\n",
    "    return C * log_loss + reg_loss"
   ]
  },
  {
   "cell_type": "code",
   "execution_count": 71,
   "metadata": {
    "collapsed": false
   },
   "outputs": [],
   "source": [
    "T = 40\n",
    "def get_temporal_batch(data, inds):\n",
    "    inds0 = np.concatenate([range(ind, ind + T) for ind in inds])\n",
    "    inds0 = np.minimum(inds0, data.shape[0]-1)\n",
    "    data_ss = data[inds0]\n",
    "    shp = data_ss.shape\n",
    "    n0 = shp[0] / T\n",
    "    data_ss = data_ss.reshape((n0, T) + shp[1:])\n",
    "    return data_ss.astype(np.float32)    \n",
    "\n",
    "\n",
    "cls = optimizer.TF_Optimizer(model_func=linear_nonlinear_model,\n",
    "             loss_func=log_loss, \n",
    "             optimizer_class=tf.train.AdamOptimizer,\n",
    "             batch_size=5000,\n",
    "             train_iterations=1001,\n",
    "             sess=sess,\n",
    "             train_shuffle=True,\n",
    "             optimizer_kwargs = {'learning_rate':1e-3,\n",
    "                                  #'momentum': 0.9\n",
    "                                },\n",
    "             data_processors={'data': get_temporal_batch}\n",
    "            )"
   ]
  },
  {
   "cell_type": "code",
   "execution_count": 72,
   "metadata": {
    "collapsed": false
   },
   "outputs": [
    {
     "name": "stdout",
     "output_type": "stream",
     "text": [
      "iteration 0 loss 82.141\n",
      "iteration 100 loss 67.784\n",
      "iteration 200 loss 68.474\n",
      "iteration 300 loss 66.132\n",
      "iteration 400 loss 70.249\n",
      "iteration 500 loss 68.187\n",
      "iteration 600 loss 70.960\n",
      "iteration 700 loss 68.521\n",
      "iteration 800 loss 68.319\n",
      "iteration 900 loss 66.302\n",
      "iteration 1000 loss 68.626\n"
     ]
    }
   ],
   "source": [
    "with tf.variable_scope(\"ln_test5\", reuse=tf.AUTO_REUSE):\n",
    "    cls.fit(whitenoise_stimuli_train[:], whitenoise_responses_train[:][:5].T)"
   ]
  },
  {
   "cell_type": "code",
   "execution_count": 83,
   "metadata": {
    "collapsed": false
   },
   "outputs": [
    {
     "data": {
      "text/plain": [
       "(323802, 50, 50)"
      ]
     },
     "execution_count": 83,
     "metadata": {},
     "output_type": "execute_result"
    }
   ],
   "source": [
    "out[0].shape"
   ]
  },
  {
   "cell_type": "code",
   "execution_count": null,
   "metadata": {
    "collapsed": false
   },
   "outputs": [
    {
     "name": "stdout",
     "output_type": "stream",
     "text": [
      "iteration 0 loss 2.491\n",
      "iteration 100 loss -3.529\n",
      "iteration 200 loss -5.090\n"
     ]
    }
   ],
   "source": [
    "with tf.variable_scope(\"ln_test5\", reuse=tf.AUTO_REUSE):\n",
    "    cls.fit(out[0][40:], out[1])"
   ]
  },
  {
   "cell_type": "markdown",
   "metadata": {},
   "source": [
    "### LNLN model"
   ]
  },
  {
   "cell_type": "code",
   "execution_count": null,
   "metadata": {
    "collapsed": true
   },
   "outputs": [],
   "source": [
    "def lnln_model(data, labels, num_intermediate, nonlinearity=tf.nn.softplus):\n",
    "    data_flat = tf.layers.flatten(data) \n",
    "    num_inputs = data_flat.shape.as_list()[-1]\n",
    "    num_outputs = labels.shape.as_list()[-1]\n",
    "    with tf.variable_scope(\"ln_model\", reuse=tf.AUTO_REUSE):\n",
    "        b1 = tf.get_variable(shape=[num_intermediate],\n",
    "                        dtype=tf.float32,\n",
    "                        regularizer=tf.contrib.layers.l2_regularizer(1e-3),\n",
    "                        name='bias1') \n",
    "        W1 = tf.get_variable(shape=[num_inputs, num_intermediate],\n",
    "                        dtype=tf.float32,\n",
    "                        regularizer=tf.contrib.layers.l2_regularizer(1e-3),\n",
    "                        name='weights1')\n",
    "        b2 = tf.get_variable(shape=[num_outputs],\n",
    "                        dtype=tf.float32,\n",
    "                        regularizer=tf.contrib.layers.l2_regularizer(1e-3),\n",
    "                        name='bias2') \n",
    "        W2 = tf.get_variable(shape=[num_intermediate, num_outputs],\n",
    "                        dtype=tf.float32,\n",
    "                        regularizer=tf.contrib.layers.l2_regularizer(1e-3),\n",
    "                        name='weights2')        \n",
    "    intermediate = nonlinearity(tf.matmul(data_flat, W1) + b1)\n",
    "    out = nonlinearity(tf.matmul(intermediate, W2) + b2)\n",
    "    return out\n",
    "    "
   ]
  },
  {
   "cell_type": "code",
   "execution_count": null,
   "metadata": {
    "collapsed": true
   },
   "outputs": [],
   "source": []
  },
  {
   "cell_type": "markdown",
   "metadata": {},
   "source": [
    "## Multilayer Convolutional Models"
   ]
  },
  {
   "cell_type": "code",
   "execution_count": 73,
   "metadata": {
    "collapsed": true
   },
   "outputs": [],
   "source": [
    "from tfutils import model as tf_models"
   ]
  },
  {
   "cell_type": "code",
   "execution_count": 74,
   "metadata": {
    "collapsed": true
   },
   "outputs": [],
   "source": [
    "def cnn_model(data, labels, sigma=0.1, seed=0):\n",
    "\n",
    "    # graph building stage\n",
    "    with tf.variable_scope('cnn_model', reuse=tf.AUTO_REUSE):\n",
    "        with tf.variable_scope('conv1'):\n",
    "            c1 = tf_models.conv(data, \n",
    "                                out_depth=16, \n",
    "                                ksize=[15,15], \n",
    "                                strides=[1,1,1,1], \n",
    "                                padding='VALID', \n",
    "                                activation=None, \n",
    "                                batch_norm=False, \n",
    "                                weight_decay=1e-3)   \n",
    "            \n",
    "            r1 = tf.nn.relu(c1)\n",
    "\n",
    "        with tf.variable_scope('conv2'):\n",
    "            c2 = tf_models.conv(r1, \n",
    "                            out_depth=8, \n",
    "                            ksize=[9,9],\n",
    "                            strides=[1,1,1,1],\n",
    "                            padding='VALID',\n",
    "                            activation=None,\n",
    "                            batch_norm=False,\n",
    "                            weight_decay=1e-3)\n",
    "\n",
    "            \n",
    "            r2 = tf.nn.relu(c2)\n",
    "\n",
    "        with tf.variable_scope('readout'):\n",
    "            out = tf_models.fc(r2, \n",
    "                           out_depth=5,\n",
    "                           kernel_init='random_normal',\n",
    "                           kernel_init_kwargs={'mean':0.0, 'stddev':0.05},\n",
    "                           activation='softplus', \n",
    "                           bias=0, \n",
    "                           batch_norm=False, \n",
    "                           weight_decay=1e-3) \n",
    "\n",
    "    return out"
   ]
  },
  {
   "cell_type": "code",
   "execution_count": null,
   "metadata": {
    "collapsed": true
   },
   "outputs": [],
   "source": []
  },
  {
   "cell_type": "markdown",
   "metadata": {},
   "source": [
    "## Acknowledgements"
   ]
  },
  {
   "cell_type": "markdown",
   "metadata": {},
   "source": [
    "The material in this lecture was adapted from an assigment in CS 375 taught in Fall 2017 by Aran Nayebi, which was in turn taken from NEPR 208 (Neurosciences Computational Core Module), taught in Spring 2016 by Stephen A Baccus and Niru Maheswaranathan. The data used in this tutorial is from the Baccus Lab at Stanford."
   ]
  },
  {
   "cell_type": "markdown",
   "metadata": {},
   "source": [
    "## References"
   ]
  },
  {
   "cell_type": "markdown",
   "metadata": {},
   "source": [
    "1. Stephen A Baccus, Bence P Olveczky, Mihai Manu, and Markus Meister. A retinal circuit that computes object motion.  The Journal of Neuroscience, 28(27):6807–6817, 2008.\n",
    "\n",
    "2. Toshihiko Hosoya, Stephen A Baccus, and Markus Meister. Dynamic predictive coding by the retina. Nature, 436(7047):71–77, 2005.\n",
    "\n",
    "3. Mandyam V Srinivasan, Simon B Laughlin, and Andreas Dubs. Predictive coding: a fresh view of inhibition in the retina. Proceedings of the Royal Society of London. Series B. Biological Sciences, 216(1205):427–459, 1982.\n",
    "\n",
    "4. EJ Chichilnisky. A simple white noise analysis of neuronal light responses. Network: Computation in Neural Systems, 12(2):199-213, 2001.\n",
    "\n",
    "5. Odelia Schwartz, Jonathan W Pillow, Nicole C Rust, and Eero P Simoncelli. Spike-triggered neural characterization. Journal of Vision, 6(4):484-507, 2006.\n",
    "\n",
    "6. Lane T McIntosh, Niru Maheswaranathan, Aran Nayebi, Surya Ganguli, and Stephen A. Baccus. Deep learning models of the retinal response to natural scenes. In Advances in Neural Information Processing Systems (NIPS 2016), pp. 1369-1377, 2016."
   ]
  },
  {
   "cell_type": "code",
   "execution_count": null,
   "metadata": {
    "collapsed": true
   },
   "outputs": [],
   "source": []
  }
 ],
 "metadata": {
  "kernelspec": {
   "display_name": "Python 2",
   "language": "python",
   "name": "python2"
  },
  "language_info": {
   "codemirror_mode": {
    "name": "ipython",
    "version": 2
   },
   "file_extension": ".py",
   "mimetype": "text/x-python",
   "name": "python",
   "nbconvert_exporter": "python",
   "pygments_lexer": "ipython2",
   "version": "2.7.12"
  }
 },
 "nbformat": 4,
 "nbformat_minor": 2
}
