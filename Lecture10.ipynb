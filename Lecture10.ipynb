{
 "cells": [
  {
   "cell_type": "code",
   "execution_count": 1,
   "metadata": {
    "collapsed": true
   },
   "outputs": [],
   "source": [
    "%matplotlib inline\n",
    "\n",
    "import matplotlib\n",
    "import matplotlib.pyplot as plt\n",
    "\n",
    "#the above imports the plotting library matplotlib"
   ]
  },
  {
   "cell_type": "code",
   "execution_count": 2,
   "metadata": {
    "collapsed": true
   },
   "outputs": [],
   "source": [
    "#standard imports\n",
    "import time\n",
    "import numpy as np\n",
    "import h5py\n"
   ]
  },
  {
   "cell_type": "code",
   "execution_count": 3,
   "metadata": {
    "collapsed": true
   },
   "outputs": [],
   "source": [
    "#importing tensorflow w/o gpus\n",
    "import os\n",
    "os.environ[\"CUDA_VISIBLE_DEVICES\"]=\"-1\"    \n",
    "import tensorflow as tf"
   ]
  },
  {
   "cell_type": "code",
   "execution_count": 5,
   "metadata": {
    "collapsed": true
   },
   "outputs": [],
   "source": [
    "#ok let's load the neural data \n",
    "DATA_PATH = \"/home/chengxuz/Class/psych253_2018/data/ventral_neural_data.hdf5\"\n",
    "Ventral_Dataset = h5py.File(DATA_PATH)\n",
    "\n",
    "categories = Ventral_Dataset['image_meta']['category'][:]   #array of category labels for all images  --> shape == (5760,)\n",
    "unique_categories = np.unique(categories)                #array of unique category labels --> shape == (8,)\n",
    "\n",
    "Neural_Data = Ventral_Dataset['time_averaged_trial_averaged'][:]\n",
    "\n",
    "num_neurons = Neural_Data.shape[1]\n",
    "num_categories = 8 "
   ]
  },
  {
   "cell_type": "code",
   "execution_count": 40,
   "metadata": {
    "collapsed": false
   },
   "outputs": [],
   "source": [
    "var_levels = Ventral_Dataset['image_meta']['variation_level'][:] "
   ]
  },
  {
   "cell_type": "code",
   "execution_count": 103,
   "metadata": {
    "collapsed": false
   },
   "outputs": [],
   "source": [
    "#we'll construct 8 one-vs-all binary-valued vectors\n",
    "category_matrix = np.array([2 * (categories == c) - 1 for \n",
    "                             c in unique_categories]).T.astype(int)"
   ]
  },
  {
   "cell_type": "code",
   "execution_count": 8,
   "metadata": {
    "collapsed": true
   },
   "outputs": [],
   "source": [
    "initial_weights = tf.random_uniform(shape=(num_neurons, num_categories),\n",
    "                  minval=-1,\n",
    "                  maxval=1,\n",
    "                  seed=0)\n",
    "\n",
    "initial_bias = tf.zeros(shape=(num_categories,))"
   ]
  },
  {
   "cell_type": "code",
   "execution_count": 9,
   "metadata": {
    "collapsed": true
   },
   "outputs": [],
   "source": [
    "weights = tf.get_variable('weights', \n",
    "                           dtype=tf.float32,\n",
    "                           initializer=initial_weights)\n",
    "                         \n",
    "bias = tf.get_variable('bias', \n",
    "                       dtype=tf.float32,\n",
    "                       initializer=initial_bias)"
   ]
  },
  {
   "cell_type": "code",
   "execution_count": 7,
   "metadata": {
    "collapsed": true
   },
   "outputs": [],
   "source": [
    "neural_data = tf.placeholder(shape=(None, num_neurons),\n",
    "                              dtype=tf.float32)\n",
    "\n",
    "category_labels = tf.placeholder(shape=(None, num_categories),\n",
    "                                 dtype=tf.float32)"
   ]
  },
  {
   "cell_type": "code",
   "execution_count": 139,
   "metadata": {
    "collapsed": true
   },
   "outputs": [],
   "source": [
    "margins = tf.matmul(neural_data, weights) + bias\n",
    "\n",
    "hinge_loss = tf.maximum(0., 1. - category_labels * margins)\n",
    "\n",
    "hinge_loss_mean = tf.reduce_mean(hinge_loss)"
   ]
  },
  {
   "cell_type": "code",
   "execution_count": 116,
   "metadata": {
    "collapsed": true
   },
   "outputs": [],
   "source": [
    "def tf_optimize(loss,\n",
    "                optimizer_class,\n",
    "                target,\n",
    "                training_data,\n",
    "                num_iterations,\n",
    "                optimizer_args=(),\n",
    "                optimizer_kwargs=None,\n",
    "                sess=None,\n",
    "                initial_guesses=None):\n",
    "                           \n",
    "    if sess is None:\n",
    "        sess = tf.Session()\n",
    "        \n",
    "    if optimizer_kwargs is None:\n",
    "        optimizer_kwargs = {}\n",
    "    \n",
    "    #construct the optimizer\n",
    "    optimizer = optimizer_class(*optimizer_args, \n",
    "                                **optimizer_kwargs)\n",
    "    optimizer_op = optimizer.minimize(loss)\n",
    "    \n",
    "    #initialize variables\n",
    "    init_op = tf.global_variables_initializer()\n",
    "    sess.run(init_op)\n",
    "    \n",
    "    if initial_guesses is not None:\n",
    "        for k, v in initial_guesses.items():\n",
    "            op = tf.assign(k, v)\n",
    "            sess.run(op)\n",
    "\n",
    "    targetvals = []\n",
    "    losses = []\n",
    "    times = []\n",
    "    for i in range(num_iterations):\n",
    "        t0 = time.time()\n",
    "        output = sess.run({'opt': optimizer_op,\n",
    "                           'target': target,\n",
    "                           'loss': loss}, \n",
    "                           feed_dict=training_data)\n",
    "        times.append(time.time() - t0)\n",
    "        targetvals.append(output['target'])\n",
    "        losses.append(output['loss'])\n",
    "    \n",
    "    print('Average time per iteration --> %.5f' % np.mean(times))\n",
    "    return np.array(losses), targetvals"
   ]
  },
  {
   "cell_type": "code",
   "execution_count": 117,
   "metadata": {
    "collapsed": true
   },
   "outputs": [],
   "source": [
    "sess = tf.Session()"
   ]
  },
  {
   "cell_type": "code",
   "execution_count": 134,
   "metadata": {
    "collapsed": true
   },
   "outputs": [],
   "source": [
    "batch_size = 640\n",
    "data_batch = Neural_Data[0: batch_size]\n",
    "label_batch = category_matrix[0: batch_size]\n",
    "\n",
    "data_dict = {neural_data: data_batch,\n",
    "             category_labels: label_batch}"
   ]
  },
  {
   "cell_type": "code",
   "execution_count": 140,
   "metadata": {
    "collapsed": false
   },
   "outputs": [
    {
     "name": "stdout",
     "output_type": "stream",
     "text": [
      "Average time per iteration --> 0.00127\n"
     ]
    }
   ],
   "source": [
    "initial_weights = tf.random_uniform(shape=(num_neurons, num_categories),\n",
    "                  minval=-1,\n",
    "                  maxval=1,\n",
    "                  seed=0)\n",
    "\n",
    "initial_bias = tf.zeros(shape=(num_categories,))\n",
    "\n",
    "initial_guesses = {weights: initial_weights, bias: initial_bias}\n",
    "\n",
    "losses, targs = tf_optimize(loss=hinge_loss_mean,\n",
    "            optimizer_class=tf.train.MomentumOptimizer,\n",
    "            target=[],\n",
    "            training_data=data_dict,\n",
    "            num_iterations=100,\n",
    "            optimizer_kwargs={'learning_rate': 1, 'momentum': 0.9},\n",
    "            sess=sess,\n",
    "            initial_guesses=initial_guesses)"
   ]
  },
  {
   "cell_type": "code",
   "execution_count": 141,
   "metadata": {
    "collapsed": false
   },
   "outputs": [
    {
     "data": {
      "text/plain": [
       "[<matplotlib.lines.Line2D at 0x7f43ad6311d0>]"
      ]
     },
     "execution_count": 141,
     "metadata": {},
     "output_type": "execute_result"
    },
    {
     "data": {
      "image/png": "[encoded data removed]",
      "text/plain": [
       "<matplotlib.figure.Figure at 0x7f43ad746450>"
      ]
     },
     "metadata": {},
     "output_type": "display_data"
    }
   ],
   "source": [
    "plt.plot(losses)"
   ]
  },
  {
   "cell_type": "code",
   "execution_count": 143,
   "metadata": {
    "collapsed": false
   },
   "outputs": [
    {
     "data": {
      "text/plain": [
       "(array([  2.,   7.,  24.,  49.,  42.,  57.,  42.,  45.,  19.,   9.]),\n",
       " array([-1.51713049, -1.2384743 , -0.9598181 , -0.6811619 , -0.40250571,\n",
       "        -0.12384951,  0.15480669,  0.43346288,  0.71211908,  0.99077528,\n",
       "         1.26943147]),\n",
       " <a list of 10 Patch objects>)"
      ]
     },
     "execution_count": 143,
     "metadata": {},
     "output_type": "execute_result"
    },
    {
     "data": {
      "image/png": "[encoded data removed]",
      "text/plain": [
       "<matplotlib.figure.Figure at 0x7f43ad8ab190>"
      ]
     },
     "metadata": {},
     "output_type": "display_data"
    }
   ],
   "source": [
    "plt.hist(sess.run(weights)[:, 1])"
   ]
  },
  {
   "cell_type": "code",
   "execution_count": 148,
   "metadata": {
    "collapsed": false
   },
   "outputs": [
    {
     "data": {
      "text/plain": [
       "array([-5.50573206, -5.80927515, -5.70845461, -6.09327555, -5.8724699 ,\n",
       "       -5.36014175, -4.88062239, -5.45234919], dtype=float32)"
      ]
     },
     "execution_count": 148,
     "metadata": {},
     "output_type": "execute_result"
    }
   ],
   "source": [
    "sess.run(bias)"
   ]
  },
  {
   "cell_type": "code",
   "execution_count": 144,
   "metadata": {
    "collapsed": true
   },
   "outputs": [],
   "source": [
    "m = sess.run(margins, feed_dict = data_dict)"
   ]
  },
  {
   "cell_type": "code",
   "execution_count": 145,
   "metadata": {
    "collapsed": false
   },
   "outputs": [],
   "source": [
    "pred = m.argmax(axis=1)"
   ]
  },
  {
   "cell_type": "code",
   "execution_count": 146,
   "metadata": {
    "collapsed": false
   },
   "outputs": [
    {
     "data": {
      "text/plain": [
       "array([ True,  True,  True,  True,  True,  True,  True,  True,  True,\n",
       "        True,  True,  True,  True,  True,  True,  True,  True,  True,\n",
       "        True,  True,  True,  True,  True,  True,  True,  True,  True,\n",
       "        True,  True,  True,  True,  True,  True,  True,  True,  True,\n",
       "        True,  True,  True,  True,  True,  True,  True,  True,  True,\n",
       "        True,  True,  True,  True,  True,  True,  True,  True,  True,\n",
       "        True,  True,  True,  True,  True,  True,  True,  True,  True,\n",
       "        True,  True,  True,  True,  True,  True,  True,  True,  True,\n",
       "        True,  True,  True,  True,  True,  True,  True,  True,  True,\n",
       "        True,  True,  True,  True,  True,  True,  True,  True,  True,\n",
       "        True,  True,  True,  True,  True,  True,  True,  True,  True,\n",
       "        True,  True,  True,  True,  True,  True,  True,  True,  True,\n",
       "        True,  True,  True,  True,  True,  True,  True,  True,  True,\n",
       "        True,  True,  True,  True,  True,  True,  True,  True,  True,\n",
       "        True,  True,  True,  True,  True,  True,  True,  True,  True,\n",
       "        True,  True,  True,  True,  True,  True,  True,  True,  True,\n",
       "        True,  True,  True,  True,  True,  True,  True,  True,  True,\n",
       "        True,  True,  True,  True,  True,  True,  True,  True,  True,\n",
       "        True,  True,  True,  True,  True,  True,  True,  True,  True,\n",
       "        True,  True,  True,  True,  True,  True,  True,  True,  True,\n",
       "        True,  True,  True,  True,  True,  True,  True,  True,  True,\n",
       "        True,  True,  True,  True,  True,  True,  True,  True,  True,\n",
       "        True,  True,  True,  True,  True,  True,  True,  True,  True,\n",
       "        True,  True,  True,  True,  True,  True,  True,  True,  True,\n",
       "        True,  True,  True,  True,  True,  True,  True,  True,  True,\n",
       "        True,  True,  True,  True,  True,  True,  True,  True,  True,\n",
       "        True,  True,  True,  True,  True,  True,  True,  True,  True,\n",
       "        True,  True,  True,  True,  True,  True,  True,  True,  True,\n",
       "        True,  True,  True,  True,  True,  True,  True,  True,  True,\n",
       "        True,  True,  True,  True,  True,  True,  True,  True,  True,\n",
       "        True,  True,  True,  True,  True,  True,  True,  True,  True,\n",
       "        True,  True,  True,  True,  True,  True,  True,  True,  True,\n",
       "        True,  True,  True,  True,  True,  True,  True,  True,  True,\n",
       "        True,  True,  True,  True,  True,  True,  True,  True,  True,\n",
       "        True,  True,  True,  True,  True,  True,  True,  True,  True,\n",
       "        True,  True,  True,  True,  True,  True,  True,  True,  True,\n",
       "        True,  True,  True,  True,  True,  True,  True,  True,  True,\n",
       "        True,  True,  True,  True,  True,  True,  True,  True,  True,\n",
       "        True,  True,  True,  True,  True,  True,  True,  True,  True,\n",
       "        True,  True,  True,  True,  True,  True,  True,  True,  True,\n",
       "        True,  True,  True,  True,  True,  True,  True,  True,  True,\n",
       "        True,  True,  True,  True,  True,  True,  True,  True,  True,\n",
       "        True,  True,  True,  True,  True,  True,  True,  True,  True,\n",
       "        True,  True,  True,  True,  True,  True,  True,  True,  True,\n",
       "        True,  True,  True,  True,  True,  True,  True,  True,  True,\n",
       "        True,  True,  True,  True,  True,  True,  True,  True,  True,\n",
       "        True,  True,  True,  True,  True,  True,  True,  True,  True,\n",
       "        True,  True,  True,  True,  True,  True,  True,  True,  True,\n",
       "        True,  True,  True,  True,  True,  True,  True,  True,  True,\n",
       "        True,  True,  True,  True,  True,  True,  True,  True,  True,\n",
       "        True,  True,  True,  True,  True,  True,  True,  True,  True,\n",
       "        True,  True,  True,  True,  True,  True,  True,  True,  True,\n",
       "        True,  True,  True,  True,  True,  True,  True,  True,  True,\n",
       "        True,  True,  True,  True,  True,  True,  True,  True,  True,\n",
       "        True,  True,  True,  True,  True,  True,  True,  True,  True,\n",
       "        True,  True,  True,  True,  True,  True,  True,  True,  True,\n",
       "        True,  True,  True,  True,  True,  True,  True,  True,  True,\n",
       "        True,  True,  True,  True,  True,  True,  True,  True,  True,\n",
       "        True,  True,  True,  True,  True,  True,  True,  True,  True,\n",
       "        True,  True,  True,  True,  True,  True,  True,  True,  True,\n",
       "        True,  True,  True,  True,  True,  True,  True,  True,  True,\n",
       "        True,  True,  True,  True,  True,  True,  True,  True,  True,\n",
       "        True,  True,  True,  True,  True,  True,  True,  True,  True,\n",
       "        True,  True,  True,  True,  True,  True,  True,  True,  True,\n",
       "        True,  True,  True,  True,  True,  True,  True,  True,  True,\n",
       "        True,  True,  True,  True,  True,  True,  True,  True,  True,\n",
       "        True,  True,  True,  True,  True,  True,  True,  True,  True,\n",
       "        True,  True,  True,  True,  True,  True,  True,  True,  True,\n",
       "        True,  True,  True,  True,  True,  True,  True,  True,  True,\n",
       "        True,  True,  True,  True,  True,  True,  True,  True,  True,\n",
       "        True,  True,  True,  True,  True,  True,  True,  True,  True,  True], dtype=bool)"
      ]
     },
     "execution_count": 146,
     "metadata": {},
     "output_type": "execute_result"
    }
   ],
   "source": [
    "label_batch[:, 2] == 2*(pred == 2) - 1"
   ]
  },
  {
   "cell_type": "code",
   "execution_count": 880,
   "metadata": {
    "collapsed": true
   },
   "outputs": [],
   "source": [
    "class BatchReader(object):\n",
    "    \n",
    "    def __init__(self, data_dict, batch_size, shuffle=True, shuffle_seed=0, pad=True):\n",
    "        self.data_dict = data_dict        \n",
    "        self.batch_size = batch_size\n",
    "        _k = data_dict.keys()[0]\n",
    "        self.data_length = data_dict[_k].shape[0]\n",
    "        self.total_batches = (self.data_length - 1) // self.batch_size + 1\n",
    "        self.curr_batch_num = 0\n",
    "        self.curr_epoch = 1\n",
    "        self.pad = pad\n",
    "        self.shuffle=shuffle\n",
    "        self.shuffle_seed=shuffle_seed\n",
    "        \n",
    "        if self.shuffle:\n",
    "            self.rng = np.random.RandomState(seed=self.shuffle_seed)\n",
    "            self.perm = self.rng.permutation(self.data_length)\n",
    "        \n",
    "    def __iter__(self):\n",
    "        return self\n",
    "\n",
    "    def next(self):\n",
    "        return self.get_next_batch()\n",
    "        \n",
    "    def get_next_batch(self):\n",
    "        data = self.get_batch(self.curr_batch_num)\n",
    "        self.increment_batch_num()\n",
    "        return data\n",
    "\n",
    "    def increment_batch_num(self):\n",
    "        m = self.total_batches\n",
    "        if (self.curr_batch_num >= m - 1):\n",
    "            self.curr_epoch += 1\n",
    "            if self.shuffle:\n",
    "                self.perm = self.rng.permutation(self.data_length)\n",
    "        self.curr_batch_num = (self.curr_batch_num + 1) % m\n",
    "\n",
    "    def get_batch(self, cbn):\n",
    "        data = {}\n",
    "        startv = cbn * self.batch_size\n",
    "        endv = (cbn + 1) * self.batch_size\n",
    "        if self.pad and endv > self.data_length:\n",
    "            startv = self.data_length - self.batch_size\n",
    "            endv = startv + self.batch_size\n",
    "\n",
    "        for k in self.data_dict:\n",
    "            if self.shuffle:\n",
    "                data[k] = self.data_dict[k][self.perm[startv: endv]]\n",
    "            else:\n",
    "                data[k] = self.data_dict[k][startv: endv]\n",
    "\n",
    "        return data\n",
    "\n"
   ]
  },
  {
   "cell_type": "code",
   "execution_count": 995,
   "metadata": {
    "collapsed": false
   },
   "outputs": [],
   "source": [
    "class tf_optimizer(object):\n",
    "\n",
    "    def __init__(self, \n",
    "                 model_func,\n",
    "                 model_kwargs,\n",
    "                 loss_func, \n",
    "                 loss_kwargs,\n",
    "                 batch_size,\n",
    "                 train_iterations,\n",
    "                 optimizer_class,\n",
    "                 optimizer_args=(),\n",
    "                 optimizer_kwargs=None,\n",
    "                 sess=None,\n",
    "                 train_shuffle=False\n",
    "                 ):\n",
    "                        \n",
    "        self.model_func = model_func\n",
    "        self.model_kwargs = model_kwargs\n",
    "        self.loss_func = loss_func\n",
    "        self.loss_kwargs = loss_kwargs\n",
    "        self.train_shuffle=train_shuffle\n",
    "        \n",
    "        self.train_iterations = train_iterations\n",
    "        self.batch_size = batch_size\n",
    "     \n",
    "        if sess is None:\n",
    "            sess = tf.Session()\n",
    "        self.sess = sess\n",
    "                \n",
    "        if optimizer_kwargs is None:\n",
    "            optimizer_kwargs = {}\n",
    "        self.optimizer = optimizer_class(*optimizer_args, \n",
    "                                         **optimizer_kwargs)\n",
    "        \n",
    "    def fit(self, train_data, train_labels):\n",
    "        self.model, self.data_holder = self.model_func(**self.model_kwargs)\n",
    "        self.loss, self.labels_holder = self.loss_func(self.model, **self.loss_kwargs)\n",
    "        \n",
    "        self.optimizer_op = self.optimizer.minimize(self.loss)\n",
    "            \n",
    "        data_dict = {self.data_holder: train_data,\n",
    "                     self.labels_holder: train_labels}\n",
    "        train_data = BatchReader(data_dict=data_dict,\n",
    "                                 batch_size=self.batch_size,\n",
    "                                 shuffle=self.train_shuffle,\n",
    "                                 shuffle_seed=0,\n",
    "                                 pad=True)\n",
    "        \n",
    "        init_op = tf.global_variables_initializer()\n",
    "        sess.run(init_op)\n",
    "        \n",
    "        self.losses = []                      \n",
    "        for i in range(self.train_iterations):\n",
    "            data_batch = train_data.next()\n",
    "            output = self.sess.run({'opt': self.optimizer_op,\n",
    "                                    'loss': self.loss}, \n",
    "                                    feed_dict=data_batch)\n",
    "            self.losses.append(output['loss'])\n",
    "                \n",
    "    def predict(self, test_data):\n",
    "        data_dict = {self.data_holder: test_data}\n",
    "        test_data = BatchReader(data_dict=data_dict,\n",
    "                             batch_size=self.batch_size,\n",
    "                             shuffle=False,\n",
    "                             pad=False)                  \n",
    "        preds = []\n",
    "        for i in range(test_data.total_batches):\n",
    "            data_batch = test_data.get_batch(i)\n",
    "            pred_batch = self.sess.run(self.model, feed_dict=data_batch)\n",
    "            preds.append(pred_batch)\n",
    "        return np.row_stack(preds)\n"
   ]
  },
  {
   "cell_type": "code",
   "execution_count": 996,
   "metadata": {
    "collapsed": true
   },
   "outputs": [],
   "source": [
    "def binarize_labels(labels):\n",
    "    unique_labels = np.unique(labels)\n",
    "    num_classes = len(unique_labels)\n",
    "    category_matrix = np.array([2 * (labels == c) - 1 for \n",
    "                                    c in unique_labels]).T.astype(int)\n",
    "    return category_matrix, unique_labels\n",
    "    \n",
    "\n",
    "class tf_classifier(tf_optimizer):\n",
    "    \n",
    "    def fit(self, train_data, train_labels):\n",
    "        num_features = train_data.shape[1]\n",
    "        binarized_labels, classes_ = binarize_labels(train_labels)\n",
    "        num_classes = len(classes_)\n",
    "        \n",
    "        self.model_kwargs['num_features'] = num_features\n",
    "        self.model_kwargs['num_classes'] = num_classes\n",
    "        self.classes_ = classes_\n",
    "        super(tf_classifier, self).fit(train_data=train_data, \n",
    "                                       train_labels=binarized_labels)\n",
    "  \n",
    "    def decision_function(self, test_data):\n",
    "        return super(tf_classifier, self).predict(test_data)\n",
    "    \n",
    "    def predict(self, test_data):\n",
    "        preds = self.decision_function(test_data)\n",
    "        preds = np.argmax(preds, axis=1)\n",
    "        classes_ = self.classes_\n",
    "        return classes_[preds]"
   ]
  },
  {
   "cell_type": "code",
   "execution_count": 1070,
   "metadata": {
    "collapsed": false
   },
   "outputs": [],
   "source": [
    "def linear_one_vs_all_classifier(num_features, num_classes):    \n",
    "    initial_weights = tf.zeros(shape=(num_features, num_classes), dtype=tf.float32)\n",
    "    weights = tf.Variable(initial_weights, \n",
    "                          dtype=tf.float32,\n",
    "                          name='weights')\n",
    "    initial_bias = tf.zeros(shape=(num_classes,))\n",
    "    bias = tf.Variable(initial_bias, \n",
    "                       dtype=tf.float32,\n",
    "                       name='bias')\n",
    "                           \n",
    "    data = tf.placeholder(shape=(None, num_features), dtype=tf.float32, name='data')\n",
    "    margins = tf.add(tf.matmul(data, weights), bias, name='margins')\n",
    "    return margins, data\n",
    "\n",
    "\n",
    "def hinge_loss(margins):\n",
    "    num_classes = margins.shape.as_list()[1]\n",
    "    category_labels = tf.placeholder(shape=(None, num_classes),\n",
    "                                     dtype=tf.float32, \n",
    "                                     name='labels')\n",
    "    h = tf.maximum(0., 1 - category_labels * margins, name='hinge_loss')\n",
    "    hinge_loss_mean = tf.reduce_mean(h, name='hinge_loss_mean')\n",
    "    return hinge_loss_mean, category_labels"
   ]
  },
  {
   "cell_type": "code",
   "execution_count": 1071,
   "metadata": {
    "collapsed": false
   },
   "outputs": [],
   "source": [
    "cls = tf_classifier(model_func=linear_one_vs_all_classifier,\n",
    "              model_kwargs={},\n",
    "              loss_func=hinge_loss, \n",
    "              loss_kwargs={},\n",
    "              batch_size=2500,\n",
    "              train_iterations=1000,\n",
    "              train_shuffle=True,\n",
    "              optimizer_class=tf.train.MomentumOptimizer,\n",
    "              optimizer_kwargs = {'learning_rate':10.,\n",
    "                                  'momentum': 0.99\n",
    "                                 },\n",
    "              sess=sess,\n",
    "              \n",
    "              )"
   ]
  },
  {
   "cell_type": "code",
   "execution_count": 1072,
   "metadata": {
    "collapsed": false
   },
   "outputs": [
    {
     "data": {
      "text/plain": [
       "[<matplotlib.lines.Line2D at 0x7f4370eacb90>]"
      ]
     },
     "execution_count": 1072,
     "metadata": {},
     "output_type": "execute_result"
    },
    {
     "data": {
      "image/png": "[encoded data removed]",
      "text/plain": [
       "<matplotlib.figure.Figure at 0x7f4370fb8090>"
      ]
     },
     "metadata": {},
     "output_type": "display_data"
    }
   ],
   "source": [
    "data_ss = Neural_Data[var_levels=='V3']\n",
    "categories_ss = categories[var_levels=='V3']\n",
    "cls.fit(data_ss, categories_ss)\n",
    "preds = cls.predict(data_ss)\n",
    "margins = cls.decision_function(data_ss)\n",
    "plt.plot(cls.losses)"
   ]
  },
  {
   "cell_type": "code",
   "execution_count": 1073,
   "metadata": {
    "collapsed": false
   },
   "outputs": [
    {
     "data": {
      "text/plain": [
       "2554"
      ]
     },
     "execution_count": 1073,
     "metadata": {},
     "output_type": "execute_result"
    }
   ],
   "source": [
    "(preds == categories_ss).sum()"
   ]
  },
  {
   "cell_type": "code",
   "execution_count": 1091,
   "metadata": {
    "collapsed": false
   },
   "outputs": [],
   "source": [
    "def hinge_loss_l2reg(margins, C):\n",
    "    num_classes = margins.shape.as_list()[1]\n",
    "    category_labels = tf.placeholder(shape=(None, num_classes),\n",
    "                                     dtype=tf.float32, \n",
    "                                     name='labels')\n",
    "    h = tf.maximum(0., 1 - category_labels * margins)\n",
    "    weights = cls.model.op.inputs[0].op.inputs[1]\n",
    "\n",
    "    reg_loss = 0.5*tf.reduce_mean(tf.square(weights)) \n",
    "    hinge_loss = tf.reduce_mean(h)\n",
    "    total_loss = C * hinge_loss + reg_loss\n",
    "    return total_loss, category_labels"
   ]
  },
  {
   "cell_type": "code",
   "execution_count": 1092,
   "metadata": {
    "collapsed": false
   },
   "outputs": [],
   "source": [
    "cls = tf_classifier(model_func=linear_one_vs_all_classifier,\n",
    "              model_kwargs={},\n",
    "              loss_func=hinge_loss_l2reg, \n",
    "              loss_kwargs={'C':1},\n",
    "              batch_size=2500,\n",
    "              train_iterations=1000,\n",
    "              train_shuffle=True,\n",
    "              optimizer_class=tf.train.MomentumOptimizer,\n",
    "              optimizer_kwargs = {'learning_rate':10.,\n",
    "                                  'momentum': 0.99\n",
    "                                 },\n",
    "              sess=sess,\n",
    "              \n",
    "              )"
   ]
  },
  {
   "cell_type": "code",
   "execution_count": 1093,
   "metadata": {
    "collapsed": false
   },
   "outputs": [
    {
     "data": {
      "text/plain": [
       "[<matplotlib.lines.Line2D at 0x7f43712f6ed0>]"
      ]
     },
     "execution_count": 1093,
     "metadata": {},
     "output_type": "execute_result"
    },
    {
     "data": {
      "image/png": "[encoded data removed]",
      "text/plain": [
       "<matplotlib.figure.Figure at 0x7f437139c110>"
      ]
     },
     "metadata": {},
     "output_type": "display_data"
    }
   ],
   "source": [
    "data_ss = Neural_Data[var_levels=='V3']\n",
    "categories_ss = categories[var_levels=='V3']\n",
    "cls.fit(data_ss, categories_ss)\n",
    "preds = cls.predict(data_ss)\n",
    "margins = cls.decision_function(data_ss)\n",
    "plt.plot(cls.losses)"
   ]
  },
  {
   "cell_type": "code",
   "execution_count": 1097,
   "metadata": {
    "collapsed": true
   },
   "outputs": [],
   "source": [
    "import cross_validation as cv\n"
   ]
  },
  {
   "cell_type": "code",
   "execution_count": 1098,
   "metadata": {
    "collapsed": true
   },
   "outputs": [],
   "source": [
    "meta_array = np.core.records.fromarrays(Ventral_Dataset['image_meta'].values(),\n",
    "                                        names=Ventral_Dataset['image_meta'].keys())\n"
   ]
  },
  {
   "cell_type": "code",
   "execution_count": 1126,
   "metadata": {
    "collapsed": false
   },
   "outputs": [],
   "source": [
    "splits = cv.get_splits(meta_array, \n",
    "              lambda x: x['object_name'],  #we're balancing splits by object\n",
    "              5,  \n",
    "              5,  \n",
    "              35,  \n",
    "              train_filter=lambda x: (x['variation_level'] == 'V3'),\n",
    "              test_filter=lambda x: (x['variation_level'] == 'V3'),)\n",
    "    \n",
    "    \n",
    "model_args={'model_func': linear_one_vs_all_classifier,\n",
    "            'model_kwargs': {},\n",
    "            'loss_func': hinge_loss_l2reg, \n",
    "            'loss_kwargs': {'C':5e-3},\n",
    "            'batch_size': 2500,\n",
    "            'train_iterations': 1000,\n",
    "            'train_shuffle': True,\n",
    "            'optimizer_class':tf.train.MomentumOptimizer,\n",
    "            'optimizer_kwargs': {'learning_rate':.1,\n",
    "                                 'momentum': 0.9\n",
    "                                 },\n",
    "            'sess': sess}\n",
    "\n",
    "res = train_and_test_scikit_classifier(features=Neural_Data,\n",
    "                                       labels=categories,\n",
    "                                       splits=splits,\n",
    "                                       model_class=tf_classifier,\n",
    "                                       model_args=model_args)\n"
   ]
  },
  {
   "cell_type": "code",
   "execution_count": 1127,
   "metadata": {
    "collapsed": false
   },
   "outputs": [
    {
     "data": {
      "text/plain": [
       "0.791875"
      ]
     },
     "execution_count": 1127,
     "metadata": {},
     "output_type": "execute_result"
    }
   ],
   "source": [
    "res[0]['test']['mean_accuracy']"
   ]
  },
  {
   "cell_type": "code",
   "execution_count": null,
   "metadata": {
    "collapsed": true
   },
   "outputs": [],
   "source": []
  }
 ],
 "metadata": {
  "kernelspec": {
   "display_name": "Python 2",
   "language": "python",
   "name": "python2"
  },
  "language_info": {
   "codemirror_mode": {
    "name": "ipython",
    "version": 2
   },
   "file_extension": ".py",
   "mimetype": "text/x-python",
   "name": "python",
   "nbconvert_exporter": "python",
   "pygments_lexer": "ipython2",
   "version": "2.7.12"
  }
 },
 "nbformat": 4,
 "nbformat_minor": 2
}
